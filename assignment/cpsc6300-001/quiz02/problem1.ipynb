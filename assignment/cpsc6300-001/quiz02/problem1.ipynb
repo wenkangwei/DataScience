{
 "cells": [
  {
   "cell_type": "markdown",
   "metadata": {},
   "source": [
    "# CPSC 4300/6300-001 Applied Data Science (Fall 2020)\n",
    "\n",
    "Before you turn this problem in, make sure everything runs as expected. First, **restart the kernel** (in the menubar, select Kernel$\\rightarrow$Restart) and then **run all cells** (in the menubar, select Cell$\\rightarrow$Run All).\n",
    "\n",
    "Make sure you fill in any place that says `YOUR CODE HERE` or \"YOUR ANSWER HERE\", as well as your name and collaborators below:"
   ]
  },
  {
   "cell_type": "code",
   "execution_count": null,
   "metadata": {},
   "outputs": [],
   "source": [
    "NAME = \"\"\n",
    "COLLABORATORS = \"\""
   ]
  },
  {
   "cell_type": "markdown",
   "metadata": {
    "deletable": false,
    "editable": false,
    "nbgrader": {
     "cell_type": "markdown",
     "checksum": "d34b0dc5db62b0ac50a8f1e3d92442df",
     "grade": false,
     "grade_id": "quiz01",
     "locked": true,
     "schema_version": 3,
     "solution": false
    }
   },
   "source": [
    "# CPSC6300-002 Quiz 02\n",
    "\n",
    "This quiz is based on problem 8 on Page 54 of the textbook \"An Introduction to Statistical Learning\". You may consult that page for a description of the `College.csv` dataset."
   ]
  },
  {
   "cell_type": "markdown",
   "metadata": {},
   "source": [
    "## Question 1 (1 points)\n",
    "\n",
    "Write some python code to read the dataset \"College.csv\" into a pandas DataFrame object named `college`."
   ]
  },
  {
   "cell_type": "code",
   "execution_count": null,
   "metadata": {
    "deletable": false,
    "nbgrader": {
     "cell_type": "code",
     "checksum": "e6e5931c822bef7d52e9a641a2372324",
     "grade": false,
     "grade_id": "cell-6e120e8b215b8c8b",
     "locked": false,
     "schema_version": 3,
     "solution": true,
     "task": false
    }
   },
   "outputs": [],
   "source": [
    "# YOUR CODE HERE\n",
    "raise NotImplementedError()"
   ]
  },
  {
   "cell_type": "code",
   "execution_count": null,
   "metadata": {
    "deletable": false,
    "editable": false,
    "nbgrader": {
     "cell_type": "code",
     "checksum": "920ccb2b689498976642a2c4811f575b",
     "grade": true,
     "grade_id": "cell-cc2113d3435c6bf2",
     "locked": true,
     "points": 1,
     "schema_version": 3,
     "solution": false,
     "task": false
    }
   },
   "outputs": [],
   "source": [
    "assert college is not None and college.shape[0] == 777"
   ]
  },
  {
   "cell_type": "markdown",
   "metadata": {},
   "source": [
    "## Question 2 (2 Points)\n",
    "\n",
    "Write some python code to change the name of the first column of the `college` DataFrame object to `CollegeName`. Your change must be made in place, i.e., the `college`s first column should be named as `CollegeName` after running your code."
   ]
  },
  {
   "cell_type": "code",
   "execution_count": null,
   "metadata": {
    "deletable": false,
    "nbgrader": {
     "cell_type": "code",
     "checksum": "dca4c1d98f51ff348c016a2510ca6a9b",
     "grade": false,
     "grade_id": "cell-5e5bf240ca3488a3",
     "locked": false,
     "schema_version": 3,
     "solution": true,
     "task": false
    }
   },
   "outputs": [],
   "source": [
    "# YOUR CODE HERE\n",
    "raise NotImplementedError()"
   ]
  },
  {
   "cell_type": "code",
   "execution_count": null,
   "metadata": {
    "deletable": false,
    "editable": false,
    "nbgrader": {
     "cell_type": "code",
     "checksum": "8e60a82e5d3d0f1b04a9efc69803f608",
     "grade": true,
     "grade_id": "cell-53e2a685baf8b59f",
     "locked": true,
     "points": 2,
     "schema_version": 3,
     "solution": false,
     "task": false
    }
   },
   "outputs": [],
   "source": [
    "assert college.columns[0] == \"CollegeName\""
   ]
  },
  {
   "cell_type": "markdown",
   "metadata": {},
   "source": [
    "## Question 3 (2 Points)\n",
    "\n",
    "Write some python code to set the column \"CollegeName\" as the index of the `college` DataFrame object. The change must be made in place, i.e., a subsequent call `college.index.name` should output `CollegeName`."
   ]
  },
  {
   "cell_type": "code",
   "execution_count": null,
   "metadata": {
    "deletable": false,
    "nbgrader": {
     "cell_type": "code",
     "checksum": "dd49e8cf3578df240a1ea311be0501d9",
     "grade": false,
     "grade_id": "cell-f70e4d1cb9f7d2ce",
     "locked": false,
     "schema_version": 3,
     "solution": true,
     "task": false
    }
   },
   "outputs": [],
   "source": [
    "# YOUR CODE HERE\n",
    "raise NotImplementedError()"
   ]
  },
  {
   "cell_type": "code",
   "execution_count": null,
   "metadata": {
    "deletable": false,
    "editable": false,
    "nbgrader": {
     "cell_type": "code",
     "checksum": "6b8deec0d7f687d709ec22f1c4da2569",
     "grade": true,
     "grade_id": "cell-ee1d92397a6a22af",
     "locked": true,
     "points": 1,
     "schema_version": 3,
     "solution": false,
     "task": false
    }
   },
   "outputs": [],
   "source": [
    "assert college.index.name == 'CollegeName'"
   ]
  },
  {
   "cell_type": "code",
   "execution_count": null,
   "metadata": {
    "deletable": false,
    "editable": false,
    "nbgrader": {
     "cell_type": "code",
     "checksum": "81671af991e4e1e8c68912f116f1e622",
     "grade": true,
     "grade_id": "cell-188f626559256620",
     "locked": true,
     "points": 1,
     "schema_version": 3,
     "solution": false,
     "task": false
    }
   },
   "outputs": [],
   "source": [
    "assert 'CollegeName' not in college.columns"
   ]
  },
  {
   "cell_type": "markdown",
   "metadata": {},
   "source": [
    "## Question 4 (1 Points)\n",
    "\n",
    "Write some python code to add a new column `AcceptRatio` into the college DataFrame object. The `AcceptRatio` is defined as $\\frac{Number~of~applications~accepted}{Number~of~applications~received}$."
   ]
  },
  {
   "cell_type": "code",
   "execution_count": null,
   "metadata": {
    "deletable": false,
    "nbgrader": {
     "cell_type": "code",
     "checksum": "fb23c8588b815980a559f128c8514bf1",
     "grade": false,
     "grade_id": "cell-c71aa59197596c78",
     "locked": false,
     "schema_version": 3,
     "solution": true,
     "task": false
    }
   },
   "outputs": [],
   "source": [
    "# YOUR CODE HERE\n",
    "raise NotImplementedError()"
   ]
  },
  {
   "cell_type": "code",
   "execution_count": null,
   "metadata": {
    "deletable": false,
    "editable": false,
    "nbgrader": {
     "cell_type": "code",
     "checksum": "ebe8b8d8920d5c25992c9fd8345507cc",
     "grade": true,
     "grade_id": "cell-1ed0a718d27afeee",
     "locked": true,
     "points": 1,
     "schema_version": 3,
     "solution": false,
     "task": false
    }
   },
   "outputs": [],
   "source": [
    "assert \"AcceptRatio\" in college.columns and int(college.loc[\"Clemson University\"][\"AcceptRatio\"] * 100) == 65"
   ]
  },
  {
   "cell_type": "markdown",
   "metadata": {},
   "source": [
    "## Question 5 (2 Points)\n",
    "\n",
    "Write some python code to compute the standard deviation of the graduation rate of non-private universities and save the value to a variable `grad_rate_std`."
   ]
  },
  {
   "cell_type": "code",
   "execution_count": null,
   "metadata": {
    "deletable": false,
    "nbgrader": {
     "cell_type": "code",
     "checksum": "df5e75a5a41a3c6661c4bc8fac3958c3",
     "grade": false,
     "grade_id": "cell-0335856100be68a8",
     "locked": false,
     "schema_version": 3,
     "solution": true,
     "task": false
    }
   },
   "outputs": [],
   "source": [
    "# YOUR CODE HERE\n",
    "raise NotImplementedError()\n",
    "grad_rate_std"
   ]
  },
  {
   "cell_type": "code",
   "execution_count": null,
   "metadata": {
    "deletable": false,
    "editable": false,
    "nbgrader": {
     "cell_type": "code",
     "checksum": "94b60bcab660fc46553a838fd889c3ad",
     "grade": true,
     "grade_id": "cell-4cacdb30cc3b3ba5",
     "locked": true,
     "points": 2,
     "schema_version": 3,
     "solution": false,
     "task": false
    }
   },
   "outputs": [],
   "source": []
  },
  {
   "cell_type": "markdown",
   "metadata": {},
   "source": [
    "## Question 6 (2 Points)\n",
    "\n",
    "Write some python code to split the university into two groups based on whether or not the proportion of students coming from the top 10% of their high school classes exceeds 50%. Save the numbers of the group of university with more than 50% students coming from 10% of their high school classes to a variable `n_elite_colleges`."
   ]
  },
  {
   "cell_type": "code",
   "execution_count": null,
   "metadata": {
    "deletable": false,
    "nbgrader": {
     "cell_type": "code",
     "checksum": "5a9a7bf1e0f9e313b32b521fd7782cdc",
     "grade": false,
     "grade_id": "cell-9fe2f7ba916c6410",
     "locked": false,
     "schema_version": 3,
     "solution": true,
     "task": false
    }
   },
   "outputs": [],
   "source": [
    "# YOUR CODE HERE\n",
    "raise NotImplementedError()\n",
    "n_elite_colleges"
   ]
  },
  {
   "cell_type": "code",
   "execution_count": null,
   "metadata": {
    "deletable": false,
    "editable": false,
    "nbgrader": {
     "cell_type": "code",
     "checksum": "a8532493049d70e2ac59a7f7494586a8",
     "grade": true,
     "grade_id": "cell-facb05a255f23a6f",
     "locked": true,
     "points": 2,
     "schema_version": 3,
     "solution": false,
     "task": false
    }
   },
   "outputs": [],
   "source": []
  }
 ],
 "metadata": {
  "kernelspec": {
   "display_name": "Python 3",
   "language": "python",
   "name": "python3"
  },
  "language_info": {
   "codemirror_mode": {
    "name": "ipython",
    "version": 3
   },
   "file_extension": ".py",
   "mimetype": "text/x-python",
   "name": "python",
   "nbconvert_exporter": "python",
   "pygments_lexer": "ipython3",
   "version": "3.8.3"
  }
 },
 "nbformat": 4,
 "nbformat_minor": 1
}
