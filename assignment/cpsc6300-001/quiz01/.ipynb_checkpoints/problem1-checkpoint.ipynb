{
 "cells": [
  {
   "cell_type": "markdown",
   "metadata": {},
   "source": [
    "# CPSC 4300/6300-001 Applied Data Science (Fall 2020)\n",
    "\n",
    "Before you turn this problem in, make sure everything runs as expected. First, **restart the kernel** (in the menubar, select Kernel$\\rightarrow$Restart) and then **run all cells** (in the menubar, select Cell$\\rightarrow$Run All).\n",
    "\n",
    "Make sure you fill in any place that says `YOUR CODE HERE` or \"YOUR ANSWER HERE\", as well as your name and collaborators below:"
   ]
  },
  {
   "cell_type": "code",
   "execution_count": 2,
   "metadata": {},
   "outputs": [],
   "source": [
    "import bs4\n",
    "import numpy as np\n",
    "import matplotlib.pyplot as plt\n",
    "import sklearn\n",
    "import pandas\n",
    "import sklearn\n",
    "import seaborn as sns\n",
    "import \n",
    "NAME = \"\"\n",
    "COLLABORATORS = \"\""
   ]
  },
  {
   "cell_type": "markdown",
   "metadata": {
    "deletable": false,
    "editable": false,
    "nbgrader": {
     "cell_type": "markdown",
     "checksum": "8faf2659cc9397dc02858d573c5f87e1",
     "grade": false,
     "grade_id": "quiz01",
     "locked": true,
     "schema_version": 3,
     "solution": false
    }
   },
   "source": [
    "# CPSC6300-001 Quiz 01"
   ]
  },
  {
   "cell_type": "markdown",
   "metadata": {
    "deletable": false,
    "editable": false,
    "nbgrader": {
     "cell_type": "markdown",
     "checksum": "e7423ff6fbbfd82e549738067cdc4a3b",
     "grade": false,
     "grade_id": "cell-f33c2591c656d142",
     "locked": true,
     "schema_version": 3,
     "solution": false,
     "task": false
    }
   },
   "source": [
    "---\n",
    "## Question 1 (1 points)\n",
    "\n",
    "Company TigerData Inc. is considering launching a new product and wish to know whether it will be a success or a failure. The marketing department has collected data on 20 similar products that were previously launched. For each product the department have recorded whether it was a success or failure, price charged for the product, marketing budget, competition price, and ten other variables. Is this senario a classification or regression problem?"
   ]
  },
  {
   "cell_type": "code",
   "execution_count": null,
   "metadata": {
    "deletable": false,
    "nbgrader": {
     "cell_type": "code",
     "checksum": "d7f41673dac299f1b6770309a2d55146",
     "grade": true,
     "grade_id": "classification_or_regression",
     "locked": false,
     "points": 1,
     "schema_version": 3,
     "solution": true,
     "task": false
    }
   },
   "outputs": [],
   "source": [
    "# YOUR CODE HERE\n",
    "raise NotImplementedError()"
   ]
  },
  {
   "cell_type": "markdown",
   "metadata": {
    "deletable": false,
    "editable": false,
    "nbgrader": {
     "cell_type": "markdown",
     "checksum": "80fa1b5642fb64eb4d91d2fce3316584",
     "grade": false,
     "grade_id": "cell-f1275ec59c7a98aa",
     "locked": true,
     "schema_version": 3,
     "solution": false,
     "task": false
    }
   },
   "source": [
    "---\n",
    "## Question 2 (1 point)\n",
    "\n",
    "For the scenario in Question 1, what is $n$ (the number of samples) and $p$ (number of predictors)?"
   ]
  },
  {
   "cell_type": "code",
   "execution_count": null,
   "metadata": {
    "deletable": false,
    "nbgrader": {
     "cell_type": "code",
     "checksum": "f260036cc0db9bf95b1cc5124976479b",
     "grade": true,
     "grade_id": "sample_size",
     "locked": false,
     "points": 1,
     "schema_version": 3,
     "solution": true,
     "task": false
    }
   },
   "outputs": [],
   "source": [
    "# YOUR CODE HERE\n",
    "raise NotImplementedError()"
   ]
  },
  {
   "cell_type": "markdown",
   "metadata": {
    "deletable": false,
    "editable": false,
    "nbgrader": {
     "cell_type": "markdown",
     "checksum": "2c46a2e200bca0138d95c654d15c379e",
     "grade": false,
     "grade_id": "cell-6fe7e6998f9008e9",
     "locked": true,
     "schema_version": 3,
     "solution": false,
     "task": false
    }
   },
   "source": [
    "---\n",
    "## Question 3 (1 point)\n",
    "\n",
    "When the number of predictors p is extremely large, and the number of observations n is small, would the performance of a flexible statistical learning method be better or worse than an inflexible method?"
   ]
  },
  {
   "cell_type": "code",
   "execution_count": null,
   "metadata": {
    "deletable": false,
    "nbgrader": {
     "cell_type": "code",
     "checksum": "d7b573fb24c9f889805c48d8d6bdc21e",
     "grade": true,
     "grade_id": "cell-e18a76d60a0abab0",
     "locked": false,
     "points": 1,
     "schema_version": 3,
     "solution": true,
     "task": false
    }
   },
   "outputs": [],
   "source": [
    "# YOUR CODE HERE\n",
    "raise NotImplementedError()"
   ]
  },
  {
   "cell_type": "markdown",
   "metadata": {
    "deletable": false,
    "editable": false,
    "nbgrader": {
     "cell_type": "markdown",
     "checksum": "596b9b8e46f859e9324ed7817558e5ce",
     "grade": false,
     "grade_id": "flexibility",
     "locked": true,
     "schema_version": 3,
     "solution": false,
     "task": false
    }
   },
   "source": [
    "---\n",
    "## Question 4 (1 point)\n",
    "\n",
    "The variance of the error terms, i.e. $\\sigma^2 = Var(\\epsilon)$ is extremely high, would the performance of a flexible statistical learning method be better or worse than an inflexible method?"
   ]
  },
  {
   "cell_type": "code",
   "execution_count": null,
   "metadata": {
    "deletable": false,
    "nbgrader": {
     "cell_type": "code",
     "checksum": "880d06022a23dce9a37fde857c9d4b99",
     "grade": true,
     "grade_id": "cell-ee189f141380c771",
     "locked": false,
     "points": 1,
     "schema_version": 3,
     "solution": true,
     "task": false
    }
   },
   "outputs": [],
   "source": [
    "# YOUR CODE HERE\n",
    "raise NotImplementedError()"
   ]
  },
  {
   "cell_type": "markdown",
   "metadata": {
    "deletable": false,
    "editable": false,
    "nbgrader": {
     "cell_type": "markdown",
     "checksum": "11991322521bd29c62add4e00b6badc4",
     "grade": false,
     "grade_id": "cell-01388f99a940de74",
     "locked": true,
     "schema_version": 3,
     "solution": false,
     "task": false
    }
   },
   "source": [
    "Consider the following code implements a kNN classifier for the problem 7 on p53 in the **ISLR** textbook."
   ]
  },
  {
   "cell_type": "code",
   "execution_count": null,
   "metadata": {},
   "outputs": [],
   "source": [
    "import pandas as pd\n",
    "import numpy as np\n",
    "import matplotlib.pyplot as plt\n",
    "import seaborn as sns\n",
    "import operator"
   ]
  },
  {
   "cell_type": "code",
   "execution_count": null,
   "metadata": {},
   "outputs": [],
   "source": [
    "def createDataSet():\n",
    "    with open(\"knn.csv\", \"w\") as f:\n",
    "        f.write(\"X1,X2,X3,Y\\n\")\n",
    "        f.write(\"0,3,0,Red\\n\")\n",
    "        f.write(\"2,0,0,Red\\n\")\n",
    "        f.write(\"0,1,3,Red\\n\")\n",
    "        f.write(\"0,1,2,Green\\n\")\n",
    "        f.write(\"-1,0,1,Green\\n\")\n",
    "        f.write(\"1,1,1,Red\\n\")\n",
    "createDataSet()"
   ]
  },
  {
   "cell_type": "code",
   "execution_count": null,
   "metadata": {
    "deletable": false,
    "editable": false,
    "nbgrader": {
     "cell_type": "code",
     "checksum": "8be40be78d35da2c99348f38b70aa58f",
     "grade": false,
     "grade_id": "cell-f309ccae311b80fb",
     "locked": true,
     "schema_version": 3,
     "solution": false,
     "task": false
    }
   },
   "outputs": [],
   "source": [
    "def distance(x1, x2):\n",
    "    \"\"\"\n",
    "    a function that computes the Euclidean distance between two points.\n",
    "    \n",
    "    Parameters\n",
    "    ----------\n",
    "    x1, x2: 1-dimentional array\n",
    "    \n",
    "    \"\"\"\n",
    "    dist = 0\n",
    "    # Write your code here\n",
    "    return dist"
   ]
  },
  {
   "cell_type": "code",
   "execution_count": null,
   "metadata": {},
   "outputs": [],
   "source": [
    "def kNNClassify(inX, X, Y, k):\n",
    "    d = np.zeros(X.shape[0])\n",
    "    for i in range(X.shape[0]):\n",
    "        x = X.iloc[i]\n",
    "        d[i] = distance(x, inX)\n",
    "    idx = np.argsort(d)\n",
    "    idx[::-1]\n",
    "    \n",
    "    classCount = {}\n",
    "    for i in range(k):\n",
    "        vote = Y[idx[i]]\n",
    "        classCount[vote] = classCount.get(vote, 0) + 1\n",
    "    sortedClassCount = sorted(classCount.items(), key=operator.itemgetter(1), reverse=True)\n",
    "    \n",
    "    return sortedClassCount[0][0]"
   ]
  },
  {
   "cell_type": "code",
   "execution_count": null,
   "metadata": {},
   "outputs": [],
   "source": [
    "df = pd.read_csv(\"knn.csv\")\n",
    "X = df.drop(columns=['Y'])\n",
    "Y = df['Y']"
   ]
  },
  {
   "cell_type": "code",
   "execution_count": null,
   "metadata": {},
   "outputs": [],
   "source": [
    "df"
   ]
  },
  {
   "cell_type": "code",
   "execution_count": null,
   "metadata": {},
   "outputs": [],
   "source": [
    "x0 = np.zeros(X.shape[1])\n",
    "\n",
    "kNNClassify(X0, X, Y, 1)\n",
    "kNNClassify(X0, X, Y, 3)\n",
    "kNNClassify(X0, X, Y, 5)"
   ]
  },
  {
   "cell_type": "markdown",
   "metadata": {
    "deletable": false,
    "editable": false,
    "nbgrader": {
     "cell_type": "markdown",
     "checksum": "cf763dd1eec5abbd7b3e7692192291fe",
     "grade": false,
     "grade_id": "cell-f965fc7272263cf2",
     "locked": true,
     "schema_version": 3,
     "solution": false,
     "task": false
    }
   },
   "source": [
    "---\n",
    "## Question 5 (2 points) \n",
    "\n",
    "Complete the function def distance(x1, x2) that Computes the Euclidean distance between an observation x1 and the test point x2."
   ]
  },
  {
   "cell_type": "code",
   "execution_count": null,
   "metadata": {
    "deletable": false,
    "nbgrader": {
     "cell_type": "code",
     "checksum": "be644617a2126b036a85e8fc89b71494",
     "grade": true,
     "grade_id": "cell-01b63c7c1a989e55",
     "locked": false,
     "points": 2,
     "schema_version": 3,
     "solution": true,
     "task": false
    }
   },
   "outputs": [],
   "source": [
    "def distance(x1, x2):\n",
    "    \"\"\"\n",
    "    a function that computes the Euclidean distance between two points.\n",
    "    \n",
    "    Parameters\n",
    "    ----------\n",
    "    x1, x2: 1-dimentional array\n",
    "    \n",
    "    \"\"\"\n",
    "    # YOUR CODE HERE\n",
    "    raise NotImplementedError()\n",
    "    return dist"
   ]
  },
  {
   "cell_type": "markdown",
   "metadata": {
    "deletable": false,
    "editable": false,
    "nbgrader": {
     "cell_type": "markdown",
     "checksum": "49244188af13b94464b6018e2ffe4e9c",
     "grade": false,
     "grade_id": "cell-938593c4a215c6cc",
     "locked": true,
     "schema_version": 3,
     "solution": false,
     "task": false
    }
   },
   "source": [
    "---\n",
    "## Question 6 (2 points)\n",
    "\n",
    "For a test point `x0: X1=0, X2=0, X3=0`; What is the result of `kNNClassify(X0, X, Y, 3)`?"
   ]
  },
  {
   "cell_type": "code",
   "execution_count": null,
   "metadata": {
    "deletable": false,
    "nbgrader": {
     "cell_type": "code",
     "checksum": "19a486d313e7f181e64e6d6ef1bb20c2",
     "grade": true,
     "grade_id": "cell-97338d51f55caba4",
     "locked": false,
     "points": 2,
     "schema_version": 3,
     "solution": true,
     "task": false
    }
   },
   "outputs": [],
   "source": [
    "# YOUR CODE HERE\n",
    "raise NotImplementedError()"
   ]
  },
  {
   "cell_type": "markdown",
   "metadata": {
    "deletable": false,
    "editable": false,
    "nbgrader": {
     "cell_type": "markdown",
     "checksum": "952ad61f1417105a2807f6ffa03f52db",
     "grade": false,
     "grade_id": "cell-954cc35eefde5825",
     "locked": true,
     "schema_version": 3,
     "solution": false,
     "task": false
    }
   },
   "source": [
    "## Question 7 (2 points)\n",
    "\n",
    "Consider the following HTML, write a python statement that returns the name of the second offense player on the page."
   ]
  },
  {
   "cell_type": "code",
   "execution_count": null,
   "metadata": {},
   "outputs": [],
   "source": [
    "from bs4 import BeautifulSoup\n",
    "\n",
    "html_doc = \"\"\"\n",
    "<!DOCTYPE html>\n",
    "<html>\n",
    "  <head>\n",
    "    <title>Football Teams</title>\n",
    "  </head>\n",
    "\n",
    "  <body>\n",
    "    <h1>My Football Team</h1>\n",
    "    <h2>Offense</h2>\n",
    "    <table style=\"width:100%\">\n",
    "      <tr>\n",
    "          <th>Name</th>\n",
    "          <th>Position</th>\n",
    "      </tr>\n",
    "      <tr>\n",
    "        <td>Aaron Rodgers</td>\n",
    "        <td>QB</td>\n",
    "      </tr>\n",
    "      <tr>\n",
    "        <td>Davante Adams</td>\n",
    "        <td>WR</td>\n",
    "      </tr>\n",
    "    </table>\n",
    "  </body>\n",
    "</html>\n",
    "\"\"\"\n",
    "\n",
    "soup = BeautifulSoup(html_doc, 'html.parser')"
   ]
  },
  {
   "cell_type": "code",
   "execution_count": null,
   "metadata": {
    "deletable": false,
    "nbgrader": {
     "cell_type": "code",
     "checksum": "18c7672d464ddce2408ebe0822c18e9a",
     "grade": true,
     "grade_id": "cell-b02817894061e301",
     "locked": false,
     "points": 2,
     "schema_version": 3,
     "solution": true,
     "task": false
    }
   },
   "outputs": [],
   "source": [
    "# YOUR CODE HERE\n",
    "raise NotImplementedError()"
   ]
  }
 ],
 "metadata": {
  "kernelspec": {
   "display_name": "Python 3",
   "language": "python",
   "name": "python3"
  },
  "language_info": {
   "codemirror_mode": {
    "name": "ipython",
    "version": 3
   },
   "file_extension": ".py",
   "mimetype": "text/x-python",
   "name": "python",
   "nbconvert_exporter": "python",
   "pygments_lexer": "ipython3",
   "version": "3.8.3"
  }
 },
 "nbformat": 4,
 "nbformat_minor": 1
}
