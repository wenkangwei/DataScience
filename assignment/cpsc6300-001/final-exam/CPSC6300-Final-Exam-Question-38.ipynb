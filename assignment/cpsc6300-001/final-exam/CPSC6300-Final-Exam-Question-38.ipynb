{
 "cells": [
  {
   "cell_type": "markdown",
   "metadata": {},
   "source": [
    "# CPSC6300 Final Exam Question 38\n",
    "# Author: Wenkang Wei "
   ]
  },
  {
   "cell_type": "markdown",
   "metadata": {},
   "source": [
    "# Download Dataset"
   ]
  },
  {
   "cell_type": "code",
   "execution_count": 1,
   "metadata": {},
   "outputs": [
    {
     "name": "stderr",
     "output_type": "stream",
     "text": [
      "/zfs/courses/CPSC6300/anaconda3/lib/python3.8/site-packages/urllib3/connectionpool.py:979: InsecureRequestWarning: Unverified HTTPS request is being made to host 'www.palmetto.clemson.edu'. Adding certificate verification is strongly advised. See: https://urllib3.readthedocs.io/en/latest/advanced-usage.html#ssl-warnings\n",
      "  warnings.warn(\n"
     ]
    }
   ],
   "source": [
    "import pandas as pd\n",
    "import requests\n",
    "import numpy as np\n",
    "import os\n",
    "\n",
    "def download_data(data_url, file_path=\".\"):\n",
    "    r = requests.get(data_url, verify=False)\n",
    "    with open(file_path, \"wb\") as f:\n",
    "        f.write(r.content)\n",
    "def load_data(data_url, local_cached_datafile):\n",
    "    if not os.path.exists(local_cached_datafile):\n",
    "        if not os.path.exists(os.path.dirname(local_cached_datafile)):\n",
    "            os.makedirs(os.path.dirname(local_cached_datafile))\n",
    "        download_data(data_url, local_cached_datafile)\n",
    "    return pd.read_csv(local_cached_datafile)\n",
    "\n",
    "\n",
    "data_url = \"https://www.palmetto.clemson.edu/dsci/datasets/exams/noisy_data.csv\"\n",
    "\n",
    "data_input_dir = os.path.join(os.getcwd(), 'noisy_data.csv')\n",
    "# download training set and test set\n",
    "\n",
    "download_data(data_url, data_input_dir)\n"
   ]
  },
  {
   "cell_type": "code",
   "execution_count": 2,
   "metadata": {},
   "outputs": [],
   "source": [
    "train_df = pd.read_csv(\"noisy_data.csv\")"
   ]
  },
  {
   "cell_type": "code",
   "execution_count": 3,
   "metadata": {},
   "outputs": [
    {
     "data": {
      "text/html": [
       "<div>\n",
       "<style scoped>\n",
       "    .dataframe tbody tr th:only-of-type {\n",
       "        vertical-align: middle;\n",
       "    }\n",
       "\n",
       "    .dataframe tbody tr th {\n",
       "        vertical-align: top;\n",
       "    }\n",
       "\n",
       "    .dataframe thead th {\n",
       "        text-align: right;\n",
       "    }\n",
       "</style>\n",
       "<table border=\"1\" class=\"dataframe\">\n",
       "  <thead>\n",
       "    <tr style=\"text-align: right;\">\n",
       "      <th></th>\n",
       "      <th>pixel_0_0</th>\n",
       "      <th>pixel_0_1</th>\n",
       "      <th>pixel_0_2</th>\n",
       "      <th>pixel_0_3</th>\n",
       "      <th>pixel_0_4</th>\n",
       "      <th>pixel_0_5</th>\n",
       "      <th>pixel_0_6</th>\n",
       "      <th>pixel_0_7</th>\n",
       "      <th>pixel_1_0</th>\n",
       "      <th>pixel_1_1</th>\n",
       "      <th>...</th>\n",
       "      <th>pixel_6_6</th>\n",
       "      <th>pixel_6_7</th>\n",
       "      <th>pixel_7_0</th>\n",
       "      <th>pixel_7_1</th>\n",
       "      <th>pixel_7_2</th>\n",
       "      <th>pixel_7_3</th>\n",
       "      <th>pixel_7_4</th>\n",
       "      <th>pixel_7_5</th>\n",
       "      <th>pixel_7_6</th>\n",
       "      <th>pixel_7_7</th>\n",
       "    </tr>\n",
       "  </thead>\n",
       "  <tbody>\n",
       "    <tr>\n",
       "      <th>0</th>\n",
       "      <td>7.704058</td>\n",
       "      <td>2.593040</td>\n",
       "      <td>3.158773</td>\n",
       "      <td>9.437104</td>\n",
       "      <td>12.258002</td>\n",
       "      <td>3.558676</td>\n",
       "      <td>-1.395969</td>\n",
       "      <td>3.236902</td>\n",
       "      <td>-5.359782</td>\n",
       "      <td>-2.790887</td>\n",
       "      <td>...</td>\n",
       "      <td>1.579396</td>\n",
       "      <td>4.892746</td>\n",
       "      <td>-0.279460</td>\n",
       "      <td>-0.802455</td>\n",
       "      <td>3.841371</td>\n",
       "      <td>11.440503</td>\n",
       "      <td>16.434667</td>\n",
       "      <td>-1.191107</td>\n",
       "      <td>-2.805147</td>\n",
       "      <td>1.120813</td>\n",
       "    </tr>\n",
       "    <tr>\n",
       "      <th>1</th>\n",
       "      <td>3.079911</td>\n",
       "      <td>-4.823572</td>\n",
       "      <td>-2.597777</td>\n",
       "      <td>9.417419</td>\n",
       "      <td>15.212282</td>\n",
       "      <td>11.738309</td>\n",
       "      <td>-3.388358</td>\n",
       "      <td>-2.533977</td>\n",
       "      <td>-4.327964</td>\n",
       "      <td>2.380692</td>\n",
       "      <td>...</td>\n",
       "      <td>1.445756</td>\n",
       "      <td>-1.095903</td>\n",
       "      <td>-0.241618</td>\n",
       "      <td>-0.450031</td>\n",
       "      <td>-5.745342</td>\n",
       "      <td>13.030065</td>\n",
       "      <td>18.011364</td>\n",
       "      <td>4.999147</td>\n",
       "      <td>-0.768981</td>\n",
       "      <td>-3.061437</td>\n",
       "    </tr>\n",
       "    <tr>\n",
       "      <th>2</th>\n",
       "      <td>3.209946</td>\n",
       "      <td>-2.318349</td>\n",
       "      <td>-0.804635</td>\n",
       "      <td>-1.410793</td>\n",
       "      <td>7.727956</td>\n",
       "      <td>10.021168</td>\n",
       "      <td>1.161181</td>\n",
       "      <td>-1.814144</td>\n",
       "      <td>3.598527</td>\n",
       "      <td>-2.019500</td>\n",
       "      <td>...</td>\n",
       "      <td>-2.682706</td>\n",
       "      <td>-7.427769</td>\n",
       "      <td>1.721338</td>\n",
       "      <td>-2.384767</td>\n",
       "      <td>-0.826735</td>\n",
       "      <td>3.088506</td>\n",
       "      <td>7.323719</td>\n",
       "      <td>16.101807</td>\n",
       "      <td>6.648281</td>\n",
       "      <td>5.429209</td>\n",
       "    </tr>\n",
       "    <tr>\n",
       "      <th>3</th>\n",
       "      <td>3.607772</td>\n",
       "      <td>6.464315</td>\n",
       "      <td>3.208379</td>\n",
       "      <td>10.574569</td>\n",
       "      <td>12.295026</td>\n",
       "      <td>1.000294</td>\n",
       "      <td>-0.858062</td>\n",
       "      <td>2.338387</td>\n",
       "      <td>3.292241</td>\n",
       "      <td>10.312811</td>\n",
       "      <td>...</td>\n",
       "      <td>12.268682</td>\n",
       "      <td>3.567768</td>\n",
       "      <td>-1.790356</td>\n",
       "      <td>2.138321</td>\n",
       "      <td>9.987709</td>\n",
       "      <td>12.509201</td>\n",
       "      <td>10.838760</td>\n",
       "      <td>11.288567</td>\n",
       "      <td>-0.735214</td>\n",
       "      <td>2.985111</td>\n",
       "    </tr>\n",
       "    <tr>\n",
       "      <th>4</th>\n",
       "      <td>-6.453400</td>\n",
       "      <td>-2.280661</td>\n",
       "      <td>3.161372</td>\n",
       "      <td>-3.453887</td>\n",
       "      <td>8.847350</td>\n",
       "      <td>-0.663775</td>\n",
       "      <td>-4.783252</td>\n",
       "      <td>-0.145741</td>\n",
       "      <td>1.695841</td>\n",
       "      <td>2.027526</td>\n",
       "      <td>...</td>\n",
       "      <td>-1.536748</td>\n",
       "      <td>7.685215</td>\n",
       "      <td>4.253860</td>\n",
       "      <td>2.444424</td>\n",
       "      <td>-3.081372</td>\n",
       "      <td>0.879007</td>\n",
       "      <td>12.334744</td>\n",
       "      <td>4.803301</td>\n",
       "      <td>-8.092162</td>\n",
       "      <td>6.478665</td>\n",
       "    </tr>\n",
       "  </tbody>\n",
       "</table>\n",
       "<p>5 rows × 64 columns</p>\n",
       "</div>"
      ],
      "text/plain": [
       "   pixel_0_0  pixel_0_1  pixel_0_2  pixel_0_3  pixel_0_4  pixel_0_5  \\\n",
       "0   7.704058   2.593040   3.158773   9.437104  12.258002   3.558676   \n",
       "1   3.079911  -4.823572  -2.597777   9.417419  15.212282  11.738309   \n",
       "2   3.209946  -2.318349  -0.804635  -1.410793   7.727956  10.021168   \n",
       "3   3.607772   6.464315   3.208379  10.574569  12.295026   1.000294   \n",
       "4  -6.453400  -2.280661   3.161372  -3.453887   8.847350  -0.663775   \n",
       "\n",
       "   pixel_0_6  pixel_0_7  pixel_1_0  pixel_1_1  ...  pixel_6_6  pixel_6_7  \\\n",
       "0  -1.395969   3.236902  -5.359782  -2.790887  ...   1.579396   4.892746   \n",
       "1  -3.388358  -2.533977  -4.327964   2.380692  ...   1.445756  -1.095903   \n",
       "2   1.161181  -1.814144   3.598527  -2.019500  ...  -2.682706  -7.427769   \n",
       "3  -0.858062   2.338387   3.292241  10.312811  ...  12.268682   3.567768   \n",
       "4  -4.783252  -0.145741   1.695841   2.027526  ...  -1.536748   7.685215   \n",
       "\n",
       "   pixel_7_0  pixel_7_1  pixel_7_2  pixel_7_3  pixel_7_4  pixel_7_5  \\\n",
       "0  -0.279460  -0.802455   3.841371  11.440503  16.434667  -1.191107   \n",
       "1  -0.241618  -0.450031  -5.745342  13.030065  18.011364   4.999147   \n",
       "2   1.721338  -2.384767  -0.826735   3.088506   7.323719  16.101807   \n",
       "3  -1.790356   2.138321   9.987709  12.509201  10.838760  11.288567   \n",
       "4   4.253860   2.444424  -3.081372   0.879007  12.334744   4.803301   \n",
       "\n",
       "   pixel_7_6  pixel_7_7  \n",
       "0  -2.805147   1.120813  \n",
       "1  -0.768981  -3.061437  \n",
       "2   6.648281   5.429209  \n",
       "3  -0.735214   2.985111  \n",
       "4  -8.092162   6.478665  \n",
       "\n",
       "[5 rows x 64 columns]"
      ]
     },
     "execution_count": 3,
     "metadata": {},
     "output_type": "execute_result"
    }
   ],
   "source": [
    "train_df.head()"
   ]
  },
  {
   "cell_type": "markdown",
   "metadata": {},
   "source": [
    "# PCA for filtering noise"
   ]
  },
  {
   "cell_type": "code",
   "execution_count": 4,
   "metadata": {},
   "outputs": [
    {
     "data": {
      "text/plain": [
       "array([[-0.30719929,  0.25419891,  4.99253088, ...,  3.36625913,\n",
       "        -2.019777  , -1.29421568],\n",
       "       [ 0.92225641,  0.54218803, -0.23053638, ...,  7.41412154,\n",
       "         1.26185591,  0.58329707],\n",
       "       [ 0.25575837, -0.51603854, -2.83720097, ..., 12.96009522,\n",
       "         6.63790396,  0.98367065],\n",
       "       ...,\n",
       "       [ 0.87317164, -0.03519932,  1.11177402, ..., 10.64474772,\n",
       "         4.09673403,  1.61116283],\n",
       "       [ 0.32008689, -0.05940131,  5.13578374, ...,  7.37649035,\n",
       "         1.73120003,  1.03188923],\n",
       "       [-0.17743061,  0.6884074 , 10.00434706, ...,  6.98547371,\n",
       "        -0.24566025,  0.43129415]])"
      ]
     },
     "execution_count": 4,
     "metadata": {},
     "output_type": "execute_result"
    }
   ],
   "source": [
    "from sklearn.decomposition import PCA\n",
    "pca_filtering = PCA(0.50)\n",
    "_ = pca_filtering.fit(train_df)\n",
    "\n",
    "# filter noise in data using PCA\n",
    "filtered_df = pca_filtering.transform(train_df)\n",
    "filtered_df = pca_filtering.inverse_transform(filtered_df)\n",
    "filtered_df"
   ]
  },
  {
   "cell_type": "markdown",
   "metadata": {},
   "source": [
    "# PCA for Dimension Reduction"
   ]
  },
  {
   "cell_type": "code",
   "execution_count": 5,
   "metadata": {},
   "outputs": [
    {
     "data": {
      "text/plain": [
       "array([[  4.93878466,  17.77803558],\n",
       "       [-14.87273618, -17.48602562],\n",
       "       [ -9.4141105 , -15.2506739 ],\n",
       "       ...,\n",
       "       [-10.44506742,  -4.1427865 ],\n",
       "       [ 12.59332358,   7.96661249],\n",
       "       [  1.66978831,   4.34813286]])"
      ]
     },
     "execution_count": 5,
     "metadata": {},
     "output_type": "execute_result"
    }
   ],
   "source": [
    "# reduce dimension to 2\n",
    "pca = PCA(n_components=2)\n",
    "_ = pca.fit(filtered_df)\n",
    "transformed_df = pca.transform(filtered_df) \n",
    "transformed_df"
   ]
  },
  {
   "cell_type": "markdown",
   "metadata": {},
   "source": [
    "# K-Means Clustering"
   ]
  },
  {
   "cell_type": "code",
   "execution_count": 6,
   "metadata": {},
   "outputs": [
    {
     "data": {
      "text/html": [
       "<div>\n",
       "<style scoped>\n",
       "    .dataframe tbody tr th:only-of-type {\n",
       "        vertical-align: middle;\n",
       "    }\n",
       "\n",
       "    .dataframe tbody tr th {\n",
       "        vertical-align: top;\n",
       "    }\n",
       "\n",
       "    .dataframe thead th {\n",
       "        text-align: right;\n",
       "    }\n",
       "</style>\n",
       "<table border=\"1\" class=\"dataframe\">\n",
       "  <thead>\n",
       "    <tr style=\"text-align: right;\">\n",
       "      <th></th>\n",
       "      <th>clusters_num</th>\n",
       "      <th>within-cluster sum-of-squares</th>\n",
       "    </tr>\n",
       "  </thead>\n",
       "  <tbody>\n",
       "    <tr>\n",
       "      <th>0</th>\n",
       "      <td>1</td>\n",
       "      <td>669706.153599</td>\n",
       "    </tr>\n",
       "    <tr>\n",
       "      <th>1</th>\n",
       "      <td>2</td>\n",
       "      <td>423968.495287</td>\n",
       "    </tr>\n",
       "    <tr>\n",
       "      <th>2</th>\n",
       "      <td>4</td>\n",
       "      <td>184670.337425</td>\n",
       "    </tr>\n",
       "    <tr>\n",
       "      <th>3</th>\n",
       "      <td>8</td>\n",
       "      <td>93294.010442</td>\n",
       "    </tr>\n",
       "    <tr>\n",
       "      <th>4</th>\n",
       "      <td>10</td>\n",
       "      <td>76518.542376</td>\n",
       "    </tr>\n",
       "    <tr>\n",
       "      <th>5</th>\n",
       "      <td>16</td>\n",
       "      <td>49406.363518</td>\n",
       "    </tr>\n",
       "  </tbody>\n",
       "</table>\n",
       "</div>"
      ],
      "text/plain": [
       "   clusters_num  within-cluster sum-of-squares\n",
       "0             1                  669706.153599\n",
       "1             2                  423968.495287\n",
       "2             4                  184670.337425\n",
       "3             8                   93294.010442\n",
       "4            10                   76518.542376\n",
       "5            16                   49406.363518"
      ]
     },
     "execution_count": 6,
     "metadata": {},
     "output_type": "execute_result"
    }
   ],
   "source": [
    "from sklearn.cluster import KMeans\n",
    "\n",
    "perform = {\"clusters_num\":[1,2,4,8,10,16], \"within-cluster sum-of-squares\":[]}\n",
    "\n",
    "for cluster_n  in perform[\"clusters_num\"]:\n",
    "    km = KMeans(n_clusters = cluster_n,random_state=0)\n",
    "    km_model = km.fit(transformed_df)\n",
    "    perform[\"within-cluster sum-of-squares\"].append(km.inertia_)\n",
    "\n",
    "perf_df = pd.DataFrame(perform)    \n",
    "perf_df"
   ]
  },
  {
   "cell_type": "code",
   "execution_count": 7,
   "metadata": {},
   "outputs": [
    {
     "data": {
      "image/png": "[encoded data removed]",
      "text/plain": [
       "<Figure size 432x288 with 1 Axes>"
      ]
     },
     "metadata": {
      "needs_background": "light"
     },
     "output_type": "display_data"
    }
   ],
   "source": [
    "import matplotlib.pyplot as plt\n",
    "_ = plt.plot(perf_df[\"clusters_num\"],perf_df[\"within-cluster sum-of-squares\"])\n",
    "_ = plt.xlabel(\"number of clusters\")\n",
    "_ = plt.ylabel(\"within-cluster sum-of-squares\")"
   ]
  },
  {
   "cell_type": "code",
   "execution_count": null,
   "metadata": {},
   "outputs": [],
   "source": []
  }
 ],
 "metadata": {
  "kernelspec": {
   "display_name": "Python 3",
   "language": "python",
   "name": "python3"
  },
  "language_info": {
   "codemirror_mode": {
    "name": "ipython",
    "version": 3
   },
   "file_extension": ".py",
   "mimetype": "text/x-python",
   "name": "python",
   "nbconvert_exporter": "python",
   "pygments_lexer": "ipython3",
   "version": "3.8.3"
  }
 },
 "nbformat": 4,
 "nbformat_minor": 4
}
