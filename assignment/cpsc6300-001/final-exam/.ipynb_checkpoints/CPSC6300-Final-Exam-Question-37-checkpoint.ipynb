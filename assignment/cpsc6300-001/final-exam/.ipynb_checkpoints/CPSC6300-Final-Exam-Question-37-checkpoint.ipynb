{
 "cells": [
  {
   "cell_type": "markdown",
   "metadata": {},
   "source": [
    "# CPSC6300 Final Exam Problem 37\n",
    "# Author: Wenkang Wei"
   ]
  },
  {
   "cell_type": "markdown",
   "metadata": {},
   "source": [
    "# Download Dataset"
   ]
  },
  {
   "cell_type": "code",
   "execution_count": 1,
   "metadata": {},
   "outputs": [],
   "source": [
    "train_url = \"https://www.palmetto.clemson.edu/dsci/datasets/exams/exam_train.csv\"\n",
    "test_url = \"https://www.palmetto.clemson.edu/dsci/datasets/exams/exam_test.csv\""
   ]
  },
  {
   "cell_type": "code",
   "execution_count": 2,
   "metadata": {},
   "outputs": [
    {
     "name": "stderr",
     "output_type": "stream",
     "text": [
      "/zfs/courses/CPSC6300/anaconda3/lib/python3.8/site-packages/urllib3/connectionpool.py:979: InsecureRequestWarning: Unverified HTTPS request is being made to host 'www.palmetto.clemson.edu'. Adding certificate verification is strongly advised. See: https://urllib3.readthedocs.io/en/latest/advanced-usage.html#ssl-warnings\n",
      "  warnings.warn(\n",
      "/zfs/courses/CPSC6300/anaconda3/lib/python3.8/site-packages/urllib3/connectionpool.py:979: InsecureRequestWarning: Unverified HTTPS request is being made to host 'www.palmetto.clemson.edu'. Adding certificate verification is strongly advised. See: https://urllib3.readthedocs.io/en/latest/advanced-usage.html#ssl-warnings\n",
      "  warnings.warn(\n"
     ]
    }
   ],
   "source": [
    "import pandas as pd\n",
    "import requests\n",
    "import numpy as np\n",
    "import os\n",
    "\n",
    "def download_data(data_url, file_path=\".\"):\n",
    "    r = requests.get(data_url, verify=False)\n",
    "    with open(file_path, \"wb\") as f:\n",
    "        f.write(r.content)\n",
    "def load_data(data_url, local_cached_datafile):\n",
    "    if not os.path.exists(local_cached_datafile):\n",
    "        if not os.path.exists(os.path.dirname(local_cached_datafile)):\n",
    "            os.makedirs(os.path.dirname(local_cached_datafile))\n",
    "        download_data(data_url, local_cached_datafile)\n",
    "    return pd.read_csv(local_cached_datafile)\n",
    "\n",
    "train_input_dir = os.path.join(os.getcwd(), 'exam_train.csv')\n",
    "test_input_dir = os.path.join(os.getcwd(), 'exam_test.csv')\n",
    "# download training set and test set\n",
    "download_data(train_url, train_input_dir)\n",
    "download_data(train_url, test_input_dir)\n"
   ]
  },
  {
   "cell_type": "code",
   "execution_count": 3,
   "metadata": {},
   "outputs": [
    {
     "name": "stdout",
     "output_type": "stream",
     "text": [
      "<class 'pandas.core.frame.DataFrame'>\n",
      "RangeIndex: 112 entries, 0 to 111\n",
      "Data columns (total 5 columns):\n",
      " #   Column        Non-Null Count  Dtype  \n",
      "---  ------        --------------  -----  \n",
      " 0   sepal_length  112 non-null    float64\n",
      " 1   sepal_width   112 non-null    float64\n",
      " 2   petal_length  112 non-null    float64\n",
      " 3   petal_width   112 non-null    float64\n",
      " 4   class         112 non-null    object \n",
      "dtypes: float64(4), object(1)\n",
      "memory usage: 4.5+ KB\n"
     ]
    }
   ],
   "source": [
    "train_df = pd.read_csv(\"exam_train.csv\")\n",
    "train_df.info()"
   ]
  },
  {
   "cell_type": "code",
   "execution_count": 4,
   "metadata": {},
   "outputs": [
    {
     "name": "stdout",
     "output_type": "stream",
     "text": [
      "<class 'pandas.core.frame.DataFrame'>\n",
      "RangeIndex: 112 entries, 0 to 111\n",
      "Data columns (total 5 columns):\n",
      " #   Column        Non-Null Count  Dtype  \n",
      "---  ------        --------------  -----  \n",
      " 0   sepal_length  112 non-null    float64\n",
      " 1   sepal_width   112 non-null    float64\n",
      " 2   petal_length  112 non-null    float64\n",
      " 3   petal_width   112 non-null    float64\n",
      " 4   class         112 non-null    object \n",
      "dtypes: float64(4), object(1)\n",
      "memory usage: 4.5+ KB\n"
     ]
    }
   ],
   "source": [
    "test_df = pd.read_csv(\"exam_test.csv\")\n",
    "test_df.info()"
   ]
  },
  {
   "cell_type": "code",
   "execution_count": 5,
   "metadata": {},
   "outputs": [
    {
     "data": {
      "text/html": [
       "<div>\n",
       "<style scoped>\n",
       "    .dataframe tbody tr th:only-of-type {\n",
       "        vertical-align: middle;\n",
       "    }\n",
       "\n",
       "    .dataframe tbody tr th {\n",
       "        vertical-align: top;\n",
       "    }\n",
       "\n",
       "    .dataframe thead th {\n",
       "        text-align: right;\n",
       "    }\n",
       "</style>\n",
       "<table border=\"1\" class=\"dataframe\">\n",
       "  <thead>\n",
       "    <tr style=\"text-align: right;\">\n",
       "      <th></th>\n",
       "      <th>sepal_length</th>\n",
       "      <th>sepal_width</th>\n",
       "      <th>petal_length</th>\n",
       "      <th>petal_width</th>\n",
       "      <th>class</th>\n",
       "    </tr>\n",
       "  </thead>\n",
       "  <tbody>\n",
       "    <tr>\n",
       "      <th>0</th>\n",
       "      <td>6.2</td>\n",
       "      <td>3.4</td>\n",
       "      <td>5.4</td>\n",
       "      <td>2.3</td>\n",
       "      <td>Iris-virginica</td>\n",
       "    </tr>\n",
       "    <tr>\n",
       "      <th>1</th>\n",
       "      <td>6.7</td>\n",
       "      <td>3.3</td>\n",
       "      <td>5.7</td>\n",
       "      <td>2.5</td>\n",
       "      <td>Iris-virginica</td>\n",
       "    </tr>\n",
       "    <tr>\n",
       "      <th>2</th>\n",
       "      <td>5.8</td>\n",
       "      <td>4.0</td>\n",
       "      <td>1.2</td>\n",
       "      <td>0.2</td>\n",
       "      <td>Iris-setosa</td>\n",
       "    </tr>\n",
       "    <tr>\n",
       "      <th>3</th>\n",
       "      <td>5.7</td>\n",
       "      <td>3.0</td>\n",
       "      <td>4.2</td>\n",
       "      <td>1.2</td>\n",
       "      <td>Iris-versicolor</td>\n",
       "    </tr>\n",
       "    <tr>\n",
       "      <th>4</th>\n",
       "      <td>6.3</td>\n",
       "      <td>2.5</td>\n",
       "      <td>5.0</td>\n",
       "      <td>1.9</td>\n",
       "      <td>Iris-virginica</td>\n",
       "    </tr>\n",
       "  </tbody>\n",
       "</table>\n",
       "</div>"
      ],
      "text/plain": [
       "   sepal_length  sepal_width  petal_length  petal_width            class\n",
       "0           6.2          3.4           5.4          2.3   Iris-virginica\n",
       "1           6.7          3.3           5.7          2.5   Iris-virginica\n",
       "2           5.8          4.0           1.2          0.2      Iris-setosa\n",
       "3           5.7          3.0           4.2          1.2  Iris-versicolor\n",
       "4           6.3          2.5           5.0          1.9   Iris-virginica"
      ]
     },
     "execution_count": 5,
     "metadata": {},
     "output_type": "execute_result"
    }
   ],
   "source": [
    "train_df.head()"
   ]
  },
  {
   "cell_type": "markdown",
   "metadata": {},
   "source": [
    "# Get target and trainingset, test set"
   ]
  },
  {
   "cell_type": "code",
   "execution_count": 6,
   "metadata": {},
   "outputs": [],
   "source": [
    "y_train = train_df[\"class\"].astype(\"category\")\n",
    "X_train = train_df.drop(columns=[\"class\"])\n",
    "\n",
    "y_test = test_df[\"class\"].astype(\"category\")\n",
    "X_test = test_df.drop(columns=[\"class\"])"
   ]
  },
  {
   "cell_type": "code",
   "execution_count": 7,
   "metadata": {},
   "outputs": [
    {
     "data": {
      "text/plain": [
       "0     Iris-virginica\n",
       "1     Iris-virginica\n",
       "2        Iris-setosa\n",
       "3    Iris-versicolor\n",
       "4     Iris-virginica\n",
       "Name: class, dtype: category\n",
       "Categories (3, object): [Iris-setosa, Iris-versicolor, Iris-virginica]"
      ]
     },
     "execution_count": 7,
     "metadata": {},
     "output_type": "execute_result"
    }
   ],
   "source": [
    "y_train.head()"
   ]
  },
  {
   "cell_type": "markdown",
   "metadata": {},
   "source": [
    "# Model 1: Logistic Regression"
   ]
  },
  {
   "cell_type": "code",
   "execution_count": 8,
   "metadata": {},
   "outputs": [],
   "source": [
    "from sklearn.linear_model import LogisticRegression\n",
    "from sklearn.metrics import accuracy_score\n",
    "lr_clf = LogisticRegression(random_state=0, max_iter =200)\n",
    "lr_model = lr_clf.fit(X_train, y_train)"
   ]
  },
  {
   "cell_type": "markdown",
   "metadata": {},
   "source": [
    "# Training Accuracy"
   ]
  },
  {
   "cell_type": "code",
   "execution_count": 9,
   "metadata": {},
   "outputs": [
    {
     "data": {
      "text/plain": [
       "0.9821428571428571"
      ]
     },
     "execution_count": 9,
     "metadata": {},
     "output_type": "execute_result"
    }
   ],
   "source": [
    "preds_train = lr_model.predict(X_train)\n",
    "accuracy_score(preds_train, y_train)"
   ]
  },
  {
   "cell_type": "markdown",
   "metadata": {},
   "source": [
    "# Testing Accuracy"
   ]
  },
  {
   "cell_type": "code",
   "execution_count": 10,
   "metadata": {},
   "outputs": [
    {
     "data": {
      "text/plain": [
       "0.9821428571428571"
      ]
     },
     "execution_count": 10,
     "metadata": {},
     "output_type": "execute_result"
    }
   ],
   "source": [
    "preds_test = lr_model.predict(X_test)\n",
    "possib_test = lr_model.predict_proba(X_test)\n",
    "accuracy_score(preds_test, y_test)"
   ]
  },
  {
   "cell_type": "markdown",
   "metadata": {},
   "source": [
    "# Print wrong prediction results "
   ]
  },
  {
   "cell_type": "code",
   "execution_count": 11,
   "metadata": {},
   "outputs": [],
   "source": [
    "def print_wrong_samples(model,X ,y):\n",
    "    # make prediction\n",
    "    predictions = model.predict(X)\n",
    "    possibility = model.predict_proba(X)\n",
    "    possib_dic = {}\n",
    "    # convert possibility to dataframe\n",
    "    for i, name in enumerate(model.classes_):\n",
    "        possib_dic[name+\"_possibility\"] = possibility[:, i]\n",
    "        \n",
    "    possib_df = pd.DataFrame(possib_dic)\n",
    "    \n",
    "    # find the samples that are misclassified\n",
    "    possib_df = possib_df[predictions!=y]\n",
    "    df = pd.DataFrame({\"wrong sample\":predictions[predictions!=y],\n",
    "                       \"target\":y[predictions!=y]})\n",
    "    df = pd.concat([df, possib_df], axis=1)\n",
    "    return df\n"
   ]
  },
  {
   "cell_type": "code",
   "execution_count": 12,
   "metadata": {},
   "outputs": [
    {
     "data": {
      "text/html": [
       "<div>\n",
       "<style scoped>\n",
       "    .dataframe tbody tr th:only-of-type {\n",
       "        vertical-align: middle;\n",
       "    }\n",
       "\n",
       "    .dataframe tbody tr th {\n",
       "        vertical-align: top;\n",
       "    }\n",
       "\n",
       "    .dataframe thead th {\n",
       "        text-align: right;\n",
       "    }\n",
       "</style>\n",
       "<table border=\"1\" class=\"dataframe\">\n",
       "  <thead>\n",
       "    <tr style=\"text-align: right;\">\n",
       "      <th></th>\n",
       "      <th>wrong sample</th>\n",
       "      <th>target</th>\n",
       "      <th>Iris-setosa_possibility</th>\n",
       "      <th>Iris-versicolor_possibility</th>\n",
       "      <th>Iris-virginica_possibility</th>\n",
       "    </tr>\n",
       "  </thead>\n",
       "  <tbody>\n",
       "    <tr>\n",
       "      <th>36</th>\n",
       "      <td>Iris-virginica</td>\n",
       "      <td>Iris-versicolor</td>\n",
       "      <td>0.003206</td>\n",
       "      <td>0.485161</td>\n",
       "      <td>0.511634</td>\n",
       "    </tr>\n",
       "    <tr>\n",
       "      <th>57</th>\n",
       "      <td>Iris-virginica</td>\n",
       "      <td>Iris-versicolor</td>\n",
       "      <td>0.000713</td>\n",
       "      <td>0.364304</td>\n",
       "      <td>0.634983</td>\n",
       "    </tr>\n",
       "  </tbody>\n",
       "</table>\n",
       "</div>"
      ],
      "text/plain": [
       "      wrong sample           target  Iris-setosa_possibility  \\\n",
       "36  Iris-virginica  Iris-versicolor                 0.003206   \n",
       "57  Iris-virginica  Iris-versicolor                 0.000713   \n",
       "\n",
       "    Iris-versicolor_possibility  Iris-virginica_possibility  \n",
       "36                     0.485161                    0.511634  \n",
       "57                     0.364304                    0.634983  "
      ]
     },
     "execution_count": 12,
     "metadata": {},
     "output_type": "execute_result"
    }
   ],
   "source": [
    "model1_results = print_wrong_samples(lr_model, X_test,y_test)\n",
    "model1_results"
   ]
  },
  {
   "cell_type": "markdown",
   "metadata": {},
   "source": [
    "# Model 2: Linear SVC"
   ]
  },
  {
   "cell_type": "code",
   "execution_count": 13,
   "metadata": {},
   "outputs": [],
   "source": [
    "from sklearn.svm import SVC\n",
    "svc_clf = SVC(random_state=0,probability=True, kernel=\"linear\")\n",
    "svc_clf = svc_clf.fit(X_train, y_train)"
   ]
  },
  {
   "cell_type": "markdown",
   "metadata": {},
   "source": [
    "# Training Accuracy"
   ]
  },
  {
   "cell_type": "code",
   "execution_count": 14,
   "metadata": {},
   "outputs": [
    {
     "data": {
      "text/plain": [
       "0.9910714285714286"
      ]
     },
     "execution_count": 14,
     "metadata": {},
     "output_type": "execute_result"
    }
   ],
   "source": [
    "preds_train = svc_clf.predict(X_train)\n",
    "accuracy_score(preds_train, y_train)\n"
   ]
  },
  {
   "cell_type": "markdown",
   "metadata": {},
   "source": [
    "# Testing Accuracy"
   ]
  },
  {
   "cell_type": "code",
   "execution_count": 15,
   "metadata": {},
   "outputs": [
    {
     "data": {
      "text/plain": [
       "0.9910714285714286"
      ]
     },
     "execution_count": 15,
     "metadata": {},
     "output_type": "execute_result"
    }
   ],
   "source": [
    "preds_test = svc_clf.predict(X_test)\n",
    "accuracy_score(preds_test, y_test)"
   ]
  },
  {
   "cell_type": "markdown",
   "metadata": {},
   "source": [
    "# Print wrong prediction results"
   ]
  },
  {
   "cell_type": "code",
   "execution_count": 16,
   "metadata": {},
   "outputs": [
    {
     "data": {
      "text/html": [
       "<div>\n",
       "<style scoped>\n",
       "    .dataframe tbody tr th:only-of-type {\n",
       "        vertical-align: middle;\n",
       "    }\n",
       "\n",
       "    .dataframe tbody tr th {\n",
       "        vertical-align: top;\n",
       "    }\n",
       "\n",
       "    .dataframe thead th {\n",
       "        text-align: right;\n",
       "    }\n",
       "</style>\n",
       "<table border=\"1\" class=\"dataframe\">\n",
       "  <thead>\n",
       "    <tr style=\"text-align: right;\">\n",
       "      <th></th>\n",
       "      <th>wrong sample</th>\n",
       "      <th>target</th>\n",
       "      <th>Iris-setosa_possibility</th>\n",
       "      <th>Iris-versicolor_possibility</th>\n",
       "      <th>Iris-virginica_possibility</th>\n",
       "    </tr>\n",
       "  </thead>\n",
       "  <tbody>\n",
       "    <tr>\n",
       "      <th>57</th>\n",
       "      <td>Iris-virginica</td>\n",
       "      <td>Iris-versicolor</td>\n",
       "      <td>0.01966</td>\n",
       "      <td>0.247025</td>\n",
       "      <td>0.733314</td>\n",
       "    </tr>\n",
       "  </tbody>\n",
       "</table>\n",
       "</div>"
      ],
      "text/plain": [
       "      wrong sample           target  Iris-setosa_possibility  \\\n",
       "57  Iris-virginica  Iris-versicolor                  0.01966   \n",
       "\n",
       "    Iris-versicolor_possibility  Iris-virginica_possibility  \n",
       "57                     0.247025                    0.733314  "
      ]
     },
     "execution_count": 16,
     "metadata": {},
     "output_type": "execute_result"
    }
   ],
   "source": [
    "model2_results = print_wrong_samples(svc_clf, X_test,y_test)\n",
    "model2_results"
   ]
  },
  {
   "cell_type": "code",
   "execution_count": null,
   "metadata": {},
   "outputs": [],
   "source": []
  }
 ],
 "metadata": {
  "kernelspec": {
   "display_name": "Python 3",
   "language": "python",
   "name": "python3"
  },
  "language_info": {
   "codemirror_mode": {
    "name": "ipython",
    "version": 3
   },
   "file_extension": ".py",
   "mimetype": "text/x-python",
   "name": "python",
   "nbconvert_exporter": "python",
   "pygments_lexer": "ipython3",
   "version": "3.8.3"
  }
 },
 "nbformat": 4,
 "nbformat_minor": 4
}
