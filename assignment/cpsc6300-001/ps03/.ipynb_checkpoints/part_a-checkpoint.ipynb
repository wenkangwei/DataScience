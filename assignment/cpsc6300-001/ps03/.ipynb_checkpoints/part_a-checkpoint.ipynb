{
 "cells": [
  {
   "cell_type": "markdown",
   "metadata": {},
   "source": [
    "# CPSC 4300/6300-001 Applied Data Science (Fall 2020)\n",
    "\n",
    "Before you turn this problem in, make sure everything runs as expected. First, **restart the kernel** (in the menubar, select Kernel$\\rightarrow$Restart) and then **run all cells** (in the menubar, select Cell$\\rightarrow$Run All).\n",
    "\n",
    "Make sure you fill in any place that says `YOUR CODE HERE` or \"YOUR ANSWER HERE\", as well as your name and collaborators below:"
   ]
  },
  {
   "cell_type": "code",
   "execution_count": 1,
   "metadata": {},
   "outputs": [],
   "source": [
    "NAME = \"Wenkang Wei\"\n",
    "COLLABORATORS = \"Wenkang Wei\""
   ]
  },
  {
   "cell_type": "markdown",
   "metadata": {},
   "source": [
    "# CPSC4300/6300-001 Problem Set #3\n",
    "\n",
    "In this problem set, you work on an end-end data science project using the California Housing Data from the StatLib repository (http://lib.stat.cmu.edu/datasets/).\n",
    "\n",
    "The original data appeared in Pace, R. Kelley and Ronald Barry, \"Sparse Spatial Autoregressions,\" Statistics and Probability Letters, 33 (1997) 291-297 (https://www.sciencedirect.com/science/article/pii/S016771529600140X). \n",
    "\n",
    "Aurélien Géron has used this dataset in his book \"Hands-on Machine Learning with Scikit-Learn, Keras, and TensorFlow: Concepts, Tools, and Techniques to Build Intelligent Systems, 2nd Edition\", O'Reilly Media (2019). (https://www.oreilly.com/library/view/hands-on-machine-learning/9781492032632/) You can access this book from Clemson library online subscription (https://learning-oreilly-com.libproxy.clemson.edu/home/). This problem set is adapted from Chapter 2 of Aurélien's book (a supplemental notebook is available at https://github.com/ageron/handson-ml/blob/master/02_end_to_end_machine_learning_project.ipynb)."
   ]
  },
  {
   "cell_type": "markdown",
   "metadata": {},
   "source": [
    "## Context\n",
    "\n",
    "As a newly-hired data science consultant of the Housing Investment Corporation, your manager asks you to build a housing price prediction model for the California housing market using the California census data. An investment analysis team will use the price model to determine whether it is worth investing in a given area or not.\n",
    "\n",
    "This California Housing dataset includes the population, median income, median housing price, and so on for each block group in California. A block group is the smallest geographical unit for which the US Census Bureau publishes census data. Typically, a block group has a population of 600 to 3,000 people. For short, we call each block group a \"district\".\n",
    "\n",
    "Your manager also tells you that the current practice in the company is that a team of experts manually estimate the district housing prices: they gather up-to-date information about a district, and when they cannot get the median housing price, they estimate it using complex rules. The current practice is not only costly and time-consuming, the estimates by the experts are not great either. The experts often realize that their price estimates were off by more than 20%.\n",
    "\n",
    "Now you come on board. Your manager thinks it would be useful to build a model to predict a district’s median housing price given other data about that district. So, let's start."
   ]
  },
  {
   "cell_type": "markdown",
   "metadata": {},
   "source": [
    "# Part A. Basic Data Examination"
   ]
  },
  {
   "cell_type": "code",
   "execution_count": 2,
   "metadata": {},
   "outputs": [],
   "source": [
    "from IPython.core.interactiveshell import InteractiveShell\n",
    "InteractiveShell.ast_node_interactivity = \"all\"\n",
    "%matplotlib inline\n",
    "\n",
    "import numpy as np\n",
    "import pandas as pd\n",
    "import seaborn as sns\n",
    "import matplotlib.pyplot as plt"
   ]
  },
  {
   "cell_type": "markdown",
   "metadata": {},
   "source": [
    "## 1. Frame the Porblem (5 points)\n",
    "\n",
    "Among the following choices, as what types of machine learning tasks would you frame the problem described above? (Note there acan be multipel choice).\n",
    "\n",
    "1. Supervised learning\n",
    "2. Unsupervised learning\n",
    "3. Reinforcement learning\n",
    "4. Classification\n",
    "5. Regression\n",
    "6. Univariate regression\n",
    "7. Multivariate regression\n",
    "8. Clustering\n",
    "\n",
    "Save your answers into a list of integers named __task_types__. \n",
    "\n",
    "If you are not sure about a choice because you need further information, you can put a 'minus' sign before that choice and provides an explanation  for why you cannot decide the task types. Save you explanation in a dict named __reasons__ whose key is the negative id of the task type. For example, if you are certain 1, 2, and 3 are right but think 4 might be also right, you should write:\n",
    "```\n",
    "task_types = [1, 2, 3, -4]\n",
    "reasons = {-4: \"The investment analysis team might want a price categories instead of price\"}\n",
    "```"
   ]
  },
  {
   "cell_type": "code",
   "execution_count": 1,
   "metadata": {
    "deletable": false,
    "nbgrader": {
     "cell_type": "code",
     "checksum": "ad49f9c524f62e11e85c9994451f5b6b",
     "grade": false,
     "grade_id": "cell-9c851521d5664615",
     "locked": false,
     "schema_version": 3,
     "solution": true,
     "task": false
    }
   },
   "outputs": [
    {
     "data": {
      "text/plain": [
       "[1, -3, -4, 5, 6, 7]"
      ]
     },
     "execution_count": 1,
     "metadata": {},
     "output_type": "execute_result"
    }
   ],
   "source": [
    "# YOUR CODE HERE\n",
    "# raise NotImplementedError()\n",
    "task_types = [1,-3,-4,5,6,7]\n",
    "reasons = { -3: \"Reinforcement learning allows the agent/model to learn to interact with environment either online or offline. In this problem,\\\n",
    "           we might think the prediction of median housing price as an action and need a designed reward function to compute reward based on given labels and predictions to train model\\\n",
    "           So it may be modeled as a reinforcement learning problem for median housing price prediction as well. \\\n",
    "           Whether to use reinforcement learning to predict median housing price depends on the strategy the team chooses\",\n",
    "           -4: \"the analysis team might want to discretize the range of median housing price into different labels and do multiple classes \\\n",
    "           classification as well. It may depend on the strategy they want\"}\n",
    "task_types"
   ]
  },
  {
   "cell_type": "code",
   "execution_count": 2,
   "metadata": {
    "deletable": false,
    "editable": false,
    "nbgrader": {
     "cell_type": "code",
     "checksum": "05e61338a70f109a0929ce59ecf9f3df",
     "grade": true,
     "grade_id": "cell-f21d6ecd214fb38c",
     "locked": true,
     "points": 1,
     "schema_version": 3,
     "solution": false,
     "task": false
    }
   },
   "outputs": [],
   "source": [
    "assert task_types is not None and type(task_types).__name__ == \"list\""
   ]
  },
  {
   "cell_type": "code",
   "execution_count": 3,
   "metadata": {
    "deletable": false,
    "editable": false,
    "nbgrader": {
     "cell_type": "code",
     "checksum": "12280877b4bccecfaac74c145cac9724",
     "grade": true,
     "grade_id": "cell-3adb4e9ae0cef980",
     "locked": true,
     "points": 1,
     "schema_version": 3,
     "solution": false,
     "task": false
    }
   },
   "outputs": [],
   "source": [
    "assert 1 in task_types or -1 in task_types"
   ]
  },
  {
   "cell_type": "code",
   "execution_count": 4,
   "metadata": {
    "deletable": false,
    "editable": false,
    "nbgrader": {
     "cell_type": "code",
     "checksum": "e26920c5f2321a71d948e65f8b32cf01",
     "grade": true,
     "grade_id": "cell-913fd73dd858afc9",
     "locked": true,
     "points": 1,
     "schema_version": 3,
     "solution": false,
     "task": false
    }
   },
   "outputs": [],
   "source": [
    "assert 5 in task_types or -5 in task_types"
   ]
  },
  {
   "cell_type": "code",
   "execution_count": 5,
   "metadata": {
    "deletable": false,
    "editable": false,
    "nbgrader": {
     "cell_type": "code",
     "checksum": "f141cd0dbcd372d0abfca2dc6198056b",
     "grade": true,
     "grade_id": "cell-182a3dae18b8c43d",
     "locked": true,
     "points": 1,
     "schema_version": 3,
     "solution": false,
     "task": false
    }
   },
   "outputs": [],
   "source": [
    "assert 6 in task_types or -6 in task_types"
   ]
  },
  {
   "cell_type": "code",
   "execution_count": 6,
   "metadata": {
    "deletable": false,
    "editable": false,
    "nbgrader": {
     "cell_type": "code",
     "checksum": "009c21fe66a614e3000497a932ca085c",
     "grade": true,
     "grade_id": "cell-93e8025bb44f27ba",
     "locked": true,
     "points": 1,
     "schema_version": 3,
     "solution": false,
     "task": false
    }
   },
   "outputs": [],
   "source": [
    "assert 7 in task_types or -7 in task_types"
   ]
  },
  {
   "cell_type": "markdown",
   "metadata": {},
   "source": [
    "## 2. Organize Project Files (6 points)\n",
    "\n",
    "When you work on a project, a good practice is to arrange your project files into multiple folders such as input, lib, src, models, notebooks, doc, and etc. The function below can be used to create a project template."
   ]
  },
  {
   "cell_type": "code",
   "execution_count": 7,
   "metadata": {},
   "outputs": [],
   "source": [
    "import os\n",
    "import subprocess\n",
    "def create_project_temple(basedir=os.getcwd(), subdirs=[\"input\"], mode=0o755):\n",
    "    for d in subdirs:\n",
    "        absolute_path = os.path.join(basedir, d)\n",
    "        if not os.path.exists(absolute_path):\n",
    "            os.makedirs(absolute_path, mode=mode)\n",
    "    for f in [\"README.md\", \"LICENSE\"]:\n",
    "        subprocess.call([\"touch\", os.path.join(basedir, f)])"
   ]
  },
  {
   "cell_type": "markdown",
   "metadata": {},
   "source": [
    "__Question 2(a)__. __Use the function `create_project_temple` to create a project template that includes subfolders: `input`, `models`, `src`, `figs`, and `report`__. (2 points)"
   ]
  },
  {
   "cell_type": "code",
   "execution_count": 8,
   "metadata": {
    "deletable": false,
    "nbgrader": {
     "cell_type": "code",
     "checksum": "4f935fbfe933846b0a955d23571e62bf",
     "grade": false,
     "grade_id": "cell-2ae127e1430412cb",
     "locked": false,
     "schema_version": 3,
     "solution": true,
     "task": false
    }
   },
   "outputs": [],
   "source": [
    "# YOUR CODE HERE\n",
    "# raise NotImplementedError()\n",
    "create_project_temple(subdirs=[\"input\", \"models\",\"src\",\"figs\",\"report\"])"
   ]
  },
  {
   "cell_type": "code",
   "execution_count": 9,
   "metadata": {},
   "outputs": [
    {
     "name": "stdout",
     "output_type": "stream",
     "text": [
      "\u001b[01;34m.\u001b[0m\r\n",
      "├── \u001b[01;34mfigs\u001b[0m\r\n",
      "├── \u001b[01;34minput\u001b[0m\r\n",
      "│   ├── housing.csv\r\n",
      "│   ├── housing_prediction_scaled.csv\r\n",
      "│   ├── housing_prediction_scaled_y.csv\r\n",
      "│   ├── housing_test_cleaned.csv\r\n",
      "│   ├── housing_test_scaled.csv\r\n",
      "│   ├── housing_train_cleaned.csv\r\n",
      "│   └── housing_train_scaled.csv\r\n",
      "├── \u001b[01;34m.ipynb_checkpoints\u001b[0m\r\n",
      "│   ├── part_a-checkpoint.ipynb\r\n",
      "│   ├── part_b-checkpoint.ipynb\r\n",
      "│   ├── part_c-checkpoint.ipynb\r\n",
      "│   └── part_d-checkpoint.ipynb\r\n",
      "├── LICENSE\r\n",
      "├── .mapbox_token\r\n",
      "├── \u001b[01;34mmodels\u001b[0m\r\n",
      "├── part_a.ipynb\r\n",
      "├── part_b.ipynb\r\n",
      "├── part_c.ipynb\r\n",
      "├── part_d.ipynb\r\n",
      "├── README.md\r\n",
      "├── \u001b[01;34mreport\u001b[0m\r\n",
      "└── \u001b[01;34msrc\u001b[0m\r\n",
      "    ├── datautil.py\r\n",
      "    └── \u001b[01;34m__pycache__\u001b[0m\r\n",
      "        └── datautil.cpython-38.pyc\r\n",
      "\r\n",
      "7 directories, 20 files\r\n"
     ]
    }
   ],
   "source": [
    "# list the project file in a tree structure\n",
    "!tree -a"
   ]
  },
  {
   "cell_type": "code",
   "execution_count": 10,
   "metadata": {
    "deletable": false,
    "editable": false,
    "nbgrader": {
     "cell_type": "code",
     "checksum": "445d83885bcf5f04979d1aedbbdb0f24",
     "grade": true,
     "grade_id": "cell-43cd672d42811b60",
     "locked": true,
     "points": 2,
     "schema_version": 3,
     "solution": false,
     "task": false
    }
   },
   "outputs": [],
   "source": [
    "# Check if all require folders exist\n",
    "import os\n",
    "basedir = os.getcwd()\n",
    "assert all([os.path.exists(os.path.join(basedir, d)) for d in ['input', 'models', 'src', 'figs', 'report']])"
   ]
  },
  {
   "cell_type": "markdown",
   "metadata": {},
   "source": [
    "__Question 2(b)__. __To make the created subfolder only accessible by yourself, which value you should assign to the argument `mode` in create_project_temple__ (2 points)\n",
    "\n",
    "```\n",
    "A. 0o700\n",
    "B. 0o644\n",
    "C. 700\n",
    "D. 0o600\n",
    "```\n",
    "\n",
    "Assign your answer to a string variable `answer`."
   ]
  },
  {
   "cell_type": "code",
   "execution_count": 11,
   "metadata": {
    "deletable": false,
    "nbgrader": {
     "cell_type": "code",
     "checksum": "0584d50225d7fe48948e6cf5850e4ce4",
     "grade": false,
     "grade_id": "cell-625bc6fd6501e6f9",
     "locked": false,
     "schema_version": 3,
     "solution": true,
     "task": false
    }
   },
   "outputs": [
    {
     "data": {
      "text/plain": [
       "'7fc56270e7a70fa81a5935b72eacbe29'"
      ]
     },
     "execution_count": 11,
     "metadata": {},
     "output_type": "execute_result"
    }
   ],
   "source": [
    "# YOUR CODE HERE\n",
    "# raise NotImplementedError()\n",
    "answer= 'A'\n",
    "import hashlib\n",
    "hashlib.md5(answer.encode()).hexdigest()"
   ]
  },
  {
   "cell_type": "code",
   "execution_count": 12,
   "metadata": {
    "deletable": false,
    "editable": false,
    "nbgrader": {
     "cell_type": "code",
     "checksum": "f53af21552410f9eaa302f6ea9255eb1",
     "grade": true,
     "grade_id": "cell-3b8d5a83bcf53b25",
     "locked": true,
     "points": 2,
     "schema_version": 3,
     "solution": false,
     "task": false
    }
   },
   "outputs": [],
   "source": [
    "# There is a hidden test in this cell.\n",
    "import hashlib\n",
    "assert hashlib.md5(answer.encode()).hexdigest() == '7fc56270e7a70fa81a5935b72eacbe29'"
   ]
  },
  {
   "cell_type": "markdown",
   "metadata": {},
   "source": [
    "__Question 2(c)__. Assume you want to put your project subfolders on the parallel file system under the folder `/scratch1/<your-user-name>/cpsc6300/housing` on Palmetto so that your program can have better I/O performance, __what value would you provide for the `basedir` argument?__(2 points)"
   ]
  },
  {
   "cell_type": "code",
   "execution_count": 13,
   "metadata": {
    "deletable": false,
    "nbgrader": {
     "cell_type": "code",
     "checksum": "6bc755ccb3ff5bc9de80b089bb5c48ec",
     "grade": false,
     "grade_id": "cell-a0928c5d79961286",
     "locked": false,
     "schema_version": 3,
     "solution": true,
     "task": false
    }
   },
   "outputs": [
    {
     "data": {
      "text/plain": [
       "'/scratch1/wenkanw/cpsc6300/housing'"
      ]
     },
     "execution_count": 13,
     "metadata": {},
     "output_type": "execute_result"
    }
   ],
   "source": [
    "import getpass\n",
    "my_user_name= getpass.getuser()\n",
    "basedir = '/scratch1/'+my_user_name+'/'+'cpsc6300/housing'\n",
    "# YOUR CODE HERE\n",
    "# raise NotImplementedError()\n",
    "basedir"
   ]
  },
  {
   "cell_type": "code",
   "execution_count": 14,
   "metadata": {
    "deletable": false,
    "editable": false,
    "nbgrader": {
     "cell_type": "code",
     "checksum": "633ceb500de93dc3a05799b31fdf8a43",
     "grade": true,
     "grade_id": "cell-5e22a6b963812517",
     "locked": true,
     "points": 2,
     "schema_version": 3,
     "solution": false,
     "task": false
    }
   },
   "outputs": [],
   "source": [
    "import getpass\n",
    "assert len(basedir.split(\"/\")) == 5\n",
    "assert basedir.split(\"/\")[1] == 'scratch1' and basedir.split(\"/\")[2] == getpass.getuser()\n"
   ]
  },
  {
   "cell_type": "markdown",
   "metadata": {},
   "source": [
    "## 3. Get the Data (6 points)\n",
    "\n",
    "Although you can always manually download and extract a dataset, a better practice is to automate the download process and cache the data locally. Keeping a local copy of massive dataset on a fast and reliable storage systems is important in practice.\n",
    "\n",
    "Below is the source code that load the housing data. Because the code is required in your notebook but is not essential to your model development, to keep your notebook clean, you can put the code into the `src` sub folder."
   ]
  },
  {
   "cell_type": "code",
   "execution_count": 15,
   "metadata": {},
   "outputs": [
    {
     "name": "stdout",
     "output_type": "stream",
     "text": [
      "Overwriting src/datautil.py\n"
     ]
    }
   ],
   "source": [
    "%%writefile src/datautil.py\n",
    "import os\n",
    "import requests\n",
    "import pandas as pd\n",
    "\n",
    "def download_data(data_url, file_path):\n",
    "    r = requests.get(data_url, verify=False)\n",
    "    with open(file_path, \"wb\") as f:\n",
    "        f.write(r.content)\n",
    "\n",
    "def load_data(data_url, local_cached_datafile):\n",
    "    if not os.path.exists(local_cached_datafile):\n",
    "        if not os.path.exists(os.path.dirname(local_cached_datafile)):\n",
    "            os.makedirs(os.path.dirname(local_cached_datafile))\n",
    "        download_data(data_url, local_cached_datafile)\n",
    "    return pd.read_csv(local_cached_datafile)\n",
    "\n",
    "def load_housing_data():\n",
    "    data_url = 'https://webapp02.palmetto.clemson.edu/dsci/datasets/housing/housing.csv'\n",
    "    input_dir = os.path.join(os.getcwd(), 'input', 'housing.csv')\n",
    "    return load_data(data_url, input_dir)"
   ]
  },
  {
   "cell_type": "markdown",
   "metadata": {},
   "source": [
    "### Python module search path\n",
    "\n",
    "When working with Python, it is necessary to understand how the Python interpreter finds the module specified in the `import` statement. Below is an excerpt from the Python documentation https://docs.python.org/3/tutorial/modules.html:\n",
    "\n",
    "```\n",
    "When a module named spam is imported, the interpreter first searches for a built-in module with that name. If not found, it then searches for a file named spam.py in a list of directories given by the variable sys.path. sys.path is initialized from these locations:\n",
    "\n",
    "1. The directory containing the input script (or the current directory when no file is specified).\n",
    "2. PYTHONPATH (a list of directory names, with the same syntax as the shell variable PATH).\n",
    "3. The installation-dependent default.\n",
    "\n",
    "After initialization, Python programs can modify sys.path. The directory containing the script being run is placed at the beginning of the search path, ahead of the standard library path. This means that scripts in that directory will be loaded instead of modules of the same name in the library directory.\n",
    "```\n",
    "\n",
    "In order to import the Python modules that are not in current search path, you can insert the path that contains those modules in `sys.path`. For example, to ensure that the path /zfs/courses/CPSC6300/anaconda3/lib/python3.8/site-packages is included in sys.path and is included only once, you can use the follow code:"
   ]
  },
  {
   "cell_type": "code",
   "execution_count": 16,
   "metadata": {},
   "outputs": [],
   "source": [
    "import sys\n",
    "course_python_packages_dir = '/zfs/courses/CPSC6300/anaconda3/lib/python3.8/site-packages'\n",
    "if course_python_packages_dir not in sys.path:\n",
    "    sys.path.append(course_python_packages_dir)"
   ]
  },
  {
   "cell_type": "markdown",
   "metadata": {},
   "source": [
    "__Question 3(a)__. __Modify the python search path to ensure that your project's `src` sub folder (which contains the `datautil.py`) is included in `sys.path` and is included only once__? (3 points)"
   ]
  },
  {
   "cell_type": "code",
   "execution_count": 17,
   "metadata": {
    "deletable": false,
    "nbgrader": {
     "cell_type": "code",
     "checksum": "035e0909deceb6cfbaedbd13da2d0f57",
     "grade": false,
     "grade_id": "cell-1cb75f07ea6ab861",
     "locked": false,
     "schema_version": 3,
     "solution": true,
     "task": false
    }
   },
   "outputs": [
    {
     "name": "stdout",
     "output_type": "stream",
     "text": [
      "Add module path: /home/wenkanw/cpsc6300-001/ps03/src\n"
     ]
    },
    {
     "data": {
      "text/plain": [
       "['/home/wenkanw/cpsc6300-001/ps03',\n",
       " '',\n",
       " '/software/spackages/linux-centos8-x86_64/gcc-8.3.1/opencv-4.2.0-ox4iebcjsf4q6r2m2jxlw7hdcpvtvgqu/lib/python3.7/site-packages',\n",
       " '/software/spackages/linux-centos8-x86_64/gcc-8.3.1/vtk-9.0.0-gh57nkhkfx5vrrhvsn7eqap7j5lp3ipd/lib/python3.7/site-packages',\n",
       " '/zfs/courses/CPSC6300/anaconda3/lib/python38.zip',\n",
       " '/zfs/courses/CPSC6300/anaconda3/lib/python3.8',\n",
       " '/zfs/courses/CPSC6300/anaconda3/lib/python3.8/lib-dynload',\n",
       " '/home/wenkanw/.local/lib/python3.8/site-packages',\n",
       " '/zfs/courses/CPSC6300/anaconda3/lib/python3.8/site-packages',\n",
       " '/zfs/courses/CPSC6300/anaconda3/lib/python3.8/site-packages/IPython/extensions',\n",
       " '/home/wenkanw/.ipython',\n",
       " '/home/wenkanw/cpsc6300-001/ps03/src']"
      ]
     },
     "execution_count": 17,
     "metadata": {},
     "output_type": "execute_result"
    }
   ],
   "source": [
    "import sys\n",
    "\n",
    "# YOUR CODE HERE\n",
    "# raise NotImplementedError()\n",
    "module_path = os.getcwd()+'/src'\n",
    "if module_path not in sys.path:\n",
    "    sys.path.append(module_path)\n",
    "    print(\"Add module path:\",module_path)\n",
    "sys.path"
   ]
  },
  {
   "cell_type": "code",
   "execution_count": 18,
   "metadata": {
    "deletable": false,
    "editable": false,
    "nbgrader": {
     "cell_type": "code",
     "checksum": "2efafffc7a8f44c88b10763be62e9e4c",
     "grade": true,
     "grade_id": "cell-9d9bd519c1489201",
     "locked": true,
     "points": 1,
     "schema_version": 3,
     "solution": false,
     "task": false
    }
   },
   "outputs": [],
   "source": [
    "basedir = os.getcwd()\n",
    "script_dir = os.path.join(basedir, \"src\")\n",
    "assert script_dir in sys.path"
   ]
  },
  {
   "cell_type": "code",
   "execution_count": 19,
   "metadata": {
    "deletable": false,
    "editable": false,
    "nbgrader": {
     "cell_type": "code",
     "checksum": "7f34f598ee638fc835980c36fb84f83e",
     "grade": true,
     "grade_id": "cell-25937ebac90e20a9",
     "locked": true,
     "points": 2,
     "schema_version": 3,
     "solution": false,
     "task": false
    }
   },
   "outputs": [],
   "source": [
    "assert len([p for p in sys.path if p == script_dir]) == 1"
   ]
  },
  {
   "cell_type": "markdown",
   "metadata": {},
   "source": [
    "__Question 3(b)__.__Write some code to load the housing data using the load_housing_data() function in the datautil module. The data needs to be in your project's input subfolder.__(3 points)"
   ]
  },
  {
   "cell_type": "code",
   "execution_count": 20,
   "metadata": {
    "deletable": false,
    "nbgrader": {
     "cell_type": "code",
     "checksum": "196cad3c1253580a8a5d63ca5bf78b85",
     "grade": false,
     "grade_id": "cell-438ad87360144d5f",
     "locked": false,
     "schema_version": 3,
     "solution": true,
     "task": false
    }
   },
   "outputs": [
    {
     "data": {
      "text/html": [
       "<div>\n",
       "<style scoped>\n",
       "    .dataframe tbody tr th:only-of-type {\n",
       "        vertical-align: middle;\n",
       "    }\n",
       "\n",
       "    .dataframe tbody tr th {\n",
       "        vertical-align: top;\n",
       "    }\n",
       "\n",
       "    .dataframe thead th {\n",
       "        text-align: right;\n",
       "    }\n",
       "</style>\n",
       "<table border=\"1\" class=\"dataframe\">\n",
       "  <thead>\n",
       "    <tr style=\"text-align: right;\">\n",
       "      <th></th>\n",
       "      <th>longitude</th>\n",
       "      <th>latitude</th>\n",
       "      <th>housing_median_age</th>\n",
       "      <th>total_rooms</th>\n",
       "      <th>total_bedrooms</th>\n",
       "      <th>population</th>\n",
       "      <th>households</th>\n",
       "      <th>median_income</th>\n",
       "      <th>median_house_value</th>\n",
       "      <th>ocean_proximity</th>\n",
       "    </tr>\n",
       "  </thead>\n",
       "  <tbody>\n",
       "    <tr>\n",
       "      <th>0</th>\n",
       "      <td>-122.23</td>\n",
       "      <td>37.88</td>\n",
       "      <td>41.0</td>\n",
       "      <td>880.0</td>\n",
       "      <td>129.0</td>\n",
       "      <td>322.0</td>\n",
       "      <td>126.0</td>\n",
       "      <td>8.3252</td>\n",
       "      <td>452600.0</td>\n",
       "      <td>NEAR BAY</td>\n",
       "    </tr>\n",
       "    <tr>\n",
       "      <th>1</th>\n",
       "      <td>-122.22</td>\n",
       "      <td>37.86</td>\n",
       "      <td>21.0</td>\n",
       "      <td>7099.0</td>\n",
       "      <td>1106.0</td>\n",
       "      <td>2401.0</td>\n",
       "      <td>1138.0</td>\n",
       "      <td>8.3014</td>\n",
       "      <td>358500.0</td>\n",
       "      <td>NEAR BAY</td>\n",
       "    </tr>\n",
       "    <tr>\n",
       "      <th>2</th>\n",
       "      <td>-122.24</td>\n",
       "      <td>37.85</td>\n",
       "      <td>52.0</td>\n",
       "      <td>1467.0</td>\n",
       "      <td>190.0</td>\n",
       "      <td>496.0</td>\n",
       "      <td>177.0</td>\n",
       "      <td>7.2574</td>\n",
       "      <td>352100.0</td>\n",
       "      <td>NEAR BAY</td>\n",
       "    </tr>\n",
       "  </tbody>\n",
       "</table>\n",
       "</div>"
      ],
      "text/plain": [
       "   longitude  latitude  housing_median_age  total_rooms  total_bedrooms  \\\n",
       "0    -122.23     37.88                41.0        880.0           129.0   \n",
       "1    -122.22     37.86                21.0       7099.0          1106.0   \n",
       "2    -122.24     37.85                52.0       1467.0           190.0   \n",
       "\n",
       "   population  households  median_income  median_house_value ocean_proximity  \n",
       "0       322.0       126.0         8.3252            452600.0        NEAR BAY  \n",
       "1      2401.0      1138.0         8.3014            358500.0        NEAR BAY  \n",
       "2       496.0       177.0         7.2574            352100.0        NEAR BAY  "
      ]
     },
     "execution_count": 20,
     "metadata": {},
     "output_type": "execute_result"
    }
   ],
   "source": [
    "# YOUR CODE HERE\n",
    "# raise NotImplementedError()\n",
    "from datautil import *\n",
    "housing = load_housing_data()\n",
    "housing.head(3)"
   ]
  },
  {
   "cell_type": "code",
   "execution_count": 21,
   "metadata": {
    "deletable": false,
    "editable": false,
    "nbgrader": {
     "cell_type": "code",
     "checksum": "1695dbcc18c707b211cea760f7e14721",
     "grade": true,
     "grade_id": "cell-d68f3670cab1ff18",
     "locked": true,
     "points": 3,
     "schema_version": 3,
     "solution": false,
     "task": false
    }
   },
   "outputs": [],
   "source": [
    "import os\n",
    "assert housing is not None and type(housing).__name__ == 'DataFrame'\n",
    "assert housing.shape == (20640, 10)\n",
    "assert os.path.exists('input/housing.csv')"
   ]
  },
  {
   "cell_type": "markdown",
   "metadata": {},
   "source": [
    "## 4. Examine the Data (10 points)\n",
    "\n",
    "Answer each of the following questions (2 points per question)"
   ]
  },
  {
   "cell_type": "markdown",
   "metadata": {},
   "source": [
    "__Question 4(a)__. Use the `housing.info()` to get a quick overview of the housing data set. According to the output, which column has missing data and which column is of categorical data type? Save your answer to two string variables `column_with_missing_data` and `column_with_categorical_data`."
   ]
  },
  {
   "cell_type": "code",
   "execution_count": 22,
   "metadata": {},
   "outputs": [
    {
     "name": "stdout",
     "output_type": "stream",
     "text": [
      "<class 'pandas.core.frame.DataFrame'>\n",
      "RangeIndex: 20640 entries, 0 to 20639\n",
      "Data columns (total 10 columns):\n",
      " #   Column              Non-Null Count  Dtype  \n",
      "---  ------              --------------  -----  \n",
      " 0   longitude           20640 non-null  float64\n",
      " 1   latitude            20640 non-null  float64\n",
      " 2   housing_median_age  20640 non-null  float64\n",
      " 3   total_rooms         20640 non-null  float64\n",
      " 4   total_bedrooms      20433 non-null  float64\n",
      " 5   population          20640 non-null  float64\n",
      " 6   households          20640 non-null  float64\n",
      " 7   median_income       20640 non-null  float64\n",
      " 8   median_house_value  20640 non-null  float64\n",
      " 9   ocean_proximity     20640 non-null  object \n",
      "dtypes: float64(9), object(1)\n",
      "memory usage: 1.6+ MB\n"
     ]
    }
   ],
   "source": [
    "housing.info()"
   ]
  },
  {
   "cell_type": "code",
   "execution_count": 23,
   "metadata": {
    "deletable": false,
    "nbgrader": {
     "cell_type": "code",
     "checksum": "92253fd6b97743e865a41af5b2d0bc99",
     "grade": true,
     "grade_id": "cell-e1846e9e1d83dab9",
     "locked": false,
     "points": 2,
     "schema_version": 3,
     "solution": true,
     "task": false
    }
   },
   "outputs": [
    {
     "name": "stdout",
     "output_type": "stream",
     "text": [
      "<class 'pandas.core.frame.DataFrame'>\n",
      "RangeIndex: 20640 entries, 0 to 20639\n",
      "Data columns (total 10 columns):\n",
      " #   Column              Non-Null Count  Dtype  \n",
      "---  ------              --------------  -----  \n",
      " 0   longitude           20640 non-null  float64\n",
      " 1   latitude            20640 non-null  float64\n",
      " 2   housing_median_age  20640 non-null  float64\n",
      " 3   total_rooms         20640 non-null  float64\n",
      " 4   total_bedrooms      20433 non-null  float64\n",
      " 5   population          20640 non-null  float64\n",
      " 6   households          20640 non-null  float64\n",
      " 7   median_income       20640 non-null  float64\n",
      " 8   median_house_value  20640 non-null  float64\n",
      " 9   ocean_proximity     20640 non-null  object \n",
      "dtypes: float64(9), object(1)\n",
      "memory usage: 1.6+ MB\n"
     ]
    },
    {
     "data": {
      "text/plain": [
       "('total_bedrooms', 'ocean_proximity')"
      ]
     },
     "execution_count": 23,
     "metadata": {},
     "output_type": "execute_result"
    }
   ],
   "source": [
    "housing.info()\n",
    "# YOUR CODE HERE\n",
    "# raise NotImplementedError()\n",
    "column_with_missing_data= \"total_bedrooms\"\n",
    "column_with_categorical_data = \"ocean_proximity\"\n",
    "column_with_missing_data, column_with_categorical_data"
   ]
  },
  {
   "cell_type": "markdown",
   "metadata": {},
   "source": [
    "__Question 4(b)__. Write some Python code to find and print the column(s) with missing data and the total number of missing values in that column. \n",
    "\n",
    "Hint: housing.count() returns a Series whose indices are the column names and values are the counts of non-missing values. "
   ]
  },
  {
   "cell_type": "code",
   "execution_count": 24,
   "metadata": {
    "deletable": false,
    "nbgrader": {
     "cell_type": "code",
     "checksum": "b6de9b9924c32c95634e30f23d39ee47",
     "grade": true,
     "grade_id": "cell-d8d8b81f4b14d6df",
     "locked": false,
     "points": 2,
     "schema_version": 3,
     "solution": true,
     "task": false
    }
   },
   "outputs": [
    {
     "data": {
      "text/plain": [
       "[('total_bedrooms', 20433)]"
      ]
     },
     "execution_count": 24,
     "metadata": {},
     "output_type": "execute_result"
    }
   ],
   "source": [
    "# YOUR CODE HERE\n",
    "# raise NotImplementedError()\n",
    "col_missing_data = [(c, housing.count()[c]) for c in housing.columns if housing.count()[c] < len(housing)-1]\n",
    "col_missing_data"
   ]
  },
  {
   "cell_type": "markdown",
   "metadata": {},
   "source": [
    "__Question 4(c)__ __Write some Python code to find which categories exist in the `ocean_proximity` column and which category has the most districts.__ Save all categories to a Series variable `cats` and the category name with most districts `cat_most_district`.\n",
    "\n",
    "Hints: you may need a Series' methods like `value_counts()` and `sort_values()`."
   ]
  },
  {
   "cell_type": "code",
   "execution_count": 25,
   "metadata": {},
   "outputs": [
    {
     "data": {
      "text/plain": [
       "ISLAND           5\n",
       "NEAR BAY      2290\n",
       "NEAR OCEAN    2658\n",
       "INLAND        6551\n",
       "<1H OCEAN     9136\n",
       "Name: ocean_proximity, dtype: int64"
      ]
     },
     "execution_count": 25,
     "metadata": {},
     "output_type": "execute_result"
    }
   ],
   "source": [
    "housing['ocean_proximity'].value_counts().sort_values()"
   ]
  },
  {
   "cell_type": "code",
   "execution_count": 26,
   "metadata": {
    "deletable": false,
    "nbgrader": {
     "cell_type": "code",
     "checksum": "4d899d03696a0f7ecdcd443b113dc995",
     "grade": true,
     "grade_id": "cell-21171124f20f5e25",
     "locked": false,
     "points": 2,
     "schema_version": 3,
     "solution": true,
     "task": false
    }
   },
   "outputs": [
    {
     "name": "stdout",
     "output_type": "stream",
     "text": [
      "ISLAND           5\n",
      "NEAR BAY      2290\n",
      "NEAR OCEAN    2658\n",
      "INLAND        6551\n",
      "<1H OCEAN     9136\n",
      "Name: ocean_proximity, dtype: int64\n",
      "<1H OCEAN\n"
     ]
    }
   ],
   "source": [
    "# YOUR CODE HERE\n",
    "# raise NotImplementedError()\n",
    "# sorting in ascending order\n",
    "cats = housing['ocean_proximity'].value_counts().sort_values()\n",
    "cat_most_district = cats.index[-1]\n",
    "print(cats)\n",
    "print(cat_most_district)"
   ]
  },
  {
   "cell_type": "markdown",
   "metadata": {},
   "source": [
    "__Question 4(d)__. Use the `housing.describe()` method to get a quick summary of the numerical attributes. __Which two columns are mostly likely to have their maximum value capped?__ Save your answer to a list of strings named `capper_columns`."
   ]
  },
  {
   "cell_type": "code",
   "execution_count": 27,
   "metadata": {},
   "outputs": [
    {
     "data": {
      "text/html": [
       "<div>\n",
       "<style scoped>\n",
       "    .dataframe tbody tr th:only-of-type {\n",
       "        vertical-align: middle;\n",
       "    }\n",
       "\n",
       "    .dataframe tbody tr th {\n",
       "        vertical-align: top;\n",
       "    }\n",
       "\n",
       "    .dataframe thead th {\n",
       "        text-align: right;\n",
       "    }\n",
       "</style>\n",
       "<table border=\"1\" class=\"dataframe\">\n",
       "  <thead>\n",
       "    <tr style=\"text-align: right;\">\n",
       "      <th></th>\n",
       "      <th>longitude</th>\n",
       "      <th>latitude</th>\n",
       "      <th>housing_median_age</th>\n",
       "      <th>total_rooms</th>\n",
       "      <th>total_bedrooms</th>\n",
       "      <th>population</th>\n",
       "      <th>households</th>\n",
       "      <th>median_income</th>\n",
       "      <th>median_house_value</th>\n",
       "    </tr>\n",
       "  </thead>\n",
       "  <tbody>\n",
       "    <tr>\n",
       "      <th>count</th>\n",
       "      <td>20640.000000</td>\n",
       "      <td>20640.000000</td>\n",
       "      <td>20640.000000</td>\n",
       "      <td>20640.000000</td>\n",
       "      <td>20433.000000</td>\n",
       "      <td>20640.000000</td>\n",
       "      <td>20640.000000</td>\n",
       "      <td>20640.000000</td>\n",
       "      <td>20640.000000</td>\n",
       "    </tr>\n",
       "    <tr>\n",
       "      <th>mean</th>\n",
       "      <td>-119.569704</td>\n",
       "      <td>35.631861</td>\n",
       "      <td>28.639486</td>\n",
       "      <td>2635.763081</td>\n",
       "      <td>537.870553</td>\n",
       "      <td>1425.476744</td>\n",
       "      <td>499.539680</td>\n",
       "      <td>3.870671</td>\n",
       "      <td>206855.816909</td>\n",
       "    </tr>\n",
       "    <tr>\n",
       "      <th>std</th>\n",
       "      <td>2.003532</td>\n",
       "      <td>2.135952</td>\n",
       "      <td>12.585558</td>\n",
       "      <td>2181.615252</td>\n",
       "      <td>421.385070</td>\n",
       "      <td>1132.462122</td>\n",
       "      <td>382.329753</td>\n",
       "      <td>1.899822</td>\n",
       "      <td>115395.615874</td>\n",
       "    </tr>\n",
       "    <tr>\n",
       "      <th>min</th>\n",
       "      <td>-124.350000</td>\n",
       "      <td>32.540000</td>\n",
       "      <td>1.000000</td>\n",
       "      <td>2.000000</td>\n",
       "      <td>1.000000</td>\n",
       "      <td>3.000000</td>\n",
       "      <td>1.000000</td>\n",
       "      <td>0.499900</td>\n",
       "      <td>14999.000000</td>\n",
       "    </tr>\n",
       "    <tr>\n",
       "      <th>25%</th>\n",
       "      <td>-121.800000</td>\n",
       "      <td>33.930000</td>\n",
       "      <td>18.000000</td>\n",
       "      <td>1447.750000</td>\n",
       "      <td>296.000000</td>\n",
       "      <td>787.000000</td>\n",
       "      <td>280.000000</td>\n",
       "      <td>2.563400</td>\n",
       "      <td>119600.000000</td>\n",
       "    </tr>\n",
       "    <tr>\n",
       "      <th>50%</th>\n",
       "      <td>-118.490000</td>\n",
       "      <td>34.260000</td>\n",
       "      <td>29.000000</td>\n",
       "      <td>2127.000000</td>\n",
       "      <td>435.000000</td>\n",
       "      <td>1166.000000</td>\n",
       "      <td>409.000000</td>\n",
       "      <td>3.534800</td>\n",
       "      <td>179700.000000</td>\n",
       "    </tr>\n",
       "    <tr>\n",
       "      <th>75%</th>\n",
       "      <td>-118.010000</td>\n",
       "      <td>37.710000</td>\n",
       "      <td>37.000000</td>\n",
       "      <td>3148.000000</td>\n",
       "      <td>647.000000</td>\n",
       "      <td>1725.000000</td>\n",
       "      <td>605.000000</td>\n",
       "      <td>4.743250</td>\n",
       "      <td>264725.000000</td>\n",
       "    </tr>\n",
       "    <tr>\n",
       "      <th>max</th>\n",
       "      <td>-114.310000</td>\n",
       "      <td>41.950000</td>\n",
       "      <td>52.000000</td>\n",
       "      <td>39320.000000</td>\n",
       "      <td>6445.000000</td>\n",
       "      <td>35682.000000</td>\n",
       "      <td>6082.000000</td>\n",
       "      <td>15.000100</td>\n",
       "      <td>500001.000000</td>\n",
       "    </tr>\n",
       "  </tbody>\n",
       "</table>\n",
       "</div>"
      ],
      "text/plain": [
       "          longitude      latitude  housing_median_age   total_rooms  \\\n",
       "count  20640.000000  20640.000000        20640.000000  20640.000000   \n",
       "mean    -119.569704     35.631861           28.639486   2635.763081   \n",
       "std        2.003532      2.135952           12.585558   2181.615252   \n",
       "min     -124.350000     32.540000            1.000000      2.000000   \n",
       "25%     -121.800000     33.930000           18.000000   1447.750000   \n",
       "50%     -118.490000     34.260000           29.000000   2127.000000   \n",
       "75%     -118.010000     37.710000           37.000000   3148.000000   \n",
       "max     -114.310000     41.950000           52.000000  39320.000000   \n",
       "\n",
       "       total_bedrooms    population    households  median_income  \\\n",
       "count    20433.000000  20640.000000  20640.000000   20640.000000   \n",
       "mean       537.870553   1425.476744    499.539680       3.870671   \n",
       "std        421.385070   1132.462122    382.329753       1.899822   \n",
       "min          1.000000      3.000000      1.000000       0.499900   \n",
       "25%        296.000000    787.000000    280.000000       2.563400   \n",
       "50%        435.000000   1166.000000    409.000000       3.534800   \n",
       "75%        647.000000   1725.000000    605.000000       4.743250   \n",
       "max       6445.000000  35682.000000   6082.000000      15.000100   \n",
       "\n",
       "       median_house_value  \n",
       "count        20640.000000  \n",
       "mean        206855.816909  \n",
       "std         115395.615874  \n",
       "min          14999.000000  \n",
       "25%         119600.000000  \n",
       "50%         179700.000000  \n",
       "75%         264725.000000  \n",
       "max         500001.000000  "
      ]
     },
     "execution_count": 27,
     "metadata": {},
     "output_type": "execute_result"
    }
   ],
   "source": [
    "housing.describe()"
   ]
  },
  {
   "cell_type": "code",
   "execution_count": 29,
   "metadata": {
    "deletable": false,
    "nbgrader": {
     "cell_type": "code",
     "checksum": "8ac8b140a5abd55c387159b05419926b",
     "grade": true,
     "grade_id": "cell-35c124675987b7aa",
     "locked": false,
     "points": 2,
     "schema_version": 3,
     "solution": true,
     "task": false
    }
   },
   "outputs": [
    {
     "data": {
      "text/plain": [
       "['median_house_value', 'housing_median_age']"
      ]
     },
     "execution_count": 29,
     "metadata": {},
     "output_type": "execute_result"
    }
   ],
   "source": [
    "housing.describe()\n",
    "# YOUR CODE HERE\n",
    "# raise NotImplementedError()\n",
    "capper_columns = [\"median_house_value\",\"housing_median_age\"]\n",
    "capper_columns"
   ]
  },
  {
   "cell_type": "markdown",
   "metadata": {},
   "source": [
    "__Question 4(e)__. __Write some Python code to find out how many districts whose median_house_value are greater or equal (>=) to the max median_house_value__?"
   ]
  },
  {
   "cell_type": "code",
   "execution_count": 34,
   "metadata": {
    "deletable": false,
    "nbgrader": {
     "cell_type": "code",
     "checksum": "82529cf9f5b5da922925121628381d4f",
     "grade": true,
     "grade_id": "cell-807ccfdd010f3fb9",
     "locked": false,
     "points": 2,
     "schema_version": 3,
     "solution": true,
     "task": false
    }
   },
   "outputs": [
    {
     "data": {
      "text/plain": [
       "965"
      ]
     },
     "execution_count": 34,
     "metadata": {},
     "output_type": "execute_result"
    }
   ],
   "source": [
    "max_median_house_value = housing.describe().loc['max', 'median_house_value']\n",
    "# YOUR CODE HERE\n",
    "# raise NotImplementedError()\n",
    "num_expensive_districts = len(housing[housing['median_house_value']>=max_median_house_value])\n",
    "num_expensive_districts\n"
   ]
  },
  {
   "cell_type": "markdown",
   "metadata": {},
   "source": [
    "## 5. Data Query Question (5 points)\n",
    "\n",
    "Write one of your own data query questions that you want to know about the data and provide a solution."
   ]
  },
  {
   "cell_type": "markdown",
   "metadata": {
    "deletable": false,
    "editable": false,
    "nbgrader": {
     "cell_type": "markdown",
     "checksum": "2beb4e7aaf5473959b772a1aa1145977",
     "grade": false,
     "grade_id": "cell-5f7d49888b4aa98d",
     "locked": true,
     "points": 3,
     "schema_version": 3,
     "solution": false,
     "task": true
    }
   },
   "source": [
    "Write your question in this box."
   ]
  },
  {
   "cell_type": "markdown",
   "metadata": {},
   "source": [
    "Query Question: \n",
    "1. Query all districts that have medidan_house_value >= Q1-1.5*(Q3-Q1)  and  <= Q3+1.5*(Q3-Q1), where Q1 and Q3 are the 25% quantile and 75% quantile respectively"
   ]
  },
  {
   "cell_type": "code",
   "execution_count": 32,
   "metadata": {
    "deletable": false,
    "nbgrader": {
     "cell_type": "code",
     "checksum": "eaee47b7dad4e4a1f80078d9f6b90f90",
     "grade": true,
     "grade_id": "cell-8bab77b5ea8f632c",
     "locked": false,
     "points": 2,
     "schema_version": 3,
     "solution": true,
     "task": false
    }
   },
   "outputs": [
    {
     "data": {
      "text/html": [
       "<div>\n",
       "<style scoped>\n",
       "    .dataframe tbody tr th:only-of-type {\n",
       "        vertical-align: middle;\n",
       "    }\n",
       "\n",
       "    .dataframe tbody tr th {\n",
       "        vertical-align: top;\n",
       "    }\n",
       "\n",
       "    .dataframe thead th {\n",
       "        text-align: right;\n",
       "    }\n",
       "</style>\n",
       "<table border=\"1\" class=\"dataframe\">\n",
       "  <thead>\n",
       "    <tr style=\"text-align: right;\">\n",
       "      <th></th>\n",
       "      <th>longitude</th>\n",
       "      <th>latitude</th>\n",
       "      <th>housing_median_age</th>\n",
       "      <th>total_rooms</th>\n",
       "      <th>total_bedrooms</th>\n",
       "      <th>population</th>\n",
       "      <th>households</th>\n",
       "      <th>median_income</th>\n",
       "      <th>median_house_value</th>\n",
       "      <th>ocean_proximity</th>\n",
       "    </tr>\n",
       "  </thead>\n",
       "  <tbody>\n",
       "    <tr>\n",
       "      <th>0</th>\n",
       "      <td>-122.23</td>\n",
       "      <td>37.88</td>\n",
       "      <td>41.0</td>\n",
       "      <td>880.0</td>\n",
       "      <td>129.0</td>\n",
       "      <td>322.0</td>\n",
       "      <td>126.0</td>\n",
       "      <td>8.3252</td>\n",
       "      <td>452600.0</td>\n",
       "      <td>NEAR BAY</td>\n",
       "    </tr>\n",
       "    <tr>\n",
       "      <th>1</th>\n",
       "      <td>-122.22</td>\n",
       "      <td>37.86</td>\n",
       "      <td>21.0</td>\n",
       "      <td>7099.0</td>\n",
       "      <td>1106.0</td>\n",
       "      <td>2401.0</td>\n",
       "      <td>1138.0</td>\n",
       "      <td>8.3014</td>\n",
       "      <td>358500.0</td>\n",
       "      <td>NEAR BAY</td>\n",
       "    </tr>\n",
       "    <tr>\n",
       "      <th>2</th>\n",
       "      <td>-122.24</td>\n",
       "      <td>37.85</td>\n",
       "      <td>52.0</td>\n",
       "      <td>1467.0</td>\n",
       "      <td>190.0</td>\n",
       "      <td>496.0</td>\n",
       "      <td>177.0</td>\n",
       "      <td>7.2574</td>\n",
       "      <td>352100.0</td>\n",
       "      <td>NEAR BAY</td>\n",
       "    </tr>\n",
       "    <tr>\n",
       "      <th>3</th>\n",
       "      <td>-122.25</td>\n",
       "      <td>37.85</td>\n",
       "      <td>52.0</td>\n",
       "      <td>1274.0</td>\n",
       "      <td>235.0</td>\n",
       "      <td>558.0</td>\n",
       "      <td>219.0</td>\n",
       "      <td>5.6431</td>\n",
       "      <td>341300.0</td>\n",
       "      <td>NEAR BAY</td>\n",
       "    </tr>\n",
       "    <tr>\n",
       "      <th>4</th>\n",
       "      <td>-122.25</td>\n",
       "      <td>37.85</td>\n",
       "      <td>52.0</td>\n",
       "      <td>1627.0</td>\n",
       "      <td>280.0</td>\n",
       "      <td>565.0</td>\n",
       "      <td>259.0</td>\n",
       "      <td>3.8462</td>\n",
       "      <td>342200.0</td>\n",
       "      <td>NEAR BAY</td>\n",
       "    </tr>\n",
       "    <tr>\n",
       "      <th>...</th>\n",
       "      <td>...</td>\n",
       "      <td>...</td>\n",
       "      <td>...</td>\n",
       "      <td>...</td>\n",
       "      <td>...</td>\n",
       "      <td>...</td>\n",
       "      <td>...</td>\n",
       "      <td>...</td>\n",
       "      <td>...</td>\n",
       "      <td>...</td>\n",
       "    </tr>\n",
       "    <tr>\n",
       "      <th>20635</th>\n",
       "      <td>-121.09</td>\n",
       "      <td>39.48</td>\n",
       "      <td>25.0</td>\n",
       "      <td>1665.0</td>\n",
       "      <td>374.0</td>\n",
       "      <td>845.0</td>\n",
       "      <td>330.0</td>\n",
       "      <td>1.5603</td>\n",
       "      <td>78100.0</td>\n",
       "      <td>INLAND</td>\n",
       "    </tr>\n",
       "    <tr>\n",
       "      <th>20636</th>\n",
       "      <td>-121.21</td>\n",
       "      <td>39.49</td>\n",
       "      <td>18.0</td>\n",
       "      <td>697.0</td>\n",
       "      <td>150.0</td>\n",
       "      <td>356.0</td>\n",
       "      <td>114.0</td>\n",
       "      <td>2.5568</td>\n",
       "      <td>77100.0</td>\n",
       "      <td>INLAND</td>\n",
       "    </tr>\n",
       "    <tr>\n",
       "      <th>20637</th>\n",
       "      <td>-121.22</td>\n",
       "      <td>39.43</td>\n",
       "      <td>17.0</td>\n",
       "      <td>2254.0</td>\n",
       "      <td>485.0</td>\n",
       "      <td>1007.0</td>\n",
       "      <td>433.0</td>\n",
       "      <td>1.7000</td>\n",
       "      <td>92300.0</td>\n",
       "      <td>INLAND</td>\n",
       "    </tr>\n",
       "    <tr>\n",
       "      <th>20638</th>\n",
       "      <td>-121.32</td>\n",
       "      <td>39.43</td>\n",
       "      <td>18.0</td>\n",
       "      <td>1860.0</td>\n",
       "      <td>409.0</td>\n",
       "      <td>741.0</td>\n",
       "      <td>349.0</td>\n",
       "      <td>1.8672</td>\n",
       "      <td>84700.0</td>\n",
       "      <td>INLAND</td>\n",
       "    </tr>\n",
       "    <tr>\n",
       "      <th>20639</th>\n",
       "      <td>-121.24</td>\n",
       "      <td>39.37</td>\n",
       "      <td>16.0</td>\n",
       "      <td>2785.0</td>\n",
       "      <td>616.0</td>\n",
       "      <td>1387.0</td>\n",
       "      <td>530.0</td>\n",
       "      <td>2.3886</td>\n",
       "      <td>89400.0</td>\n",
       "      <td>INLAND</td>\n",
       "    </tr>\n",
       "  </tbody>\n",
       "</table>\n",
       "<p>19569 rows × 10 columns</p>\n",
       "</div>"
      ],
      "text/plain": [
       "       longitude  latitude  housing_median_age  total_rooms  total_bedrooms  \\\n",
       "0        -122.23     37.88                41.0        880.0           129.0   \n",
       "1        -122.22     37.86                21.0       7099.0          1106.0   \n",
       "2        -122.24     37.85                52.0       1467.0           190.0   \n",
       "3        -122.25     37.85                52.0       1274.0           235.0   \n",
       "4        -122.25     37.85                52.0       1627.0           280.0   \n",
       "...          ...       ...                 ...          ...             ...   \n",
       "20635    -121.09     39.48                25.0       1665.0           374.0   \n",
       "20636    -121.21     39.49                18.0        697.0           150.0   \n",
       "20637    -121.22     39.43                17.0       2254.0           485.0   \n",
       "20638    -121.32     39.43                18.0       1860.0           409.0   \n",
       "20639    -121.24     39.37                16.0       2785.0           616.0   \n",
       "\n",
       "       population  households  median_income  median_house_value  \\\n",
       "0           322.0       126.0         8.3252            452600.0   \n",
       "1          2401.0      1138.0         8.3014            358500.0   \n",
       "2           496.0       177.0         7.2574            352100.0   \n",
       "3           558.0       219.0         5.6431            341300.0   \n",
       "4           565.0       259.0         3.8462            342200.0   \n",
       "...           ...         ...            ...                 ...   \n",
       "20635       845.0       330.0         1.5603             78100.0   \n",
       "20636       356.0       114.0         2.5568             77100.0   \n",
       "20637      1007.0       433.0         1.7000             92300.0   \n",
       "20638       741.0       349.0         1.8672             84700.0   \n",
       "20639      1387.0       530.0         2.3886             89400.0   \n",
       "\n",
       "      ocean_proximity  \n",
       "0            NEAR BAY  \n",
       "1            NEAR BAY  \n",
       "2            NEAR BAY  \n",
       "3            NEAR BAY  \n",
       "4            NEAR BAY  \n",
       "...               ...  \n",
       "20635          INLAND  \n",
       "20636          INLAND  \n",
       "20637          INLAND  \n",
       "20638          INLAND  \n",
       "20639          INLAND  \n",
       "\n",
       "[19569 rows x 10 columns]"
      ]
     },
     "execution_count": 32,
     "metadata": {},
     "output_type": "execute_result"
    }
   ],
   "source": [
    "# Write you answer in this box.\n",
    "# YOUR CODE HERE\n",
    "# raise NotImplementedError()\n",
    "Q1_median_house_value =  housing.describe().loc[\"25%\", \"median_house_value\"]\n",
    "Q3_median_house_value =  housing.describe().loc[\"75%\", \"median_house_value\"]\n",
    "IQR = Q3_median_house_value- Q1_median_house_value\n",
    "lower_bound = Q1_median_house_value - 1.5* IQR\n",
    "upper_bound = Q3_median_house_value + 1.5* IQR\n",
    "\n",
    "inter_range_districts = housing.loc[(housing[\"median_house_value\"] >=lower_bound) & \n",
    "                                    (housing[\"median_house_value\"] <=upper_bound)]\n",
    "inter_range_districts"
   ]
  },
  {
   "cell_type": "code",
   "execution_count": null,
   "metadata": {},
   "outputs": [],
   "source": []
  },
  {
   "cell_type": "markdown",
   "metadata": {},
   "source": [
    "__End of Part A__."
   ]
  }
 ],
 "metadata": {
  "kernelspec": {
   "display_name": "Python 3",
   "language": "python",
   "name": "python3"
  },
  "language_info": {
   "codemirror_mode": {
    "name": "ipython",
    "version": 3
   },
   "file_extension": ".py",
   "mimetype": "text/x-python",
   "name": "python",
   "nbconvert_exporter": "python",
   "pygments_lexer": "ipython3",
   "version": "3.8.3"
  }
 },
 "nbformat": 4,
 "nbformat_minor": 2
}
