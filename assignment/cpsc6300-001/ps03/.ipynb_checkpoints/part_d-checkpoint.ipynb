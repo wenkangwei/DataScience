{
 "cells": [
  {
   "cell_type": "markdown",
   "metadata": {},
   "source": [
    "# CPSC 4300/6300-001 Applied Data Science (Fall 2020)\n",
    "\n",
    "Before you turn this problem in, make sure everything runs as expected. First, **restart the kernel** (in the menubar, select Kernel$\\rightarrow$Restart) and then **run all cells** (in the menubar, select Cell$\\rightarrow$Run All).\n",
    "\n",
    "Make sure you fill in any place that says `YOUR CODE HERE` or \"YOUR ANSWER HERE\", as well as your name and collaborators below:"
   ]
  },
  {
   "cell_type": "code",
   "execution_count": 1,
   "metadata": {},
   "outputs": [],
   "source": [
    "NAME = \"Wenkang Wei\"\n",
    "COLLABORATORS = \"Wenkang Wei\""
   ]
  },
  {
   "cell_type": "markdown",
   "metadata": {},
   "source": [
    "# CPSC4300/6300-001 Problem Set #3¶\n",
    "\n"
   ]
  },
  {
   "cell_type": "markdown",
   "metadata": {},
   "source": [
    "# Part D. Develop Machine Learning Models (85 points)"
   ]
  },
  {
   "cell_type": "code",
   "execution_count": 2,
   "metadata": {
    "deletable": false,
    "editable": false,
    "nbgrader": {
     "cell_type": "code",
     "checksum": "f980e02074b5c5a5b6d9308affa93687",
     "grade": false,
     "grade_id": "cell-3a30ebb6aac475cc",
     "locked": true,
     "schema_version": 3,
     "solution": false,
     "task": false
    }
   },
   "outputs": [],
   "source": [
    "%matplotlib inline\n",
    "\n",
    "import numpy as np\n",
    "import pandas as pd\n",
    "import matplotlib.pyplot as plt\n",
    "import matplotlib as mpt\n",
    "import seaborn as sns\n",
    "\n",
    "from IPython.core.interactiveshell import InteractiveShell\n",
    "InteractiveShell.ast_node_interactivity = \"all\"\n",
    "%matplotlib inline"
   ]
  },
  {
   "cell_type": "markdown",
   "metadata": {
    "deletable": false,
    "editable": false,
    "nbgrader": {
     "cell_type": "markdown",
     "checksum": "413f3c6dc7daaa2828e72d664680bad7",
     "grade": false,
     "grade_id": "cell-48a594b491810ebf",
     "locked": true,
     "schema_version": 3,
     "solution": false,
     "task": false
    }
   },
   "source": [
    "## 1. Load the train and test dataset\n",
    "\n",
    "In Part C, you have prepared a cleaned train data and test data. In this part, you develop machine learning models using the prepared data sets."
   ]
  },
  {
   "cell_type": "code",
   "execution_count": 3,
   "metadata": {
    "deletable": false,
    "editable": false,
    "nbgrader": {
     "cell_type": "code",
     "checksum": "884ce1e70147058f9f116ca3e0b13c9f",
     "grade": false,
     "grade_id": "cell-498c4cd549079b0a",
     "locked": true,
     "schema_version": 3,
     "solution": false,
     "task": false
    }
   },
   "outputs": [],
   "source": [
    "df_train = pd.read_csv(\"input/housing_train_scaled.csv\")\n",
    "df_test = pd.read_csv(\"input/housing_test_scaled.csv\")"
   ]
  },
  {
   "cell_type": "markdown",
   "metadata": {
    "deletable": false,
    "editable": false,
    "nbgrader": {
     "cell_type": "markdown",
     "checksum": "379812034d64c7edb97bfbc9986d6f2c",
     "grade": false,
     "grade_id": "cell-e41af1e1dabf6041",
     "locked": true,
     "schema_version": 3,
     "solution": false,
     "task": false
    }
   },
   "source": [
    "## 2. Create a Data Structure to Keep Model Performance\n",
    "\n",
    "In the model development phase, you may test numerous models. To compare these models, it is beneficial to create some utilities to keep the model performance data. Below is one example. "
   ]
  },
  {
   "cell_type": "code",
   "execution_count": 4,
   "metadata": {
    "deletable": false,
    "editable": false,
    "nbgrader": {
     "cell_type": "code",
     "checksum": "202bc60edda0eb09600caf784b1bb06e",
     "grade": false,
     "grade_id": "cell-707a14491abb29f4",
     "locked": true,
     "schema_version": 3,
     "solution": false,
     "task": false
    }
   },
   "outputs": [],
   "source": [
    "from collections  import defaultdict\n",
    "from sklearn.metrics import mean_squared_error\n",
    "from sklearn.metrics import explained_variance_score\n",
    "from sklearn.metrics import mean_absolute_error\n",
    "from sklearn.metrics import r2_score\n",
    "\n",
    "model_perf = defaultdict(dict)\n",
    "\n",
    "def compute_model_perf(model_name, tag, y_true, y_pred):\n",
    "    model_perf[model_name]['{}.explained_variance'.format(tag)] = explained_variance_score(y_true, y_pred)\n",
    "    model_perf[model_name]['{}.RSME'.format(tag)] = mean_squared_error(y_true, y_pred, squared=False)\n",
    "    model_perf[model_name]['{}.R2'.format(tag)] = r2_score(y_true, y_pred)\n",
    "    model_perf[model_name]['{}.RelativeError'.format(tag)] = mean_absolute_error(y_true/y_true, y_pred/y_true)"
   ]
  },
  {
   "cell_type": "markdown",
   "metadata": {
    "deletable": false,
    "editable": false,
    "nbgrader": {
     "cell_type": "markdown",
     "checksum": "b4c44ad6b5c14511f4f43b1764b122de",
     "grade": false,
     "grade_id": "cell-5b39fb01b30062e4",
     "locked": true,
     "schema_version": 3,
     "solution": false,
     "task": false
    }
   },
   "source": [
    "## 3. Build a base model"
   ]
  },
  {
   "cell_type": "code",
   "execution_count": 5,
   "metadata": {
    "deletable": false,
    "editable": false,
    "nbgrader": {
     "cell_type": "code",
     "checksum": "d30e5054c228439215a0d1136a8fc286",
     "grade": false,
     "grade_id": "cell-51b82b5bd33ce264",
     "locked": true,
     "schema_version": 3,
     "solution": false,
     "task": false
    }
   },
   "outputs": [],
   "source": [
    "from sklearn.linear_model import LinearRegression\n",
    "X_train, y_train = df_train[df_train.columns[:-1]], df_train[df_train.columns[-1]]\n",
    "X_test, y_test = df_test[df_test.columns[:-1]], df_test[df_test.columns[-1]]"
   ]
  },
  {
   "cell_type": "markdown",
   "metadata": {},
   "source": [
    "__Question 3(a).__ Write code to train a linear regression model that uses all the features, save your model to a variable named `base_model`."
   ]
  },
  {
   "cell_type": "code",
   "execution_count": 6,
   "metadata": {
    "deletable": false,
    "nbgrader": {
     "cell_type": "code",
     "checksum": "0bdbfb215fe126c235e47cf025d10c5d",
     "grade": false,
     "grade_id": "cell-392cbf512e706546",
     "locked": false,
     "schema_version": 3,
     "solution": true,
     "task": false
    }
   },
   "outputs": [],
   "source": [
    "# YOUR CODE HERE\n",
    "# raise NotImplementedError()\n",
    "from sklearn.linear_model import LinearRegression\n",
    "lr = LinearRegression()\n",
    "base_model = lr.fit(X_train,y_train)"
   ]
  },
  {
   "cell_type": "code",
   "execution_count": 7,
   "metadata": {},
   "outputs": [
    {
     "data": {
      "text/plain": [
       "(array([-4.84506572e+04, -4.83127847e+04,  8.62051208e+03, -6.49245902e+03,\n",
       "         8.06670617e+03, -3.55749063e+04,  3.78856305e+04,  6.19784384e+04,\n",
       "         4.96649716e+03,  1.29052465e+02,  9.40792418e+03, -4.40265196e+04,\n",
       "        -8.05407545e+04,  2.21351111e+05, -5.77633811e+04, -3.90204552e+04]),\n",
       " 246695.1199555595,\n",
       " 16)"
      ]
     },
     "execution_count": 7,
     "metadata": {},
     "output_type": "execute_result"
    }
   ],
   "source": [
    "base_model.coef_, base_model.intercept_, len(X_train.columns)"
   ]
  },
  {
   "cell_type": "code",
   "execution_count": 8,
   "metadata": {
    "deletable": false,
    "editable": false,
    "nbgrader": {
     "cell_type": "code",
     "checksum": "b6ba0c07da901bd96f062950fa4ea845",
     "grade": true,
     "grade_id": "cell-bd9c9f368d79e6cd",
     "locked": true,
     "points": 1,
     "schema_version": 3,
     "solution": false,
     "task": false
    }
   },
   "outputs": [
    {
     "data": {
      "text/plain": [
       "True"
      ]
     },
     "execution_count": 8,
     "metadata": {},
     "output_type": "execute_result"
    }
   ],
   "source": [
    "isinstance(base_model, LinearRegression)"
   ]
  },
  {
   "cell_type": "code",
   "execution_count": 9,
   "metadata": {
    "deletable": false,
    "editable": false,
    "nbgrader": {
     "cell_type": "code",
     "checksum": "56bfbaa1f1c0a7efcbf4c467b4998734",
     "grade": true,
     "grade_id": "cell-0620c0eedf9c5dff",
     "locked": true,
     "points": 2,
     "schema_version": 3,
     "solution": false,
     "task": false
    }
   },
   "outputs": [],
   "source": [
    "assert isinstance(base_model.coef_, np.ndarray)\n",
    "assert base_model.coef_.shape[0] == X_train.shape[1]"
   ]
  },
  {
   "cell_type": "markdown",
   "metadata": {
    "deletable": false,
    "editable": false,
    "nbgrader": {
     "cell_type": "markdown",
     "checksum": "595a6ae0a1ea9a84f96b8efa313807bc",
     "grade": false,
     "grade_id": "cell-08fe921be9264251",
     "locked": true,
     "schema_version": 3,
     "solution": false,
     "task": false
    }
   },
   "source": [
    "__Question 3(b).__ Write code to compute the compute the following metrics for both the train and test data.\n",
    "\n",
    "+ explained_variance\n",
    "+ root_mean_squared_error\n",
    "+ r2\n",
    "+ mean_relative_error\n",
    "\n",
    "Add the results to the dictionary `model_perf` with `LinearRegressionBase` as the model_name and `Train` and `Test` for the tags of train fit performance and test fit performance respectively.\n",
    "\n",
    "Hint: you can use the `compute_model_perf` utility."
   ]
  },
  {
   "cell_type": "code",
   "execution_count": 10,
   "metadata": {
    "deletable": false,
    "nbgrader": {
     "cell_type": "code",
     "checksum": "5726b8cfb1347c64d8d555caff4430b6",
     "grade": false,
     "grade_id": "cell-cda7ae1cbff6b325",
     "locked": false,
     "schema_version": 3,
     "solution": true,
     "task": false
    }
   },
   "outputs": [],
   "source": [
    "# YOUR CODE HERE\n",
    "# raise NotImplementedError()\n",
    "from sklearn.metrics import r2_score\n",
    "\n",
    "# Predictions\n",
    "y_train_pred = base_model.predict(X_train)\n",
    "y_test_pred = base_model.predict(X_test)\n",
    "\n",
    "\n",
    "compute_model_perf(\"LinearRegression\",\"Train\",y_train, y_train_pred)\n",
    "compute_model_perf(\"LinearRegression\",\"Test\",y_test, y_test_pred)"
   ]
  },
  {
   "cell_type": "code",
   "execution_count": 11,
   "metadata": {},
   "outputs": [
    {
     "data": {
      "text/html": [
       "<div>\n",
       "<style scoped>\n",
       "    .dataframe tbody tr th:only-of-type {\n",
       "        vertical-align: middle;\n",
       "    }\n",
       "\n",
       "    .dataframe tbody tr th {\n",
       "        vertical-align: top;\n",
       "    }\n",
       "\n",
       "    .dataframe thead th {\n",
       "        text-align: right;\n",
       "    }\n",
       "</style>\n",
       "<table border=\"1\" class=\"dataframe\">\n",
       "  <thead>\n",
       "    <tr style=\"text-align: right;\">\n",
       "      <th></th>\n",
       "      <th>Test.R2</th>\n",
       "      <th>Test.RSME</th>\n",
       "      <th>Test.RelativeError</th>\n",
       "      <th>Test.explained_variance</th>\n",
       "      <th>Train.R2</th>\n",
       "      <th>Train.RSME</th>\n",
       "      <th>Train.RelativeError</th>\n",
       "      <th>Train.explained_variance</th>\n",
       "    </tr>\n",
       "  </thead>\n",
       "  <tbody>\n",
       "    <tr>\n",
       "      <th>LinearRegression</th>\n",
       "      <td>0.623428</td>\n",
       "      <td>58049.331092</td>\n",
       "      <td>0.265675</td>\n",
       "      <td>0.623641</td>\n",
       "      <td>0.627973</td>\n",
       "      <td>58664.971038</td>\n",
       "      <td>0.263013</td>\n",
       "      <td>0.627973</td>\n",
       "    </tr>\n",
       "  </tbody>\n",
       "</table>\n",
       "</div>"
      ],
      "text/plain": [
       "                   Test.R2     Test.RSME  Test.RelativeError  \\\n",
       "LinearRegression  0.623428  58049.331092            0.265675   \n",
       "\n",
       "                  Test.explained_variance  Train.R2    Train.RSME  \\\n",
       "LinearRegression                 0.623641  0.627973  58664.971038   \n",
       "\n",
       "                  Train.RelativeError  Train.explained_variance  \n",
       "LinearRegression             0.263013                  0.627973  "
      ]
     },
     "execution_count": 11,
     "metadata": {},
     "output_type": "execute_result"
    }
   ],
   "source": [
    "df_perf = pd.DataFrame(model_perf).T\n",
    "df_perf"
   ]
  },
  {
   "cell_type": "code",
   "execution_count": 12,
   "metadata": {
    "deletable": false,
    "editable": false,
    "nbgrader": {
     "cell_type": "code",
     "checksum": "da380c079c03161eb73906b064a79fa0",
     "grade": true,
     "grade_id": "cell-1afbb00b13da4079",
     "locked": true,
     "points": 4,
     "schema_version": 3,
     "solution": false,
     "task": false
    }
   },
   "outputs": [],
   "source": [
    "tags = np.unique([col.split('.')[0] for col in df_perf.columns])\n",
    "assert 'Train' in tags and 'Test' in tags"
   ]
  },
  {
   "cell_type": "markdown",
   "metadata": {},
   "source": [
    "### Analyze modeling errors\n",
    "\n",
    "Besides the performance metrics we collected above, we can also plot the errors to detect some patterns in the model prediction errors. "
   ]
  },
  {
   "cell_type": "code",
   "execution_count": 13,
   "metadata": {
    "deletable": false,
    "editable": false,
    "nbgrader": {
     "cell_type": "code",
     "checksum": "b113f1cd2e6c9ec132be3ad6a9ba8646",
     "grade": false,
     "grade_id": "cell-563bae9449769d26",
     "locked": true,
     "schema_version": 3,
     "solution": false,
     "task": false
    }
   },
   "outputs": [
    {
     "data": {
      "text/plain": [
       "Text(0, 0.5, 'Absolute Error')"
      ]
     },
     "execution_count": 13,
     "metadata": {},
     "output_type": "execute_result"
    },
    {
     "data": {
      "image/png": "[encoded data removed]",
      "text/plain": [
       "<Figure size 1008x432 with 2 Axes>"
      ]
     },
     "metadata": {
      "needs_background": "light"
     },
     "output_type": "display_data"
    }
   ],
   "source": [
    "fig, ax = plt.subplots(1, 2, figsize=(14, 6))\n",
    "_ = sns.scatterplot(x=y_train, y=(y_train-y_train_pred), ax = ax[0], label='Train')\n",
    "_ = sns.scatterplot(x=y_test, y=(y_test-y_test_pred), ax = ax[0], label='Test')\n",
    "ax[0].set_ylabel('Absolute Error')\n",
    "_ = sns.scatterplot(x=y_train, y=(1.0-y_train_pred/y_train), ax = ax[1], label='Train')\n",
    "_ = sns.scatterplot(x=y_test, y=(1.0-y_test_pred/y_test), ax = ax[1], label='Test')\n",
    "_ = ax[0].set_ylabel('Relative Error')"
   ]
  },
  {
   "cell_type": "markdown",
   "metadata": {},
   "source": [
    "__Question 3(c).__ Based on the above and model performance results and plots, do you think linear regression is a biased model or not? Justify your conclusion. (6 points: 2 point for answer; 4 points for justification)"
   ]
  },
  {
   "cell_type": "markdown",
   "metadata": {
    "deletable": false,
    "editable": false,
    "nbgrader": {
     "cell_type": "markdown",
     "checksum": "17f85e2716af81f1cef4e3af680e7a67",
     "grade": false,
     "grade_id": "cell-7c56d6986adb9db1",
     "locked": true,
     "points": 6,
     "schema_version": 3,
     "solution": false,
     "task": true
    }
   },
   "source": [
    "### Type your answer here\n",
    "1. Is the base linear regression model  biased?\n",
    "2. Justify your conclusion"
   ]
  },
  {
   "cell_type": "markdown",
   "metadata": {},
   "source": [
    "**Q3(c) Answer 1**: linear regression is not a biased model.\n",
    "\n",
    "**Q3(c) Answer 2**:\n",
    "From the model performance plots, we can see the errors of linear model on train set and test set are similar. On the left figure, the aboslute errors of both train data and test data increase gradually as median_house_value increase. On the right figure, the relative errors on both train data and test data are large around 100000 median house value and then get close to 0 as house value increase.\n",
    "\n",
    "Since linear regression model has similar performances on both train set and test set without overfitting to specific features in train data, but capture some general features, it is not a biased model."
   ]
  },
  {
   "cell_type": "markdown",
   "metadata": {},
   "source": [
    "__Question 3(d)__. List one pattern that you have observed in the model prediction errors and describe in which way you may be able to reduce the prediction errors of the base linear regression model. (6 points: 2 points for pattern; 4 points for ways of improvement) "
   ]
  },
  {
   "cell_type": "markdown",
   "metadata": {
    "deletable": false,
    "editable": false,
    "nbgrader": {
     "cell_type": "markdown",
     "checksum": "bee3b481edb889368cb763ad6c014f74",
     "grade": false,
     "grade_id": "cell-74f686027553e1fd",
     "locked": true,
     "points": 6,
     "schema_version": 3,
     "solution": false,
     "task": true
    }
   },
   "source": [
    "### Type your answer here\n",
    "1. Patterns observed\n",
    "2. Ways of improvements"
   ]
  },
  {
   "cell_type": "markdown",
   "metadata": {},
   "source": [
    "**Q3(d) Answers**\n",
    "1. Patterns observed (I think the y label of two figures are wrong. The left figure should be Absolute Error, the right figure should be Relative Error).\n",
    "The patterns I observed are that in the left figure the absolute error increases as the median house value increases and the relative error on the right figure get close to 0 as median house value increases from 100000 to 500000.  The model errors on train data are very similar to errors on test data\n",
    "\n",
    "2. Ways of improvements:\n",
    "To reduce the prediction errors, in data preprocessing step, we can select the most important features from dataset and transform them into new features whose patterns are more obvious to understand and easy to learn. To select the important features, we can use forward / backward selection, feature importance, hypothesis testing methods to find the significant features.\n",
    "On model selection step, we can use stronger learner model to learn the features, such as polynomial regression, neural network. We can also use ensemble learning methods, like bagging, boosting, and cross validation to select better model and improve prediction performance and reduce errors."
   ]
  },
  {
   "cell_type": "markdown",
   "metadata": {},
   "source": [
    "## 4. Hypothesis Tests on the Coefficients"
   ]
  },
  {
   "cell_type": "markdown",
   "metadata": {},
   "source": [
    "__Question 4(a).__ Estimate an ordinary least squares (OLS) linear regression model using the `statsmodels` package and output the model parameters. (4 points)"
   ]
  },
  {
   "cell_type": "code",
   "execution_count": 15,
   "metadata": {
    "deletable": false,
    "nbgrader": {
     "cell_type": "code",
     "checksum": "41b5c5cba0b00de41861c9e1b27a54d9",
     "grade": true,
     "grade_id": "cell-dcefe9ded470a484",
     "locked": false,
     "points": 4,
     "schema_version": 3,
     "solution": true,
     "task": false
    }
   },
   "outputs": [
    {
     "data": {
      "text/html": [
       "<table class=\"simpletable\">\n",
       "<tr>\n",
       "               <td></td>                 <th>coef</th>     <th>std err</th>      <th>t</th>      <th>P>|t|</th>  <th>[0.025</th>    <th>0.975]</th>  \n",
       "</tr>\n",
       "<tr>\n",
       "  <th>const</th>                      <td> 2.056e+05</td> <td> 9799.299</td> <td>   20.979</td> <td> 0.000</td> <td> 1.86e+05</td> <td> 2.25e+05</td>\n",
       "</tr>\n",
       "<tr>\n",
       "  <th>longitude</th>                  <td>-4.845e+04</td> <td> 2047.224</td> <td>  -23.667</td> <td> 0.000</td> <td>-5.25e+04</td> <td>-4.44e+04</td>\n",
       "</tr>\n",
       "<tr>\n",
       "  <th>latitude</th>                   <td>-4.831e+04</td> <td> 2195.382</td> <td>  -22.007</td> <td> 0.000</td> <td>-5.26e+04</td> <td> -4.4e+04</td>\n",
       "</tr>\n",
       "<tr>\n",
       "  <th>housing_median_age</th>         <td> 8620.5121</td> <td>  572.215</td> <td>   15.065</td> <td> 0.000</td> <td> 7498.893</td> <td> 9742.131</td>\n",
       "</tr>\n",
       "<tr>\n",
       "  <th>total_rooms</th>                <td>-6492.4590</td> <td> 2130.109</td> <td>   -3.048</td> <td> 0.002</td> <td>-1.07e+04</td> <td>-2317.159</td>\n",
       "</tr>\n",
       "<tr>\n",
       "  <th>total_bedrooms</th>             <td> 8066.7062</td> <td> 3223.493</td> <td>    2.502</td> <td> 0.012</td> <td> 1748.226</td> <td> 1.44e+04</td>\n",
       "</tr>\n",
       "<tr>\n",
       "  <th>population</th>                 <td>-3.557e+04</td> <td> 1304.071</td> <td>  -27.280</td> <td> 0.000</td> <td>-3.81e+04</td> <td> -3.3e+04</td>\n",
       "</tr>\n",
       "<tr>\n",
       "  <th>households</th>                 <td> 3.789e+04</td> <td> 3080.745</td> <td>   12.298</td> <td> 0.000</td> <td> 3.18e+04</td> <td> 4.39e+04</td>\n",
       "</tr>\n",
       "<tr>\n",
       "  <th>median_income</th>              <td> 6.198e+04</td> <td>  733.483</td> <td>   84.499</td> <td> 0.000</td> <td> 6.05e+04</td> <td> 6.34e+04</td>\n",
       "</tr>\n",
       "<tr>\n",
       "  <th>rooms_per_household</th>        <td> 4966.4972</td> <td>  647.624</td> <td>    7.669</td> <td> 0.000</td> <td> 3697.066</td> <td> 6235.928</td>\n",
       "</tr>\n",
       "<tr>\n",
       "  <th>population_per_household</th>   <td>  129.0525</td> <td>  514.464</td> <td>    0.251</td> <td> 0.802</td> <td> -879.366</td> <td> 1137.470</td>\n",
       "</tr>\n",
       "<tr>\n",
       "  <th>bedrooms_per_room</th>          <td> 9407.9242</td> <td>  762.005</td> <td>   12.346</td> <td> 0.000</td> <td> 7914.291</td> <td> 1.09e+04</td>\n",
       "</tr>\n",
       "<tr>\n",
       "  <th>ocean_proximity_<1H OCEAN</th>  <td>-2910.6663</td> <td> 9819.200</td> <td>   -0.296</td> <td> 0.767</td> <td>-2.22e+04</td> <td> 1.63e+04</td>\n",
       "</tr>\n",
       "<tr>\n",
       "  <th>ocean_proximity_INLAND</th>     <td>-3.942e+04</td> <td> 9893.056</td> <td>   -3.985</td> <td> 0.000</td> <td>-5.88e+04</td> <td>   -2e+04</td>\n",
       "</tr>\n",
       "<tr>\n",
       "  <th>ocean_proximity_ISLAND</th>     <td> 2.625e+05</td> <td> 4.89e+04</td> <td>    5.363</td> <td> 0.000</td> <td> 1.67e+05</td> <td> 3.58e+05</td>\n",
       "</tr>\n",
       "<tr>\n",
       "  <th>ocean_proximity_NEAR BAY</th>   <td>-1.665e+04</td> <td> 9928.185</td> <td>   -1.677</td> <td> 0.094</td> <td>-3.61e+04</td> <td> 2813.051</td>\n",
       "</tr>\n",
       "<tr>\n",
       "  <th>ocean_proximity_NEAR OCEAN</th> <td> 2095.3981</td> <td> 9867.805</td> <td>    0.212</td> <td> 0.832</td> <td>-1.72e+04</td> <td> 2.14e+04</td>\n",
       "</tr>\n",
       "</table>"
      ],
      "text/plain": [
       "<class 'statsmodels.iolib.table.SimpleTable'>"
      ]
     },
     "execution_count": 15,
     "metadata": {},
     "output_type": "execute_result"
    }
   ],
   "source": [
    "import statsmodels.api as sm\n",
    "import statsmodels.formula.api as smf\n",
    "\n",
    "# YOUR CODE HERE\n",
    "# raise NotImplementedError()\n",
    "model = sm.OLS(y_train,sm.add_constant(X_train))\n",
    "base_ols_model = model.fit()\n",
    "\n",
    "base_ols_model.summary().tables[1]"
   ]
  },
  {
   "cell_type": "markdown",
   "metadata": {},
   "source": [
    "__Question 4(b).__ Based on the t-statistic and p-value in the output of 4(a), which feature would be most irrelevant in the base regression model? Explain why? (6 points: 2 points for identify the feature; 4 points for explanation)"
   ]
  },
  {
   "cell_type": "markdown",
   "metadata": {
    "deletable": false,
    "editable": false,
    "nbgrader": {
     "cell_type": "markdown",
     "checksum": "f48635e2a90cb2a2597fcf7526b580d1",
     "grade": false,
     "grade_id": "cell-8e7580589baeb784",
     "locked": true,
     "points": 6,
     "schema_version": 3,
     "solution": false,
     "task": true
    }
   },
   "source": [
    "### Type your answer here\n",
    "1. Irrelevant feature identified\n",
    "2. Explain"
   ]
  },
  {
   "cell_type": "markdown",
   "metadata": {},
   "source": [
    "**Q4(b) Answer:** \n",
    "\n",
    "1. The most irrelevant feature is ocean_proximity_NEAR OCEAN.\n",
    "2. The reason is that it use t-statistic test with null hypothesis H0 that the feature is irrelative to target or the weight of current feature $\\beta_0$ =0. As the P-value of the t-statistic value is far away from 0 and falls into the rejection region $\\alpha$, we will reject H0 and consider there is relationship between feature and target. Otherwise, if p-value is large, it is not strong enough to reject H0. Here we can see  ocean_proximity_NEAR OCEAN has the largest P-value 0.832, hence it could be most irrelevant to the target"
   ]
  },
  {
   "cell_type": "markdown",
   "metadata": {},
   "source": [
    "## 5. Feature Selection\n",
    "\n",
    "Feature selection is an important component in model development. In this question, we apply univariate F-test statistics and mutual information to the housing data."
   ]
  },
  {
   "cell_type": "code",
   "execution_count": 16,
   "metadata": {
    "deletable": false,
    "editable": false,
    "nbgrader": {
     "cell_type": "code",
     "checksum": "62785391206d2096a2db12ed896fa094",
     "grade": false,
     "grade_id": "cell-96520bf666c74739",
     "locked": true,
     "schema_version": 3,
     "solution": false,
     "task": false
    }
   },
   "outputs": [],
   "source": [
    "from sklearn.feature_selection import f_regression\n",
    "from sklearn.feature_selection import mutual_info_regression\n",
    "\n",
    "f_test, pval = f_regression(X_train, y_train)\n",
    "\n",
    "mi = mutual_info_regression(X_train, y_train)\n",
    "\n",
    "df_features = pd.DataFrame({'f_test': pd.Series(f_test, index=X_train.columns), \n",
    "                   #'pval': pd.Series(pval, index=X_train.columns),\n",
    "                   'mi': pd.Series(mi, index=X_train.columns)\n",
    "                  })\n",
    "df_features['f_test'] = df_features['f_test']/df_features['f_test'].max()\n",
    "df_features['mi'] = df_features['mi']/df_features['mi'].max()"
   ]
  },
  {
   "cell_type": "code",
   "execution_count": 17,
   "metadata": {
    "deletable": false,
    "editable": false,
    "nbgrader": {
     "cell_type": "code",
     "checksum": "9ba165ddeeb118c34836cf1b70067958",
     "grade": false,
     "grade_id": "cell-e2e827dca388aaf4",
     "locked": true,
     "schema_version": 3,
     "solution": false,
     "task": false
    }
   },
   "outputs": [
    {
     "data": {
      "text/html": [
       "<div>\n",
       "<style scoped>\n",
       "    .dataframe tbody tr th:only-of-type {\n",
       "        vertical-align: middle;\n",
       "    }\n",
       "\n",
       "    .dataframe tbody tr th {\n",
       "        vertical-align: top;\n",
       "    }\n",
       "\n",
       "    .dataframe thead th {\n",
       "        text-align: right;\n",
       "    }\n",
       "</style>\n",
       "<table border=\"1\" class=\"dataframe\">\n",
       "  <thead>\n",
       "    <tr style=\"text-align: right;\">\n",
       "      <th></th>\n",
       "      <th>f_test</th>\n",
       "      <th>mi</th>\n",
       "    </tr>\n",
       "  </thead>\n",
       "  <tbody>\n",
       "    <tr>\n",
       "      <th>longitude</th>\n",
       "      <td>0.000599</td>\n",
       "      <td>1.000000</td>\n",
       "    </tr>\n",
       "    <tr>\n",
       "      <th>median_income</th>\n",
       "      <td>1.000000</td>\n",
       "      <td>0.927698</td>\n",
       "    </tr>\n",
       "    <tr>\n",
       "      <th>latitude</th>\n",
       "      <td>0.040175</td>\n",
       "      <td>0.889037</td>\n",
       "    </tr>\n",
       "    <tr>\n",
       "      <th>ocean_proximity_INLAND</th>\n",
       "      <td>0.431597</td>\n",
       "      <td>0.537011</td>\n",
       "    </tr>\n",
       "    <tr>\n",
       "      <th>bedrooms_per_room</th>\n",
       "      <td>0.057689</td>\n",
       "      <td>0.317410</td>\n",
       "    </tr>\n",
       "    <tr>\n",
       "      <th>ocean_proximity_&lt;1H OCEAN</th>\n",
       "      <td>0.142302</td>\n",
       "      <td>0.298317</td>\n",
       "    </tr>\n",
       "    <tr>\n",
       "      <th>rooms_per_household</th>\n",
       "      <td>0.015135</td>\n",
       "      <td>0.235672</td>\n",
       "    </tr>\n",
       "    <tr>\n",
       "      <th>population_per_household</th>\n",
       "      <td>0.000454</td>\n",
       "      <td>0.194759</td>\n",
       "    </tr>\n",
       "    <tr>\n",
       "      <th>total_rooms</th>\n",
       "      <td>0.028993</td>\n",
       "      <td>0.081764</td>\n",
       "    </tr>\n",
       "    <tr>\n",
       "      <th>households</th>\n",
       "      <td>0.011847</td>\n",
       "      <td>0.066066</td>\n",
       "    </tr>\n",
       "    <tr>\n",
       "      <th>total_bedrooms</th>\n",
       "      <td>0.007478</td>\n",
       "      <td>0.054049</td>\n",
       "    </tr>\n",
       "    <tr>\n",
       "      <th>housing_median_age</th>\n",
       "      <td>0.000639</td>\n",
       "      <td>0.043784</td>\n",
       "    </tr>\n",
       "    <tr>\n",
       "      <th>ocean_proximity_NEAR OCEAN</th>\n",
       "      <td>0.026599</td>\n",
       "      <td>0.039717</td>\n",
       "    </tr>\n",
       "    <tr>\n",
       "      <th>population</th>\n",
       "      <td>0.000324</td>\n",
       "      <td>0.034312</td>\n",
       "    </tr>\n",
       "    <tr>\n",
       "      <th>ocean_proximity_NEAR BAY</th>\n",
       "      <td>0.019364</td>\n",
       "      <td>0.020112</td>\n",
       "    </tr>\n",
       "    <tr>\n",
       "      <th>ocean_proximity_ISLAND</th>\n",
       "      <td>0.000678</td>\n",
       "      <td>0.000633</td>\n",
       "    </tr>\n",
       "  </tbody>\n",
       "</table>\n",
       "</div>"
      ],
      "text/plain": [
       "                              f_test        mi\n",
       "longitude                   0.000599  1.000000\n",
       "median_income               1.000000  0.927698\n",
       "latitude                    0.040175  0.889037\n",
       "ocean_proximity_INLAND      0.431597  0.537011\n",
       "bedrooms_per_room           0.057689  0.317410\n",
       "ocean_proximity_<1H OCEAN   0.142302  0.298317\n",
       "rooms_per_household         0.015135  0.235672\n",
       "population_per_household    0.000454  0.194759\n",
       "total_rooms                 0.028993  0.081764\n",
       "households                  0.011847  0.066066\n",
       "total_bedrooms              0.007478  0.054049\n",
       "housing_median_age          0.000639  0.043784\n",
       "ocean_proximity_NEAR OCEAN  0.026599  0.039717\n",
       "population                  0.000324  0.034312\n",
       "ocean_proximity_NEAR BAY    0.019364  0.020112\n",
       "ocean_proximity_ISLAND      0.000678  0.000633"
      ]
     },
     "execution_count": 17,
     "metadata": {},
     "output_type": "execute_result"
    }
   ],
   "source": [
    "df_features.sort_values(by='mi', ascending=False)"
   ]
  },
  {
   "cell_type": "code",
   "execution_count": 18,
   "metadata": {
    "deletable": false,
    "editable": false,
    "nbgrader": {
     "cell_type": "code",
     "checksum": "8580d2683f82206e30f84a636ed2e8ad",
     "grade": false,
     "grade_id": "cell-8c20cb635b79cfe6",
     "locked": true,
     "schema_version": 3,
     "solution": false,
     "task": false
    }
   },
   "outputs": [
    {
     "data": {
      "text/plain": [
       "<matplotlib.axes._subplots.AxesSubplot at 0x7f8206c59df0>"
      ]
     },
     "execution_count": 18,
     "metadata": {},
     "output_type": "execute_result"
    },
    {
     "data": {
      "image/png": "[encoded data removed]",
      "text/plain": [
       "<Figure size 432x288 with 1 Axes>"
      ]
     },
     "metadata": {
      "needs_background": "light"
     },
     "output_type": "display_data"
    }
   ],
   "source": [
    "df_features.sort_values(by='mi', ascending=True)[['f_test', 'mi']].plot.barh()"
   ]
  },
  {
   "cell_type": "markdown",
   "metadata": {},
   "source": [
    "#### __Question 5(a).__ Brief describe what F-Test in regression is? (4 points)"
   ]
  },
  {
   "cell_type": "markdown",
   "metadata": {
    "deletable": false,
    "editable": false,
    "nbgrader": {
     "cell_type": "markdown",
     "checksum": "7df3349d2a6af86beb339562d9c83da9",
     "grade": false,
     "grade_id": "cell-7a16616148d6f749",
     "locked": true,
     "points": 4,
     "schema_version": 3,
     "solution": false,
     "task": true
    }
   },
   "source": [
    "### Type your answer here\n",
    "what is F_Test?"
   ]
  },
  {
   "cell_type": "markdown",
   "metadata": {},
   "source": [
    "**Q5(a) Answer**:\n",
    "\n",
    "F-test is to measure the ratio of explained variability over unexplained variability of model. If the F-statistic value is equal to  1, then it means the null hypothesis that there is no relationship between feature and target can not be rejected and hence we consider the feature is irrelevant to target. Otherwise, if F-statistic value is > 1, then we will reject null hypothesis H0 and choose alternative hypothesis H1"
   ]
  },
  {
   "cell_type": "markdown",
   "metadata": {},
   "source": [
    "__Question 5(b).__ Write some code to find the top 5 most discriminative features according to their F-Test scores? (3 points)"
   ]
  },
  {
   "cell_type": "code",
   "execution_count": 32,
   "metadata": {
    "deletable": false,
    "nbgrader": {
     "cell_type": "code",
     "checksum": "dd6bb0e3c3c7264e9413788c4af6e790",
     "grade": true,
     "grade_id": "cell-f0200ab1937a3b64",
     "locked": false,
     "points": 3,
     "schema_version": 3,
     "solution": true,
     "task": false
    }
   },
   "outputs": [
    {
     "data": {
      "text/plain": [
       "7                 median_income\n",
       "12       ocean_proximity_INLAND\n",
       "11    ocean_proximity_<1H OCEAN\n",
       "10            bedrooms_per_room\n",
       "1                      latitude\n",
       "Name: feature, dtype: object"
      ]
     },
     "execution_count": 32,
     "metadata": {},
     "output_type": "execute_result"
    }
   ],
   "source": [
    "# YOUR CODE HERE\n",
    "# raise NotImplementedError()\n",
    "# features.sort_values(by=\"f_test\",ascending=False)\n",
    "features_df = pd.DataFrame({ 'feature':X_train.columns, 'f_test': f_test,  'mi': mi\n",
    "                  })\n",
    "\n",
    "top5_features = features_df.sort_values(by=\"f_test\",ascending=False).iloc[:5]\n",
    "top5_features[\"feature\"]"
   ]
  },
  {
   "cell_type": "markdown",
   "metadata": {},
   "source": [
    "**Q5 (b) Answer**: \n",
    "According to the f-test score, the top 5 discriminative features are median_income,ocean_proximity_INLAND,ocean_proximity_<1H OCEAN, bedrooms_per_room, latitude,  since their f-score are largest and >1, which indicates that null hypothesis is rejected and we choose H1 that there are relationship between features and target"
   ]
  },
  {
   "cell_type": "markdown",
   "metadata": {},
   "source": [
    "__Question 5(c)__ Modify the following code to assess the linear regression models that use the set of discriminative features sorted by the feature's __F-Test__ scores and __mutual information (MI)__ scores. (5 points)\n",
    "\n",
    "```\n",
    "y =  df_train[df_train.columns[-1]]\n",
    "y_test = df_test[df_test.columns[-1]]\n",
    "model_perf = defaultdict(dict)\n",
    "\n",
    "metric = 'f_test'\n",
    "for n_features in range(2, len(df_train.columns)):\n",
    "    features = list(df_features.sort_values(by=metric, ascending=False).iloc[:n_features].index)\n",
    "   \n",
    "    model_name = metric + \"-{}\".format(n_features)\n",
    "    model = LinearRegression()\n",
    "    \n",
    "    X = df_train[features]\n",
    "    _ = model.fit(X, y)    \n",
    "    y_train_pred = model.predict(X)    \n",
    "    \n",
    "    X_test = df_test[features]\n",
    "    y_test_pred = model.predict(X_test)\n",
    "    \n",
    "    compute_model_perf(model_name, 'Train', y, y_train_pred)\n",
    "    compute_model_perf(model_name, 'Test', y_test, y_test_pred)\n",
    "```"
   ]
  },
  {
   "cell_type": "code",
   "execution_count": 36,
   "metadata": {
    "deletable": false,
    "nbgrader": {
     "cell_type": "code",
     "checksum": "ba6b4baa3d10ed40e43af9860c4cab01",
     "grade": true,
     "grade_id": "cell-756e1cd7e24e3813",
     "locked": false,
     "points": 5,
     "schema_version": 3,
     "solution": true,
     "task": false
    }
   },
   "outputs": [],
   "source": [
    "# YOUR CODE HERE\n",
    "# raise NotImplementedError()\n",
    "y =  df_train[df_train.columns[-1]]\n",
    "y_test = df_test[df_test.columns[-1]]\n",
    "model_perf = defaultdict(dict)\n",
    "\n",
    "metrics = ['f_test','mi']\n",
    "for metric in metrics:\n",
    "    for n_features in range(2, len(df_train.columns)):\n",
    "        features = list(df_features.sort_values(by=metric, ascending=False).iloc[:n_features].index)\n",
    "\n",
    "        model_name = metric+ \"-{}\".format(n_features)\n",
    "        model = LinearRegression()\n",
    "\n",
    "        X = df_train[features]\n",
    "        _ = model.fit(X, y)    \n",
    "        y_train_pred = model.predict(X)    \n",
    "\n",
    "        X_test = df_test[features]\n",
    "        y_test_pred = model.predict(X_test)\n",
    "\n",
    "        compute_model_perf(model_name, 'Train', y, y_train_pred)\n",
    "        compute_model_perf(model_name, 'Test', y_test, y_test_pred)"
   ]
  },
  {
   "cell_type": "code",
   "execution_count": 37,
   "metadata": {
    "deletable": false,
    "editable": false,
    "nbgrader": {
     "cell_type": "code",
     "checksum": "5c516c4813278ad6ebfcd931b1615c44",
     "grade": false,
     "grade_id": "cell-7606a0403bb35189",
     "locked": true,
     "schema_version": 3,
     "solution": false,
     "task": false
    }
   },
   "outputs": [
    {
     "data": {
      "image/png": "[encoded data removed]",
      "text/plain": [
       "<Figure size 576x432 with 1 Axes>"
      ]
     },
     "metadata": {
      "needs_background": "light"
     },
     "output_type": "display_data"
    }
   ],
   "source": [
    "df_perf = pd.DataFrame(model_perf).T\n",
    "\n",
    "index = pd.MultiIndex.from_tuples([(a[0], int(a[1])) for a in df_perf.index.str.split('-')])\n",
    "df2 = df_perf.set_index(index)\n",
    "df_r2 = pd.DataFrame({'f_test': df2.loc['f_test', 'Test.R2'], 'mi': df2.loc['mi', 'Test.R2']})\n",
    "fig, ax = plt.subplots(1, 1, figsize=(8, 6))\n",
    "_ = df_r2.plot.bar(ax=ax)\n",
    "_ = ax.set_xlabel('n_features')\n",
    "_ = ax.set_ylabel('Test.R2')\n",
    "_ = ax.set_ylim(0.4, 0.7)\n",
    "_ = ax.set_title('Test.R2 Under Different Set of Features')"
   ]
  },
  {
   "cell_type": "markdown",
   "metadata": {},
   "source": [
    "## 6. Nonlinear Regression Models\n",
    "\n",
    "__Question 6(a).__ The error plots in question 3 indicate a non-linear relationship between the features and the target variable. Complete the following code to perform a polynomial regression. (5 points)"
   ]
  },
  {
   "cell_type": "code",
   "execution_count": 46,
   "metadata": {},
   "outputs": [
    {
     "data": {
      "text/plain": [
       "(Index(['longitude', 'latitude', 'housing_median_age', 'total_rooms',\n",
       "        'total_bedrooms', 'population', 'households', 'median_income',\n",
       "        'rooms_per_household', 'population_per_household', 'bedrooms_per_room',\n",
       "        'ocean_proximity_<1H OCEAN', 'ocean_proximity_INLAND',\n",
       "        'ocean_proximity_ISLAND', 'ocean_proximity_NEAR BAY',\n",
       "        'ocean_proximity_NEAR OCEAN', 'median_house_value'],\n",
       "       dtype='object'),\n",
       " Index(['longitude', 'latitude', 'housing_median_age', 'total_rooms',\n",
       "        'total_bedrooms', 'population', 'households', 'median_income',\n",
       "        'rooms_per_household', 'population_per_household', 'bedrooms_per_room',\n",
       "        'ocean_proximity_<1H OCEAN', 'ocean_proximity_INLAND',\n",
       "        'ocean_proximity_ISLAND', 'ocean_proximity_NEAR BAY',\n",
       "        'ocean_proximity_NEAR OCEAN'],\n",
       "       dtype='object'))"
      ]
     },
     "execution_count": 46,
     "metadata": {},
     "output_type": "execute_result"
    }
   ],
   "source": [
    "df_train.columns,df_train.columns[:-1]"
   ]
  },
  {
   "cell_type": "code",
   "execution_count": 58,
   "metadata": {
    "deletable": false,
    "nbgrader": {
     "cell_type": "code",
     "checksum": "86722dbca91a6c1f6b56abb87c5b5305",
     "grade": true,
     "grade_id": "cell-ff284c9999260a56",
     "locked": false,
     "points": 5,
     "schema_version": 3,
     "solution": true,
     "task": false
    }
   },
   "outputs": [
    {
     "data": {
      "text/plain": [
       "LinearRegression()"
      ]
     },
     "execution_count": 58,
     "metadata": {},
     "output_type": "execute_result"
    },
    {
     "data": {
      "text/plain": [
       "LinearRegression()"
      ]
     },
     "execution_count": 58,
     "metadata": {},
     "output_type": "execute_result"
    },
    {
     "data": {
      "text/plain": [
       "LinearRegression()"
      ]
     },
     "execution_count": 58,
     "metadata": {},
     "output_type": "execute_result"
    }
   ],
   "source": [
    "from sklearn.preprocessing import PolynomialFeatures\n",
    "from sklearn.pipeline import make_pipeline\n",
    "from sklearn.linear_model import LinearRegression\n",
    "y =  df_train[df_train.columns[-1]]\n",
    "y_test = df_test[df_test.columns[-1]]\n",
    "model_perf = defaultdict(dict)\n",
    "\n",
    "for deg in range(1, 4):\n",
    "# YOUR CODE HERE\n",
    "# raise NotImplementedError()\n",
    "    X_train = df_train[df_train.columns[:-1]]\n",
    "    X_test =df_test[df_test.columns[:-1]]\n",
    "    \n",
    "    model = PolynomialFeatures(degree=deg,include_bias=True)\n",
    "    _ = model.fit(X_train)\n",
    "    X_train = model.transform(X_train)\n",
    "    X_test = model.transform(X_test)\n",
    "    \n",
    "    # polynominal regression\n",
    "    lr_model = LinearRegression()\n",
    "    lr_model.fit(X_train, y)\n",
    "    y_train_pred = lr_model.predict(X_train)\n",
    "    y_test_pred = lr_model.predict(X_test)\n",
    "    \n",
    "    model_name = \"Polynominal Regression\"+\"-degree-\"+str(deg)\n",
    "    compute_model_perf(model_name, 'Train', y, y_train_pred)\n",
    "    compute_model_perf(model_name, 'Test', y_test, y_test_pred)\n",
    "    \n",
    "df_perf = pd.DataFrame(model_perf).T"
   ]
  },
  {
   "cell_type": "code",
   "execution_count": 59,
   "metadata": {},
   "outputs": [
    {
     "data": {
      "text/html": [
       "<div>\n",
       "<style scoped>\n",
       "    .dataframe tbody tr th:only-of-type {\n",
       "        vertical-align: middle;\n",
       "    }\n",
       "\n",
       "    .dataframe tbody tr th {\n",
       "        vertical-align: top;\n",
       "    }\n",
       "\n",
       "    .dataframe thead th {\n",
       "        text-align: right;\n",
       "    }\n",
       "</style>\n",
       "<table border=\"1\" class=\"dataframe\">\n",
       "  <thead>\n",
       "    <tr style=\"text-align: right;\">\n",
       "      <th></th>\n",
       "      <th>Train.explained_variance</th>\n",
       "      <th>Train.RSME</th>\n",
       "      <th>Train.R2</th>\n",
       "      <th>Train.RelativeError</th>\n",
       "      <th>Test.explained_variance</th>\n",
       "      <th>Test.RSME</th>\n",
       "      <th>Test.R2</th>\n",
       "      <th>Test.RelativeError</th>\n",
       "    </tr>\n",
       "  </thead>\n",
       "  <tbody>\n",
       "    <tr>\n",
       "      <th>Polynominal Regression-degree-1</th>\n",
       "      <td>0.627973</td>\n",
       "      <td>58664.971038</td>\n",
       "      <td>0.627973</td>\n",
       "      <td>0.263013</td>\n",
       "      <td>6.236406e-01</td>\n",
       "      <td>5.804933e+04</td>\n",
       "      <td>6.234285e-01</td>\n",
       "      <td>0.265675</td>\n",
       "    </tr>\n",
       "    <tr>\n",
       "      <th>Polynominal Regression-degree-2</th>\n",
       "      <td>0.703172</td>\n",
       "      <td>52401.534268</td>\n",
       "      <td>0.703172</td>\n",
       "      <td>0.231242</td>\n",
       "      <td>6.897855e-01</td>\n",
       "      <td>5.269286e+04</td>\n",
       "      <td>6.897180e-01</td>\n",
       "      <td>0.231251</td>\n",
       "    </tr>\n",
       "    <tr>\n",
       "      <th>Polynominal Regression-degree-3</th>\n",
       "      <td>0.771377</td>\n",
       "      <td>45988.739181</td>\n",
       "      <td>0.771377</td>\n",
       "      <td>0.195013</td>\n",
       "      <td>-1.788208e+10</td>\n",
       "      <td>1.265113e+10</td>\n",
       "      <td>-1.788594e+10</td>\n",
       "      <td>646.016178</td>\n",
       "    </tr>\n",
       "  </tbody>\n",
       "</table>\n",
       "</div>"
      ],
      "text/plain": [
       "                                 Train.explained_variance    Train.RSME  \\\n",
       "Polynominal Regression-degree-1                  0.627973  58664.971038   \n",
       "Polynominal Regression-degree-2                  0.703172  52401.534268   \n",
       "Polynominal Regression-degree-3                  0.771377  45988.739181   \n",
       "\n",
       "                                 Train.R2  Train.RelativeError  \\\n",
       "Polynominal Regression-degree-1  0.627973             0.263013   \n",
       "Polynominal Regression-degree-2  0.703172             0.231242   \n",
       "Polynominal Regression-degree-3  0.771377             0.195013   \n",
       "\n",
       "                                 Test.explained_variance     Test.RSME  \\\n",
       "Polynominal Regression-degree-1             6.236406e-01  5.804933e+04   \n",
       "Polynominal Regression-degree-2             6.897855e-01  5.269286e+04   \n",
       "Polynominal Regression-degree-3            -1.788208e+10  1.265113e+10   \n",
       "\n",
       "                                      Test.R2  Test.RelativeError  \n",
       "Polynominal Regression-degree-1  6.234285e-01            0.265675  \n",
       "Polynominal Regression-degree-2  6.897180e-01            0.231251  \n",
       "Polynominal Regression-degree-3 -1.788594e+10          646.016178  "
      ]
     },
     "execution_count": 59,
     "metadata": {},
     "output_type": "execute_result"
    }
   ],
   "source": [
    "df_perf = pd.DataFrame(model_perf).T\n",
    "df_perf"
   ]
  },
  {
   "cell_type": "markdown",
   "metadata": {},
   "source": [
    "__Question 6(b)__. In the above results, `Train.R2` descreases as the order of the polynomial increases. Does that mean it is beneficial to use a higher order polynomial in the regression? Justify your answer. (6 points: 2 points for correct answer; 4 points for justification)"
   ]
  },
  {
   "cell_type": "markdown",
   "metadata": {
    "deletable": false,
    "editable": false,
    "nbgrader": {
     "cell_type": "markdown",
     "checksum": "b22550212707f535517110d7afe554de",
     "grade": false,
     "grade_id": "cell-53950e14ad8efa63",
     "locked": true,
     "points": 6,
     "schema_version": 3,
     "solution": false,
     "task": true
    }
   },
   "source": [
    "### Type your answer here\n",
    "1. Is a higher order polynomial preferable?\n",
    "2. Justification"
   ]
  },
  {
   "cell_type": "markdown",
   "metadata": {},
   "source": [
    "**Q6(b) answer:**\n",
    "1. higher order polynomial is not preferable\n",
    "2. Since higher order polynomial of regression can make the model capture more specific patterns and easier to over-fit on training set and , which could decrease the performance on test set."
   ]
  },
  {
   "cell_type": "markdown",
   "metadata": {},
   "source": [
    "## 7. K-Nearest Neighbors Regression\n",
    "\n",
    "The k-nearest neighbors (___k_-NN__) algorithm is a type of instance-based learning where the function is only approximated locally and all computation is deferred until function evaluation."
   ]
  },
  {
   "cell_type": "markdown",
   "metadata": {},
   "source": [
    "__Question 7(a)__. Complete the following code to assess the performance of ___k_-NN__ regression on the housing data. (5 points)"
   ]
  },
  {
   "cell_type": "code",
   "execution_count": 55,
   "metadata": {
    "deletable": false,
    "nbgrader": {
     "cell_type": "code",
     "checksum": "464e61ea4727b0c2614ff723182adaf3",
     "grade": true,
     "grade_id": "cell-ed6617a45bf6264d",
     "locked": false,
     "points": 5,
     "schema_version": 3,
     "solution": true,
     "task": false
    }
   },
   "outputs": [],
   "source": [
    "from sklearn.neighbors import KNeighborsRegressor\n",
    "\n",
    "model_perf = defaultdict(dict)\n",
    "\n",
    "y = df_train[df_train.columns[-1]]\n",
    "y_test = df_test[df_test.columns[-1]]\n",
    "\n",
    "features = df_train.columns[:-1]\n",
    "X = df_train[features]\n",
    "X_test = df_test[features]\n",
    "\n",
    "for n_neighbors in range(1, 16):\n",
    "    \n",
    "    knn_model = KNeighborsRegressor(n_neighbors)\n",
    "    _= knn_model.fit(X, y)\n",
    "    y_train_pred = knn_model.predict(X)\n",
    "    y_test_pred = knn_model.predict(X_test)\n",
    "    \n",
    "    model_name = str(n_neighbors)\n",
    "    compute_model_perf(model_name, 'Train', y, y_train_pred)\n",
    "    compute_model_perf(model_name, 'Test', y_test, y_test_pred)\n",
    "    \n",
    "# YOUR CODE HERE\n",
    "# raise NotImplementedError()"
   ]
  },
  {
   "cell_type": "code",
   "execution_count": 56,
   "metadata": {},
   "outputs": [
    {
     "data": {
      "text/html": [
       "<div>\n",
       "<style scoped>\n",
       "    .dataframe tbody tr th:only-of-type {\n",
       "        vertical-align: middle;\n",
       "    }\n",
       "\n",
       "    .dataframe tbody tr th {\n",
       "        vertical-align: top;\n",
       "    }\n",
       "\n",
       "    .dataframe thead th {\n",
       "        text-align: right;\n",
       "    }\n",
       "</style>\n",
       "<table border=\"1\" class=\"dataframe\">\n",
       "  <thead>\n",
       "    <tr style=\"text-align: right;\">\n",
       "      <th></th>\n",
       "      <th>Train.explained_variance</th>\n",
       "      <th>Train.RSME</th>\n",
       "      <th>Train.R2</th>\n",
       "      <th>Train.RelativeError</th>\n",
       "      <th>Test.explained_variance</th>\n",
       "      <th>Test.RSME</th>\n",
       "      <th>Test.R2</th>\n",
       "      <th>Test.RelativeError</th>\n",
       "    </tr>\n",
       "  </thead>\n",
       "  <tbody>\n",
       "    <tr>\n",
       "      <th>1</th>\n",
       "      <td>1.000000</td>\n",
       "      <td>0.000000</td>\n",
       "      <td>1.000000</td>\n",
       "      <td>0.000000</td>\n",
       "      <td>0.491638</td>\n",
       "      <td>67467.299980</td>\n",
       "      <td>0.491326</td>\n",
       "      <td>0.260043</td>\n",
       "    </tr>\n",
       "    <tr>\n",
       "      <th>2</th>\n",
       "      <td>0.875081</td>\n",
       "      <td>34006.032641</td>\n",
       "      <td>0.874995</td>\n",
       "      <td>0.130286</td>\n",
       "      <td>0.608664</td>\n",
       "      <td>59184.697468</td>\n",
       "      <td>0.608554</td>\n",
       "      <td>0.236638</td>\n",
       "    </tr>\n",
       "    <tr>\n",
       "      <th>3</th>\n",
       "      <td>0.831288</td>\n",
       "      <td>39534.010737</td>\n",
       "      <td>0.831050</td>\n",
       "      <td>0.154598</td>\n",
       "      <td>0.653785</td>\n",
       "      <td>55671.779890</td>\n",
       "      <td>0.653644</td>\n",
       "      <td>0.225142</td>\n",
       "    </tr>\n",
       "    <tr>\n",
       "      <th>4</th>\n",
       "      <td>0.804285</td>\n",
       "      <td>42586.379078</td>\n",
       "      <td>0.803954</td>\n",
       "      <td>0.168132</td>\n",
       "      <td>0.668511</td>\n",
       "      <td>54481.462608</td>\n",
       "      <td>0.668296</td>\n",
       "      <td>0.221162</td>\n",
       "    </tr>\n",
       "    <tr>\n",
       "      <th>5</th>\n",
       "      <td>0.788061</td>\n",
       "      <td>44318.028621</td>\n",
       "      <td>0.787686</td>\n",
       "      <td>0.175369</td>\n",
       "      <td>0.677938</td>\n",
       "      <td>53706.395307</td>\n",
       "      <td>0.677667</td>\n",
       "      <td>0.218115</td>\n",
       "    </tr>\n",
       "    <tr>\n",
       "      <th>6</th>\n",
       "      <td>0.776722</td>\n",
       "      <td>45486.603495</td>\n",
       "      <td>0.776342</td>\n",
       "      <td>0.180458</td>\n",
       "      <td>0.682704</td>\n",
       "      <td>53304.842390</td>\n",
       "      <td>0.682469</td>\n",
       "      <td>0.216396</td>\n",
       "    </tr>\n",
       "    <tr>\n",
       "      <th>7</th>\n",
       "      <td>0.766517</td>\n",
       "      <td>46516.896060</td>\n",
       "      <td>0.766095</td>\n",
       "      <td>0.185216</td>\n",
       "      <td>0.687118</td>\n",
       "      <td>52938.281115</td>\n",
       "      <td>0.686821</td>\n",
       "      <td>0.215480</td>\n",
       "    </tr>\n",
       "    <tr>\n",
       "      <th>8</th>\n",
       "      <td>0.759256</td>\n",
       "      <td>47235.090949</td>\n",
       "      <td>0.758817</td>\n",
       "      <td>0.188303</td>\n",
       "      <td>0.688194</td>\n",
       "      <td>52846.542057</td>\n",
       "      <td>0.687905</td>\n",
       "      <td>0.215679</td>\n",
       "    </tr>\n",
       "    <tr>\n",
       "      <th>9</th>\n",
       "      <td>0.753071</td>\n",
       "      <td>47837.309911</td>\n",
       "      <td>0.752628</td>\n",
       "      <td>0.190942</td>\n",
       "      <td>0.691453</td>\n",
       "      <td>52571.109809</td>\n",
       "      <td>0.691150</td>\n",
       "      <td>0.215117</td>\n",
       "    </tr>\n",
       "    <tr>\n",
       "      <th>10</th>\n",
       "      <td>0.746831</td>\n",
       "      <td>48439.505274</td>\n",
       "      <td>0.746361</td>\n",
       "      <td>0.193562</td>\n",
       "      <td>0.691683</td>\n",
       "      <td>52553.605238</td>\n",
       "      <td>0.691356</td>\n",
       "      <td>0.215418</td>\n",
       "    </tr>\n",
       "    <tr>\n",
       "      <th>11</th>\n",
       "      <td>0.742887</td>\n",
       "      <td>48817.337610</td>\n",
       "      <td>0.742388</td>\n",
       "      <td>0.195184</td>\n",
       "      <td>0.690066</td>\n",
       "      <td>52693.442183</td>\n",
       "      <td>0.689711</td>\n",
       "      <td>0.216196</td>\n",
       "    </tr>\n",
       "    <tr>\n",
       "      <th>12</th>\n",
       "      <td>0.738757</td>\n",
       "      <td>49207.352344</td>\n",
       "      <td>0.738256</td>\n",
       "      <td>0.197190</td>\n",
       "      <td>0.691223</td>\n",
       "      <td>52593.020191</td>\n",
       "      <td>0.690893</td>\n",
       "      <td>0.216151</td>\n",
       "    </tr>\n",
       "    <tr>\n",
       "      <th>13</th>\n",
       "      <td>0.735628</td>\n",
       "      <td>49500.295244</td>\n",
       "      <td>0.735130</td>\n",
       "      <td>0.198564</td>\n",
       "      <td>0.691136</td>\n",
       "      <td>52598.861674</td>\n",
       "      <td>0.690824</td>\n",
       "      <td>0.216789</td>\n",
       "    </tr>\n",
       "    <tr>\n",
       "      <th>14</th>\n",
       "      <td>0.731366</td>\n",
       "      <td>49899.158803</td>\n",
       "      <td>0.730844</td>\n",
       "      <td>0.200367</td>\n",
       "      <td>0.689704</td>\n",
       "      <td>52718.195529</td>\n",
       "      <td>0.689420</td>\n",
       "      <td>0.217477</td>\n",
       "    </tr>\n",
       "    <tr>\n",
       "      <th>15</th>\n",
       "      <td>0.728746</td>\n",
       "      <td>50143.336923</td>\n",
       "      <td>0.728204</td>\n",
       "      <td>0.201599</td>\n",
       "      <td>0.690276</td>\n",
       "      <td>52666.190809</td>\n",
       "      <td>0.690032</td>\n",
       "      <td>0.217473</td>\n",
       "    </tr>\n",
       "  </tbody>\n",
       "</table>\n",
       "</div>"
      ],
      "text/plain": [
       "    Train.explained_variance    Train.RSME  Train.R2  Train.RelativeError  \\\n",
       "1                   1.000000      0.000000  1.000000             0.000000   \n",
       "2                   0.875081  34006.032641  0.874995             0.130286   \n",
       "3                   0.831288  39534.010737  0.831050             0.154598   \n",
       "4                   0.804285  42586.379078  0.803954             0.168132   \n",
       "5                   0.788061  44318.028621  0.787686             0.175369   \n",
       "6                   0.776722  45486.603495  0.776342             0.180458   \n",
       "7                   0.766517  46516.896060  0.766095             0.185216   \n",
       "8                   0.759256  47235.090949  0.758817             0.188303   \n",
       "9                   0.753071  47837.309911  0.752628             0.190942   \n",
       "10                  0.746831  48439.505274  0.746361             0.193562   \n",
       "11                  0.742887  48817.337610  0.742388             0.195184   \n",
       "12                  0.738757  49207.352344  0.738256             0.197190   \n",
       "13                  0.735628  49500.295244  0.735130             0.198564   \n",
       "14                  0.731366  49899.158803  0.730844             0.200367   \n",
       "15                  0.728746  50143.336923  0.728204             0.201599   \n",
       "\n",
       "    Test.explained_variance     Test.RSME   Test.R2  Test.RelativeError  \n",
       "1                  0.491638  67467.299980  0.491326            0.260043  \n",
       "2                  0.608664  59184.697468  0.608554            0.236638  \n",
       "3                  0.653785  55671.779890  0.653644            0.225142  \n",
       "4                  0.668511  54481.462608  0.668296            0.221162  \n",
       "5                  0.677938  53706.395307  0.677667            0.218115  \n",
       "6                  0.682704  53304.842390  0.682469            0.216396  \n",
       "7                  0.687118  52938.281115  0.686821            0.215480  \n",
       "8                  0.688194  52846.542057  0.687905            0.215679  \n",
       "9                  0.691453  52571.109809  0.691150            0.215117  \n",
       "10                 0.691683  52553.605238  0.691356            0.215418  \n",
       "11                 0.690066  52693.442183  0.689711            0.216196  \n",
       "12                 0.691223  52593.020191  0.690893            0.216151  \n",
       "13                 0.691136  52598.861674  0.690824            0.216789  \n",
       "14                 0.689704  52718.195529  0.689420            0.217477  \n",
       "15                 0.690276  52666.190809  0.690032            0.217473  "
      ]
     },
     "execution_count": 56,
     "metadata": {},
     "output_type": "execute_result"
    }
   ],
   "source": [
    "df_perf = pd.DataFrame(model_perf).T\n",
    "df_perf"
   ]
  },
  {
   "cell_type": "code",
   "execution_count": 57,
   "metadata": {},
   "outputs": [
    {
     "data": {
      "image/png": "[encoded data removed]",
      "text/plain": [
       "<Figure size 576x432 with 1 Axes>"
      ]
     },
     "metadata": {
      "needs_background": "light"
     },
     "output_type": "display_data"
    }
   ],
   "source": [
    "fig, ax = plt.subplots(1, 1, figsize=(8, 6))\n",
    "_ = df_perf[['Train.R2', 'Test.R2']].plot.bar(ax=ax)\n",
    "_ = ax.set_xlabel('n_neighbors')\n",
    "_ = ax.set_ylabel('Test.R2')\n",
    "_ = ax.set_title('Test.R2 Under Different Set of Features')"
   ]
  },
  {
   "cell_type": "markdown",
   "metadata": {},
   "source": [
    "__Question 7(b)__. What pattern(s) have you observed from the above results? Explain why such pattern or patterns occur. (6 points: 2 points for pattern; 4 points for explanation)"
   ]
  },
  {
   "cell_type": "markdown",
   "metadata": {
    "deletable": false,
    "editable": false,
    "nbgrader": {
     "cell_type": "markdown",
     "checksum": "3aea5dd6a855b3a4dbc136c557c2bacf",
     "grade": false,
     "grade_id": "cell-f8c004f8aaf45730",
     "locked": true,
     "points": 6,
     "schema_version": 3,
     "solution": false,
     "task": true
    }
   },
   "source": [
    "### Type your answer here\n",
    "1. Pattern\n",
    "2. Explain"
   ]
  },
  {
   "cell_type": "markdown",
   "metadata": {},
   "source": [
    "**Q7(b)Answer:**\n",
    "1. One pattern is that as the number of neighbors increases, the R2 value on training set decreases and then become flat. The second pattern is that the R2 value on test set increases as the number of neighbors increase and then become flat as well. The last pattern I observe is that the R2 value on test set is always smaller than R2 value on train set.\n",
    "\n",
    "2. Explanation:  R2 statistic is to measure the proportion of variability  in target Y  that can be explained using input features. As the number of neighbors and votes increases, the model is generalized better and captures the more general patterns on training set, which can reduce the overfitting effect of model in training set and the residual error of model due to unmeasured factors on training set increases. Hence, the R2 value on training set decrease. \n",
    "Moreover, as the model is generalized as the number of neighbors increases, this also help model perform better on test data with smaller and residual error of model due to unmeasured factors on test set becomes small"
   ]
  },
  {
   "cell_type": "markdown",
   "metadata": {},
   "source": [
    "__Question 7(c)__. In the above study, we use the scaled data set. Assume we use a non-scaled data set in ___k_-NN__ regression. How do you expect the model performance change? Explain why.  (6 point: 2 points for possible change; 4 points for explanation)"
   ]
  },
  {
   "cell_type": "markdown",
   "metadata": {
    "deletable": false,
    "editable": false,
    "nbgrader": {
     "cell_type": "markdown",
     "checksum": "083b7662477190cad38fd039bdc4d88b",
     "grade": false,
     "grade_id": "cell-b9e692a9ac45c402",
     "locked": true,
     "points": 6,
     "schema_version": 3,
     "solution": false,
     "task": true
    }
   },
   "source": [
    "### Type your answer here\n",
    "1. Change\n",
    "2. Explain"
   ]
  },
  {
   "cell_type": "markdown",
   "metadata": {},
   "source": [
    "**Q7(c) Answer**:\n",
    "1. The possible change of KNN regression could be that the patterns in features can be distoted and make output of KNN-regression shift a lot due to different range of features. The final error could increases and R2 value could decrease.\n",
    "\n",
    "2. As KNN-Regression model does regression task based on distance between input feature and other neighbor features near the input feature, (KNN regression takes the K neighbors nearest to input data based on distance and then compute the average of neighbors). If data is not normalized before training KNN regression, the variance of distance between the input and other neighbor could be large. The model is also hard to pick the best neighbors that minimize the prediction error due to the different range."
   ]
  },
  {
   "cell_type": "markdown",
   "metadata": {},
   "source": [
    "## 8. Random Forest Regression\n",
    "\n",
    "Random forests regression is an ensemble learning method that operates by constructing multiple decision trees and outputs the  mean/average prediction of the individual trees."
   ]
  },
  {
   "cell_type": "markdown",
   "metadata": {},
   "source": [
    "__Question 8(a)__. Complete the following code to assess the performance of Random Forest Regression on the housing data. (5 poinst)"
   ]
  },
  {
   "cell_type": "code",
   "execution_count": 70,
   "metadata": {
    "deletable": false,
    "nbgrader": {
     "cell_type": "code",
     "checksum": "917557a42dbdb4f2ddeeb932875fb30b",
     "grade": true,
     "grade_id": "cell-25e49cfb4f0eac2b",
     "locked": false,
     "points": 5,
     "schema_version": 3,
     "solution": true,
     "task": false
    }
   },
   "outputs": [],
   "source": [
    "from sklearn.ensemble import RandomForestRegressor\n",
    "\n",
    "model_perf = defaultdict(dict)\n",
    "\n",
    "y = df_train[df_train.columns[-1]]\n",
    "y_test = df_test[df_test.columns[-1]]\n",
    "\n",
    "features = df_train.columns[:-1]\n",
    "X = df_train[features]\n",
    "X_test = df_test[features]\n",
    "\n",
    "for n_estimators in [10, 50, 100, 200]:\n",
    "    rf_model = RandomForestRegressor(n_estimators = n_estimators)\n",
    "    _ = rf_model.fit(X,y)\n",
    "    y_train_pred = rf_model.predict(X)\n",
    "    y_test_pred = rf_model.predict(X_test)\n",
    "    model_name =\"n_estimators-\" + str(n_estimators)\n",
    "    \n",
    "    compute_model_perf(model_name, 'Train', y, y_train_pred)\n",
    "    compute_model_perf(model_name, 'Test', y_test, y_test_pred)\n",
    "# YOUR CODE HERE\n",
    "# raise NotImplementedError()"
   ]
  },
  {
   "cell_type": "code",
   "execution_count": 71,
   "metadata": {},
   "outputs": [
    {
     "data": {
      "text/html": [
       "<div>\n",
       "<style scoped>\n",
       "    .dataframe tbody tr th:only-of-type {\n",
       "        vertical-align: middle;\n",
       "    }\n",
       "\n",
       "    .dataframe tbody tr th {\n",
       "        vertical-align: top;\n",
       "    }\n",
       "\n",
       "    .dataframe thead th {\n",
       "        text-align: right;\n",
       "    }\n",
       "</style>\n",
       "<table border=\"1\" class=\"dataframe\">\n",
       "  <thead>\n",
       "    <tr style=\"text-align: right;\">\n",
       "      <th></th>\n",
       "      <th>Train.explained_variance</th>\n",
       "      <th>Train.RSME</th>\n",
       "      <th>Train.R2</th>\n",
       "      <th>Train.RelativeError</th>\n",
       "      <th>Test.explained_variance</th>\n",
       "      <th>Test.RSME</th>\n",
       "      <th>Test.R2</th>\n",
       "      <th>Test.RelativeError</th>\n",
       "    </tr>\n",
       "  </thead>\n",
       "  <tbody>\n",
       "    <tr>\n",
       "      <th>n_estimators-10</th>\n",
       "      <td>0.956844</td>\n",
       "      <td>19984.002389</td>\n",
       "      <td>0.956830</td>\n",
       "      <td>0.073386</td>\n",
       "      <td>0.760139</td>\n",
       "      <td>46361.578153</td>\n",
       "      <td>0.759802</td>\n",
       "      <td>0.186132</td>\n",
       "    </tr>\n",
       "    <tr>\n",
       "      <th>n_estimators-50</th>\n",
       "      <td>0.968648</td>\n",
       "      <td>17034.377782</td>\n",
       "      <td>0.968633</td>\n",
       "      <td>0.065695</td>\n",
       "      <td>0.781982</td>\n",
       "      <td>44200.679329</td>\n",
       "      <td>0.781671</td>\n",
       "      <td>0.176610</td>\n",
       "    </tr>\n",
       "    <tr>\n",
       "      <th>n_estimators-100</th>\n",
       "      <td>0.969987</td>\n",
       "      <td>16665.989368</td>\n",
       "      <td>0.969975</td>\n",
       "      <td>0.064603</td>\n",
       "      <td>0.781325</td>\n",
       "      <td>44262.751962</td>\n",
       "      <td>0.781058</td>\n",
       "      <td>0.176464</td>\n",
       "    </tr>\n",
       "    <tr>\n",
       "      <th>n_estimators-200</th>\n",
       "      <td>0.970520</td>\n",
       "      <td>16517.058122</td>\n",
       "      <td>0.970509</td>\n",
       "      <td>0.064126</td>\n",
       "      <td>0.783782</td>\n",
       "      <td>44017.891475</td>\n",
       "      <td>0.783473</td>\n",
       "      <td>0.175245</td>\n",
       "    </tr>\n",
       "  </tbody>\n",
       "</table>\n",
       "</div>"
      ],
      "text/plain": [
       "                  Train.explained_variance    Train.RSME  Train.R2  \\\n",
       "n_estimators-10                   0.956844  19984.002389  0.956830   \n",
       "n_estimators-50                   0.968648  17034.377782  0.968633   \n",
       "n_estimators-100                  0.969987  16665.989368  0.969975   \n",
       "n_estimators-200                  0.970520  16517.058122  0.970509   \n",
       "\n",
       "                  Train.RelativeError  Test.explained_variance     Test.RSME  \\\n",
       "n_estimators-10              0.073386                 0.760139  46361.578153   \n",
       "n_estimators-50              0.065695                 0.781982  44200.679329   \n",
       "n_estimators-100             0.064603                 0.781325  44262.751962   \n",
       "n_estimators-200             0.064126                 0.783782  44017.891475   \n",
       "\n",
       "                   Test.R2  Test.RelativeError  \n",
       "n_estimators-10   0.759802            0.186132  \n",
       "n_estimators-50   0.781671            0.176610  \n",
       "n_estimators-100  0.781058            0.176464  \n",
       "n_estimators-200  0.783473            0.175245  "
      ]
     },
     "execution_count": 71,
     "metadata": {},
     "output_type": "execute_result"
    }
   ],
   "source": [
    "df_perf = pd.DataFrame(model_perf).T\n",
    "df_perf"
   ]
  },
  {
   "cell_type": "markdown",
   "metadata": {},
   "source": [
    "__Question 8(b)__. Brief describe any observation(s) you have regarding the model performance of the Random Forest Regression. (6 Points)"
   ]
  },
  {
   "cell_type": "markdown",
   "metadata": {
    "deletable": false,
    "editable": false,
    "nbgrader": {
     "cell_type": "markdown",
     "checksum": "cac9314c9f207b05e582f316f96b4d21",
     "grade": false,
     "grade_id": "cell-8765841bb347d744",
     "locked": true,
     "points": 6,
     "schema_version": 3,
     "solution": false,
     "task": true
    }
   },
   "source": [
    "### Type your answer here"
   ]
  },
  {
   "cell_type": "markdown",
   "metadata": {},
   "source": [
    "**Q8(b) Answer:**\n",
    "In the performance of random forest regression, as the number of estimators increase, exxplained variance, R2 value of both train set and test increases slightly, while the root mean square error, relative error and relateive error of both train set and test set decrease. This implies that when the number of estimators in random forest increases, it fits the train dataset better and also performs well on both train set and test set without overfitting. \n",
    "In addition, as the R2 statistic measures the proportion of the variability in Y that can be explained using X, when R2 value increases in both test set and train set, it means the random forest model can better understand the variability in Y using features and better fits the data."
   ]
  },
  {
   "cell_type": "markdown",
   "metadata": {},
   "source": [
    "### Model Persistence\n",
    "\n",
    "Model development is a time consuming process. When you have developed a good model, you should save the model and load it for prediction."
   ]
  },
  {
   "cell_type": "code",
   "execution_count": 62,
   "metadata": {},
   "outputs": [
    {
     "data": {
      "text/plain": [
       "RandomForestRegressor(n_estimators=200)"
      ]
     },
     "execution_count": 62,
     "metadata": {},
     "output_type": "execute_result"
    }
   ],
   "source": [
    "# Create a model \n",
    "from sklearn.ensemble import RandomForestRegressor\n",
    "\n",
    "features = df_train.columns[:-1]\n",
    "X = df_train[features]\n",
    "y = df_train[df_train.columns[-1]]\n",
    "\n",
    "model_rf200 = RandomForestRegressor(n_estimators=200)\n",
    "model_rf200.fit(X, y)"
   ]
  },
  {
   "cell_type": "code",
   "execution_count": 63,
   "metadata": {},
   "outputs": [
    {
     "data": {
      "text/plain": [
       "['models/model_rs200.joblib']"
      ]
     },
     "execution_count": 63,
     "metadata": {},
     "output_type": "execute_result"
    }
   ],
   "source": [
    "# Save the model using joblib.dump(); to load the saved model, use joblib.load()\n",
    "import joblib\n",
    "joblib.dump(model_rf200, \"models/model_rs200.joblib\")"
   ]
  },
  {
   "cell_type": "code",
   "execution_count": 64,
   "metadata": {},
   "outputs": [
    {
     "data": {
      "text/html": [
       "<div>\n",
       "<style scoped>\n",
       "    .dataframe tbody tr th:only-of-type {\n",
       "        vertical-align: middle;\n",
       "    }\n",
       "\n",
       "    .dataframe tbody tr th {\n",
       "        vertical-align: top;\n",
       "    }\n",
       "\n",
       "    .dataframe thead th {\n",
       "        text-align: right;\n",
       "    }\n",
       "</style>\n",
       "<table border=\"1\" class=\"dataframe\">\n",
       "  <thead>\n",
       "    <tr style=\"text-align: right;\">\n",
       "      <th></th>\n",
       "      <th>longitude</th>\n",
       "      <th>latitude</th>\n",
       "      <th>housing_median_age</th>\n",
       "      <th>total_rooms</th>\n",
       "      <th>total_bedrooms</th>\n",
       "      <th>population</th>\n",
       "      <th>households</th>\n",
       "      <th>median_income</th>\n",
       "      <th>rooms_per_household</th>\n",
       "      <th>population_per_household</th>\n",
       "      <th>bedrooms_per_room</th>\n",
       "      <th>ocean_proximity_&lt;1H OCEAN</th>\n",
       "      <th>ocean_proximity_INLAND</th>\n",
       "      <th>ocean_proximity_ISLAND</th>\n",
       "      <th>ocean_proximity_NEAR BAY</th>\n",
       "      <th>ocean_proximity_NEAR OCEAN</th>\n",
       "    </tr>\n",
       "  </thead>\n",
       "  <tbody>\n",
       "    <tr>\n",
       "      <th>0</th>\n",
       "      <td>0.915691</td>\n",
       "      <td>-0.674107</td>\n",
       "      <td>-0.700419</td>\n",
       "      <td>0.602277</td>\n",
       "      <td>0.016307</td>\n",
       "      <td>0.042643</td>\n",
       "      <td>0.001980</td>\n",
       "      <td>1.521327</td>\n",
       "      <td>1.002861</td>\n",
       "      <td>-0.013167</td>\n",
       "      <td>-1.207005</td>\n",
       "      <td>0</td>\n",
       "      <td>1</td>\n",
       "      <td>0</td>\n",
       "      <td>0</td>\n",
       "      <td>0</td>\n",
       "    </tr>\n",
       "    <tr>\n",
       "      <th>1</th>\n",
       "      <td>0.768668</td>\n",
       "      <td>-0.669447</td>\n",
       "      <td>-1.224248</td>\n",
       "      <td>0.540694</td>\n",
       "      <td>0.385095</td>\n",
       "      <td>0.690767</td>\n",
       "      <td>0.650020</td>\n",
       "      <td>0.553560</td>\n",
       "      <td>-0.124839</td>\n",
       "      <td>-0.011903</td>\n",
       "      <td>-0.490694</td>\n",
       "      <td>0</td>\n",
       "      <td>1</td>\n",
       "      <td>0</td>\n",
       "      <td>0</td>\n",
       "      <td>0</td>\n",
       "    </tr>\n",
       "    <tr>\n",
       "      <th>2</th>\n",
       "      <td>0.221132</td>\n",
       "      <td>-0.128817</td>\n",
       "      <td>-1.486162</td>\n",
       "      <td>-0.831327</td>\n",
       "      <td>-0.948216</td>\n",
       "      <td>-0.874963</td>\n",
       "      <td>-0.868985</td>\n",
       "      <td>0.291121</td>\n",
       "      <td>-0.244126</td>\n",
       "      <td>-0.045908</td>\n",
       "      <td>-0.615101</td>\n",
       "      <td>0</td>\n",
       "      <td>1</td>\n",
       "      <td>0</td>\n",
       "      <td>0</td>\n",
       "      <td>0</td>\n",
       "    </tr>\n",
       "    <tr>\n",
       "      <th>3</th>\n",
       "      <td>0.565877</td>\n",
       "      <td>-0.734695</td>\n",
       "      <td>0.085324</td>\n",
       "      <td>0.190218</td>\n",
       "      <td>0.174697</td>\n",
       "      <td>-0.265215</td>\n",
       "      <td>0.128996</td>\n",
       "      <td>-0.282541</td>\n",
       "      <td>0.056428</td>\n",
       "      <td>-0.086110</td>\n",
       "      <td>-0.217034</td>\n",
       "      <td>1</td>\n",
       "      <td>0</td>\n",
       "      <td>0</td>\n",
       "      <td>0</td>\n",
       "      <td>0</td>\n",
       "    </tr>\n",
       "    <tr>\n",
       "      <th>4</th>\n",
       "      <td>0.545597</td>\n",
       "      <td>-0.711392</td>\n",
       "      <td>0.696458</td>\n",
       "      <td>-0.093696</td>\n",
       "      <td>0.068316</td>\n",
       "      <td>-0.363287</td>\n",
       "      <td>0.118627</td>\n",
       "      <td>0.214433</td>\n",
       "      <td>-0.388978</td>\n",
       "      <td>-0.101549</td>\n",
       "      <td>0.305279</td>\n",
       "      <td>1</td>\n",
       "      <td>0</td>\n",
       "      <td>0</td>\n",
       "      <td>0</td>\n",
       "      <td>0</td>\n",
       "    </tr>\n",
       "  </tbody>\n",
       "</table>\n",
       "</div>"
      ],
      "text/plain": [
       "   longitude  latitude  housing_median_age  total_rooms  total_bedrooms  \\\n",
       "0   0.915691 -0.674107           -0.700419     0.602277        0.016307   \n",
       "1   0.768668 -0.669447           -1.224248     0.540694        0.385095   \n",
       "2   0.221132 -0.128817           -1.486162    -0.831327       -0.948216   \n",
       "3   0.565877 -0.734695            0.085324     0.190218        0.174697   \n",
       "4   0.545597 -0.711392            0.696458    -0.093696        0.068316   \n",
       "\n",
       "   population  households  median_income  rooms_per_household  \\\n",
       "0    0.042643    0.001980       1.521327             1.002861   \n",
       "1    0.690767    0.650020       0.553560            -0.124839   \n",
       "2   -0.874963   -0.868985       0.291121            -0.244126   \n",
       "3   -0.265215    0.128996      -0.282541             0.056428   \n",
       "4   -0.363287    0.118627       0.214433            -0.388978   \n",
       "\n",
       "   population_per_household  bedrooms_per_room  ocean_proximity_<1H OCEAN  \\\n",
       "0                 -0.013167          -1.207005                          0   \n",
       "1                 -0.011903          -0.490694                          0   \n",
       "2                 -0.045908          -0.615101                          0   \n",
       "3                 -0.086110          -0.217034                          1   \n",
       "4                 -0.101549           0.305279                          1   \n",
       "\n",
       "   ocean_proximity_INLAND  ocean_proximity_ISLAND  ocean_proximity_NEAR BAY  \\\n",
       "0                       1                       0                         0   \n",
       "1                       1                       0                         0   \n",
       "2                       1                       0                         0   \n",
       "3                       0                       0                         0   \n",
       "4                       0                       0                         0   \n",
       "\n",
       "   ocean_proximity_NEAR OCEAN  \n",
       "0                           0  \n",
       "1                           0  \n",
       "2                           0  \n",
       "3                           0  \n",
       "4                           0  "
      ]
     },
     "execution_count": 64,
     "metadata": {},
     "output_type": "execute_result"
    }
   ],
   "source": [
    "# Load the predict data\n",
    "df_to_predict = pd.read_csv(\"input/housing_prediction_scaled.csv\")\n",
    "df_to_predict"
   ]
  },
  {
   "cell_type": "markdown",
   "metadata": {},
   "source": [
    "__Question 8(c)__. Load the saved model `models/model_rs200.joblib` and apply the model to predict the median housing price of some unknown blocks stored in `../input/housing_prediction_scaled.csv`. Save your results to y_predict. (5 points)"
   ]
  },
  {
   "cell_type": "code",
   "execution_count": 67,
   "metadata": {
    "deletable": false,
    "nbgrader": {
     "cell_type": "code",
     "checksum": "7589f10d27ad2f931a9c5df8350efead",
     "grade": true,
     "grade_id": "cell-1d11f074f89ff1cc",
     "locked": false,
     "points": 5,
     "schema_version": 3,
     "solution": true,
     "task": false
    }
   },
   "outputs": [],
   "source": [
    "# YOUR CODE HERE\n",
    "# raise NotImplementedError()\n",
    "model = joblib.load(\"models/model_rs200.joblib\")\n",
    "y_predict = model.predict(df_to_predict)"
   ]
  },
  {
   "cell_type": "markdown",
   "metadata": {},
   "source": [
    "If you are interest in seeing the performance of your model, you can peek the actual value as follows."
   ]
  },
  {
   "cell_type": "code",
   "execution_count": 68,
   "metadata": {},
   "outputs": [
    {
     "data": {
      "text/html": [
       "<div>\n",
       "<style scoped>\n",
       "    .dataframe tbody tr th:only-of-type {\n",
       "        vertical-align: middle;\n",
       "    }\n",
       "\n",
       "    .dataframe tbody tr th {\n",
       "        vertical-align: top;\n",
       "    }\n",
       "\n",
       "    .dataframe thead th {\n",
       "        text-align: right;\n",
       "    }\n",
       "</style>\n",
       "<table border=\"1\" class=\"dataframe\">\n",
       "  <thead>\n",
       "    <tr style=\"text-align: right;\">\n",
       "      <th></th>\n",
       "      <th>Actual</th>\n",
       "      <th>Predict</th>\n",
       "      <th>Absolute_Error</th>\n",
       "      <th>Relative_Error</th>\n",
       "    </tr>\n",
       "  </thead>\n",
       "  <tbody>\n",
       "    <tr>\n",
       "      <th>0</th>\n",
       "      <td>254100.0</td>\n",
       "      <td>246426.0</td>\n",
       "      <td>-7674.0</td>\n",
       "      <td>-0.030201</td>\n",
       "    </tr>\n",
       "    <tr>\n",
       "      <th>1</th>\n",
       "      <td>184500.0</td>\n",
       "      <td>193075.0</td>\n",
       "      <td>8575.0</td>\n",
       "      <td>0.046477</td>\n",
       "    </tr>\n",
       "    <tr>\n",
       "      <th>2</th>\n",
       "      <td>102900.0</td>\n",
       "      <td>102001.5</td>\n",
       "      <td>-898.5</td>\n",
       "      <td>-0.008732</td>\n",
       "    </tr>\n",
       "    <tr>\n",
       "      <th>3</th>\n",
       "      <td>301000.0</td>\n",
       "      <td>297148.0</td>\n",
       "      <td>-3852.0</td>\n",
       "      <td>-0.012797</td>\n",
       "    </tr>\n",
       "    <tr>\n",
       "      <th>4</th>\n",
       "      <td>412500.0</td>\n",
       "      <td>386160.5</td>\n",
       "      <td>-26339.5</td>\n",
       "      <td>-0.063853</td>\n",
       "    </tr>\n",
       "  </tbody>\n",
       "</table>\n",
       "</div>"
      ],
      "text/plain": [
       "     Actual   Predict  Absolute_Error  Relative_Error\n",
       "0  254100.0  246426.0         -7674.0       -0.030201\n",
       "1  184500.0  193075.0          8575.0        0.046477\n",
       "2  102900.0  102001.5          -898.5       -0.008732\n",
       "3  301000.0  297148.0         -3852.0       -0.012797\n",
       "4  412500.0  386160.5        -26339.5       -0.063853"
      ]
     },
     "execution_count": 68,
     "metadata": {},
     "output_type": "execute_result"
    }
   ],
   "source": [
    "y_actual = pd.read_csv(\"input/housing_prediction_scaled_y.csv\")['median_house_value']\n",
    "df_predict = pd.DataFrame({'Actual': y_actual, 'Predict': y_predict})\n",
    "df_predict['Absolute_Error'] = df_predict['Predict'] - df_predict['Actual']\n",
    "df_predict['Relative_Error'] = df_predict['Absolute_Error'] / df_predict['Actual']\n",
    "\n",
    "df_predict"
   ]
  },
  {
   "cell_type": "code",
   "execution_count": 69,
   "metadata": {},
   "outputs": [],
   "source": [
    "# Remove the model file\n",
    "import os\n",
    "os.remove(\"models/model_rs200.joblib\")\n",
    "assert not os.path.exists(\"models/model_rs200.joblib\")"
   ]
  },
  {
   "cell_type": "markdown",
   "metadata": {},
   "source": [
    "__Congratulations! You have done such a wonderful job that your model actually beats the experts. That should make your boss happy and consider offering you a raise.__"
   ]
  }
 ],
 "metadata": {
  "kernelspec": {
   "display_name": "Python 3",
   "language": "python",
   "name": "python3"
  },
  "language_info": {
   "codemirror_mode": {
    "name": "ipython",
    "version": 3
   },
   "file_extension": ".py",
   "mimetype": "text/x-python",
   "name": "python",
   "nbconvert_exporter": "python",
   "pygments_lexer": "ipython3",
   "version": "3.8.3"
  }
 },
 "nbformat": 4,
 "nbformat_minor": 2
}
