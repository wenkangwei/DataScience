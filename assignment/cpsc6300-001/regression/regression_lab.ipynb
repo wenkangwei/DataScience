{
 "cells": [
  {
   "cell_type": "markdown",
   "metadata": {},
   "source": [
    "# Linear Regression Lab"
   ]
  },
  {
   "cell_type": "markdown",
   "metadata": {},
   "source": [
    "# Part A. Linear Regression Using `scikit-learn`"
   ]
  },
  {
   "cell_type": "markdown",
   "metadata": {},
   "source": [
    "## Import required python modules "
   ]
  },
  {
   "cell_type": "code",
   "execution_count": 1,
   "metadata": {},
   "outputs": [],
   "source": [
    "%matplotlib inline\n",
    "\n",
    "import numpy as np\n",
    "import pandas as pd\n",
    "import matplotlib.pyplot as plt\n",
    "import seaborn as sns\n",
    "\n",
    "from sklearn.linear_model import LinearRegression\n",
    "from sklearn.model_selection import train_test_split\n",
    "from sklearn.metrics import explained_variance_score, max_error, r2_score\n",
    "\n",
    "sns.set()"
   ]
  },
  {
   "cell_type": "markdown",
   "metadata": {},
   "source": [
    "## Simple linear regression"
   ]
  },
  {
   "cell_type": "code",
   "execution_count": 2,
   "metadata": {
    "scrolled": true
   },
   "outputs": [
    {
     "name": "stdout",
     "output_type": "stream",
     "text": [
      "##### Simple Linear Regression sales~TV\n",
      "Model slopes:  [0.0461283] Model intercept: 7.192974546662792\n",
      "explained variance:  0.6837600019638527\n",
      "R2:  0.6829956917434524\n",
      "Max error:  7.332107232647996\n",
      "\n",
      "##### Simple Linear Regression sales~radio\n",
      "Model slopes:  [0.22302983] Model intercept: 9.480069591860694\n",
      "explained variance:  0.19326257251340118\n",
      "R2:  0.04698316580671735\n",
      "Max error:  16.71205095136294\n",
      "\n",
      "##### Simple Linear Regression sales~newspaper\n",
      "Model slopes:  [0.05284629] Model intercept: 12.916196630542979\n",
      "explained variance:  0.0336411095085406\n",
      "R2:  -0.056907573851255666\n",
      "Max error:  11.874828571392348\n",
      "\n"
     ]
    }
   ],
   "source": [
    "ads = pd.read_csv(\"https://www.palmetto.clemson.edu/dsci/datasets/isl/Advertising.csv\")\n",
    "\n",
    "train_data, test_data = train_test_split(ads, test_size=0.33, random_state=6300)\n",
    "\n",
    "\n",
    "response=\"sales\"\n",
    "\n",
    "for predictor in [\"TV\", \"radio\", \"newspaper\"]:\n",
    "    X = train_data[predictor][:, np.newaxis]\n",
    "    y = train_data[response]\n",
    "\n",
    "    model = LinearRegression(fit_intercept=True)\n",
    "\n",
    "    model.fit(X, y)\n",
    "\n",
    "    X_test = test_data[predictor][:, np.newaxis]\n",
    "    y_test= test_data[response]\n",
    "    y_pred = model.predict(X_test)\n",
    "\n",
    "    print(\"#\"*5, \"Simple Linear Regression {}~{}\".format(response, predictor))\n",
    "    print(\"Model slopes: \", model.coef_, \"Model intercept:\", model.intercept_)\n",
    "    print(\"explained variance: \", explained_variance_score(y_test, y_pred))\n",
    "    print(\"R2: \",r2_score(y_test, y_pred))\n",
    "    print(\"Max error: \", max_error(y_test, y_pred))\n",
    "    print()"
   ]
  },
  {
   "cell_type": "markdown",
   "metadata": {},
   "source": [
    "## Multiple linear regression"
   ]
  },
  {
   "cell_type": "code",
   "execution_count": 3,
   "metadata": {},
   "outputs": [
    {
     "name": "stdout",
     "output_type": "stream",
     "text": [
      "##### Simple Linear Regression sales~['TV', 'radio', 'newspaper']\n",
      "Model slopes:  [ 0.04336842  0.20779768 -0.0059267 ] Model intercept: 3.0586904818889202\n",
      "explained variance:  0.850194607971932\n",
      "R2:  0.8486539150256296\n",
      "Max error:  9.66627404802651\n",
      "\n",
      "##### Simple Linear Regression sales~['TV', 'radio']\n",
      "Model slopes:  [0.0433361  0.20438689] Model intercept: 2.953841998650651\n",
      "explained variance:  0.852645453584713\n",
      "R2:  0.8514485135348984\n",
      "Max error:  9.477898300580112\n",
      "\n",
      "##### Simple Linear Regression sales~['TV', 'newspaper']\n",
      "Model slopes:  [0.04553275 0.04473111] Model intercept: 5.867723680783119\n",
      "explained variance:  0.7108210394153318\n",
      "R2:  0.7078027923769661\n",
      "Max error:  6.6544985063777915\n",
      "\n",
      "##### Simple Linear Regression sales~['radio', 'newspaper']\n",
      "Model slopes:  [ 0.22433554 -0.00225964] Model intercept: 9.521899801253687\n",
      "explained variance:  0.1922329706933208\n",
      "R2:  0.044516870256274155\n",
      "Max error:  16.785928336658216\n",
      "\n"
     ]
    }
   ],
   "source": [
    "ads = pd.read_csv(\"https://www.palmetto.clemson.edu/dsci/datasets/isl/Advertising.csv\")\n",
    "\n",
    "train_data, test_data = train_test_split(ads, test_size=0.33, random_state=6300)\n",
    "\n",
    "\n",
    "response=\"sales\"\n",
    "\n",
    "for predictor in [[\"TV\", \"radio\", \"newspaper\"], [\"TV\", \"radio\"], [\"TV\", \"newspaper\"], [\"radio\", \"newspaper\"]]:\n",
    "    X = train_data[predictor]\n",
    "    y = train_data[response]\n",
    "\n",
    "    model = LinearRegression(fit_intercept=True)\n",
    "\n",
    "    model.fit(X, y)\n",
    "\n",
    "    X_test = test_data[predictor]\n",
    "    y_test= test_data[response]\n",
    "    y_pred = model.predict(X_test)\n",
    "\n",
    "    print(\"#\"*5, \"Simple Linear Regression {}~{}\".format(response, predictor))\n",
    "    print(\"Model slopes: \", model.coef_, \"Model intercept:\", model.intercept_)\n",
    "    print(\"explained variance: \", explained_variance_score(y_test, y_pred))\n",
    "    print(\"R2: \",r2_score(y_test, y_pred))\n",
    "    print(\"Max error: \", max_error(y_test, y_pred))\n",
    "    print()"
   ]
  },
  {
   "cell_type": "markdown",
   "metadata": {},
   "source": [
    "## Varance in coefficient estimate"
   ]
  },
  {
   "cell_type": "code",
   "execution_count": 4,
   "metadata": {},
   "outputs": [],
   "source": [
    "ads = pd.read_csv(\"https://www.palmetto.clemson.edu/dsci/datasets/isl/Advertising.csv\")\n",
    "\n",
    "\n",
    "train_data, test_data = train_test_split(ads, test_size=0.33, random_state=6300)\n",
    "\n",
    "\n",
    "response=\"sales\"\n",
    "\n",
    "predictor= [\"TV\", \"radio\"]\n",
    "perf = {}\n",
    "for i in range(100):\n",
    "    train_data, test_data = train_test_split(ads, test_size=0.33)\n",
    "    \n",
    "    X = train_data[predictor]\n",
    "    y = train_data[response]\n",
    "\n",
    "    model = LinearRegression(fit_intercept=True)\n",
    "\n",
    "    model.fit(X, y)\n",
    "\n",
    "    X_test = test_data[predictor]\n",
    "    y_test= test_data[response]\n",
    "    y_pred = model.predict(X_test)\n",
    "    \n",
    "    perf[i] = {\n",
    "        \"intercep\": model.intercept_, \n",
    "        \"slope_tv\": model.coef_[0],\n",
    "        \"slope_radio\": model.coef_[1],\n",
    "        \"explained_variance\": explained_variance_score(y_test, y_pred),\n",
    "        \"R^2\": r2_score(y_test, y_pred)\n",
    "              }\n",
    "perf_df = pd.DataFrame(perf).T"
   ]
  },
  {
   "cell_type": "code",
   "execution_count": 5,
   "metadata": {},
   "outputs": [
    {
     "data": {
      "text/html": [
       "<div>\n",
       "<style scoped>\n",
       "    .dataframe tbody tr th:only-of-type {\n",
       "        vertical-align: middle;\n",
       "    }\n",
       "\n",
       "    .dataframe tbody tr th {\n",
       "        vertical-align: top;\n",
       "    }\n",
       "\n",
       "    .dataframe thead th {\n",
       "        text-align: right;\n",
       "    }\n",
       "</style>\n",
       "<table border=\"1\" class=\"dataframe\">\n",
       "  <thead>\n",
       "    <tr style=\"text-align: right;\">\n",
       "      <th></th>\n",
       "      <th>intercep</th>\n",
       "      <th>slope_tv</th>\n",
       "      <th>slope_radio</th>\n",
       "      <th>explained_variance</th>\n",
       "      <th>R^2</th>\n",
       "    </tr>\n",
       "  </thead>\n",
       "  <tbody>\n",
       "    <tr>\n",
       "      <th>count</th>\n",
       "      <td>100.000000</td>\n",
       "      <td>100.000000</td>\n",
       "      <td>100.000000</td>\n",
       "      <td>100.000000</td>\n",
       "      <td>100.000000</td>\n",
       "    </tr>\n",
       "    <tr>\n",
       "      <th>mean</th>\n",
       "      <td>2.928809</td>\n",
       "      <td>0.045825</td>\n",
       "      <td>0.186611</td>\n",
       "      <td>0.897601</td>\n",
       "      <td>0.895233</td>\n",
       "    </tr>\n",
       "    <tr>\n",
       "      <th>std</th>\n",
       "      <td>0.204090</td>\n",
       "      <td>0.001136</td>\n",
       "      <td>0.007347</td>\n",
       "      <td>0.024114</td>\n",
       "      <td>0.023504</td>\n",
       "    </tr>\n",
       "    <tr>\n",
       "      <th>min</th>\n",
       "      <td>2.123437</td>\n",
       "      <td>0.042927</td>\n",
       "      <td>0.168955</td>\n",
       "      <td>0.805548</td>\n",
       "      <td>0.802435</td>\n",
       "    </tr>\n",
       "    <tr>\n",
       "      <th>25%</th>\n",
       "      <td>2.783390</td>\n",
       "      <td>0.045062</td>\n",
       "      <td>0.182364</td>\n",
       "      <td>0.884996</td>\n",
       "      <td>0.884016</td>\n",
       "    </tr>\n",
       "    <tr>\n",
       "      <th>50%</th>\n",
       "      <td>2.944124</td>\n",
       "      <td>0.045935</td>\n",
       "      <td>0.186786</td>\n",
       "      <td>0.900107</td>\n",
       "      <td>0.898782</td>\n",
       "    </tr>\n",
       "    <tr>\n",
       "      <th>75%</th>\n",
       "      <td>3.072894</td>\n",
       "      <td>0.046640</td>\n",
       "      <td>0.191119</td>\n",
       "      <td>0.912170</td>\n",
       "      <td>0.911774</td>\n",
       "    </tr>\n",
       "    <tr>\n",
       "      <th>max</th>\n",
       "      <td>3.358195</td>\n",
       "      <td>0.048845</td>\n",
       "      <td>0.205120</td>\n",
       "      <td>0.943617</td>\n",
       "      <td>0.936441</td>\n",
       "    </tr>\n",
       "  </tbody>\n",
       "</table>\n",
       "</div>"
      ],
      "text/plain": [
       "         intercep    slope_tv  slope_radio  explained_variance         R^2\n",
       "count  100.000000  100.000000   100.000000          100.000000  100.000000\n",
       "mean     2.928809    0.045825     0.186611            0.897601    0.895233\n",
       "std      0.204090    0.001136     0.007347            0.024114    0.023504\n",
       "min      2.123437    0.042927     0.168955            0.805548    0.802435\n",
       "25%      2.783390    0.045062     0.182364            0.884996    0.884016\n",
       "50%      2.944124    0.045935     0.186786            0.900107    0.898782\n",
       "75%      3.072894    0.046640     0.191119            0.912170    0.911774\n",
       "max      3.358195    0.048845     0.205120            0.943617    0.936441"
      ]
     },
     "execution_count": 5,
     "metadata": {},
     "output_type": "execute_result"
    }
   ],
   "source": [
    "perf_df.describe()"
   ]
  },
  {
   "cell_type": "code",
   "execution_count": 6,
   "metadata": {},
   "outputs": [
    {
     "data": {
      "text/plain": [
       "<matplotlib.axes._subplots.AxesSubplot at 0x7f080f19b6d0>"
      ]
     },
     "execution_count": 6,
     "metadata": {},
     "output_type": "execute_result"
    },
    {
     "data": {
      "image/png": "[encoded data removed]",
      "text/plain": [
       "<Figure size 432x288 with 1 Axes>"
      ]
     },
     "metadata": {},
     "output_type": "display_data"
    }
   ],
   "source": [
    "sns.distplot(perf_df[\"R^2\"])"
   ]
  },
  {
   "cell_type": "code",
   "execution_count": 7,
   "metadata": {},
   "outputs": [
    {
     "data": {
      "image/png": "[encoded data removed]",
      "text/plain": [
       "<Figure size 1296x360 with 3 Axes>"
      ]
     },
     "metadata": {},
     "output_type": "display_data"
    }
   ],
   "source": [
    "fig, axes = plt.subplots(1, 3, figsize=(18, 5))\n",
    "for i, coefficient in enumerate([\"intercep\", \"slope_tv\", \"slope_radio\"]):\n",
    "    sns.distplot(perf_df[coefficient], ax=axes[i])\n",
    "    axes[i].axvline(perf_df[coefficient].mean(), axes[i].get_ylim()[0], axes[i].get_ylim()[1], color=\"red\")"
   ]
  },
  {
   "cell_type": "markdown",
   "metadata": {},
   "source": [
    "## Add interaction term"
   ]
  },
  {
   "cell_type": "code",
   "execution_count": 8,
   "metadata": {},
   "outputs": [],
   "source": [
    "ads = pd.read_csv(\"https://www.palmetto.clemson.edu/dsci/datasets/isl/Advertising.csv\")\n",
    "\n",
    "ads[\"TV*radio\"] = ads[\"TV\"] * ads[\"radio\"]\n",
    "\n",
    "response=\"sales\"\n",
    "\n",
    "predictor= [\"TV\", \"radio\", \"TV*radio\"]\n",
    "perf = {}\n",
    "for i in range(100):\n",
    "    train_data, test_data = train_test_split(ads, test_size=0.33)\n",
    "    \n",
    "    X = train_data[predictor]\n",
    "    y = train_data[response]\n",
    "\n",
    "    model = LinearRegression(fit_intercept=True)\n",
    "\n",
    "    model.fit(X, y)\n",
    "\n",
    "    X_test = test_data[predictor]\n",
    "    y_test= test_data[response]\n",
    "    y_pred = model.predict(X_test)\n",
    "    \n",
    "    perf[i] = {\n",
    "        \"intercep\": model.intercept_, \n",
    "        \"slope_tv\": model.coef_[0],\n",
    "        \"slope_radio\": model.coef_[1],\n",
    "        \"slope_tv*radio\": model.coef_[1],\n",
    "        \"explained_variance\": explained_variance_score(y_test, y_pred),\n",
    "        \"R^2\": r2_score(y_test, y_pred)\n",
    "              }\n",
    "perf_df = pd.DataFrame(perf).T"
   ]
  },
  {
   "cell_type": "code",
   "execution_count": 9,
   "metadata": {},
   "outputs": [
    {
     "data": {
      "text/html": [
       "<div>\n",
       "<style scoped>\n",
       "    .dataframe tbody tr th:only-of-type {\n",
       "        vertical-align: middle;\n",
       "    }\n",
       "\n",
       "    .dataframe tbody tr th {\n",
       "        vertical-align: top;\n",
       "    }\n",
       "\n",
       "    .dataframe thead th {\n",
       "        text-align: right;\n",
       "    }\n",
       "</style>\n",
       "<table border=\"1\" class=\"dataframe\">\n",
       "  <thead>\n",
       "    <tr style=\"text-align: right;\">\n",
       "      <th></th>\n",
       "      <th>intercep</th>\n",
       "      <th>slope_tv</th>\n",
       "      <th>slope_radio</th>\n",
       "      <th>slope_tv*radio</th>\n",
       "      <th>explained_variance</th>\n",
       "      <th>R^2</th>\n",
       "    </tr>\n",
       "  </thead>\n",
       "  <tbody>\n",
       "    <tr>\n",
       "      <th>count</th>\n",
       "      <td>100.000000</td>\n",
       "      <td>100.000000</td>\n",
       "      <td>100.000000</td>\n",
       "      <td>100.000000</td>\n",
       "      <td>100.000000</td>\n",
       "      <td>100.000000</td>\n",
       "    </tr>\n",
       "    <tr>\n",
       "      <th>mean</th>\n",
       "      <td>6.739233</td>\n",
       "      <td>0.019128</td>\n",
       "      <td>0.029700</td>\n",
       "      <td>0.029700</td>\n",
       "      <td>0.966256</td>\n",
       "      <td>0.965573</td>\n",
       "    </tr>\n",
       "    <tr>\n",
       "      <th>std</th>\n",
       "      <td>0.248822</td>\n",
       "      <td>0.001353</td>\n",
       "      <td>0.009949</td>\n",
       "      <td>0.009949</td>\n",
       "      <td>0.010507</td>\n",
       "      <td>0.010655</td>\n",
       "    </tr>\n",
       "    <tr>\n",
       "      <th>min</th>\n",
       "      <td>6.201922</td>\n",
       "      <td>0.015062</td>\n",
       "      <td>0.008098</td>\n",
       "      <td>0.008098</td>\n",
       "      <td>0.938599</td>\n",
       "      <td>0.938598</td>\n",
       "    </tr>\n",
       "    <tr>\n",
       "      <th>25%</th>\n",
       "      <td>6.578435</td>\n",
       "      <td>0.018347</td>\n",
       "      <td>0.023320</td>\n",
       "      <td>0.023320</td>\n",
       "      <td>0.958396</td>\n",
       "      <td>0.958143</td>\n",
       "    </tr>\n",
       "    <tr>\n",
       "      <th>50%</th>\n",
       "      <td>6.697301</td>\n",
       "      <td>0.019241</td>\n",
       "      <td>0.028559</td>\n",
       "      <td>0.028559</td>\n",
       "      <td>0.969020</td>\n",
       "      <td>0.968586</td>\n",
       "    </tr>\n",
       "    <tr>\n",
       "      <th>75%</th>\n",
       "      <td>6.891981</td>\n",
       "      <td>0.020156</td>\n",
       "      <td>0.037104</td>\n",
       "      <td>0.037104</td>\n",
       "      <td>0.974225</td>\n",
       "      <td>0.973701</td>\n",
       "    </tr>\n",
       "    <tr>\n",
       "      <th>max</th>\n",
       "      <td>7.472337</td>\n",
       "      <td>0.022440</td>\n",
       "      <td>0.055451</td>\n",
       "      <td>0.055451</td>\n",
       "      <td>0.982143</td>\n",
       "      <td>0.981942</td>\n",
       "    </tr>\n",
       "  </tbody>\n",
       "</table>\n",
       "</div>"
      ],
      "text/plain": [
       "         intercep    slope_tv  slope_radio  slope_tv*radio  \\\n",
       "count  100.000000  100.000000   100.000000      100.000000   \n",
       "mean     6.739233    0.019128     0.029700        0.029700   \n",
       "std      0.248822    0.001353     0.009949        0.009949   \n",
       "min      6.201922    0.015062     0.008098        0.008098   \n",
       "25%      6.578435    0.018347     0.023320        0.023320   \n",
       "50%      6.697301    0.019241     0.028559        0.028559   \n",
       "75%      6.891981    0.020156     0.037104        0.037104   \n",
       "max      7.472337    0.022440     0.055451        0.055451   \n",
       "\n",
       "       explained_variance         R^2  \n",
       "count          100.000000  100.000000  \n",
       "mean             0.966256    0.965573  \n",
       "std              0.010507    0.010655  \n",
       "min              0.938599    0.938598  \n",
       "25%              0.958396    0.958143  \n",
       "50%              0.969020    0.968586  \n",
       "75%              0.974225    0.973701  \n",
       "max              0.982143    0.981942  "
      ]
     },
     "execution_count": 9,
     "metadata": {},
     "output_type": "execute_result"
    }
   ],
   "source": [
    "perf_df.describe()"
   ]
  },
  {
   "cell_type": "markdown",
   "metadata": {},
   "source": [
    "## Polynomial Features "
   ]
  },
  {
   "cell_type": "code",
   "execution_count": 10,
   "metadata": {},
   "outputs": [
    {
     "data": {
      "text/plain": [
       "[<matplotlib.lines.Line2D at 0x7f080c4cd400>]"
      ]
     },
     "execution_count": 10,
     "metadata": {},
     "output_type": "execute_result"
    },
    {
     "data": {
      "image/png": "[encoded data removed]",
      "text/plain": [
       "<Figure size 360x360 with 1 Axes>"
      ]
     },
     "metadata": {},
     "output_type": "display_data"
    }
   ],
   "source": [
    "from sklearn.preprocessing import PolynomialFeatures\n",
    "ads = pd.read_csv(\"https://www.palmetto.clemson.edu/dsci/datasets/isl/Advertising.csv\")\n",
    "\n",
    "X, y = ads[[\"TV\", \"radio\"]], ads['sales']\n",
    "\n",
    "poly = PolynomialFeatures(degree=2, include_bias=True)\n",
    "X2 = poly.fit_transform(X)\n",
    "\n",
    "model = LinearRegression()\n",
    "model.fit(X2, y)\n",
    "yfit = model.predict(X2)\n",
    "\n",
    "sns.set_style(\"whitegrid\")\n",
    "fig, ax = plt.subplots(figsize=(5,5))\n",
    "ax.scatter(y, yfit)\n",
    "ax.set_xlabel('y')\n",
    "ax.set_ylabel('y_fit')\n",
    "ax.plot(y, y, color='red')"
   ]
  },
  {
   "cell_type": "markdown",
   "metadata": {},
   "source": [
    "## Pipeline"
   ]
  },
  {
   "cell_type": "code",
   "execution_count": 11,
   "metadata": {},
   "outputs": [
    {
     "data": {
      "text/plain": [
       "[<matplotlib.lines.Line2D at 0x7f080c4b1190>]"
      ]
     },
     "execution_count": 11,
     "metadata": {},
     "output_type": "execute_result"
    },
    {
     "data": {
      "image/png": "[encoded data removed]",
      "text/plain": [
       "<Figure size 360x360 with 1 Axes>"
      ]
     },
     "metadata": {},
     "output_type": "display_data"
    }
   ],
   "source": [
    "from sklearn.preprocessing import PolynomialFeatures\n",
    "from sklearn.pipeline import make_pipeline\n",
    "ads = pd.read_csv(\"https://www.palmetto.clemson.edu/dsci/datasets/isl/Advertising.csv\")\n",
    "\n",
    "X, y = ads[[\"TV\", \"radio\"]], ads['sales']\n",
    "\n",
    "# poly = PolynomialFeatures(degree=2, include_bias=True)\n",
    "# X2 = poly.fit_transform(X)\n",
    "# model = LinearRegression()\n",
    "\n",
    "model = make_pipeline(PolynomialFeatures(degree=2, include_bias=True), LinearRegression())\n",
    "\n",
    "model.fit(X2, y)\n",
    "yfit = model.predict(X2)\n",
    "\n",
    "sns.set_style(\"whitegrid\")\n",
    "fig, ax = plt.subplots(figsize=(5,5))\n",
    "ax.scatter(y, yfit)\n",
    "ax.set_xlabel('y')\n",
    "ax.set_ylabel('y_fit')\n",
    "ax.plot(y, y, color='red')"
   ]
  },
  {
   "cell_type": "markdown",
   "metadata": {},
   "source": [
    "# Part B. Linear Regression Using statsmodels"
   ]
  },
  {
   "cell_type": "markdown",
   "metadata": {},
   "source": [
    "## Using statsmodels.api"
   ]
  },
  {
   "cell_type": "code",
   "execution_count": 12,
   "metadata": {},
   "outputs": [
    {
     "data": {
      "text/html": [
       "<table class=\"simpletable\">\n",
       "<tr>\n",
       "    <td></td>       <th>coef</th>     <th>std err</th>      <th>t</th>      <th>P>|t|</th>  <th>[0.025</th>    <th>0.975]</th>  \n",
       "</tr>\n",
       "<tr>\n",
       "  <th>TV</th>    <td>    0.0548</td> <td>    0.001</td> <td>   42.962</td> <td> 0.000</td> <td>    0.052</td> <td>    0.057</td>\n",
       "</tr>\n",
       "<tr>\n",
       "  <th>radio</th> <td>    0.2356</td> <td>    0.008</td> <td>   29.909</td> <td> 0.000</td> <td>    0.220</td> <td>    0.251</td>\n",
       "</tr>\n",
       "</table>"
      ],
      "text/plain": [
       "<class 'statsmodels.iolib.table.SimpleTable'>"
      ]
     },
     "execution_count": 12,
     "metadata": {},
     "output_type": "execute_result"
    }
   ],
   "source": [
    "import statsmodels.api as sm\n",
    "ads = pd.read_csv(\"Advertising.csv\")\n",
    "X, y = ads[[\"TV\", \"radio\"]], ads['sales']\n",
    "model = sm.OLS(y, X).fit()\n",
    "model.summary().tables[1]\n"
   ]
  },
  {
   "cell_type": "markdown",
   "metadata": {},
   "source": [
    "## Using statsmodels.formula.api\n",
    "\n",
    "statsmodels.formula.api provides a convenience interface for specifying models using formula strings and DataFrames. This API directly exposes the from_formula class method of models that support the formula API."
   ]
  },
  {
   "cell_type": "code",
   "execution_count": 13,
   "metadata": {},
   "outputs": [
    {
     "data": {
      "text/html": [
       "<table class=\"simpletable\">\n",
       "<tr>\n",
       "      <td></td>         <th>coef</th>     <th>std err</th>      <th>t</th>      <th>P>|t|</th>  <th>[0.025</th>    <th>0.975]</th>  \n",
       "</tr>\n",
       "<tr>\n",
       "  <th>Intercept</th> <td>    2.9211</td> <td>    0.294</td> <td>    9.919</td> <td> 0.000</td> <td>    2.340</td> <td>    3.502</td>\n",
       "</tr>\n",
       "<tr>\n",
       "  <th>TV</th>        <td>    0.0458</td> <td>    0.001</td> <td>   32.909</td> <td> 0.000</td> <td>    0.043</td> <td>    0.048</td>\n",
       "</tr>\n",
       "<tr>\n",
       "  <th>radio</th>     <td>    0.1880</td> <td>    0.008</td> <td>   23.382</td> <td> 0.000</td> <td>    0.172</td> <td>    0.204</td>\n",
       "</tr>\n",
       "</table>"
      ],
      "text/plain": [
       "<class 'statsmodels.iolib.table.SimpleTable'>"
      ]
     },
     "execution_count": 13,
     "metadata": {},
     "output_type": "execute_result"
    }
   ],
   "source": [
    "import statsmodels.api as sm\n",
    "import statsmodels.formula.api as smf\n",
    "ads = pd.read_csv(\"Advertising.csv\")\n",
    "model = smf.ols('sales ~ TV + radio', data=ads).fit()\n",
    "model.summary().tables[1]"
   ]
  },
  {
   "cell_type": "code",
   "execution_count": 15,
   "metadata": {},
   "outputs": [
    {
     "data": {
      "text/html": [
       "<table class=\"simpletable\">\n",
       "<tr>\n",
       "      <td></td>         <th>coef</th>     <th>std err</th>      <th>t</th>      <th>P>|t|</th>  <th>[0.025</th>    <th>0.975]</th>  \n",
       "</tr>\n",
       "<tr>\n",
       "  <th>Intercept</th> <td>    6.7502</td> <td>    0.248</td> <td>   27.233</td> <td> 0.000</td> <td>    6.261</td> <td>    7.239</td>\n",
       "</tr>\n",
       "<tr>\n",
       "  <th>TV</th>        <td>    0.0191</td> <td>    0.002</td> <td>   12.699</td> <td> 0.000</td> <td>    0.016</td> <td>    0.022</td>\n",
       "</tr>\n",
       "<tr>\n",
       "  <th>radio</th>     <td>    0.0289</td> <td>    0.009</td> <td>    3.241</td> <td> 0.001</td> <td>    0.011</td> <td>    0.046</td>\n",
       "</tr>\n",
       "<tr>\n",
       "  <th>TV:radio</th>  <td>    0.0011</td> <td> 5.24e-05</td> <td>   20.727</td> <td> 0.000</td> <td>    0.001</td> <td>    0.001</td>\n",
       "</tr>\n",
       "</table>"
      ],
      "text/plain": [
       "<class 'statsmodels.iolib.table.SimpleTable'>"
      ]
     },
     "execution_count": 15,
     "metadata": {},
     "output_type": "execute_result"
    }
   ],
   "source": [
    "model2 = smf.ols('sales ~ TV + radio + TV:radio', data=ads).fit()\n",
    "model2.summary().tables[1]"
   ]
  },
  {
   "cell_type": "markdown",
   "metadata": {},
   "source": [
    "# Seaborn regplot"
   ]
  },
  {
   "cell_type": "code",
   "execution_count": 21,
   "metadata": {},
   "outputs": [
    {
     "name": "stdout",
     "output_type": "stream",
     "text": [
      "<class 'pandas.core.frame.DataFrame'>\n",
      "RangeIndex: 397 entries, 0 to 396\n",
      "Data columns (total 9 columns):\n",
      " #   Column        Non-Null Count  Dtype  \n",
      "---  ------        --------------  -----  \n",
      " 0   mpg           397 non-null    float64\n",
      " 1   cylinders     397 non-null    int64  \n",
      " 2   displacement  397 non-null    float64\n",
      " 3   horsepower    397 non-null    object \n",
      " 4   weight        397 non-null    int64  \n",
      " 5   acceleration  397 non-null    float64\n",
      " 6   year          397 non-null    int64  \n",
      " 7   origin        397 non-null    int64  \n",
      " 8   name          397 non-null    object \n",
      "dtypes: float64(3), int64(4), object(2)\n",
      "memory usage: 28.0+ KB\n"
     ]
    }
   ],
   "source": [
    "datafile = \"http://www.palmetto.clemson.edu/dsci/datasets/isl/Auto.csv\"\n",
    "auto = pd.read_csv(datafile)\n",
    "auto.info()"
   ]
  },
  {
   "cell_type": "code",
   "execution_count": 28,
   "metadata": {},
   "outputs": [
    {
     "name": "stdout",
     "output_type": "stream",
     "text": [
      "<class 'pandas.core.frame.DataFrame'>\n",
      "Int64Index: 392 entries, 0 to 396\n",
      "Data columns (total 9 columns):\n",
      " #   Column        Non-Null Count  Dtype  \n",
      "---  ------        --------------  -----  \n",
      " 0   mpg           392 non-null    float64\n",
      " 1   cylinders     392 non-null    int64  \n",
      " 2   displacement  392 non-null    float64\n",
      " 3   horsepower    392 non-null    float64\n",
      " 4   weight        392 non-null    int64  \n",
      " 5   acceleration  392 non-null    float64\n",
      " 6   year          392 non-null    int64  \n",
      " 7   origin        392 non-null    int64  \n",
      " 8   name          392 non-null    object \n",
      "dtypes: float64(4), int64(4), object(1)\n",
      "memory usage: 30.6+ KB\n"
     ]
    }
   ],
   "source": [
    "## Drop samples with missing values\n",
    "auto = pd.read_csv(datafile, na_values='?').dropna()\n",
    "auto.info()"
   ]
  },
  {
   "cell_type": "code",
   "execution_count": 29,
   "metadata": {},
   "outputs": [
    {
     "data": {
      "image/png": "[encoded data removed]",
      "text/plain": [
       "<Figure size 432x288 with 1 Axes>"
      ]
     },
     "metadata": {},
     "output_type": "display_data"
    }
   ],
   "source": [
    "# With Seaborn's regplot() you can easily plot higher order polynomials.\n",
    "plt.scatter(auto.horsepower, auto.mpg, facecolors='None', edgecolors='k', alpha=.5) \n",
    "sns.regplot(auto.horsepower, auto.mpg, ci=None, label='Linear', scatter=False, color='orange')\n",
    "sns.regplot(auto.horsepower, auto.mpg, ci=None, label='Degree 2', order=2, scatter=False, color='lightblue')\n",
    "sns.regplot(auto.horsepower, auto.mpg, ci=None, label='Degree 5', order=5, scatter=False, color='g')\n",
    "plt.legend()\n",
    "plt.ylim(5,55)\n",
    "plt.xlim(40,240);"
   ]
  },
  {
   "cell_type": "code",
   "execution_count": 31,
   "metadata": {},
   "outputs": [
    {
     "data": {
      "text/html": [
       "<table class=\"simpletable\">\n",
       "<tr>\n",
       "       <td></td>          <th>coef</th>     <th>std err</th>      <th>t</th>      <th>P>|t|</th>  <th>[0.025</th>    <th>0.975]</th>  \n",
       "</tr>\n",
       "<tr>\n",
       "  <th>Intercept</th>   <td>   56.9001</td> <td>    1.800</td> <td>   31.604</td> <td> 0.000</td> <td>   53.360</td> <td>   60.440</td>\n",
       "</tr>\n",
       "<tr>\n",
       "  <th>horsepower</th>  <td>   -0.4662</td> <td>    0.031</td> <td>  -14.978</td> <td> 0.000</td> <td>   -0.527</td> <td>   -0.405</td>\n",
       "</tr>\n",
       "<tr>\n",
       "  <th>horsepower2</th> <td>    0.0012</td> <td>    0.000</td> <td>   10.080</td> <td> 0.000</td> <td>    0.001</td> <td>    0.001</td>\n",
       "</tr>\n",
       "</table>"
      ],
      "text/plain": [
       "<class 'statsmodels.iolib.table.SimpleTable'>"
      ]
     },
     "execution_count": 31,
     "metadata": {},
     "output_type": "execute_result"
    }
   ],
   "source": [
    "import statsmodels.api as sm\n",
    "import statsmodels.formula.api as smf\n",
    "\n",
    "auto['horsepower2'] = auto.horsepower**2\n",
    "model = smf.ols('mpg ~ horsepower + horsepower2', auto).fit()\n",
    "model.summary().tables[1]"
   ]
  }
 ],
 "metadata": {
  "kernelspec": {
   "display_name": "Python 3",
   "language": "python",
   "name": "python3"
  },
  "language_info": {
   "codemirror_mode": {
    "name": "ipython",
    "version": 3
   },
   "file_extension": ".py",
   "mimetype": "text/x-python",
   "name": "python",
   "nbconvert_exporter": "python",
   "pygments_lexer": "ipython3",
   "version": "3.8.3"
  }
 },
 "nbformat": 4,
 "nbformat_minor": 4
}
