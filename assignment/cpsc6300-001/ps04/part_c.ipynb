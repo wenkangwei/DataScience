{
 "cells": [
  {
   "cell_type": "markdown",
   "metadata": {},
   "source": [
    "# CPSC 4300/6300-001 Applied Data Science (Fall 2020)\n",
    "\n",
    "Before you turn this problem in, make sure everything runs as expected. First, **restart the kernel** (in the menubar, select Kernel$\\rightarrow$Restart) and then **run all cells** (in the menubar, select Cell$\\rightarrow$Run All).\n",
    "\n",
    "Make sure you fill in any place that says `YOUR CODE HERE` or \"YOUR ANSWER HERE\", as well as your name and collaborators below:"
   ]
  },
  {
   "cell_type": "code",
   "execution_count": 1,
   "metadata": {},
   "outputs": [],
   "source": [
    "NAME = \"Wenkang Wei\"\n",
    "COLLABORATORS = \"Wenkang Wei\""
   ]
  },
  {
   "cell_type": "markdown",
   "metadata": {},
   "source": [
    "# CPSC4300/6300-001 Problem Set #4"
   ]
  },
  {
   "cell_type": "markdown",
   "metadata": {},
   "source": [
    "# Part C. Spam Email Classification\n",
    "\n",
    "In this part, you will build a spam email classifier using several classification methods. For your convinience, we have downloaded a dataset from https://www.kaggle.com/venky73/spam-mails-dataset and put the csv file at https://www.palmetto.clemson.edu/dsci/datasets/kaggle/spam_ham_dataset.csv."
   ]
  },
  {
   "cell_type": "code",
   "execution_count": 2,
   "metadata": {},
   "outputs": [],
   "source": [
    "# from IPython.core.interactiveshell import InteractiveShell\n",
    "# InteractiveShell.ast_node_interactivity = \"all\"\n",
    "%matplotlib inline\n",
    "\n",
    "import matplotlib.pyplot as plt\n",
    "import pandas as pd\n",
    "import numpy as np\n",
    "import seaborn as sns; sns.set()\n",
    "sns.set_style(\"white\")"
   ]
  },
  {
   "cell_type": "markdown",
   "metadata": {},
   "source": [
    "## 1. Get the data\n",
    "\n",
    "Read the spam dataset into a Pandas DataFrame and examine the data."
   ]
  },
  {
   "cell_type": "code",
   "execution_count": 3,
   "metadata": {},
   "outputs": [
    {
     "data": {
      "text/html": [
       "<div>\n",
       "<style scoped>\n",
       "    .dataframe tbody tr th:only-of-type {\n",
       "        vertical-align: middle;\n",
       "    }\n",
       "\n",
       "    .dataframe tbody tr th {\n",
       "        vertical-align: top;\n",
       "    }\n",
       "\n",
       "    .dataframe thead th {\n",
       "        text-align: right;\n",
       "    }\n",
       "</style>\n",
       "<table border=\"1\" class=\"dataframe\">\n",
       "  <thead>\n",
       "    <tr style=\"text-align: right;\">\n",
       "      <th></th>\n",
       "      <th>label</th>\n",
       "      <th>text</th>\n",
       "      <th>label_num</th>\n",
       "    </tr>\n",
       "  </thead>\n",
       "  <tbody>\n",
       "    <tr>\n",
       "      <th>605</th>\n",
       "      <td>ham</td>\n",
       "      <td>Subject: enron methanol ; meter # : 988291\\r\\n...</td>\n",
       "      <td>0</td>\n",
       "    </tr>\n",
       "    <tr>\n",
       "      <th>2349</th>\n",
       "      <td>ham</td>\n",
       "      <td>Subject: hpl nom for january 9 , 2001\\r\\n( see...</td>\n",
       "      <td>0</td>\n",
       "    </tr>\n",
       "    <tr>\n",
       "      <th>3624</th>\n",
       "      <td>ham</td>\n",
       "      <td>Subject: neon retreat\\r\\nho ho ho , we ' re ar...</td>\n",
       "      <td>0</td>\n",
       "    </tr>\n",
       "    <tr>\n",
       "      <th>4685</th>\n",
       "      <td>spam</td>\n",
       "      <td>Subject: photoshop , windows , office . cheap ...</td>\n",
       "      <td>1</td>\n",
       "    </tr>\n",
       "    <tr>\n",
       "      <th>2030</th>\n",
       "      <td>ham</td>\n",
       "      <td>Subject: re : indian springs\\r\\nthis deal is t...</td>\n",
       "      <td>0</td>\n",
       "    </tr>\n",
       "  </tbody>\n",
       "</table>\n",
       "</div>"
      ],
      "text/plain": [
       "     label                                               text  label_num\n",
       "605    ham  Subject: enron methanol ; meter # : 988291\\r\\n...          0\n",
       "2349   ham  Subject: hpl nom for january 9 , 2001\\r\\n( see...          0\n",
       "3624   ham  Subject: neon retreat\\r\\nho ho ho , we ' re ar...          0\n",
       "4685  spam  Subject: photoshop , windows , office . cheap ...          1\n",
       "2030   ham  Subject: re : indian springs\\r\\nthis deal is t...          0"
      ]
     },
     "execution_count": 3,
     "metadata": {},
     "output_type": "execute_result"
    }
   ],
   "source": [
    "df = pd.read_csv(\"https://www.palmetto.clemson.edu/dsci/datasets/kaggle/spam_ham_dataset.csv\", index_col=0)\n",
    "df.head()"
   ]
  },
  {
   "cell_type": "markdown",
   "metadata": {},
   "source": [
    "## 2. Examin the data"
   ]
  },
  {
   "cell_type": "code",
   "execution_count": 4,
   "metadata": {},
   "outputs": [
    {
     "name": "stdout",
     "output_type": "stream",
     "text": [
      "<class 'pandas.core.frame.DataFrame'>\n",
      "Int64Index: 5171 entries, 605 to 4807\n",
      "Data columns (total 3 columns):\n",
      " #   Column     Non-Null Count  Dtype \n",
      "---  ------     --------------  ----- \n",
      " 0   label      5171 non-null   object\n",
      " 1   text       5171 non-null   object\n",
      " 2   label_num  5171 non-null   int64 \n",
      "dtypes: int64(1), object(2)\n",
      "memory usage: 161.6+ KB\n"
     ]
    }
   ],
   "source": [
    "## Look at a summary of the dataset\n",
    "df.info()"
   ]
  },
  {
   "cell_type": "code",
   "execution_count": 5,
   "metadata": {},
   "outputs": [
    {
     "data": {
      "text/plain": [
       "array(['ham', 'spam'], dtype=object)"
      ]
     },
     "execution_count": 5,
     "metadata": {},
     "output_type": "execute_result"
    }
   ],
   "source": [
    "## Get unique values of the label\n",
    "np.unique(df['label'])"
   ]
  },
  {
   "cell_type": "code",
   "execution_count": 6,
   "metadata": {},
   "outputs": [
    {
     "data": {
      "image/png": "[encoded data removed]",
      "text/plain": [
       "<Figure size 864x360 with 2 Axes>"
      ]
     },
     "metadata": {},
     "output_type": "display_data"
    }
   ],
   "source": [
    "### Look at the class distribution\n",
    "fig, ax = plt.subplots(1, 2, figsize=(12, 5))\n",
    "class_counts = df['label'].value_counts()\n",
    "class_percents = class_counts / np.sum(class_counts) * 100\n",
    "_ = sns.barplot(x=class_counts.index, y=class_counts, ax = ax[0])\n",
    "ax[0].set_ylabel('Class Count')\n",
    "_ = sns.barplot(x=class_percents.index, y=class_percents, ax = ax[1])\n",
    "ax[1].set_ylabel('Class Percentage')\n",
    "plt.show()"
   ]
  },
  {
   "cell_type": "code",
   "execution_count": 7,
   "metadata": {},
   "outputs": [],
   "source": [
    "## write a helper to print the data\n",
    "def print_email(df, index):\n",
    "    print(f'email {index}')\n",
    "    for k, v in df.loc[0].items():\n",
    "        print(f'\\t{k} = {v}')"
   ]
  },
  {
   "cell_type": "code",
   "execution_count": 8,
   "metadata": {},
   "outputs": [
    {
     "name": "stdout",
     "output_type": "stream",
     "text": [
      "email 1\n",
      "\tlabel = ham\n",
      "\ttext = Subject: christmas tree farm pictures\r\n",
      "\n",
      "\tlabel_num = 0\n"
     ]
    }
   ],
   "source": [
    "## Print email\n",
    "print_email(df, 1)"
   ]
  },
  {
   "cell_type": "markdown",
   "metadata": {},
   "source": [
    "## 3. Split the data into training set and test set\n",
    "\n",
    "Use the function `sklearn.model_selection.train_test_split` to create a train set and a test set from the original data. The test set will contain 20% of the total samples. For repeatable results, set a value for the `random_state` parameter."
   ]
  },
  {
   "cell_type": "code",
   "execution_count": 9,
   "metadata": {},
   "outputs": [],
   "source": [
    "\n",
    "from sklearn.model_selection import train_test_split\n",
    "X_train,X_test,y_train,y_test = train_test_split(df[\"text\"],df[\"label\"], test_size = 0.2, random_state = 10)"
   ]
  },
  {
   "cell_type": "code",
   "execution_count": 10,
   "metadata": {},
   "outputs": [
    {
     "data": {
      "text/html": [
       "<div>\n",
       "<style scoped>\n",
       "    .dataframe tbody tr th:only-of-type {\n",
       "        vertical-align: middle;\n",
       "    }\n",
       "\n",
       "    .dataframe tbody tr th {\n",
       "        vertical-align: top;\n",
       "    }\n",
       "\n",
       "    .dataframe thead th {\n",
       "        text-align: right;\n",
       "    }\n",
       "</style>\n",
       "<table border=\"1\" class=\"dataframe\">\n",
       "  <thead>\n",
       "    <tr style=\"text-align: right;\">\n",
       "      <th></th>\n",
       "      <th>Train Set</th>\n",
       "      <th>Test Set</th>\n",
       "    </tr>\n",
       "  </thead>\n",
       "  <tbody>\n",
       "    <tr>\n",
       "      <th>ham</th>\n",
       "      <td>0.708656</td>\n",
       "      <td>0.715942</td>\n",
       "    </tr>\n",
       "    <tr>\n",
       "      <th>spam</th>\n",
       "      <td>0.291344</td>\n",
       "      <td>0.284058</td>\n",
       "    </tr>\n",
       "  </tbody>\n",
       "</table>\n",
       "</div>"
      ],
      "text/plain": [
       "      Train Set  Test Set\n",
       "ham    0.708656  0.715942\n",
       "spam   0.291344  0.284058"
      ]
     },
     "execution_count": 10,
     "metadata": {},
     "output_type": "execute_result"
    }
   ],
   "source": [
    "## While it is not always necessary, as a good practice, you may look at some statistics of the train set and test set.\n",
    "\n",
    "class_counts = pd.DataFrame({'Train Set': y_train.value_counts().sort_index(),\n",
    "                           'Test Set': y_test.value_counts().sort_index()})\n",
    "class_percents = class_counts / np.sum(class_counts)\n",
    "\n",
    "class_counts.head(5)\n",
    "class_percents.head(5)"
   ]
  },
  {
   "cell_type": "markdown",
   "metadata": {},
   "source": [
    "## 4. Preprocess the data using CountVectorizer (5 points)\n",
    "\n",
    "Before feed the data into a machine learning algorithm, we need to convert the text to a ser of representative numerical values. One of the simplest methods of encoding data is by word counts: you take each snippet of text, count the occurrences of each word within it, and put the results in a table.\n",
    "\n",
    "To vectorizing this email data based on word count, you can construct a column representing each word using the class `sklearn.feature_extraction.text.CountVectorizer`. "
   ]
  },
  {
   "cell_type": "code",
   "execution_count": 11,
   "metadata": {},
   "outputs": [
    {
     "data": {
      "text/plain": [
       "['Subject: christmas tree farm pictures\\r\\n',\n",
       " 'Subject: calpine daily gas nomination\\r\\n- calpine daily gas nomination 1 . doc']"
      ]
     },
     "execution_count": 11,
     "metadata": {},
     "output_type": "execute_result"
    }
   ],
   "source": [
    "## Create a demo corpus\n",
    "corpus = [df.loc[0].text, df.loc[2].text]\n",
    "corpus"
   ]
  },
  {
   "cell_type": "code",
   "execution_count": 12,
   "metadata": {},
   "outputs": [
    {
     "name": "stdout",
     "output_type": "stream",
     "text": [
      "{'subject': 8, 'christmas': 1, 'tree': 9, 'farm': 4, 'pictures': 7, 'calpine': 0, 'daily': 2, 'gas': 5, 'nomination': 6, 'doc': 3}\n",
      "['calpine', 'christmas', 'daily', 'doc', 'farm', 'gas', 'nomination', 'pictures', 'subject', 'tree']\n",
      "[[0 1 0 0 1 0 0 1 1 1]\n",
      " [2 0 2 1 0 2 2 0 1 0]]\n"
     ]
    }
   ],
   "source": [
    "## Illustrate the concepts and use of CountVectorizer\n",
    "from sklearn.feature_extraction.text import CountVectorizer\n",
    "\n",
    "vect2 = CountVectorizer()\n",
    "x2 = vect2.fit_transform(corpus)\n",
    "\n",
    "print(vect2.vocabulary_ )\n",
    "print(vect2.get_feature_names())\n",
    "print(x2.toarray())"
   ]
  },
  {
   "cell_type": "markdown",
   "metadata": {},
   "source": [
    "__Question 4.1__ Write some code in the folllowing cell to vectorize the train set data. Save the transformed results to a variable `X_train_tran`. (5 points)"
   ]
  },
  {
   "cell_type": "code",
   "execution_count": 13,
   "metadata": {
    "deletable": false,
    "nbgrader": {
     "cell_type": "code",
     "checksum": "5a7cabcb9e5adab6af1084101f393406",
     "grade": true,
     "grade_id": "cell-c9a06e31bca37c93",
     "locked": false,
     "points": 5,
     "schema_version": 3,
     "solution": true,
     "task": false
    }
   },
   "outputs": [
    {
     "data": {
      "text/plain": [
       "<4136x10 sparse matrix of type '<class 'numpy.int64'>'\n",
       "\twith 5826 stored elements in Compressed Sparse Row format>"
      ]
     },
     "execution_count": 13,
     "metadata": {},
     "output_type": "execute_result"
    }
   ],
   "source": [
    "# YOUR CODE HERE\n",
    "# raise NotImplementedError()\n",
    "X_train_tran = vect2.transform(X_train)\n",
    "X_train_tran"
   ]
  },
  {
   "cell_type": "markdown",
   "metadata": {},
   "source": [
    "__Question 4.2__ What is the type and dimension of the `X_train_tran`? (2 points)"
   ]
  },
  {
   "cell_type": "markdown",
   "metadata": {
    "deletable": false,
    "editable": false,
    "nbgrader": {
     "cell_type": "markdown",
     "checksum": "d729efe45d58f440bee98f3d3fdb4b89",
     "grade": false,
     "grade_id": "cell-b2d434e341f5742c",
     "locked": true,
     "points": 2,
     "schema_version": 3,
     "solution": false,
     "task": true
    }
   },
   "source": [
    "Write the type and dimension of the `X_train_tran`"
   ]
  },
  {
   "cell_type": "markdown",
   "metadata": {},
   "source": [
    "## Answer to Q4.2:\n",
    "type of X_train_tran is numpy array type with dtype =int64. The dimension of sample in X_train_tran = the number of unique words in the dictionary. Each element of the sample represents the counts of corresponding word in dictionary "
   ]
  },
  {
   "cell_type": "markdown",
   "metadata": {},
   "source": [
    "## 5. Train a model (5 points)"
   ]
  },
  {
   "cell_type": "markdown",
   "metadata": {},
   "source": [
    "__Question 5.1__ Now build a classifier using `sklearn.ensemble.RandomForestClassifier` and train the model using the proprecessed data. Write some code to train the model. Save the model to a variable `forest_clf`."
   ]
  },
  {
   "cell_type": "code",
   "execution_count": 14,
   "metadata": {
    "deletable": false,
    "nbgrader": {
     "cell_type": "code",
     "checksum": "8e2d6a58fef34e280fb0b636b1bcbfe1",
     "grade": true,
     "grade_id": "cell-8e17404d17538f57",
     "locked": false,
     "points": 5,
     "schema_version": 3,
     "solution": true,
     "task": false
    }
   },
   "outputs": [
    {
     "data": {
      "text/plain": [
       "RandomForestClassifier()"
      ]
     },
     "execution_count": 14,
     "metadata": {},
     "output_type": "execute_result"
    }
   ],
   "source": [
    "# YOUR CODE HERE\n",
    "# raise NotImplementedError()\n",
    "from sklearn.ensemble import RandomForestClassifier\n",
    "\n",
    "forest_clf = RandomForestClassifier()\n",
    "forest_clf = forest_clf.fit(X_train_tran, y_train)\n",
    "forest_clf"
   ]
  },
  {
   "cell_type": "markdown",
   "metadata": {},
   "source": [
    "## 6. Evaluate the performances  of the model using the test set (5 points)"
   ]
  },
  {
   "cell_type": "markdown",
   "metadata": {},
   "source": [
    "__Question 6.1__ Write some code in the following cell to evalue the model on the test set using `sklearn.metrics.accuracy_score`."
   ]
  },
  {
   "cell_type": "code",
   "execution_count": 15,
   "metadata": {
    "deletable": false,
    "nbgrader": {
     "cell_type": "code",
     "checksum": "198c431ff5581f922655ac722bc17697",
     "grade": true,
     "grade_id": "cell-dcb926482682d870",
     "locked": false,
     "points": 5,
     "schema_version": 3,
     "solution": true,
     "task": false
    }
   },
   "outputs": [
    {
     "name": "stdout",
     "output_type": "stream",
     "text": [
      "Accuracy:  0.7178743961352657\n"
     ]
    }
   ],
   "source": [
    "from sklearn.metrics import accuracy_score\n",
    "\n",
    "# YOUR CODE HERE\n",
    "# raise NotImplementedError()\n",
    "X_test_tran = vect2.transform(X_test)\n",
    "y_pred = forest_clf.predict(X_test_tran)\n",
    "acc = accuracy_score(y_pred, y_test)\n",
    "print(\"Accuracy: \",acc)"
   ]
  },
  {
   "cell_type": "markdown",
   "metadata": {},
   "source": [
    "## 7. Make predictions"
   ]
  },
  {
   "cell_type": "code",
   "execution_count": 16,
   "metadata": {},
   "outputs": [],
   "source": [
    "message1 =\"\"\"Join Red Hat and Emergent at our upcoming, free Ansible Automation Technical Workshop in Greenville\n",
    "on December 10.\n",
    "Our most popular workshop, the Red Hat Ansible lab takes you through running ad-hoc commands in Core, \n",
    "writing and running a playbook, using more advanced features such as variables, loops, and handlers, and installing, configuring, and running job templates in Tower. The academic delivery model creates comfort and familiarity with this popular tool.\n",
    "The hands-on workshop includes:\n",
    "•\tExercise 1.1 - Ad-Hoc Commands\n",
    "•\tExercise 1.2 - Writing Your First Playbook\n",
    "•\tExercise 1.3 - Running Your First Playbook\n",
    "•\tExercise 1.4 - Using Variables, loops, and handlers\n",
    "•\tExercise 1.5 - Running the apache-basic-playbook\n",
    "•\tExercise 1.6 - Roles: Making your playbooks reusable\n",
    "•\tExercise 2.1 - Installing Ansible Tower\n",
    "•\tExercise 2.2 - Configuring Ansible Tower\n",
    "•\tExercise 2.3 - Creating and Running a Job Template\n",
    "•\tResources, Wrap Up\n",
    "To offer a quality lab experience, seating will be limited so reserve your spot today! \n",
    "\"\"\"\n",
    "\n",
    "message2 = \"\"\"𝚆𝚎𝚕𝚌𝚘𝚖𝚎 𝚝𝚘 𝙰 𝙰𝚋𝚜𝚘𝚕𝚞𝚝𝚎𝚕𝚢 𝙵𝚛𝚎𝚎 $𝟻𝟶 𝙰𝚖𝚊𝚣𝚘𝚗.𝚌𝚘𝚖® 𝙶𝚒𝚏𝚝 𝙲𝚊𝚛𝚍 (𝙻𝙰𝚂𝚃 𝙽𝙾𝚃𝙸𝙲𝙴: 𝟸𝟺 𝙷𝚘𝚞𝚛𝚜 𝙻𝚎𝚏𝚝 𝚝𝚘 𝙲𝚕𝚊𝚒𝚖) <http://en658kejf4nnmi.w0.wincvs5.tk/t/dq7wAALhxoQrfCQAAQnDFXQEAAADZtiiECCxIBAA/g/XQX> \n",
    "\n",
    "𝗗𝗲𝗮𝗿 𝗖𝘂𝘀𝘁𝗼𝗺𝗲𝗿, do you love online shopping at Amazon.com®... or hate it? Care to share your experience? Your opinion is worth $50 to us! \n",
    "\n",
    "You are one of 5 customers selected to participate in our 30-second anonymous survey, <http://en658kejf4nnmi.w0.wincvs5.tk/t/dq7wAALhxoQrfCQAAQnDFXQIAAADZtiiECCxIBAA/g/XQX>  today, November 4, 2019. 4 participants have already claimed their $50 reward. 𝗪𝗵𝗮𝘁 𝗮𝗯𝗼𝘂𝘁 𝘆𝗼𝘂? \n",
    "\n",
    "𝗚𝗲𝘁 𝗬𝗼𝘂𝗿 𝗙𝗥𝗘𝗘  \n",
    "$𝟱𝟬 𝗔𝗺𝗮𝘇𝗼𝗻.𝗰𝗼𝗺® \n",
    "𝗚𝗶𝗳𝘁 𝗖𝗮𝗿𝗱* <http://en658kejf4nnmi.w0.wincvs5.tk/t/dq7wAALhxoQrfCQAAQnDFXQMAAADZtiiECCxIBAA/g/XQX> \n",
    "\n",
    " <http://en658kejf4nnmi.w0.wincvs5.tk/t/dq7wAALhxoQrfCQAAQnDFXQQAAADZtiiECCxIBAA/g/XQX>\n",
    "\n",
    "Hurry, your code AZ2019 expires in 24 hours! \n",
    "Confirm your survey participation status here: <http://en658kejf4nnmi.w0.wincvs5.tk/t/dq7wAALhxoQrfCQAAQnDFXQUAAADZtiiECCxIBAA/g/XQX> \n",
    "\n",
    "* Or receive other valuable rewards or discounts valued at or above $50.00 USD. Please answer survey questions honestly; your evaluation is anonymous and answers will not affect your rewards eligibility. Independent survey not affiliated with, or sponsored by, Amazon.com®, whose trademark and/or logo is property of its owner. This is an advertisement\n",
    "\"\"\""
   ]
  },
  {
   "cell_type": "markdown",
   "metadata": {},
   "source": [
    "__Question 7.1__ Use the model you just trained, predict whether the above two messages are spam or ham. (5 points)"
   ]
  },
  {
   "cell_type": "code",
   "execution_count": 17,
   "metadata": {
    "deletable": false,
    "nbgrader": {
     "cell_type": "code",
     "checksum": "3f245afe6448274a57d5f537f05d3381",
     "grade": true,
     "grade_id": "cell-598e8fe8fcdee490",
     "locked": false,
     "points": 5,
     "schema_version": 3,
     "solution": true,
     "task": false
    }
   },
   "outputs": [
    {
     "data": {
      "text/plain": [
       "array(['ham', 'ham'], dtype=object)"
      ]
     },
     "execution_count": 17,
     "metadata": {},
     "output_type": "execute_result"
    }
   ],
   "source": [
    "# YOUR CODE HERE\n",
    "# raise NotImplementedError()\n",
    "message = [message1, message2]\n",
    "message_trans = vect2.transform(message)\n",
    "message_pred = forest_clf.predict(message_trans)\n",
    "message_pred"
   ]
  },
  {
   "cell_type": "markdown",
   "metadata": {},
   "source": [
    "__Question 7.2__ Write some code to print the probability of message1 in the above prediction."
   ]
  },
  {
   "cell_type": "code",
   "execution_count": 18,
   "metadata": {
    "deletable": false,
    "nbgrader": {
     "cell_type": "code",
     "checksum": "8eb8175e36e3799ecbcd901b96a0a0c3",
     "grade": true,
     "grade_id": "cell-8e77112eb6e93d5b",
     "locked": false,
     "points": 3,
     "schema_version": 3,
     "solution": true,
     "task": false
    }
   },
   "outputs": [
    {
     "data": {
      "text/plain": [
       "array([[0.53614862, 0.46385138]])"
      ]
     },
     "execution_count": 18,
     "metadata": {},
     "output_type": "execute_result"
    }
   ],
   "source": [
    "# YOUR CODE HERE\n",
    "# raise NotImplementedError()\n",
    "message1_pred_proba = forest_clf.predict_proba(message_trans[0,:])\n",
    "message1_pred_proba"
   ]
  },
  {
   "cell_type": "markdown",
   "metadata": {},
   "source": [
    "## 8. Model Robustness"
   ]
  },
  {
   "cell_type": "markdown",
   "metadata": {},
   "source": [
    "__Question 8.1__ Repeat step 4 through  step 6 for ten times. Print the accuracy score and the predictions of each model using the test data. After the loop, print the highest score and the lowest score of these models. (5 points)"
   ]
  },
  {
   "cell_type": "code",
   "execution_count": 19,
   "metadata": {
    "deletable": false,
    "nbgrader": {
     "cell_type": "code",
     "checksum": "fad00b0d2774c1a56bbbbe2183dec3d4",
     "grade": true,
     "grade_id": "cell-d61781f36da53e4a",
     "locked": false,
     "points": 5,
     "schema_version": 3,
     "solution": true,
     "task": false
    }
   },
   "outputs": [
    {
     "name": "stdout",
     "output_type": "stream",
     "text": [
      "   accuracy message1 message2\n",
      "0  0.718841      ham      ham\n",
      "1  0.717874      ham      ham\n",
      "2  0.718841      ham      ham\n",
      "3  0.718841      ham      ham\n",
      "4  0.718841      ham      ham\n",
      "5  0.717874      ham      ham\n",
      "6  0.718841      ham      ham\n",
      "7  0.718841      ham      ham\n",
      "8  0.717874      ham      ham\n",
      "9  0.717874      ham      ham\n",
      "highest score = 0.7188405797101449\n",
      "lowest score = 0.7178743961352657\n"
     ]
    }
   ],
   "source": [
    "from sklearn.metrics import accuracy_score\n",
    "from sklearn.feature_extraction.text import CountVectorizer\n",
    "vect = CountVectorizer()\n",
    "vect.fit_transform(corpus)\n",
    "X_test_tran = vect.transform(X_test)\n",
    "X_train_tran = vect.transform(X_train)\n",
    "message_tran = vect.transform([message1, message2])\n",
    "np.random.seed(10)\n",
    "\n",
    "def repeat_train_and_test(clf, n_repeats=10): \n",
    "    accuracy_scores = {}\n",
    "    message1_pred = {}\n",
    "    message2_pred = {}\n",
    "\n",
    "# YOUR CODE HERE\n",
    "# raise NotImplementedError()\n",
    "    for i in range(n_repeats):\n",
    "        model = clf.fit(X_train_tran, y_train)\n",
    "        y_pred = model.predict(X_test_tran)\n",
    "        message_pred = model.predict(message_tran)\n",
    "        acc = accuracy_score(y_pred, y_test)\n",
    "        accuracy_scores[i] = acc\n",
    "        message1_pred[i] = message_pred[0]\n",
    "        message2_pred[i] = message_pred[1]\n",
    "    \n",
    "\n",
    "\n",
    "    df_perf = pd.DataFrame({\n",
    "            'accuracy' : accuracy_scores,\n",
    "            'message1' : message1_pred,\n",
    "            'message2' : message1_pred,\n",
    "        })\n",
    "    \n",
    "    high_score = df_perf['accuracy'].max()\n",
    "    low_score = df_perf['accuracy'].min()\n",
    "    print(df_perf)\n",
    "    print(f'highest score = {high_score}\\nlowest score = {low_score}')\n",
    "    \n",
    "    return df_perf\n",
    "\n",
    "forest_clf_model = RandomForestClassifier(n_estimators=50)\n",
    "df_perf = repeat_train_and_test(forest_clf_model, 10)"
   ]
  },
  {
   "cell_type": "markdown",
   "metadata": {},
   "source": [
    "__Question 8.2__ Based on teh above results, what would you recommend your customer to do when she want to make classification using some machine learning algorithms which the vendor claims an 95% accuracy? (5 points)"
   ]
  },
  {
   "cell_type": "markdown",
   "metadata": {
    "deletable": false,
    "editable": false,
    "nbgrader": {
     "cell_type": "markdown",
     "checksum": "a3f141e5b64db9242aeb19c67f8a45f1",
     "grade": false,
     "grade_id": "cell-82ca60cb115cab5c",
     "locked": true,
     "points": 5,
     "schema_version": 3,
     "solution": false,
     "task": true
    }
   },
   "source": [
    "Write your response below:"
   ]
  },
  {
   "cell_type": "markdown",
   "metadata": {},
   "source": [
    "## Answer to Q8.2: \n",
    "She can test those machine learning algorithm on some test data that models have not seen before and check if the 95% accuracy of the model makes sense or not in other test data. Since the model that the vendor claims 95% accuracy may be the accuracy on training set, not validation set or test set. On testing set, the machine learning algorithms could be less than the customer expects. \n",
    "\n",
    "Hence when the vendor claim an 95% accuracy, the customer is suggested to make sure if the machine learning model is robust or not, if the model has lower accuracy on other data. In the results above, we can see the accuracy of decision tree is aroun 0.71 after 10 times repeating testing, which is a robust model."
   ]
  },
  {
   "cell_type": "markdown",
   "metadata": {},
   "source": [
    "## 9. TFIDF model\n",
    "\n",
    "Recall that raw word counts lead to features which put too much weights on words that appear too frequently. One approach to fix this issue is known as term frequency-inverse document frequency (TF–IDF) which weights the word counts by a statistics of how often they appear in the documents. You can use the `sklearn.feature_extraction.text.TfidfVectorizer` to preprocee the data and then train and test a classification model. (5 points)"
   ]
  },
  {
   "cell_type": "markdown",
   "metadata": {},
   "source": [
    "__Question 9.1__ Write some code below to transform the corpus using the TFIDF model, then train a RandomForestClassifier model and test the model in the same way as you did in Step 8."
   ]
  },
  {
   "cell_type": "code",
   "execution_count": 20,
   "metadata": {
    "deletable": false,
    "nbgrader": {
     "cell_type": "code",
     "checksum": "d0e7ac0241599778b09b4b4477565f10",
     "grade": true,
     "grade_id": "cell-51a73ef12b3855be",
     "locked": false,
     "points": 5,
     "schema_version": 3,
     "solution": true,
     "task": false
    }
   },
   "outputs": [
    {
     "name": "stdout",
     "output_type": "stream",
     "text": [
      "   accuracy message1 message2\n",
      "0  0.717874      ham      ham\n",
      "1  0.717874      ham      ham\n",
      "2  0.718841      ham      ham\n",
      "3  0.717874      ham      ham\n",
      "4  0.718841      ham      ham\n",
      "5  0.718841      ham      ham\n",
      "6  0.717874      ham      ham\n",
      "7  0.718841      ham      ham\n",
      "8  0.719807      ham      ham\n",
      "9  0.717874      ham      ham\n",
      "highest score = 0.7198067632850241\n",
      "lowest score = 0.7178743961352657\n"
     ]
    },
    {
     "data": {
      "text/html": [
       "<div>\n",
       "<style scoped>\n",
       "    .dataframe tbody tr th:only-of-type {\n",
       "        vertical-align: middle;\n",
       "    }\n",
       "\n",
       "    .dataframe tbody tr th {\n",
       "        vertical-align: top;\n",
       "    }\n",
       "\n",
       "    .dataframe thead th {\n",
       "        text-align: right;\n",
       "    }\n",
       "</style>\n",
       "<table border=\"1\" class=\"dataframe\">\n",
       "  <thead>\n",
       "    <tr style=\"text-align: right;\">\n",
       "      <th></th>\n",
       "      <th>accuracy</th>\n",
       "      <th>message1</th>\n",
       "      <th>message2</th>\n",
       "    </tr>\n",
       "  </thead>\n",
       "  <tbody>\n",
       "    <tr>\n",
       "      <th>0</th>\n",
       "      <td>0.717874</td>\n",
       "      <td>ham</td>\n",
       "      <td>ham</td>\n",
       "    </tr>\n",
       "    <tr>\n",
       "      <th>1</th>\n",
       "      <td>0.717874</td>\n",
       "      <td>ham</td>\n",
       "      <td>ham</td>\n",
       "    </tr>\n",
       "    <tr>\n",
       "      <th>2</th>\n",
       "      <td>0.718841</td>\n",
       "      <td>ham</td>\n",
       "      <td>ham</td>\n",
       "    </tr>\n",
       "    <tr>\n",
       "      <th>3</th>\n",
       "      <td>0.717874</td>\n",
       "      <td>ham</td>\n",
       "      <td>ham</td>\n",
       "    </tr>\n",
       "    <tr>\n",
       "      <th>4</th>\n",
       "      <td>0.718841</td>\n",
       "      <td>ham</td>\n",
       "      <td>ham</td>\n",
       "    </tr>\n",
       "    <tr>\n",
       "      <th>5</th>\n",
       "      <td>0.718841</td>\n",
       "      <td>ham</td>\n",
       "      <td>ham</td>\n",
       "    </tr>\n",
       "    <tr>\n",
       "      <th>6</th>\n",
       "      <td>0.717874</td>\n",
       "      <td>ham</td>\n",
       "      <td>ham</td>\n",
       "    </tr>\n",
       "    <tr>\n",
       "      <th>7</th>\n",
       "      <td>0.718841</td>\n",
       "      <td>ham</td>\n",
       "      <td>ham</td>\n",
       "    </tr>\n",
       "    <tr>\n",
       "      <th>8</th>\n",
       "      <td>0.719807</td>\n",
       "      <td>ham</td>\n",
       "      <td>ham</td>\n",
       "    </tr>\n",
       "    <tr>\n",
       "      <th>9</th>\n",
       "      <td>0.717874</td>\n",
       "      <td>ham</td>\n",
       "      <td>ham</td>\n",
       "    </tr>\n",
       "  </tbody>\n",
       "</table>\n",
       "</div>"
      ],
      "text/plain": [
       "   accuracy message1 message2\n",
       "0  0.717874      ham      ham\n",
       "1  0.717874      ham      ham\n",
       "2  0.718841      ham      ham\n",
       "3  0.717874      ham      ham\n",
       "4  0.718841      ham      ham\n",
       "5  0.718841      ham      ham\n",
       "6  0.717874      ham      ham\n",
       "7  0.718841      ham      ham\n",
       "8  0.719807      ham      ham\n",
       "9  0.717874      ham      ham"
      ]
     },
     "execution_count": 20,
     "metadata": {},
     "output_type": "execute_result"
    }
   ],
   "source": [
    "# YOUR CODE HERE\n",
    "# raise NotImplementedError()\n",
    "from sklearn.feature_extraction.text import TfidfVectorizer\n",
    "vect2 = TfidfVectorizer()\n",
    "_ = vect2.fit_transform(corpus)\n",
    "X_train_tran = vect2.transform(X_train)\n",
    "X_test_tran = vect2.transform(X_test)\n",
    "message_tran = vect2.transform([message1, message2])\n",
    "forest_tdif_model = RandomForestClassifier(n_estimators=50)\n",
    "repeat_train_and_test(forest_tdif_model, 10)"
   ]
  },
  {
   "cell_type": "markdown",
   "metadata": {},
   "source": [
    "__Question 9.2__ Write down any thought or discovery that you may have based upon the above results. (5 points)"
   ]
  },
  {
   "cell_type": "markdown",
   "metadata": {
    "deletable": false,
    "editable": false,
    "nbgrader": {
     "cell_type": "markdown",
     "checksum": "94e064a675d7f02f91f2580e3fc8fa84",
     "grade": false,
     "grade_id": "cell-72b1d651a694586e",
     "locked": true,
     "points": 5,
     "schema_version": 3,
     "solution": false,
     "task": true
    }
   },
   "source": [
    "Write your thought or discovery."
   ]
  },
  {
   "cell_type": "markdown",
   "metadata": {},
   "source": [
    "## Answer to Q9.2：\n",
    "In the results above, we can see that the random forest classifier is a robust model, since after repeating training and testing the model 10 times, the test accuracy of random forest classifier is still about 0.71, without significant changes. Additionally, the test accuracy of random forest using TF-IDF is similar to the test accuracy of random forest using count vectorizer."
   ]
  },
  {
   "cell_type": "markdown",
   "metadata": {},
   "source": [
    "## 10. Classification Using Naive Bayes"
   ]
  },
  {
   "cell_type": "markdown",
   "metadata": {},
   "source": [
    "In the class, we have discussed that Naive Bayes is a great choice for text analysis. Now train a Naive Bayes model to classify the spam emails. You may use the `CountVectorizer` model to preprocess the data. For the Naive Bayes, you may use the class `sklearn.naive_bayes.MultinomialNB`.\n",
    "\n",
    "__Question 10_1__ Write some code to train and test a Naive Bayes modelas what you did in Step 9. (5 poinst)"
   ]
  },
  {
   "cell_type": "code",
   "execution_count": 21,
   "metadata": {
    "deletable": false,
    "nbgrader": {
     "cell_type": "code",
     "checksum": "435d4ccd85a336d9c40dd2b43111ac56",
     "grade": true,
     "grade_id": "cell-e3dac8d4df0812df",
     "locked": false,
     "points": 5,
     "schema_version": 3,
     "solution": true,
     "task": false
    }
   },
   "outputs": [
    {
     "name": "stdout",
     "output_type": "stream",
     "text": [
      "   accuracy message1 message2\n",
      "0  0.682126      ham      ham\n",
      "1  0.682126      ham      ham\n",
      "2  0.682126      ham      ham\n",
      "3  0.682126      ham      ham\n",
      "4  0.682126      ham      ham\n",
      "5  0.682126      ham      ham\n",
      "6  0.682126      ham      ham\n",
      "7  0.682126      ham      ham\n",
      "8  0.682126      ham      ham\n",
      "9  0.682126      ham      ham\n",
      "highest score = 0.6821256038647343\n",
      "lowest score = 0.6821256038647343\n"
     ]
    }
   ],
   "source": [
    "# YOUR CODE HERE\n",
    "# raise NotImplementedError()\n",
    "from sklearn.naive_bayes import MultinomialNB\n",
    "\n",
    "from sklearn.feature_extraction.text import CountVectorizer\n",
    "vect3 = CountVectorizer()\n",
    "vect3.fit_transform(corpus)\n",
    "X_train_tran = vect3.transform(X_train)\n",
    "X_test_tran = vect3.transform(X_test)\n",
    "message_tran = vect3.transform([message1, message2])\n",
    "navive_bayes_model = MultinomialNB()\n",
    "_ = repeat_train_and_test(navive_bayes_model, 10)\n"
   ]
  },
  {
   "cell_type": "markdown",
   "metadata": {},
   "source": [
    "## 11. Classification Using SVM"
   ]
  },
  {
   "cell_type": "markdown",
   "metadata": {},
   "source": [
    "__Question 11_1__ Write code to train a SVM classifier. (5 points)"
   ]
  },
  {
   "cell_type": "code",
   "execution_count": 22,
   "metadata": {
    "deletable": false,
    "nbgrader": {
     "cell_type": "code",
     "checksum": "42183b36ade814d372564acae5ea0c8a",
     "grade": true,
     "grade_id": "cell-053e0b8db303cd45",
     "locked": false,
     "points": 5,
     "schema_version": 3,
     "solution": true,
     "task": false
    }
   },
   "outputs": [
    {
     "name": "stdout",
     "output_type": "stream",
     "text": [
      "   accuracy message1 message2\n",
      "0   0.71401      ham      ham\n",
      "1   0.71401      ham      ham\n",
      "2   0.71401      ham      ham\n",
      "3   0.71401      ham      ham\n",
      "4   0.71401      ham      ham\n",
      "5   0.71401      ham      ham\n",
      "6   0.71401      ham      ham\n",
      "7   0.71401      ham      ham\n",
      "8   0.71401      ham      ham\n",
      "9   0.71401      ham      ham\n",
      "highest score = 0.7140096618357488\n",
      "lowest score = 0.7140096618357488\n"
     ]
    }
   ],
   "source": [
    "# YOUR CODE HERE\n",
    "# raise NotImplementedError()\n",
    "from sklearn.svm import SVC\n",
    "\n",
    "X_test_tran = vect3.transform(X_test)\n",
    "message_tran = vect3.transform([message1, message2])\n",
    "X_train_tran = vect3.transform(X_train)\n",
    "svm_model  = SVC(kernel='rbf')\n",
    "_ = repeat_train_and_test(svm_model, 10)\n"
   ]
  },
  {
   "cell_type": "markdown",
   "metadata": {},
   "source": [
    "__Question 11_2__ Repeat Question 10_1 but now force the SVM classifier to use a linear kernel and set parameter C=2. (5 points)"
   ]
  },
  {
   "cell_type": "code",
   "execution_count": 23,
   "metadata": {
    "deletable": false,
    "nbgrader": {
     "cell_type": "code",
     "checksum": "faca187c7ae2ce665dfb0ec32af602d3",
     "grade": true,
     "grade_id": "cell-cea362db2432353a",
     "locked": false,
     "points": 5,
     "schema_version": 3,
     "solution": true,
     "task": false
    }
   },
   "outputs": [
    {
     "name": "stdout",
     "output_type": "stream",
     "text": [
      "   accuracy message1 message2\n",
      "0  0.716908      ham      ham\n",
      "1  0.716908      ham      ham\n",
      "2  0.716908      ham      ham\n",
      "3  0.716908      ham      ham\n",
      "4  0.716908      ham      ham\n",
      "5  0.716908      ham      ham\n",
      "6  0.716908      ham      ham\n",
      "7  0.716908      ham      ham\n",
      "8  0.716908      ham      ham\n",
      "9  0.716908      ham      ham\n",
      "highest score = 0.7169082125603865\n",
      "lowest score = 0.7169082125603865\n"
     ]
    }
   ],
   "source": [
    "# YOUR CODE HERE\n",
    "# raise NotImplementedError()\n",
    "from sklearn.svm import SVC\n",
    "\n",
    "X_test_tran = vect3.transform(X_test)\n",
    "message_tran = vect3.transform([message1, message2])\n",
    "\n",
    "X_train_tran = vect3.transform(X_train)\n",
    "linear_svm_model  = SVC(kernel = 'linear', C=2)\n",
    "_ = repeat_train_and_test(linear_svm_model, 10)\n"
   ]
  },
  {
   "cell_type": "markdown",
   "metadata": {},
   "source": [
    "__Question 11_3__ Based on the above results, do you think that a nonlinear kernel always performs better than a linear kernel? Justify your answer. (5 points)"
   ]
  },
  {
   "cell_type": "markdown",
   "metadata": {
    "deletable": false,
    "editable": false,
    "nbgrader": {
     "cell_type": "markdown",
     "checksum": "ffcc23f7de1fe6f8539906bcd8adde69",
     "grade": false,
     "grade_id": "cell-79c7881515dadc6d",
     "locked": true,
     "points": 5,
     "schema_version": 3,
     "solution": false,
     "task": true
    }
   },
   "source": [
    "1. Is a nonlinear kernel always performs better than a linear kernel?\n",
    "2. Your justification:"
   ]
  },
  {
   "cell_type": "markdown",
   "metadata": {},
   "source": [
    "## Answer to Q11.3：\n",
    "1. nonlinear kernel is not always better than a linear kernel\n",
    "2. This depends on the data distribution. if the distributions of features are not linear separable (data can not be separated by using a line), then non-linear kernel is preferred in this case. Otherwise, when data can be separated by a line, linear kernel may perform better than non-linear kernel"
   ]
  },
  {
   "cell_type": "markdown",
   "metadata": {},
   "source": [
    "## 12. Classifiaction Using Logistic Regression"
   ]
  },
  {
   "cell_type": "markdown",
   "metadata": {},
   "source": [
    "__Question 12_1__ Write some code to train a Logistic Regression classifier. You can setthe `max_iter` to 1000 so that the algorithm will converge without warning.(5 points)"
   ]
  },
  {
   "cell_type": "code",
   "execution_count": 24,
   "metadata": {
    "deletable": false,
    "nbgrader": {
     "cell_type": "code",
     "checksum": "da83e96194fe7e112bc5405d3a2fe885",
     "grade": true,
     "grade_id": "cell-fc498185c056ee72",
     "locked": false,
     "points": 5,
     "schema_version": 3,
     "solution": true,
     "task": false
    }
   },
   "outputs": [
    {
     "name": "stdout",
     "output_type": "stream",
     "text": [
      "   accuracy message1 message2\n",
      "0  0.716908     spam     spam\n",
      "1  0.716908     spam     spam\n",
      "2  0.716908     spam     spam\n",
      "3  0.716908     spam     spam\n",
      "4  0.716908     spam     spam\n",
      "5  0.716908     spam     spam\n",
      "6  0.716908     spam     spam\n",
      "7  0.716908     spam     spam\n",
      "8  0.716908     spam     spam\n",
      "9  0.716908     spam     spam\n",
      "highest score = 0.7169082125603865\n",
      "lowest score = 0.7169082125603865\n"
     ]
    }
   ],
   "source": [
    "# YOUR CODE HERE\n",
    "# raise NotImplementedError()\n",
    "\n",
    "from sklearn.linear_model import LogisticRegression\n",
    "X_test_tran = vect3.transform(X_test)\n",
    "X_train_tran = vect3.transform(X_train)\n",
    "message_tran = vect3.transform([message1, message2])\n",
    "\n",
    "\n",
    "logistic_model = LogisticRegression(max_iter = 1000)\n",
    "_ = repeat_train_and_test(logistic_model, 10)\n"
   ]
  },
  {
   "cell_type": "markdown",
   "metadata": {},
   "source": [
    "__Question 12_2__. Logistic Regression classifier comes with a probability estimation. Print the probability distributions for the predictions on the two messages. (5 points)"
   ]
  },
  {
   "cell_type": "code",
   "execution_count": 25,
   "metadata": {
    "deletable": false,
    "nbgrader": {
     "cell_type": "code",
     "checksum": "5319228f8a1a856dd119cf8f00e1a355",
     "grade": true,
     "grade_id": "cell-306743db1dc23f47",
     "locked": false,
     "points": 5,
     "schema_version": 3,
     "solution": true,
     "task": false
    }
   },
   "outputs": [
    {
     "data": {
      "text/plain": [
       "array([[0.29556661, 0.70443339],\n",
       "       [0.29556661, 0.70443339]])"
      ]
     },
     "execution_count": 25,
     "metadata": {},
     "output_type": "execute_result"
    }
   ],
   "source": [
    "# YOUR CODE HERE\n",
    "# raise NotImplementedError()\n",
    "clf = logistic_model.fit(X_train_tran,y_train)\n",
    "pred_prob = clf.predict_proba(message_tran)\n",
    "pred_prob"
   ]
  },
  {
   "cell_type": "markdown",
   "metadata": {},
   "source": [
    "## 13. Compare the Performance of Multiple Classifiers"
   ]
  },
  {
   "cell_type": "markdown",
   "metadata": {},
   "source": [
    "__Question 13.1__ Complete the following code to compare the performance of the following classifier.\n",
    "\n",
    "```\n",
    "LogisticRegression\n",
    "NaiveBayes\n",
    "RandomForest\n",
    "SVC-Rbf with rbf kernel\n",
    "SVC-Linear with linear kernel\n",
    "KNN\n",
    "DecisionTree\n",
    "```"
   ]
  },
  {
   "cell_type": "code",
   "execution_count": 34,
   "metadata": {
    "deletable": false,
    "nbgrader": {
     "cell_type": "code",
     "checksum": "86b1ec1026b9843ee008b9f99df133ab",
     "grade": true,
     "grade_id": "cell-2ff1a8861795ad61",
     "locked": false,
     "points": 10,
     "schema_version": 3,
     "solution": true,
     "task": false
    }
   },
   "outputs": [],
   "source": [
    "from sklearn.model_selection import train_test_split\n",
    "\n",
    "from sklearn.feature_extraction.text import TfidfVectorizer, CountVectorizer\n",
    "\n",
    "from sklearn.linear_model import LogisticRegression\n",
    "from sklearn.naive_bayes import MultinomialNB\n",
    "from sklearn.tree import DecisionTreeClassifier\n",
    "from sklearn.linear_model import LogisticRegression\n",
    "from sklearn.neighbors import KNeighborsClassifier\n",
    "from sklearn.ensemble import  RandomForestClassifier\n",
    "from sklearn.svm import SVC\n",
    "from sklearn.neighbors import KNeighborsClassifier\n",
    "from sklearn.metrics import accuracy_score\n",
    "\n",
    "X_train, X_test, y_train, y_test = train_test_split(df[\"text\"], df[\"label\"], test_size = 0.2, random_state = 10)\n",
    " \n",
    "models = {\"LogisticRegression\":LogisticRegression(max_iter = 1000),\n",
    "            \"MultinomialNB\":MultinomialNB(),\n",
    "            \"RandomForestClassifier\":RandomForestClassifier(),\n",
    "            \"SVC-rbf\":SVC(kernel='rbf'),\n",
    "            \"SVC-linear\":SVC(kernel='linear'),\n",
    "            \"KNN\":KNeighborsClassifier(),\n",
    "            \"DecisionTree\":DecisionTreeClassifier()}\n",
    "\n",
    "\n",
    "CountVectorizer_accuracy = {}\n",
    "TfidfVectorizer_accuracy = {}\n",
    "\n",
    "# YOUR CODE HERE\n",
    "# raise NotImplementedError()\n",
    "count_vec = CountVectorizer()\n",
    "X_train_tran_cnt = count_vec.fit_transform(X_train)\n",
    "X_test_tran_cnt = count_vec.transform(X_test)\n",
    "\n",
    "tfidf_vec = TfidfVectorizer()\n",
    "X_train_tran_tfidf = tfidf_vec.fit_transform(X_train)\n",
    "X_test_tran_tfidf = tfidf_vec.transform(X_test)\n",
    "\n",
    "for model_name in models.keys():\n",
    "    # Using CountVector transformation\n",
    "    clf = models[model_name]\n",
    "    model = clf.fit(X_train_tran_cnt, y_train)\n",
    "    y_test_pred = model.predict(X_test_tran_cnt)\n",
    "    test_acc = accuracy_score(y_test_pred, y_test)\n",
    "    CountVectorizer_accuracy[model_name] = test_acc\n",
    "    \n",
    "    # Using TFIDF Vector transformation\n",
    "    clf = models[model_name]\n",
    "    model = clf.fit(X_train_tran_tfidf, y_train)\n",
    "    y_test_pred = model.predict(X_test_tran_tfidf)\n",
    "    test_acc = accuracy_score(y_test_pred, y_test)\n",
    "    TfidfVectorizer_accuracy[model_name] = test_acc\n",
    "\n"
   ]
  },
  {
   "cell_type": "code",
   "execution_count": 35,
   "metadata": {},
   "outputs": [
    {
     "data": {
      "text/html": [
       "<div>\n",
       "<style scoped>\n",
       "    .dataframe tbody tr th:only-of-type {\n",
       "        vertical-align: middle;\n",
       "    }\n",
       "\n",
       "    .dataframe tbody tr th {\n",
       "        vertical-align: top;\n",
       "    }\n",
       "\n",
       "    .dataframe thead th {\n",
       "        text-align: right;\n",
       "    }\n",
       "</style>\n",
       "<table border=\"1\" class=\"dataframe\">\n",
       "  <thead>\n",
       "    <tr style=\"text-align: right;\">\n",
       "      <th></th>\n",
       "      <th>CountVectorizer</th>\n",
       "      <th>TfidfVectorizer</th>\n",
       "    </tr>\n",
       "  </thead>\n",
       "  <tbody>\n",
       "    <tr>\n",
       "      <th>LogisticRegression</th>\n",
       "      <td>0.979710</td>\n",
       "      <td>0.981643</td>\n",
       "    </tr>\n",
       "    <tr>\n",
       "      <th>MultinomialNB</th>\n",
       "      <td>0.972947</td>\n",
       "      <td>0.879227</td>\n",
       "    </tr>\n",
       "    <tr>\n",
       "      <th>RandomForestClassifier</th>\n",
       "      <td>0.967150</td>\n",
       "      <td>0.973913</td>\n",
       "    </tr>\n",
       "    <tr>\n",
       "      <th>SVC-rbf</th>\n",
       "      <td>0.957488</td>\n",
       "      <td>0.985507</td>\n",
       "    </tr>\n",
       "    <tr>\n",
       "      <th>SVC-linear</th>\n",
       "      <td>0.966184</td>\n",
       "      <td>0.989372</td>\n",
       "    </tr>\n",
       "    <tr>\n",
       "      <th>KNN</th>\n",
       "      <td>0.863768</td>\n",
       "      <td>0.959420</td>\n",
       "    </tr>\n",
       "    <tr>\n",
       "      <th>DecisionTree</th>\n",
       "      <td>0.946860</td>\n",
       "      <td>0.942995</td>\n",
       "    </tr>\n",
       "  </tbody>\n",
       "</table>\n",
       "</div>"
      ],
      "text/plain": [
       "                        CountVectorizer  TfidfVectorizer\n",
       "LogisticRegression             0.979710         0.981643\n",
       "MultinomialNB                  0.972947         0.879227\n",
       "RandomForestClassifier         0.967150         0.973913\n",
       "SVC-rbf                        0.957488         0.985507\n",
       "SVC-linear                     0.966184         0.989372\n",
       "KNN                            0.863768         0.959420\n",
       "DecisionTree                   0.946860         0.942995"
      ]
     },
     "execution_count": 35,
     "metadata": {},
     "output_type": "execute_result"
    }
   ],
   "source": [
    "df_perf = pd.DataFrame({'CountVectorizer': CountVectorizer_accuracy,\n",
    "                       'TfidfVectorizer': TfidfVectorizer_accuracy})\n",
    "df_perf"
   ]
  },
  {
   "cell_type": "markdown",
   "metadata": {},
   "source": [
    "## 14.  SMS Message Classification\n",
    "\n",
    "Using the same method, you can classify other dataset encoded in other language."
   ]
  },
  {
   "cell_type": "code",
   "execution_count": 27,
   "metadata": {},
   "outputs": [],
   "source": [
    "df = pd.read_csv(\"https://www.palmetto.clemson.edu/dsci/datasets/kaggle/spam.csv\", encoding='latin-1')"
   ]
  },
  {
   "cell_type": "code",
   "execution_count": 28,
   "metadata": {},
   "outputs": [
    {
     "name": "stdout",
     "output_type": "stream",
     "text": [
      "(5572, 5)\n"
     ]
    },
    {
     "data": {
      "text/html": [
       "<div>\n",
       "<style scoped>\n",
       "    .dataframe tbody tr th:only-of-type {\n",
       "        vertical-align: middle;\n",
       "    }\n",
       "\n",
       "    .dataframe tbody tr th {\n",
       "        vertical-align: top;\n",
       "    }\n",
       "\n",
       "    .dataframe thead th {\n",
       "        text-align: right;\n",
       "    }\n",
       "</style>\n",
       "<table border=\"1\" class=\"dataframe\">\n",
       "  <thead>\n",
       "    <tr style=\"text-align: right;\">\n",
       "      <th></th>\n",
       "      <th>label</th>\n",
       "      <th>text</th>\n",
       "      <th>Unnamed: 2</th>\n",
       "      <th>Unnamed: 3</th>\n",
       "      <th>Unnamed: 4</th>\n",
       "    </tr>\n",
       "  </thead>\n",
       "  <tbody>\n",
       "    <tr>\n",
       "      <th>0</th>\n",
       "      <td>ham</td>\n",
       "      <td>Go until jurong point, crazy.. Available only ...</td>\n",
       "      <td>NaN</td>\n",
       "      <td>NaN</td>\n",
       "      <td>NaN</td>\n",
       "    </tr>\n",
       "    <tr>\n",
       "      <th>1</th>\n",
       "      <td>ham</td>\n",
       "      <td>Ok lar... Joking wif u oni...</td>\n",
       "      <td>NaN</td>\n",
       "      <td>NaN</td>\n",
       "      <td>NaN</td>\n",
       "    </tr>\n",
       "    <tr>\n",
       "      <th>2</th>\n",
       "      <td>spam</td>\n",
       "      <td>Free entry in 2 a wkly comp to win FA Cup fina...</td>\n",
       "      <td>NaN</td>\n",
       "      <td>NaN</td>\n",
       "      <td>NaN</td>\n",
       "    </tr>\n",
       "    <tr>\n",
       "      <th>3</th>\n",
       "      <td>ham</td>\n",
       "      <td>U dun say so early hor... U c already then say...</td>\n",
       "      <td>NaN</td>\n",
       "      <td>NaN</td>\n",
       "      <td>NaN</td>\n",
       "    </tr>\n",
       "    <tr>\n",
       "      <th>4</th>\n",
       "      <td>ham</td>\n",
       "      <td>Nah I don't think he goes to usf, he lives aro...</td>\n",
       "      <td>NaN</td>\n",
       "      <td>NaN</td>\n",
       "      <td>NaN</td>\n",
       "    </tr>\n",
       "  </tbody>\n",
       "</table>\n",
       "</div>"
      ],
      "text/plain": [
       "  label                                               text Unnamed: 2  \\\n",
       "0   ham  Go until jurong point, crazy.. Available only ...        NaN   \n",
       "1   ham                      Ok lar... Joking wif u oni...        NaN   \n",
       "2  spam  Free entry in 2 a wkly comp to win FA Cup fina...        NaN   \n",
       "3   ham  U dun say so early hor... U c already then say...        NaN   \n",
       "4   ham  Nah I don't think he goes to usf, he lives aro...        NaN   \n",
       "\n",
       "  Unnamed: 3 Unnamed: 4  \n",
       "0        NaN        NaN  \n",
       "1        NaN        NaN  \n",
       "2        NaN        NaN  \n",
       "3        NaN        NaN  \n",
       "4        NaN        NaN  "
      ]
     },
     "execution_count": 28,
     "metadata": {},
     "output_type": "execute_result"
    }
   ],
   "source": [
    "df.rename(columns={'v1': 'label', 'v2': 'text'}, inplace=True)\n",
    "\n",
    "print(df.shape)\n",
    "df.head()"
   ]
  },
  {
   "cell_type": "markdown",
   "metadata": {},
   "source": [
    "__Question 14.1__ Complete the following code to test the performance of the following classifers. (5 points)\n",
    "\n",
    "```\n",
    "LogisticRegression\n",
    "NaiveBayes\n",
    "RandomForest\n",
    "SVC-Rbf with rbf kernel\n",
    "SVC-Linear with linear kernel\n",
    "KNN\n",
    "DecisionTree\n",
    "```"
   ]
  },
  {
   "cell_type": "code",
   "execution_count": 29,
   "metadata": {
    "deletable": false,
    "nbgrader": {
     "cell_type": "code",
     "checksum": "85aee7bfc63095593f7863cdc0625fd8",
     "grade": true,
     "grade_id": "cell-4bf7cb7294549f89",
     "locked": false,
     "points": 5,
     "schema_version": 3,
     "solution": true,
     "task": false
    }
   },
   "outputs": [],
   "source": [
    "from sklearn.model_selection import train_test_split\n",
    "\n",
    "from sklearn.feature_extraction.text import TfidfVectorizer, CountVectorizer\n",
    "\n",
    "from sklearn.linear_model import LogisticRegression\n",
    "from sklearn.naive_bayes import MultinomialNB\n",
    "from sklearn.tree import DecisionTreeClassifier\n",
    "from sklearn.linear_model import LogisticRegression\n",
    "from sklearn.neighbors import KNeighborsClassifier\n",
    "from sklearn.svm import SVC\n",
    "\n",
    "\n",
    "X_train, X_test, y_train, y_test = train_test_split(df[\"text\"], df[\"label\"], test_size = 0.2, random_state = 10)\n",
    " \n",
    "models = {}\n",
    "CountVectorizer_accuracy = {}\n",
    "TfidfVectorizer_accuracy = {}\n",
    "\n",
    "# YOUR CODE HERE\n",
    "# raise NotImplementedError()\n",
    "\n",
    "models = {\"LogisticRegression\":LogisticRegression(max_iter = 1000),\n",
    "            \"MultinomialNB\":MultinomialNB(),\n",
    "            \"RandomForestClassifier\":RandomForestClassifier(),\n",
    "            \"SVC-rbf\":SVC(kernel='rbf'),\n",
    "            \"SVC-linear\":SVC(kernel='linear'),\n",
    "            \"KNN\":KNeighborsClassifier(),\n",
    "            \"DecisionTree\":DecisionTreeClassifier()}\n",
    "\n",
    "\n",
    "count_vec = CountVectorizer()\n",
    "X_train_tran_cnt = count_vec.fit_transform(X_train)\n",
    "X_test_tran_cnt = count_vec.transform(X_test)\n",
    "\n",
    "tfidf_vec = TfidfVectorizer()\n",
    "X_train_tran_tfidf = tfidf_vec.fit_transform(X_train)\n",
    "X_test_tran_tfidf = tfidf_vec.transform(X_test)\n",
    "\n",
    "for model_name in models.keys():\n",
    "    # Using CountVector transformation\n",
    "    clf = models[model_name]\n",
    "    model = clf.fit(X_train_tran_cnt, y_train)\n",
    "    y_test_pred = model.predict(X_test_tran_cnt)\n",
    "    test_acc = accuracy_score(y_test_pred, y_test)\n",
    "    CountVectorizer_accuracy[model_name] = test_acc\n",
    "    \n",
    "    # Using TFIDF Vector transformation\n",
    "    clf = models[model_name]\n",
    "    model = clf.fit(X_train_tran_tfidf, y_train)\n",
    "    y_test_pred = model.predict(X_test_tran_tfidf)\n",
    "    test_acc = accuracy_score(y_test_pred, y_test)\n",
    "    TfidfVectorizer_accuracy[model_name] = test_acc\n",
    "\n",
    "\n"
   ]
  },
  {
   "cell_type": "code",
   "execution_count": 30,
   "metadata": {},
   "outputs": [
    {
     "data": {
      "text/html": [
       "<div>\n",
       "<style scoped>\n",
       "    .dataframe tbody tr th:only-of-type {\n",
       "        vertical-align: middle;\n",
       "    }\n",
       "\n",
       "    .dataframe tbody tr th {\n",
       "        vertical-align: top;\n",
       "    }\n",
       "\n",
       "    .dataframe thead th {\n",
       "        text-align: right;\n",
       "    }\n",
       "</style>\n",
       "<table border=\"1\" class=\"dataframe\">\n",
       "  <thead>\n",
       "    <tr style=\"text-align: right;\">\n",
       "      <th></th>\n",
       "      <th>CountVectorizer</th>\n",
       "      <th>TfidfVectorizer</th>\n",
       "    </tr>\n",
       "  </thead>\n",
       "  <tbody>\n",
       "    <tr>\n",
       "      <th>LogisticRegression</th>\n",
       "      <td>0.978475</td>\n",
       "      <td>0.966816</td>\n",
       "    </tr>\n",
       "    <tr>\n",
       "      <th>MultinomialNB</th>\n",
       "      <td>0.988341</td>\n",
       "      <td>0.959641</td>\n",
       "    </tr>\n",
       "    <tr>\n",
       "      <th>RandomForestClassifier</th>\n",
       "      <td>0.971300</td>\n",
       "      <td>0.971300</td>\n",
       "    </tr>\n",
       "    <tr>\n",
       "      <th>SVC-rbf</th>\n",
       "      <td>0.977578</td>\n",
       "      <td>0.978475</td>\n",
       "    </tr>\n",
       "    <tr>\n",
       "      <th>SVC-linear</th>\n",
       "      <td>0.983857</td>\n",
       "      <td>0.985650</td>\n",
       "    </tr>\n",
       "    <tr>\n",
       "      <th>KNN</th>\n",
       "      <td>0.912108</td>\n",
       "      <td>0.904036</td>\n",
       "    </tr>\n",
       "    <tr>\n",
       "      <th>DecisionTree</th>\n",
       "      <td>0.966816</td>\n",
       "      <td>0.960538</td>\n",
       "    </tr>\n",
       "  </tbody>\n",
       "</table>\n",
       "</div>"
      ],
      "text/plain": [
       "                        CountVectorizer  TfidfVectorizer\n",
       "LogisticRegression             0.978475         0.966816\n",
       "MultinomialNB                  0.988341         0.959641\n",
       "RandomForestClassifier         0.971300         0.971300\n",
       "SVC-rbf                        0.977578         0.978475\n",
       "SVC-linear                     0.983857         0.985650\n",
       "KNN                            0.912108         0.904036\n",
       "DecisionTree                   0.966816         0.960538"
      ]
     },
     "execution_count": 30,
     "metadata": {},
     "output_type": "execute_result"
    }
   ],
   "source": [
    "df_perf = pd.DataFrame({'CountVectorizer': CountVectorizer_accuracy,\n",
    "                       'TfidfVectorizer': TfidfVectorizer_accuracy})\n",
    "df_perf"
   ]
  },
  {
   "cell_type": "markdown",
   "metadata": {},
   "source": [
    "__Question 14.2__ Write any observation you may have in the above results. (5 points)"
   ]
  },
  {
   "cell_type": "markdown",
   "metadata": {
    "deletable": false,
    "editable": false,
    "nbgrader": {
     "cell_type": "markdown",
     "checksum": "6db66125174881106a72258789f923a4",
     "grade": false,
     "grade_id": "cell-4bddc010b3e84156",
     "locked": true,
     "points": 5,
     "schema_version": 3,
     "solution": false,
     "task": true
    }
   },
   "source": [
    "Write your observation and/or findings."
   ]
  },
  {
   "cell_type": "markdown",
   "metadata": {},
   "source": [
    "## Answer to Q14.2:\n",
    "From the test accuracy performances from different models above, we can see all models perform very well with test accuracy above 90% when using both count verctorizer and TFIDF. The best model is Multinomial Naive Bayesian model using Count Vectorizer, which has 0.98834 test accuracy. Moreover, Compared with TFIDF, Multinomial Naive Bayesian model improves test accuracy by 0.03, from 0.959 to 0.988,  after using Count Vectorizer.\n",
    "\n",
    "In addition, the second best model is SVC-linear kernel with TFIDF Vectorizer. Using linear kernel in SVM is better than using rbf kernel in this dataset. The worst model is KNN with TFIDF with 0.90 test accuracy.\n",
    "\n",
    "Overall, it seems like using Count Vectorizer is better than TFIDF vectorizer in this dataset as most of models improve the test accuracy after using Count Vectorizer"
   ]
  },
  {
   "cell_type": "markdown",
   "metadata": {},
   "source": [
    "## 15. Multiclass Classification\n",
    "\n",
    "Now applying the set of classifers that you have used to a multiclass classification problem. The dataset you will use is the tweets about airline services."
   ]
  },
  {
   "cell_type": "code",
   "execution_count": 31,
   "metadata": {},
   "outputs": [],
   "source": [
    "import numpy as np\n",
    "import pandas as pd\n",
    "from sklearn.model_selection import train_test_split\n",
    "from sklearn.feature_extraction.text import TfidfVectorizer\n",
    "from sklearn.linear_model import LogisticRegression\n",
    "from sklearn.naive_bayes import MultinomialNB"
   ]
  },
  {
   "cell_type": "code",
   "execution_count": 32,
   "metadata": {},
   "outputs": [
    {
     "data": {
      "text/html": [
       "<div>\n",
       "<style scoped>\n",
       "    .dataframe tbody tr th:only-of-type {\n",
       "        vertical-align: middle;\n",
       "    }\n",
       "\n",
       "    .dataframe tbody tr th {\n",
       "        vertical-align: top;\n",
       "    }\n",
       "\n",
       "    .dataframe thead th {\n",
       "        text-align: right;\n",
       "    }\n",
       "</style>\n",
       "<table border=\"1\" class=\"dataframe\">\n",
       "  <thead>\n",
       "    <tr style=\"text-align: right;\">\n",
       "      <th></th>\n",
       "      <th>tweet_id</th>\n",
       "      <th>airline_sentiment</th>\n",
       "      <th>airline_sentiment_confidence</th>\n",
       "      <th>negativereason</th>\n",
       "      <th>negativereason_confidence</th>\n",
       "      <th>airline</th>\n",
       "      <th>airline_sentiment_gold</th>\n",
       "      <th>name</th>\n",
       "      <th>negativereason_gold</th>\n",
       "      <th>retweet_count</th>\n",
       "      <th>text</th>\n",
       "      <th>tweet_coord</th>\n",
       "      <th>tweet_created</th>\n",
       "      <th>tweet_location</th>\n",
       "      <th>user_timezone</th>\n",
       "    </tr>\n",
       "  </thead>\n",
       "  <tbody>\n",
       "    <tr>\n",
       "      <th>0</th>\n",
       "      <td>570306133677760513</td>\n",
       "      <td>neutral</td>\n",
       "      <td>1.0000</td>\n",
       "      <td>NaN</td>\n",
       "      <td>NaN</td>\n",
       "      <td>Virgin America</td>\n",
       "      <td>NaN</td>\n",
       "      <td>cairdin</td>\n",
       "      <td>NaN</td>\n",
       "      <td>0</td>\n",
       "      <td>@VirginAmerica What @dhepburn said.</td>\n",
       "      <td>NaN</td>\n",
       "      <td>2015-02-24 11:35:52 -0800</td>\n",
       "      <td>NaN</td>\n",
       "      <td>Eastern Time (US &amp; Canada)</td>\n",
       "    </tr>\n",
       "    <tr>\n",
       "      <th>1</th>\n",
       "      <td>570301130888122368</td>\n",
       "      <td>positive</td>\n",
       "      <td>0.3486</td>\n",
       "      <td>NaN</td>\n",
       "      <td>0.0000</td>\n",
       "      <td>Virgin America</td>\n",
       "      <td>NaN</td>\n",
       "      <td>jnardino</td>\n",
       "      <td>NaN</td>\n",
       "      <td>0</td>\n",
       "      <td>@VirginAmerica plus you've added commercials t...</td>\n",
       "      <td>NaN</td>\n",
       "      <td>2015-02-24 11:15:59 -0800</td>\n",
       "      <td>NaN</td>\n",
       "      <td>Pacific Time (US &amp; Canada)</td>\n",
       "    </tr>\n",
       "    <tr>\n",
       "      <th>2</th>\n",
       "      <td>570301083672813571</td>\n",
       "      <td>neutral</td>\n",
       "      <td>0.6837</td>\n",
       "      <td>NaN</td>\n",
       "      <td>NaN</td>\n",
       "      <td>Virgin America</td>\n",
       "      <td>NaN</td>\n",
       "      <td>yvonnalynn</td>\n",
       "      <td>NaN</td>\n",
       "      <td>0</td>\n",
       "      <td>@VirginAmerica I didn't today... Must mean I n...</td>\n",
       "      <td>NaN</td>\n",
       "      <td>2015-02-24 11:15:48 -0800</td>\n",
       "      <td>Lets Play</td>\n",
       "      <td>Central Time (US &amp; Canada)</td>\n",
       "    </tr>\n",
       "    <tr>\n",
       "      <th>3</th>\n",
       "      <td>570301031407624196</td>\n",
       "      <td>negative</td>\n",
       "      <td>1.0000</td>\n",
       "      <td>Bad Flight</td>\n",
       "      <td>0.7033</td>\n",
       "      <td>Virgin America</td>\n",
       "      <td>NaN</td>\n",
       "      <td>jnardino</td>\n",
       "      <td>NaN</td>\n",
       "      <td>0</td>\n",
       "      <td>@VirginAmerica it's really aggressive to blast...</td>\n",
       "      <td>NaN</td>\n",
       "      <td>2015-02-24 11:15:36 -0800</td>\n",
       "      <td>NaN</td>\n",
       "      <td>Pacific Time (US &amp; Canada)</td>\n",
       "    </tr>\n",
       "    <tr>\n",
       "      <th>4</th>\n",
       "      <td>570300817074462722</td>\n",
       "      <td>negative</td>\n",
       "      <td>1.0000</td>\n",
       "      <td>Can't Tell</td>\n",
       "      <td>1.0000</td>\n",
       "      <td>Virgin America</td>\n",
       "      <td>NaN</td>\n",
       "      <td>jnardino</td>\n",
       "      <td>NaN</td>\n",
       "      <td>0</td>\n",
       "      <td>@VirginAmerica and it's a really big bad thing...</td>\n",
       "      <td>NaN</td>\n",
       "      <td>2015-02-24 11:14:45 -0800</td>\n",
       "      <td>NaN</td>\n",
       "      <td>Pacific Time (US &amp; Canada)</td>\n",
       "    </tr>\n",
       "  </tbody>\n",
       "</table>\n",
       "</div>"
      ],
      "text/plain": [
       "             tweet_id airline_sentiment  airline_sentiment_confidence  \\\n",
       "0  570306133677760513           neutral                        1.0000   \n",
       "1  570301130888122368          positive                        0.3486   \n",
       "2  570301083672813571           neutral                        0.6837   \n",
       "3  570301031407624196          negative                        1.0000   \n",
       "4  570300817074462722          negative                        1.0000   \n",
       "\n",
       "  negativereason  negativereason_confidence         airline  \\\n",
       "0            NaN                        NaN  Virgin America   \n",
       "1            NaN                     0.0000  Virgin America   \n",
       "2            NaN                        NaN  Virgin America   \n",
       "3     Bad Flight                     0.7033  Virgin America   \n",
       "4     Can't Tell                     1.0000  Virgin America   \n",
       "\n",
       "  airline_sentiment_gold        name negativereason_gold  retweet_count  \\\n",
       "0                    NaN     cairdin                 NaN              0   \n",
       "1                    NaN    jnardino                 NaN              0   \n",
       "2                    NaN  yvonnalynn                 NaN              0   \n",
       "3                    NaN    jnardino                 NaN              0   \n",
       "4                    NaN    jnardino                 NaN              0   \n",
       "\n",
       "                                                text tweet_coord  \\\n",
       "0                @VirginAmerica What @dhepburn said.         NaN   \n",
       "1  @VirginAmerica plus you've added commercials t...         NaN   \n",
       "2  @VirginAmerica I didn't today... Must mean I n...         NaN   \n",
       "3  @VirginAmerica it's really aggressive to blast...         NaN   \n",
       "4  @VirginAmerica and it's a really big bad thing...         NaN   \n",
       "\n",
       "               tweet_created tweet_location               user_timezone  \n",
       "0  2015-02-24 11:35:52 -0800            NaN  Eastern Time (US & Canada)  \n",
       "1  2015-02-24 11:15:59 -0800            NaN  Pacific Time (US & Canada)  \n",
       "2  2015-02-24 11:15:48 -0800      Lets Play  Central Time (US & Canada)  \n",
       "3  2015-02-24 11:15:36 -0800            NaN  Pacific Time (US & Canada)  \n",
       "4  2015-02-24 11:14:45 -0800            NaN  Pacific Time (US & Canada)  "
      ]
     },
     "execution_count": 32,
     "metadata": {},
     "output_type": "execute_result"
    }
   ],
   "source": [
    "df = pd.read_csv(\"https://www.palmetto.clemson.edu/dsci/datasets/kaggle/tweets.csv\")\n",
    "df.head()"
   ]
  },
  {
   "cell_type": "code",
   "execution_count": 33,
   "metadata": {},
   "outputs": [
    {
     "name": "stdout",
     "output_type": "stream",
     "text": [
      "<class 'pandas.core.frame.DataFrame'>\n",
      "RangeIndex: 14640 entries, 0 to 14639\n",
      "Data columns (total 15 columns):\n",
      " #   Column                        Non-Null Count  Dtype  \n",
      "---  ------                        --------------  -----  \n",
      " 0   tweet_id                      14640 non-null  int64  \n",
      " 1   airline_sentiment             14640 non-null  object \n",
      " 2   airline_sentiment_confidence  14640 non-null  float64\n",
      " 3   negativereason                9178 non-null   object \n",
      " 4   negativereason_confidence     10522 non-null  float64\n",
      " 5   airline                       14640 non-null  object \n",
      " 6   airline_sentiment_gold        40 non-null     object \n",
      " 7   name                          14640 non-null  object \n",
      " 8   negativereason_gold           32 non-null     object \n",
      " 9   retweet_count                 14640 non-null  int64  \n",
      " 10  text                          14640 non-null  object \n",
      " 11  tweet_coord                   1019 non-null   object \n",
      " 12  tweet_created                 14640 non-null  object \n",
      " 13  tweet_location                9907 non-null   object \n",
      " 14  user_timezone                 9820 non-null   object \n",
      "dtypes: float64(2), int64(2), object(11)\n",
      "memory usage: 1.7+ MB\n"
     ]
    }
   ],
   "source": [
    "df.info()"
   ]
  },
  {
   "cell_type": "code",
   "execution_count": 34,
   "metadata": {},
   "outputs": [
    {
     "data": {
      "text/plain": [
       "array(['negative', 'neutral', 'positive'], dtype=object)"
      ]
     },
     "execution_count": 34,
     "metadata": {},
     "output_type": "execute_result"
    }
   ],
   "source": [
    "np.unique(df['airline_sentiment'])"
   ]
  },
  {
   "cell_type": "code",
   "execution_count": 35,
   "metadata": {},
   "outputs": [],
   "source": [
    "features = df.iloc[:, 10].values\n",
    "labels = df.iloc[:, 1].values"
   ]
  },
  {
   "cell_type": "markdown",
   "metadata": {},
   "source": [
    "__Question 15.1__ Complete the following code to test the performance of the following classifers on the airline tweets data. (10 points)\n",
    "\n",
    "```\n",
    "LogisticRegression-ovr (multi_class='ovr')\n",
    "LogisticRegression-multinomial (multi_class='multinomial')\n",
    "NaiveBayes\n",
    "RandomForest\n",
    "SVC-Rbf with rbf kernel\n",
    "SVC-Linear with linear kernel\n",
    "KNN\n",
    "DecisionTree\n",
    "```"
   ]
  },
  {
   "cell_type": "code",
   "execution_count": 36,
   "metadata": {
    "deletable": false,
    "nbgrader": {
     "cell_type": "code",
     "checksum": "01440d1179ae841c65188d7767119b39",
     "grade": true,
     "grade_id": "cell-f5d832a47a7397f7",
     "locked": false,
     "points": 10,
     "schema_version": 3,
     "solution": true,
     "task": false
    }
   },
   "outputs": [],
   "source": [
    "X_train,X_test,y_train,y_test = train_test_split(features, labels, test_size = 0.2, random_state = 10)\n",
    "\n",
    "models = {}\n",
    "TfidfVectorizer_accuracy = {}\n",
    "CountVectorizer_accuracy = {}\n",
    "\n",
    "# YOUR CODE HERE\n",
    "# raise NotImplementedError()\n",
    "\n",
    "# models used to train with CountVectorization\n",
    "models_countVect = {\"LogisticRegression-ovr\":LogisticRegression(max_iter = 1000, multi_class ='ovr'),\n",
    "          \"LogisticRegression-multinomial\":LogisticRegression(max_iter = 1000, multi_class ='multinomial'),\n",
    "            \"MultinomialNB\":MultinomialNB(),\n",
    "            \"RandomForestClassifier\":RandomForestClassifier(),\n",
    "            \"SVC-rbf\":SVC(kernel='rbf'),\n",
    "            \"SVC-linear\":SVC(kernel='linear'),\n",
    "            \"KNN\":KNeighborsClassifier(),\n",
    "            \"DecisionTree\":DecisionTreeClassifier()}\n",
    "# models used to train with TFIDF\n",
    "models_TfidfVect = {\"LogisticRegression-ovr\":LogisticRegression(max_iter = 1000, multi_class ='ovr'),\n",
    "          \"LogisticRegression-multinomial\":LogisticRegression(max_iter = 1000, multi_class ='multinomial'),\n",
    "            \"MultinomialNB\":MultinomialNB(),\n",
    "            \"RandomForestClassifier\":RandomForestClassifier(),\n",
    "            \"SVC-rbf\":SVC(kernel='rbf'),\n",
    "            \"SVC-linear\":SVC(kernel='linear'),\n",
    "            \"KNN\":KNeighborsClassifier(),\n",
    "            \"DecisionTree\":DecisionTreeClassifier()}\n",
    "# store models \n",
    "models['CountVect'] = models_countVect\n",
    "models['TfidfVect'] = models_TfidfVect\n",
    "\n",
    "count_vec = CountVectorizer()\n",
    "X_train_tran_cnt = count_vec.fit_transform(X_train)\n",
    "X_test_tran_cnt = count_vec.transform(X_test)\n",
    "\n",
    "tfidf_vec = TfidfVectorizer()\n",
    "X_train_tran_tfidf = tfidf_vec.fit_transform(X_train)\n",
    "X_test_tran_tfidf = tfidf_vec.transform(X_test)\n",
    "\n",
    "for model_name in models_TfidfVect.keys():\n",
    "    # Using CountVector transformation\n",
    "    clf = models_countVect[model_name]\n",
    "    model = clf.fit(X_train_tran_cnt, y_train)\n",
    "    models_countVect[model_name] = model\n",
    "    y_test_pred = model.predict(X_test_tran_cnt)\n",
    "    test_acc = accuracy_score(y_test_pred, y_test)\n",
    "    CountVectorizer_accuracy[model_name] = test_acc\n",
    "    \n",
    "    # Using TFIDF Vector transformation\n",
    "    clf = models_TfidfVect[model_name]\n",
    "    model = clf.fit(X_train_tran_tfidf, y_train)\n",
    "    models_TfidfVect[model_name] = model\n",
    "    y_test_pred = model.predict(X_test_tran_tfidf)\n",
    "    test_acc = accuracy_score(y_test_pred, y_test)\n",
    "    TfidfVectorizer_accuracy[model_name] = test_acc\n",
    "\n",
    "\n",
    "\n"
   ]
  },
  {
   "cell_type": "code",
   "execution_count": 37,
   "metadata": {},
   "outputs": [
    {
     "data": {
      "text/html": [
       "<div>\n",
       "<style scoped>\n",
       "    .dataframe tbody tr th:only-of-type {\n",
       "        vertical-align: middle;\n",
       "    }\n",
       "\n",
       "    .dataframe tbody tr th {\n",
       "        vertical-align: top;\n",
       "    }\n",
       "\n",
       "    .dataframe thead th {\n",
       "        text-align: right;\n",
       "    }\n",
       "</style>\n",
       "<table border=\"1\" class=\"dataframe\">\n",
       "  <thead>\n",
       "    <tr style=\"text-align: right;\">\n",
       "      <th></th>\n",
       "      <th>CountVectorizer</th>\n",
       "      <th>TfidfVectorizer</th>\n",
       "    </tr>\n",
       "  </thead>\n",
       "  <tbody>\n",
       "    <tr>\n",
       "      <th>LogisticRegression-ovr</th>\n",
       "      <td>0.799863</td>\n",
       "      <td>0.785519</td>\n",
       "    </tr>\n",
       "    <tr>\n",
       "      <th>LogisticRegression-multinomial</th>\n",
       "      <td>0.794057</td>\n",
       "      <td>0.790301</td>\n",
       "    </tr>\n",
       "    <tr>\n",
       "      <th>MultinomialNB</th>\n",
       "      <td>0.766052</td>\n",
       "      <td>0.650273</td>\n",
       "    </tr>\n",
       "    <tr>\n",
       "      <th>RandomForestClassifier</th>\n",
       "      <td>0.743169</td>\n",
       "      <td>0.737363</td>\n",
       "    </tr>\n",
       "    <tr>\n",
       "      <th>SVC-rbf</th>\n",
       "      <td>0.784153</td>\n",
       "      <td>0.788934</td>\n",
       "    </tr>\n",
       "    <tr>\n",
       "      <th>SVC-linear</th>\n",
       "      <td>0.773907</td>\n",
       "      <td>0.802937</td>\n",
       "    </tr>\n",
       "    <tr>\n",
       "      <th>KNN</th>\n",
       "      <td>0.511270</td>\n",
       "      <td>0.714139</td>\n",
       "    </tr>\n",
       "    <tr>\n",
       "      <th>DecisionTree</th>\n",
       "      <td>0.691940</td>\n",
       "      <td>0.651298</td>\n",
       "    </tr>\n",
       "  </tbody>\n",
       "</table>\n",
       "</div>"
      ],
      "text/plain": [
       "                                CountVectorizer  TfidfVectorizer\n",
       "LogisticRegression-ovr                 0.799863         0.785519\n",
       "LogisticRegression-multinomial         0.794057         0.790301\n",
       "MultinomialNB                          0.766052         0.650273\n",
       "RandomForestClassifier                 0.743169         0.737363\n",
       "SVC-rbf                                0.784153         0.788934\n",
       "SVC-linear                             0.773907         0.802937\n",
       "KNN                                    0.511270         0.714139\n",
       "DecisionTree                           0.691940         0.651298"
      ]
     },
     "execution_count": 37,
     "metadata": {},
     "output_type": "execute_result"
    }
   ],
   "source": [
    "df_perf = pd.DataFrame({'CountVectorizer': CountVectorizer_accuracy,\n",
    "                       'TfidfVectorizer': TfidfVectorizer_accuracy})\n",
    "df_perf"
   ]
  },
  {
   "cell_type": "markdown",
   "metadata": {},
   "source": [
    "__Question 15.2__ Plot the confusion matrix of SVC-Linear. (5 points)"
   ]
  },
  {
   "cell_type": "code",
   "execution_count": 38,
   "metadata": {
    "deletable": false,
    "nbgrader": {
     "cell_type": "code",
     "checksum": "207df118c0e2954ab5c8ee890e0f0dec",
     "grade": true,
     "grade_id": "cell-e32b8549688a48ba",
     "locked": false,
     "points": 5,
     "schema_version": 3,
     "solution": true,
     "task": false
    }
   },
   "outputs": [
    {
     "data": {
      "image/png": "[encoded data removed]",
      "text/plain": [
       "<Figure size 1080x576 with 4 Axes>"
      ]
     },
     "metadata": {},
     "output_type": "display_data"
    }
   ],
   "source": [
    "# YOUR CODE HERE\n",
    "# raise NotImplementedError()\n",
    "from sklearn.metrics import confusion_matrix\n",
    "fig, ax = plt.subplots(1,2, figsize=(15,8))\n",
    "y_pred_tfidf = models['TfidfVect'][\"SVC-linear\"].predict(X_test_tran_tfidf)\n",
    "cm1 = confusion_matrix(y_test, y_pred_tfidf)\n",
    "sns.heatmap(cm1, annot=True, ax= ax[0])\n",
    "ax[0].set_xlabel('Predict')\n",
    "ax[0].set_ylabel('Ground Truth')\n",
    "\n",
    "y_pred_cnt = models['CountVect'][\"SVC-linear\"].predict(X_test_tran_cnt)\n",
    "cm2 = confusion_matrix(y_test, y_pred_cnt)\n",
    "sns.heatmap(cm2, annot=True, ax= ax[1])\n",
    "ax[1].set_xlabel('Predict')\n",
    "ax[1].set_ylabel('Ground Truth')\n",
    "plt.show()"
   ]
  },
  {
   "cell_type": "markdown",
   "metadata": {},
   "source": [
    "__Question 15.3__ Print the true label, predicted label, and the predicted probabilities for the first five test samples using the `LogisticRegression-multinomial classifer` (5 points)"
   ]
  },
  {
   "cell_type": "code",
   "execution_count": 39,
   "metadata": {
    "deletable": false,
    "nbgrader": {
     "cell_type": "code",
     "checksum": "7ea79fc664655f2821086dcfd4dd4ed5",
     "grade": true,
     "grade_id": "cell-b14081298448039b",
     "locked": false,
     "points": 5,
     "schema_version": 3,
     "solution": true,
     "task": false
    }
   },
   "outputs": [
    {
     "name": "stdout",
     "output_type": "stream",
     "text": [
      "LogisticRegression-multinomial with Count Vectorization:\n",
      "True Labels:  ['neutral' 'neutral' 'negative' 'negative' 'negative']\n",
      "Predicted Labels:  ['negative' 'positive' 'negative' 'negative' 'negative']\n",
      "Predicted Possibility: \n",
      " [[9.82983386e-01 1.68315820e-02 1.85032144e-04]\n",
      " [4.22046658e-01 6.75099588e-02 5.10443383e-01]\n",
      " [9.55185763e-01 1.35749324e-02 3.12393049e-02]\n",
      " [9.99893925e-01 7.29854353e-05 3.30900045e-05]\n",
      " [9.98708612e-01 9.04064198e-04 3.87323557e-04]]\n",
      "\n",
      "\n",
      "\n",
      "LogisticRegression-multinomial with TFIDF Vectorization:\n",
      "True Labels:  ['neutral' 'neutral' 'negative' 'negative' 'negative']\n",
      "Predicted Labels:  ['negative' 'negative' 'negative' 'negative' 'negative']\n",
      "Predicted Possibility: \n",
      " [[0.97485069 0.02331257 0.00183674]\n",
      " [0.50287039 0.20553102 0.29159859]\n",
      " [0.72980551 0.10671377 0.16348073]\n",
      " [0.98012872 0.01237033 0.00750095]\n",
      " [0.9828267  0.01140501 0.00576829]]\n"
     ]
    }
   ],
   "source": [
    "# YOUR CODE HERE\n",
    "# raise NotImplementedError()\n",
    "y_pred_cnt = models['CountVect'][\"LogisticRegression-multinomial\"].predict(X_test_tran_cnt[:5])\n",
    "prossibility_pred_cnt = models['CountVect'][\"LogisticRegression-multinomial\"].predict_proba(X_test_tran_cnt[:5])\n",
    "print(\"LogisticRegression-multinomial with Count Vectorization:\")\n",
    "print(\"True Labels: \",y_test[:5])\n",
    "print(\"Predicted Labels: \",y_pred_cnt[:5])\n",
    "print(\"Predicted Possibility: \\n\",prossibility_pred_cnt[:5])\n",
    "print(\"\\n\\n\")\n",
    "\n",
    "y_pred_tfidf= models['TfidfVect'][\"LogisticRegression-multinomial\"].predict(X_test_tran_tfidf[:5])\n",
    "prossibility_pred_tfidf = models['TfidfVect'][\"LogisticRegression-multinomial\"].predict_proba(X_test_tran_tfidf[:5])\n",
    "print(\"LogisticRegression-multinomial with TFIDF Vectorization:\")\n",
    "print(\"True Labels: \",y_test[:5])\n",
    "print(\"Predicted Labels: \",y_pred_tfidf[:5])\n",
    "print(\"Predicted Possibility: \\n\",prossibility_pred_tfidf[:5])\n"
   ]
  },
  {
   "cell_type": "markdown",
   "metadata": {},
   "source": [
    "__End of Part C__"
   ]
  }
 ],
 "metadata": {
  "kernelspec": {
   "display_name": "Python 3",
   "language": "python",
   "name": "python3"
  },
  "language_info": {
   "codemirror_mode": {
    "name": "ipython",
    "version": 3
   },
   "file_extension": ".py",
   "mimetype": "text/x-python",
   "name": "python",
   "nbconvert_exporter": "python",
   "pygments_lexer": "ipython3",
   "version": "3.8.3"
  }
 },
 "nbformat": 4,
 "nbformat_minor": 4
}
