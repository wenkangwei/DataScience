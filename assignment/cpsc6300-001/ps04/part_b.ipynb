{
 "cells": [
  {
   "cell_type": "markdown",
   "metadata": {},
   "source": [
    "# CPSC 4300/6300-001 Applied Data Science (Fall 2020)\n",
    "\n",
    "Before you turn this problem in, make sure everything runs as expected. First, **restart the kernel** (in the menubar, select Kernel$\\rightarrow$Restart) and then **run all cells** (in the menubar, select Cell$\\rightarrow$Run All).\n",
    "\n",
    "Make sure you fill in any place that says `YOUR CODE HERE` or \"YOUR ANSWER HERE\", as well as your name and collaborators below:"
   ]
  },
  {
   "cell_type": "code",
   "execution_count": 1,
   "metadata": {},
   "outputs": [],
   "source": [
    "NAME = \"Wenkang Wei\"\n",
    "COLLABORATORS = \"Wenkang Wei\""
   ]
  },
  {
   "cell_type": "markdown",
   "metadata": {},
   "source": [
    "# CPSC4300/6300-001 Problem Set #4"
   ]
  },
  {
   "cell_type": "markdown",
   "metadata": {},
   "source": [
    "# Part B. Classification Models Performance Evaluation\n",
    "\n",
    "This part continues Part A. We make it a separate notebook so that we can keep the code clean."
   ]
  },
  {
   "cell_type": "code",
   "execution_count": 2,
   "metadata": {},
   "outputs": [],
   "source": [
    "import matplotlib.pyplot as plt\n",
    "import pandas as pd\n",
    "import numpy as np\n",
    "import seaborn as sns; sns.set()\n",
    "sns.set_style(\"white\")"
   ]
  },
  {
   "cell_type": "markdown",
   "metadata": {},
   "source": [
    "# 1. Classification Models Comparison\n",
    "\n",
    "During this semester, you have learned multiple classification methods. One question you may wonder is how each method performs for a given data set. With the work you have just compeleted in part A, this task looks like a piece of cake. Now, using the framework we have used in this assignment, conduct some experiments to compare the performance of the following classification models:\n",
    "\n",
    "1. RandomForestClassifier\n",
    "2. SVC\n",
    "3. GaussianNB\n",
    "4. KNeighborsClassifier\n",
    "5. LogisticRegression\n",
    "6. DecisionTreeClassifier\n",
    "7. MLPClassifier\n",
    "8. AdaBoostClassifier"
   ]
  },
  {
   "cell_type": "markdown",
   "metadata": {},
   "source": [
    "__Question 1.1__ Which one of the following statements is most accurate? (3 Points)\n",
    "\n",
    "```\n",
    "A. Given a dataset, the train and test set splits of the dataset will not affect the performance of the classification model.\n",
    "B. When compare the performance of several models, a best practice is to run each model multiple times with different train and test splits and to report both the means and variances of all models for a fair comparison.\n",
    "C. When solve a classification problem, more complex models like AdaBoost or Random Forest always perform better than a simplier model like Logistc Regression.\n",
    "D. A classification model that achives 100% test accuracy at one run is the best model for the problem under standy.\n",
    "```"
   ]
  },
  {
   "cell_type": "code",
   "execution_count": 3,
   "metadata": {
    "deletable": false,
    "nbgrader": {
     "cell_type": "code",
     "checksum": "3a95100f08d3e790a077585a93a7db3e",
     "grade": true,
     "grade_id": "cell-2a33bf87948328ad",
     "locked": false,
     "points": 3,
     "schema_version": 3,
     "solution": true,
     "task": false
    }
   },
   "outputs": [
    {
     "data": {
      "text/plain": [
       "'B'"
      ]
     },
     "execution_count": 3,
     "metadata": {},
     "output_type": "execute_result"
    }
   ],
   "source": [
    "# YOUR CODE HERE\n",
    "# raise NotImplementedError()\n",
    "answer = 'B'\n",
    "answer"
   ]
  },
  {
   "cell_type": "markdown",
   "metadata": {},
   "source": [
    "## Answer to Q1.1:  B"
   ]
  },
  {
   "cell_type": "markdown",
   "metadata": {},
   "source": [
    "__Question 1.2__ Write some Python code to study the performance of the above eight classification models on the Wisconsin Breast Cancer dataset. Your code should complete the following objectives: (30 Points) \n",
    "\n",
    "1. Run each model for 30 times with different train-test splits \n",
    "2. Collect the values of 'test_accuracy', 'f1_score', 'precision', 'recall', and 'train_time' for each model run.\n",
    "3. Save the results of all runs to a DataFrame variable named `df_perf`.\n",
    "\n",
    "\n",
    "Hints:\n",
    "+ You can reuse the framework and most code in Part A.\n",
    "+ To simplify the experiments, you can standarize the train and test set right after the train-test data set split.\n",
    "+ A proper procedure of the standarization is estimating a StandardScaler using train set and then transforming both the train set and test set using the estimated scaler.\n",
    "+ To avoid your experiments from being interrupted by a single error, you may validate each model first before putting all the models in a single cell."
   ]
  },
  {
   "cell_type": "code",
   "execution_count": 5,
   "metadata": {
    "deletable": false,
    "nbgrader": {
     "cell_type": "code",
     "checksum": "416c5ab9124edea91b4ebfae5abaa45f",
     "grade": true,
     "grade_id": "cell-4d3df6730ab47c78",
     "locked": false,
     "points": 30,
     "schema_version": 3,
     "solution": true,
     "task": false
    }
   },
   "outputs": [],
   "source": [
    "# YOUR CODE HERE\n",
    "# raise NotImplementedError()\n",
    "from sklearn.model_selection import train_test_split\n",
    "from sklearn.metrics import f1_score, precision_score, recall_score\n",
    "from sklearn.datasets import load_breast_cancer\n",
    "from collections import defaultdict\n",
    "from sklearn.tree import DecisionTreeClassifier \n",
    "from sklearn.linear_model import  LogisticRegression\n",
    "from sklearn.svm import  SVC\n",
    "from sklearn.neighbors import KNeighborsClassifier\n",
    "from sklearn.naive_bayes import GaussianNB\n",
    "from sklearn.neural_network import MLPClassifier\n",
    "from sklearn.ensemble import AdaBoostClassifier, RandomForestClassifier\n",
    "from sklearn.pipeline import make_pipeline\n",
    "from sklearn.preprocessing import StandardScaler\n",
    "\n",
    "models = {\"RandomForest\":RandomForestClassifier(), \n",
    "            \"SVC\":SVC(),\n",
    "            \"GaussianNB\":GaussianNB(),\n",
    "            \"KNN\":KNeighborsClassifier(),\n",
    "            \"LogisticRegression\":LogisticRegression(),\n",
    "            \"DecisionTree\":DecisionTreeClassifier(),\n",
    "            \"MLP\":MLPClassifier(max_iter=1000),\n",
    "          \"AdaBoost\":AdaBoostClassifier()\n",
    "            }\n",
    "\n",
    "# Load dataset \n",
    "cancer = load_breast_cancer(as_frame=True)\n",
    "features = cancer.data\n",
    "target = cancer.target.astype('category')\n",
    "\n",
    "# Number of train_test splits of dataset\n",
    "split_times = 30\n",
    "\n",
    "\n",
    "perf_measures = defaultdict(defaultdict)\n",
    "\n",
    "experiment_id = 0\n",
    "for model_name in models.keys():\n",
    "    for i, random_state in enumerate(np.random.randint(1, size= split_times)):\n",
    "            # YOUR CODE HERE\n",
    "            # raise NotImplementedError()\n",
    "            X_train, X_test, y_train, y_test = train_test_split(features, target, stratify=target, test_size = 0.3, random_state = random_state)\n",
    "            clf = make_pipeline(StandardScaler(),models[model_name])\n",
    "            \n",
    "            clf = clf.fit(X_train, y_train)\n",
    "            y_test_pred = clf.predict(X_test)\n",
    "            perf_measures[experiment_id]['model'] = model_name\n",
    "            perf_measures[experiment_id]['run#'] = i\n",
    "            perf_measures[experiment_id]['train_accuracy'] = clf.score(X_train, y_train)\n",
    "            perf_measures[experiment_id]['test_accuracy'] = clf.score(X_test, y_test)\n",
    "            perf_measures[experiment_id]['f1_score'] = f1_score(y_test, y_test_pred)\n",
    "            perf_measures[experiment_id]['precision'] = precision_score(y_test, y_test_pred)\n",
    "            perf_measures[experiment_id]['recall'] = recall_score(y_test, y_test_pred)\n",
    "            experiment_id = experiment_id + 1\n",
    "df_perf = pd.DataFrame(perf_measures).T\n",
    "# df_perf = df_perf[['run#', 'precision', 'recall', 'f1_score', 'test_accuracy', 'train_accuracy']]\n",
    "perf_columns = ['precision', 'recall', 'f1_score', 'test_accuracy', 'train_accuracy']\n",
    "df_perf[perf_columns] = df_perf[perf_columns].astype(float)\n",
    "\n"
   ]
  },
  {
   "cell_type": "code",
   "execution_count": 6,
   "metadata": {},
   "outputs": [
    {
     "data": {
      "text/html": [
       "<div>\n",
       "<style scoped>\n",
       "    .dataframe tbody tr th:only-of-type {\n",
       "        vertical-align: middle;\n",
       "    }\n",
       "\n",
       "    .dataframe tbody tr th {\n",
       "        vertical-align: top;\n",
       "    }\n",
       "\n",
       "    .dataframe thead th {\n",
       "        text-align: right;\n",
       "    }\n",
       "</style>\n",
       "<table border=\"1\" class=\"dataframe\">\n",
       "  <thead>\n",
       "    <tr style=\"text-align: right;\">\n",
       "      <th></th>\n",
       "      <th>model</th>\n",
       "      <th>run#</th>\n",
       "      <th>train_accuracy</th>\n",
       "      <th>test_accuracy</th>\n",
       "      <th>f1_score</th>\n",
       "      <th>precision</th>\n",
       "      <th>recall</th>\n",
       "    </tr>\n",
       "  </thead>\n",
       "  <tbody>\n",
       "    <tr>\n",
       "      <th>0</th>\n",
       "      <td>RandomForest</td>\n",
       "      <td>0</td>\n",
       "      <td>1.0</td>\n",
       "      <td>0.947368</td>\n",
       "      <td>0.958140</td>\n",
       "      <td>0.953704</td>\n",
       "      <td>0.962617</td>\n",
       "    </tr>\n",
       "    <tr>\n",
       "      <th>1</th>\n",
       "      <td>RandomForest</td>\n",
       "      <td>1</td>\n",
       "      <td>1.0</td>\n",
       "      <td>0.935673</td>\n",
       "      <td>0.948837</td>\n",
       "      <td>0.944444</td>\n",
       "      <td>0.953271</td>\n",
       "    </tr>\n",
       "    <tr>\n",
       "      <th>2</th>\n",
       "      <td>RandomForest</td>\n",
       "      <td>2</td>\n",
       "      <td>1.0</td>\n",
       "      <td>0.929825</td>\n",
       "      <td>0.944444</td>\n",
       "      <td>0.935780</td>\n",
       "      <td>0.953271</td>\n",
       "    </tr>\n",
       "    <tr>\n",
       "      <th>3</th>\n",
       "      <td>RandomForest</td>\n",
       "      <td>3</td>\n",
       "      <td>1.0</td>\n",
       "      <td>0.941520</td>\n",
       "      <td>0.953704</td>\n",
       "      <td>0.944954</td>\n",
       "      <td>0.962617</td>\n",
       "    </tr>\n",
       "    <tr>\n",
       "      <th>4</th>\n",
       "      <td>RandomForest</td>\n",
       "      <td>4</td>\n",
       "      <td>1.0</td>\n",
       "      <td>0.941520</td>\n",
       "      <td>0.953704</td>\n",
       "      <td>0.944954</td>\n",
       "      <td>0.962617</td>\n",
       "    </tr>\n",
       "    <tr>\n",
       "      <th>...</th>\n",
       "      <td>...</td>\n",
       "      <td>...</td>\n",
       "      <td>...</td>\n",
       "      <td>...</td>\n",
       "      <td>...</td>\n",
       "      <td>...</td>\n",
       "      <td>...</td>\n",
       "    </tr>\n",
       "    <tr>\n",
       "      <th>235</th>\n",
       "      <td>AdaBoost</td>\n",
       "      <td>25</td>\n",
       "      <td>1.0</td>\n",
       "      <td>0.947368</td>\n",
       "      <td>0.957746</td>\n",
       "      <td>0.962264</td>\n",
       "      <td>0.953271</td>\n",
       "    </tr>\n",
       "    <tr>\n",
       "      <th>236</th>\n",
       "      <td>AdaBoost</td>\n",
       "      <td>26</td>\n",
       "      <td>1.0</td>\n",
       "      <td>0.947368</td>\n",
       "      <td>0.957746</td>\n",
       "      <td>0.962264</td>\n",
       "      <td>0.953271</td>\n",
       "    </tr>\n",
       "    <tr>\n",
       "      <th>237</th>\n",
       "      <td>AdaBoost</td>\n",
       "      <td>27</td>\n",
       "      <td>1.0</td>\n",
       "      <td>0.947368</td>\n",
       "      <td>0.957746</td>\n",
       "      <td>0.962264</td>\n",
       "      <td>0.953271</td>\n",
       "    </tr>\n",
       "    <tr>\n",
       "      <th>238</th>\n",
       "      <td>AdaBoost</td>\n",
       "      <td>28</td>\n",
       "      <td>1.0</td>\n",
       "      <td>0.947368</td>\n",
       "      <td>0.957746</td>\n",
       "      <td>0.962264</td>\n",
       "      <td>0.953271</td>\n",
       "    </tr>\n",
       "    <tr>\n",
       "      <th>239</th>\n",
       "      <td>AdaBoost</td>\n",
       "      <td>29</td>\n",
       "      <td>1.0</td>\n",
       "      <td>0.947368</td>\n",
       "      <td>0.957746</td>\n",
       "      <td>0.962264</td>\n",
       "      <td>0.953271</td>\n",
       "    </tr>\n",
       "  </tbody>\n",
       "</table>\n",
       "<p>240 rows × 7 columns</p>\n",
       "</div>"
      ],
      "text/plain": [
       "            model run#  train_accuracy  test_accuracy  f1_score  precision  \\\n",
       "0    RandomForest    0             1.0       0.947368  0.958140   0.953704   \n",
       "1    RandomForest    1             1.0       0.935673  0.948837   0.944444   \n",
       "2    RandomForest    2             1.0       0.929825  0.944444   0.935780   \n",
       "3    RandomForest    3             1.0       0.941520  0.953704   0.944954   \n",
       "4    RandomForest    4             1.0       0.941520  0.953704   0.944954   \n",
       "..            ...  ...             ...            ...       ...        ...   \n",
       "235      AdaBoost   25             1.0       0.947368  0.957746   0.962264   \n",
       "236      AdaBoost   26             1.0       0.947368  0.957746   0.962264   \n",
       "237      AdaBoost   27             1.0       0.947368  0.957746   0.962264   \n",
       "238      AdaBoost   28             1.0       0.947368  0.957746   0.962264   \n",
       "239      AdaBoost   29             1.0       0.947368  0.957746   0.962264   \n",
       "\n",
       "       recall  \n",
       "0    0.962617  \n",
       "1    0.953271  \n",
       "2    0.953271  \n",
       "3    0.962617  \n",
       "4    0.962617  \n",
       "..        ...  \n",
       "235  0.953271  \n",
       "236  0.953271  \n",
       "237  0.953271  \n",
       "238  0.953271  \n",
       "239  0.953271  \n",
       "\n",
       "[240 rows x 7 columns]"
      ]
     },
     "execution_count": 6,
     "metadata": {},
     "output_type": "execute_result"
    }
   ],
   "source": [
    "df_perf"
   ]
  },
  {
   "cell_type": "markdown",
   "metadata": {},
   "source": [
    "__Question 1.3(a)__ Write some code to print a table of the average values of the performance metrics of your experiments. An example table is shown as below. "
   ]
  },
  {
   "cell_type": "code",
   "execution_count": 7,
   "metadata": {
    "deletable": false,
    "nbgrader": {
     "cell_type": "code",
     "checksum": "da283670ec6e3fce669dfc11fb8fde05",
     "grade": true,
     "grade_id": "cell-baaeb9b673083b0d",
     "locked": false,
     "points": 5,
     "schema_version": 3,
     "solution": true,
     "task": false
    }
   },
   "outputs": [
    {
     "data": {
      "text/html": [
       "<div>\n",
       "<style scoped>\n",
       "    .dataframe tbody tr th:only-of-type {\n",
       "        vertical-align: middle;\n",
       "    }\n",
       "\n",
       "    .dataframe tbody tr th {\n",
       "        vertical-align: top;\n",
       "    }\n",
       "\n",
       "    .dataframe thead th {\n",
       "        text-align: right;\n",
       "    }\n",
       "</style>\n",
       "<table border=\"1\" class=\"dataframe\">\n",
       "  <thead>\n",
       "    <tr style=\"text-align: right;\">\n",
       "      <th></th>\n",
       "      <th>precision</th>\n",
       "      <th>recall</th>\n",
       "      <th>f1_score</th>\n",
       "      <th>test_accuracy</th>\n",
       "      <th>train_accuracy</th>\n",
       "    </tr>\n",
       "    <tr>\n",
       "      <th>model</th>\n",
       "      <th></th>\n",
       "      <th></th>\n",
       "      <th></th>\n",
       "      <th></th>\n",
       "      <th></th>\n",
       "    </tr>\n",
       "  </thead>\n",
       "  <tbody>\n",
       "    <tr>\n",
       "      <th>AdaBoost</th>\n",
       "      <td>0.962264</td>\n",
       "      <td>0.953271</td>\n",
       "      <td>0.957746</td>\n",
       "      <td>0.947368</td>\n",
       "      <td>1.000000</td>\n",
       "    </tr>\n",
       "    <tr>\n",
       "      <th>DecisionTree</th>\n",
       "      <td>0.946194</td>\n",
       "      <td>0.914019</td>\n",
       "      <td>0.929809</td>\n",
       "      <td>0.913645</td>\n",
       "      <td>1.000000</td>\n",
       "    </tr>\n",
       "    <tr>\n",
       "      <th>GaussianNB</th>\n",
       "      <td>0.933962</td>\n",
       "      <td>0.925234</td>\n",
       "      <td>0.929577</td>\n",
       "      <td>0.912281</td>\n",
       "      <td>0.937186</td>\n",
       "    </tr>\n",
       "    <tr>\n",
       "      <th>KNN</th>\n",
       "      <td>0.937500</td>\n",
       "      <td>0.981308</td>\n",
       "      <td>0.958904</td>\n",
       "      <td>0.947368</td>\n",
       "      <td>0.979899</td>\n",
       "    </tr>\n",
       "    <tr>\n",
       "      <th>LogisticRegression</th>\n",
       "      <td>0.971698</td>\n",
       "      <td>0.962617</td>\n",
       "      <td>0.967136</td>\n",
       "      <td>0.959064</td>\n",
       "      <td>0.992462</td>\n",
       "    </tr>\n",
       "    <tr>\n",
       "      <th>MLP</th>\n",
       "      <td>0.962617</td>\n",
       "      <td>0.962617</td>\n",
       "      <td>0.962617</td>\n",
       "      <td>0.953216</td>\n",
       "      <td>0.997739</td>\n",
       "    </tr>\n",
       "    <tr>\n",
       "      <th>RandomForest</th>\n",
       "      <td>0.947406</td>\n",
       "      <td>0.964486</td>\n",
       "      <td>0.955853</td>\n",
       "      <td>0.944250</td>\n",
       "      <td>1.000000</td>\n",
       "    </tr>\n",
       "    <tr>\n",
       "      <th>SVC</th>\n",
       "      <td>0.962617</td>\n",
       "      <td>0.962617</td>\n",
       "      <td>0.962617</td>\n",
       "      <td>0.953216</td>\n",
       "      <td>0.994975</td>\n",
       "    </tr>\n",
       "  </tbody>\n",
       "</table>\n",
       "</div>"
      ],
      "text/plain": [
       "                    precision    recall  f1_score  test_accuracy  \\\n",
       "model                                                              \n",
       "AdaBoost             0.962264  0.953271  0.957746       0.947368   \n",
       "DecisionTree         0.946194  0.914019  0.929809       0.913645   \n",
       "GaussianNB           0.933962  0.925234  0.929577       0.912281   \n",
       "KNN                  0.937500  0.981308  0.958904       0.947368   \n",
       "LogisticRegression   0.971698  0.962617  0.967136       0.959064   \n",
       "MLP                  0.962617  0.962617  0.962617       0.953216   \n",
       "RandomForest         0.947406  0.964486  0.955853       0.944250   \n",
       "SVC                  0.962617  0.962617  0.962617       0.953216   \n",
       "\n",
       "                    train_accuracy  \n",
       "model                               \n",
       "AdaBoost                  1.000000  \n",
       "DecisionTree              1.000000  \n",
       "GaussianNB                0.937186  \n",
       "KNN                       0.979899  \n",
       "LogisticRegression        0.992462  \n",
       "MLP                       0.997739  \n",
       "RandomForest              1.000000  \n",
       "SVC                       0.994975  "
      ]
     },
     "execution_count": 7,
     "metadata": {},
     "output_type": "execute_result"
    }
   ],
   "source": [
    "# YOUR CODE HERE\n",
    "# raise NotImplementedError()\n",
    "perf_columns = ['precision', 'recall', 'f1_score', 'test_accuracy', 'train_accuracy']\n",
    "df = df_perf.groupby('model')[perf_columns].agg('mean')\n",
    "df\n",
    "        "
   ]
  },
  {
   "cell_type": "markdown",
   "metadata": {},
   "source": [
    "__Question 1.3(b)__ Write some code to print a table of the maximum values of the performance metrics of your experiments. An example table is shown as below. "
   ]
  },
  {
   "cell_type": "code",
   "execution_count": 8,
   "metadata": {
    "deletable": false,
    "nbgrader": {
     "cell_type": "code",
     "checksum": "df03ee461502029d22b5d4de14e3512e",
     "grade": true,
     "grade_id": "cell-f95f0445d7db24f0",
     "locked": false,
     "points": 4,
     "schema_version": 3,
     "solution": true,
     "task": false
    }
   },
   "outputs": [
    {
     "data": {
      "text/html": [
       "<div>\n",
       "<style scoped>\n",
       "    .dataframe tbody tr th:only-of-type {\n",
       "        vertical-align: middle;\n",
       "    }\n",
       "\n",
       "    .dataframe tbody tr th {\n",
       "        vertical-align: top;\n",
       "    }\n",
       "\n",
       "    .dataframe thead th {\n",
       "        text-align: right;\n",
       "    }\n",
       "</style>\n",
       "<table border=\"1\" class=\"dataframe\">\n",
       "  <thead>\n",
       "    <tr style=\"text-align: right;\">\n",
       "      <th></th>\n",
       "      <th>precision</th>\n",
       "      <th>recall</th>\n",
       "      <th>f1_score</th>\n",
       "      <th>test_accuracy</th>\n",
       "      <th>train_accuracy</th>\n",
       "    </tr>\n",
       "    <tr>\n",
       "      <th>model</th>\n",
       "      <th></th>\n",
       "      <th></th>\n",
       "      <th></th>\n",
       "      <th></th>\n",
       "      <th></th>\n",
       "    </tr>\n",
       "  </thead>\n",
       "  <tbody>\n",
       "    <tr>\n",
       "      <th>AdaBoost</th>\n",
       "      <td>0.962264</td>\n",
       "      <td>0.953271</td>\n",
       "      <td>0.957746</td>\n",
       "      <td>0.947368</td>\n",
       "      <td>1.000000</td>\n",
       "    </tr>\n",
       "    <tr>\n",
       "      <th>DecisionTree</th>\n",
       "      <td>0.961165</td>\n",
       "      <td>0.925234</td>\n",
       "      <td>0.942857</td>\n",
       "      <td>0.929825</td>\n",
       "      <td>1.000000</td>\n",
       "    </tr>\n",
       "    <tr>\n",
       "      <th>GaussianNB</th>\n",
       "      <td>0.933962</td>\n",
       "      <td>0.925234</td>\n",
       "      <td>0.929577</td>\n",
       "      <td>0.912281</td>\n",
       "      <td>0.937186</td>\n",
       "    </tr>\n",
       "    <tr>\n",
       "      <th>KNN</th>\n",
       "      <td>0.937500</td>\n",
       "      <td>0.981308</td>\n",
       "      <td>0.958904</td>\n",
       "      <td>0.947368</td>\n",
       "      <td>0.979899</td>\n",
       "    </tr>\n",
       "    <tr>\n",
       "      <th>LogisticRegression</th>\n",
       "      <td>0.971698</td>\n",
       "      <td>0.962617</td>\n",
       "      <td>0.967136</td>\n",
       "      <td>0.959064</td>\n",
       "      <td>0.992462</td>\n",
       "    </tr>\n",
       "    <tr>\n",
       "      <th>MLP</th>\n",
       "      <td>0.962617</td>\n",
       "      <td>0.962617</td>\n",
       "      <td>0.962617</td>\n",
       "      <td>0.953216</td>\n",
       "      <td>1.000000</td>\n",
       "    </tr>\n",
       "    <tr>\n",
       "      <th>RandomForest</th>\n",
       "      <td>0.962617</td>\n",
       "      <td>0.971963</td>\n",
       "      <td>0.962963</td>\n",
       "      <td>0.953216</td>\n",
       "      <td>1.000000</td>\n",
       "    </tr>\n",
       "    <tr>\n",
       "      <th>SVC</th>\n",
       "      <td>0.962617</td>\n",
       "      <td>0.962617</td>\n",
       "      <td>0.962617</td>\n",
       "      <td>0.953216</td>\n",
       "      <td>0.994975</td>\n",
       "    </tr>\n",
       "  </tbody>\n",
       "</table>\n",
       "</div>"
      ],
      "text/plain": [
       "                    precision    recall  f1_score  test_accuracy  \\\n",
       "model                                                              \n",
       "AdaBoost             0.962264  0.953271  0.957746       0.947368   \n",
       "DecisionTree         0.961165  0.925234  0.942857       0.929825   \n",
       "GaussianNB           0.933962  0.925234  0.929577       0.912281   \n",
       "KNN                  0.937500  0.981308  0.958904       0.947368   \n",
       "LogisticRegression   0.971698  0.962617  0.967136       0.959064   \n",
       "MLP                  0.962617  0.962617  0.962617       0.953216   \n",
       "RandomForest         0.962617  0.971963  0.962963       0.953216   \n",
       "SVC                  0.962617  0.962617  0.962617       0.953216   \n",
       "\n",
       "                    train_accuracy  \n",
       "model                               \n",
       "AdaBoost                  1.000000  \n",
       "DecisionTree              1.000000  \n",
       "GaussianNB                0.937186  \n",
       "KNN                       0.979899  \n",
       "LogisticRegression        0.992462  \n",
       "MLP                       1.000000  \n",
       "RandomForest              1.000000  \n",
       "SVC                       0.994975  "
      ]
     },
     "execution_count": 8,
     "metadata": {},
     "output_type": "execute_result"
    }
   ],
   "source": [
    "perf_columns = ['precision', 'recall', 'f1_score', 'test_accuracy', 'train_accuracy']\n",
    "df = df_perf.groupby('model')[perf_columns].agg('max')\n",
    "df"
   ]
  },
  {
   "cell_type": "markdown",
   "metadata": {},
   "source": [
    "__Question 1.4(a)__ Write some code to create a plot to summarize the test accuracy of the classification models you have studied."
   ]
  },
  {
   "cell_type": "code",
   "execution_count": 9,
   "metadata": {
    "deletable": false,
    "nbgrader": {
     "cell_type": "code",
     "checksum": "a4822c50ca89f6e34ab2fb7e7ae2cf9a",
     "grade": true,
     "grade_id": "cell-dc3e728d9b9ca2e8",
     "locked": false,
     "points": 4,
     "schema_version": 3,
     "solution": true,
     "task": false
    }
   },
   "outputs": [
    {
     "data": {
      "image/png": "[encoded data removed]",
      "text/plain": [
       "<Figure size 864x576 with 1 Axes>"
      ]
     },
     "metadata": {},
     "output_type": "display_data"
    }
   ],
   "source": [
    "# YOUR CODE HERE\n",
    "# raise NotImplementedError()\n",
    "\n",
    "df_test_acc = df_perf.groupby('model')['test_accuracy'].agg('mean')\n",
    "fig, ax = plt.subplots(1,1, figsize=(12,8))\n",
    "_ = sns.barplot(x = df_test_acc.index, y= df_test_acc)"
   ]
  },
  {
   "cell_type": "markdown",
   "metadata": {},
   "source": [
    "__Question 1.4(b)__ A performance model can be measured by various metrics. We can plot all these metrics side-by-side to get an overall picture of the performance of a given model. In the cell after this question, you are provided with a sample code to create a bar plots for comparing the training time and inference time of eight classifcation models. \n",
    "\n",
    "Now, write some code to create the following bar graph to compare the `test_accuracy`, `precision`, `recall`, `f1_score` all the classification models.\n",
    "\n",
    "!['metrics'](https://www.palmetto.clemson.edu/dsci/figures/ps04b_metrics.png)"
   ]
  },
  {
   "cell_type": "code",
   "execution_count": 10,
   "metadata": {
    "deletable": false,
    "nbgrader": {
     "cell_type": "code",
     "checksum": "16c02b2209bc5e53d58c28d8c837fe2a",
     "grade": true,
     "grade_id": "cell-6b04e1ede111f43b",
     "locked": false,
     "points": 10,
     "schema_version": 3,
     "solution": true,
     "task": false
    }
   },
   "outputs": [
    {
     "data": {
      "image/png": "[encoded data removed]",
      "text/plain": [
       "<Figure size 720x432 with 1 Axes>"
      ]
     },
     "metadata": {},
     "output_type": "display_data"
    }
   ],
   "source": [
    "# YOUR CODE HERE\n",
    "# raise NotImplementedError()\n",
    "\n",
    "\n",
    "fig, ax = plt.subplots(1, 1, figsize=(10, 6))\n",
    "sns.set_style(\"ticks\")\n",
    "# sns.barplot(x = df_perf.index,data= df_perf[perf_columns] ,hue_order = df_perf.columns)\n",
    "df = df_perf.groupby('model')[perf_columns].agg('mean').sort_values(by='test_accuracy', ascending=True)\n",
    "df = df.reset_index()\n",
    "\n",
    "metrics = ['test_accuracy', 'train_accuracy', 'precision', 'recall', 'f1_score']\n",
    "width = 1.0 / len(metrics) * 0.80\n",
    "for i, col in enumerate(metrics):\n",
    "    ax.bar(df.index + i * width, df[col], width)\n",
    "\n",
    "ax.set_xticks(df.index + width)\n",
    "ax.set_yscale('log')\n",
    "_ = ax.set_xticklabels(df['model'])\n",
    "ax.legend(metrics, loc='best')\n",
    "\n",
    "fig.tight_layout()\n",
    "fig.savefig('ps04b_timing.png')"
   ]
  },
  {
   "cell_type": "markdown",
   "metadata": {},
   "source": [
    "### A sample code to plot a bar graph with two or more variables\n",
    "\n",
    "```\n",
    "fig, ax = plt.subplots(1, 1, figsize=(10, 6))\n",
    "sns.set_style(\"ticks\")\n",
    "df = df_perf.groupby('model')[perf_columns].agg('mean').sort_values(by='test_accuracy', ascending=True)\n",
    "df = df.reset_index()\n",
    "\n",
    "metrics = ['train_time', 'inference_time']\n",
    "width = 1.0 / len(metrics) * 0.80\n",
    "for i, col in enumerate(metrics):\n",
    "    ax.bar(df.index + i * width, df[col], width)\n",
    "\n",
    "ax.set_xticks(df.index + width)\n",
    "ax.set_yscale('log')\n",
    "_ = ax.set_xticklabels(df['model'])\n",
    "ax.legend(metrics, loc='best')\n",
    "\n",
    "fig.tight_layout()\n",
    "fig.savefig('ps04b_timing.png')\n",
    "```\n",
    "\n",
    "!['metrics'](https://www.palmetto.clemson.edu/dsci/figures/ps04b_timing.png)"
   ]
  },
  {
   "cell_type": "markdown",
   "metadata": {},
   "source": [
    "# 2. Confusion Matrix\n",
    "\n",
    "In classification, a confusion matrix, also known as an error matrix, is a specific table layout that allows visualization of the performance of an algorithm. \n",
    "\n",
    "The following cell trains a LogisticRegression model and constructs a confusion matrix from the test samples."
   ]
  },
  {
   "cell_type": "code",
   "execution_count": 11,
   "metadata": {},
   "outputs": [
    {
     "name": "stdout",
     "output_type": "stream",
     "text": [
      "[[52  1]\n",
      " [ 3 87]]\n"
     ]
    }
   ],
   "source": [
    "from sklearn.datasets import load_breast_cancer\n",
    "from sklearn.model_selection import train_test_split\n",
    "from sklearn.metrics import confusion_matrix\n",
    "\n",
    "cancer = load_breast_cancer(as_frame=True)\n",
    "features = cancer.data\n",
    "target = cancer.target.astype('category')\n",
    "X_train_raw, X_test_raw, y_train, y_test = train_test_split(features, target, stratify=target, test_size=0.25, random_state=8)\n",
    "scaler = StandardScaler()\n",
    "scaler.fit(X_train_raw)\n",
    "X_train = scaler.transform(X_train_raw)\n",
    "X_test = scaler.transform(X_test_raw)\n",
    "\n",
    "clf = LogisticRegression(fit_intercept=True, max_iter=5000)\n",
    "_ = clf.fit(X_train, y_train)\n",
    "y_test_pred = clf.predict(X_test)\n",
    "\n",
    "CM = confusion_matrix(y_test, y_test_pred, labels=target.cat.categories)\n",
    "print(CM)"
   ]
  },
  {
   "cell_type": "markdown",
   "metadata": {},
   "source": [
    "__question 2.1__ Plot the confusion matrix of the predictions on the test set using the above trained model."
   ]
  },
  {
   "cell_type": "code",
   "execution_count": 12,
   "metadata": {
    "deletable": false,
    "nbgrader": {
     "cell_type": "code",
     "checksum": "60358816d1c1755dd54978edfe1b6975",
     "grade": true,
     "grade_id": "cell-53f05a8f8588b604",
     "locked": false,
     "points": 3,
     "schema_version": 3,
     "solution": true,
     "task": false
    }
   },
   "outputs": [
    {
     "data": {
      "text/plain": [
       "Text(30.5, 0.5, 'True Label')"
      ]
     },
     "execution_count": 12,
     "metadata": {},
     "output_type": "execute_result"
    },
    {
     "data": {
      "image/png": "[encoded data removed]",
      "text/plain": [
       "<Figure size 432x432 with 1 Axes>"
      ]
     },
     "metadata": {},
     "output_type": "display_data"
    }
   ],
   "source": [
    "# YOUR CODE HERE\n",
    "# raise NotImplementedError()\n",
    "\n",
    "fig, ax = plt.subplots(1, 1, figsize=(6, 6))\n",
    "sns.heatmap(CM, annot=True, cbar=False, ax=ax)\n",
    "ax.set_xlabel('Predicted Label')\n",
    "ax.set_ylabel('True Label')"
   ]
  },
  {
   "cell_type": "code",
   "execution_count": 13,
   "metadata": {},
   "outputs": [
    {
     "data": {
      "image/png": "[encoded data removed]",
      "text/plain": [
       "<Figure size 432x288 with 1 Axes>"
      ]
     },
     "metadata": {},
     "output_type": "display_data"
    }
   ],
   "source": [
    "## Show the total counts of each class\n",
    "c = cancer.target.value_counts()\n",
    "#sns.barplot(x=cancer.target_names, y=c)\n",
    "ax = sns.barplot(x=c.index, y=c)\n",
    "ax.set_xticklabels(cancer.target_names)\n",
    "ax.set_ylabel('Count')\n",
    "plt.show()"
   ]
  },
  {
   "cell_type": "markdown",
   "metadata": {},
   "source": [
    "\n",
    "In sklearn.metrics.confusion_matrix $C$, $C_{i,j}$ is equal to the number of observations known to be in group $i$ and predicted to be in group $j$.\n",
    "\n",
    "The terms like 'true negative' and 'true positive' are context-specific. In the breast cancer example, __malignant__ (group __0__) means __positive__ and __benign__ (group __1__) means __negative__.\n",
    "\n",
    "For better clarification, we use the following plots to show the connections between this terms for the breast cancer prediction problem.\n",
    "\n",
    "__Question 2.2__ Write some code to extract the true negative, false positive, false negative, and true positive in the test set predictions and save the results to `tn`, `fp`, `fn`, and `tp`."
   ]
  },
  {
   "cell_type": "code",
   "execution_count": 14,
   "metadata": {},
   "outputs": [
    {
     "data": {
      "image/png": "[encoded data removed]",
      "text/plain": [
       "<Figure size 1296x432 with 3 Axes>"
      ]
     },
     "metadata": {},
     "output_type": "display_data"
    }
   ],
   "source": [
    "CM = confusion_matrix(y_test, y_test_pred, labels=target.cat.categories)\n",
    "\n",
    "fig, ax = plt.subplots(1, 3, figsize=(18, 6))\n",
    "sns.heatmap(CM, annot=True, cbar=False, ax=ax[0])\n",
    "ax[0].set_xlabel('Predicted Label')\n",
    "ax[0].set_ylabel('True Label')\n",
    "\n",
    "for idx in [1, 2]:\n",
    "    if idx == 1:\n",
    "        group_names = ['True Malignant', 'False Benign', 'False Malignant', 'True Benign']\n",
    "        class_labels = ['Malignant', 'Benign']\n",
    "    elif idx==2:\n",
    "        group_names = ['True Positive', 'False Negative', 'False Positive', 'True Negative'] \n",
    "        class_labels = ['Positive', 'Negative']\n",
    "        \n",
    "    group_counts = [f'{value:0.0f}' for value in CM.flatten()]\n",
    "    labels = [f'{v1}\\n{v2}' for v1,v2 in zip(group_names, group_counts)]\n",
    "    labels = np.array(labels).reshape(2, 2)\n",
    "    sns.heatmap(CM, annot=labels, fmt='', cmap='YlOrBr', cbar=False, ax=ax[idx])\n",
    "    ax[idx].set_xlabel('Predicted Label')\n",
    "    ax[idx].set_ylabel('True Label')\n",
    "    ax[idx].set_xticks(np.array(range(len(class_labels)))+0.5)\n",
    "    ax[idx].set_xticklabels(class_labels)\n",
    "    ax[idx].set_yticks(np.array(range(len(class_labels)))+0.5)\n",
    "    ax[idx].set_yticklabels(class_labels)\n",
    "\n",
    "plt.show()"
   ]
  },
  {
   "cell_type": "code",
   "execution_count": 15,
   "metadata": {
    "deletable": false,
    "nbgrader": {
     "cell_type": "code",
     "checksum": "b234136eced0eb920eccf3753e62f8f8",
     "grade": false,
     "grade_id": "cell-99d9e968ca82d95e",
     "locked": false,
     "schema_version": 3,
     "solution": true,
     "task": false
    }
   },
   "outputs": [
    {
     "name": "stdout",
     "output_type": "stream",
     "text": [
      "True Negative = 87\n",
      "False Positive = 3\n",
      "False Negative = 1\n",
      "True Positive = 52\n"
     ]
    }
   ],
   "source": [
    "# YOUR CODE HERE\n",
    "# raise NotImplementedError()\n",
    "tp= CM[0,0]\n",
    "tn = CM[1,1]\n",
    "fn= CM[0,1]\n",
    "fp = CM[1,0]\n",
    "print(f'True Negative = {tn:.0f}')\n",
    "print(f'False Positive = {fp:.0f}')\n",
    "print(f'False Negative = {fn:.0f}')\n",
    "print(f'True Positive = {tp:.0f}')"
   ]
  },
  {
   "cell_type": "code",
   "execution_count": 16,
   "metadata": {
    "deletable": false,
    "editable": false,
    "nbgrader": {
     "cell_type": "code",
     "checksum": "38319f3e49fc199e900098eb88993f06",
     "grade": true,
     "grade_id": "cell-13794323a84dfc59",
     "locked": true,
     "points": 3,
     "schema_version": 3,
     "solution": false,
     "task": false
    }
   },
   "outputs": [],
   "source": [
    "assert all(CM.ravel() == [tp, fn, fp, tn])"
   ]
  },
  {
   "cell_type": "markdown",
   "metadata": {},
   "source": [
    "__Question 2.3__  Write some code to compute the precision, recall, and F1_score from the variables `tn`, `fp`, `fn`, and `tp`, save your results to variables __recall__, __precision__, and __F1__. (Because the difference in how to labeling the classes, it is possible that the precision, recall, and f1 scores are different from those computed from skleran.metrics.)"
   ]
  },
  {
   "cell_type": "code",
   "execution_count": 17,
   "metadata": {
    "deletable": false,
    "nbgrader": {
     "cell_type": "code",
     "checksum": "de30efb27ece44647f80de72460660a1",
     "grade": false,
     "grade_id": "cell-4c1c70fd07f0257f",
     "locked": false,
     "schema_version": 3,
     "solution": true,
     "task": false
    }
   },
   "outputs": [
    {
     "name": "stdout",
     "output_type": "stream",
     "text": [
      "Precison = 0.9455\n",
      "Recall = 0.9811\n",
      "F1 = 0.9630\n"
     ]
    }
   ],
   "source": [
    "# YOUR CODE HERE\n",
    "# raise NotImplementedError()\n",
    "precision = tp/(tp+ fp)\n",
    "recall = tp/(tp+ fn)\n",
    "f1 = (2* precision*recall)/(precision+recall)\n",
    "print(f'Precison = {precision:.4f}')\n",
    "print(f'Recall = {recall:.4f}')\n",
    "print(f'F1 = {f1:.4f}')"
   ]
  },
  {
   "cell_type": "code",
   "execution_count": 18,
   "metadata": {
    "deletable": false,
    "editable": false,
    "nbgrader": {
     "cell_type": "code",
     "checksum": "38334997221b437283ee56e96d49c769",
     "grade": true,
     "grade_id": "cell-cad9d99ff9b96fc7",
     "locked": true,
     "points": 2,
     "schema_version": 3,
     "solution": false,
     "task": false
    }
   },
   "outputs": [],
   "source": [
    "assert precision == CM[0, 0] / CM[:, 0].sum() "
   ]
  },
  {
   "cell_type": "code",
   "execution_count": 19,
   "metadata": {
    "deletable": false,
    "editable": false,
    "nbgrader": {
     "cell_type": "code",
     "checksum": "413796e26bec40d06c03fd0ff161cc39",
     "grade": true,
     "grade_id": "cell-094445a0a7c88df6",
     "locked": true,
     "points": 2,
     "schema_version": 3,
     "solution": false,
     "task": false
    }
   },
   "outputs": [],
   "source": [
    "assert recall == CM[0, 0] / CM[0, :].sum()"
   ]
  },
  {
   "cell_type": "code",
   "execution_count": 20,
   "metadata": {
    "deletable": false,
    "editable": false,
    "nbgrader": {
     "cell_type": "code",
     "checksum": "68b5047b5ac0c159dd84d9962d8a69c7",
     "grade": true,
     "grade_id": "cell-210a6fbe2c5a0380",
     "locked": true,
     "points": 2,
     "schema_version": 3,
     "solution": false,
     "task": false
    }
   },
   "outputs": [],
   "source": [
    "assert abs(f1 - 2 * (precision * recall) / (precision + recall)) < 1.0e-5"
   ]
  },
  {
   "cell_type": "markdown",
   "metadata": {},
   "source": [
    "# 3. Expected Value\n",
    "\n",
    "When we are applying data science to an actual application like Breast Cancer Prediction, one important principle is to return to the key question: what is the actual goal of the application? what is the true value that an classifier can bring in?\n",
    "\n",
    "In the above study, the accuracy as a classification metric makes no distinction between false positive and false negative errors. Altough recall and precision provide more specific performance measurement, we still have the question of how to connect the performnace of a classifier to real-world domains.\n",
    "\n",
    "Expect value provides a key analytical framework for real-world data science problems. Below is a diagram of expected value calculation borrowed from chapter 7 of \"Data Science for Business\" by Provost and Fawcett.\n",
    "\n",
    "!['expected value'](https://www.palmetto.clemson.edu/dsci/figures/ps04b_excpected_value.jpg)\n",
    "\n",
    "In general, the expected value can be calculated by:\n",
    "$$EV = \\sum_{i=1}^{m}P(o_{i}) \\cdot V(o_{i})$$\n",
    "\n",
    "Where, $P(o_{i})$ is ith possible pediction outcome and $V(o_{i})$ is the corresponding value for the ith outcome. The value information is domain specific and needs to be learned separately."
   ]
  },
  {
   "cell_type": "code",
   "execution_count": 21,
   "metadata": {},
   "outputs": [],
   "source": [
    "CM = np.array([[52,  1], [ 3, 87]])\n",
    "VM = np.array([[1000, -20000], [-2000, 10000]])"
   ]
  },
  {
   "cell_type": "markdown",
   "metadata": {},
   "source": [
    "__Question 3.1__ Given a confusion matrix of a classifier, __CM__, and a cost_benefit_matrix __VM__ shown as above, compute the __expcted value__ of the classifier?"
   ]
  },
  {
   "cell_type": "code",
   "execution_count": 22,
   "metadata": {
    "deletable": false,
    "nbgrader": {
     "cell_type": "code",
     "checksum": "8943ec36bcc9e5c0370be1521ec5d67f",
     "grade": false,
     "grade_id": "cell-48d2fe79590be6e1",
     "locked": false,
     "schema_version": 3,
     "solution": true,
     "task": false
    }
   },
   "outputs": [],
   "source": [
    "def compute_expected_value(C, V):\n",
    "    \"\"\" computes expected values from a confusion matrix and a cost benefit matrix\n",
    "    \n",
    "    Args:\n",
    "        C (np.ndarray) : a confusion matrix\n",
    "        V (np.ndarray) : a cost benefit matrix\n",
    "    \n",
    "    Returns:\n",
    "        EV(float) : the expected value\n",
    "        \n",
    "    Examples:\n",
    "        >>> print(compute_expected_value(np.array[[1, 2], [3, 4]], np.array[[1, 1], [1, 1]]))\n",
    "        \n",
    "    \"\"\"\n",
    "    C = C/np.sum(C)\n",
    "    return np.sum(C*V)\n",
    "# YOUR CODE HERE\n",
    "# raise NotImplementedError()"
   ]
  },
  {
   "cell_type": "code",
   "execution_count": 23,
   "metadata": {},
   "outputs": [
    {
     "name": "stdout",
     "output_type": "stream",
     "text": [
      "Expected Value = $6265.73\n"
     ]
    }
   ],
   "source": [
    "ev = compute_expected_value(CM, VM)\n",
    "print(f'Expected Value = ${ev:.2f}')   "
   ]
  },
  {
   "cell_type": "code",
   "execution_count": 24,
   "metadata": {
    "deletable": false,
    "editable": false,
    "nbgrader": {
     "cell_type": "code",
     "checksum": "0cdd61d8e766d94aa5be6291c73694b5",
     "grade": true,
     "grade_id": "cell-3f936804e7d3f138",
     "locked": true,
     "points": 3,
     "schema_version": 3,
     "solution": false,
     "task": false
    }
   },
   "outputs": [],
   "source": [
    "assert compute_expected_value(np.array([[1, 2], [3, 4]]), np.array([[1, 1], [1, 1]])) == 1.0"
   ]
  },
  {
   "cell_type": "code",
   "execution_count": 25,
   "metadata": {
    "deletable": false,
    "editable": false,
    "nbgrader": {
     "cell_type": "code",
     "checksum": "6608605abed196c2ddf5c489416b242a",
     "grade": true,
     "grade_id": "cell-e590c853513ed7fa",
     "locked": true,
     "points": 2,
     "schema_version": 3,
     "solution": false,
     "task": false
    }
   },
   "outputs": [],
   "source": [
    "assert compute_expected_value(np.array([[1, 2, 3], [3, 4, 5], [5, 6, 7]]), np.array([[1, 1, 0], [1, 1, 0], [1, 0, 1]])) - 0.61111 < 1e-5"
   ]
  },
  {
   "cell_type": "markdown",
   "metadata": {},
   "source": [
    "__Question 3.2__ Briefly explain why expected value could be a better performance metric than other performance metrics like accuracy or precision?"
   ]
  },
  {
   "cell_type": "markdown",
   "metadata": {
    "deletable": false,
    "nbgrader": {
     "cell_type": "markdown",
     "checksum": "5cdd7105236a2550f92ed831e6e217b5",
     "grade": true,
     "grade_id": "cell-c380dccbad2e9ade",
     "locked": false,
     "points": 5,
     "schema_version": 3,
     "solution": true,
     "task": false
    }
   },
   "source": [
    "##  Answer of Q3.2\n",
    "One reason is that expected value enable users to take the real cost and benefit in practice into account, as in real world when we use machine learning model to solve a business problem, the cost and benefit leaded by the model could be different and the metrics like accuracy , precision, don't consider such real problem. Hence expected value is a better choice to combine the real cost, benefit problem with performance of model."
   ]
  },
  {
   "cell_type": "markdown",
   "metadata": {},
   "source": []
  },
  {
   "cell_type": "markdown",
   "metadata": {},
   "source": [
    "# 4. Classification Probability"
   ]
  },
  {
   "cell_type": "markdown",
   "metadata": {},
   "source": [
    "Several classifiers not only can predict the label of an input sample but also can output the probability of belongs to a class. In scitkit-learn, a classifier has method `predict_proba()`. The probabilities for each class will be calculated in a way that depends on the specific model, but they should yield probabilities for each class for each sample you feed into it.\n",
    "\n",
    "The following code creates the histograms and calibrated probability for four classifiers."
   ]
  },
  {
   "cell_type": "code",
   "execution_count": 26,
   "metadata": {},
   "outputs": [
    {
     "data": {
      "image/png": "[encoded data removed]",
      "text/plain": [
       "<Figure size 1440x1152 with 8 Axes>"
      ]
     },
     "metadata": {},
     "output_type": "display_data"
    }
   ],
   "source": [
    "from sklearn.datasets import load_breast_cancer\n",
    "from sklearn.model_selection import train_test_split\n",
    "from sklearn.metrics import confusion_matrix\n",
    "from sklearn.calibration import calibration_curve\n",
    "\n",
    "cancer = load_breast_cancer(as_frame=True)\n",
    "features = cancer.data\n",
    "target = cancer.target.astype('category')\n",
    "X_train_raw, X_test_raw, y_train, y_test = train_test_split(features, target, stratify=target, test_size=0.25, random_state=8)\n",
    "scaler = StandardScaler()\n",
    "scaler.fit(X_train_raw)\n",
    "X_train = scaler.transform(X_train_raw)\n",
    "X_test = scaler.transform(X_test_raw)\n",
    "\n",
    "models = {\n",
    "    'RandomForest': RandomForestClassifier(),\n",
    "    'SVC': SVC(gamma='auto', probability=True),\n",
    "    'LogisticRegression': LogisticRegression(fit_intercept=True, max_iter=5000),\n",
    "    'GaussianNB': GaussianNB(),\n",
    "}\n",
    "\n",
    "fig, ax = plt.subplots(2, 4, figsize=(20, 16))\n",
    "idx = 0\n",
    "n_bins = 10\n",
    "for model_name, model in models.items():\n",
    "    clf = model\n",
    "    _ = clf.fit(X_train, y_train)\n",
    "\n",
    "    y_test_probability = clf.predict_proba(X_test)\n",
    "    prob_postive = y_test_probability[:, 0]\n",
    "    prob_negative = y_test_probability[:, 1]\n",
    "    \n",
    "    fraction_of_positives, predicted_positive_prob = calibration_curve(y_test, prob_postive, n_bins=20)\n",
    "    fraction_of_negative, predicted_nagative_prob = calibration_curve(y_test, prob_negative, n_bins=20)\n",
    "    \n",
    "    ax[0, idx].hist(y_test_probability[:, 0], bins=n_bins)\n",
    "    ax[0, idx].set_title(model_name)\n",
    "    ax[0, idx].set_ylim(0, 0.2*len(y_train))\n",
    "    ax[0, idx].set_xlabel('Predicted Probability')\n",
    "    ax[0, idx].set_ylabel('Counts')\n",
    "    handles, labels = ax[0, idx].get_legend_handles_labels()\n",
    "    labels = ['Malignant', 'Benign']\n",
    "    ax[0, idx].legend(handles, labels)\n",
    "    \n",
    "    \n",
    "    ax[1, idx].plot(predicted_positive_prob, fraction_of_positives, \"s-\", label=\"postive\")\n",
    "    ax[1, idx].plot(predicted_nagative_prob, fraction_of_negative, \"s-\", label=\"negative\")\n",
    "    ax[1, idx].set_title(model_name)\n",
    "    ax[1, idx].set_xlabel('Predicted Probability')\n",
    "    ax[1, idx].set_ylabel('Fraction of Positives or Negatives')\n",
    "    ax[1, idx].legend(loc='center right')\n",
    "    idx = idx + 1"
   ]
  },
  {
   "cell_type": "markdown",
   "metadata": {},
   "source": [
    "__Question 4.1__ Based upon the above plots, which of the following statement is likely to be false?\n",
    "\n",
    "```\n",
    "A. For Random Forest, SVC, and LogisticRegression classifiers used in this problem, almost all the test samples with a predicted probability of zero are true positive samples.\n",
    "B. For Random Forest, SVC, and LogisticRegression classifiers used in this problem, almost all the test samples with a predicted probability of zero are predicted correctly.\n",
    "C. For Gaussian Naive Bayes Classifier, even a sample has a 100% predicted probability to be positive, it is still likely that the sample is a negtive case.\n",
    "D. In real-world applications, we can recalculate the classification probability of a given classifier (i.e., setting a threshold of predicted probability for a class) to achieve a desired prediction performance (which can be accuracy, precision, or expected values).\n",
    "```"
   ]
  },
  {
   "cell_type": "code",
   "execution_count": 27,
   "metadata": {
    "deletable": false,
    "nbgrader": {
     "cell_type": "code",
     "checksum": "b4ca15ad8ccf74085734dd7ec13deb84",
     "grade": true,
     "grade_id": "cell-20776072f9ce83a6",
     "locked": false,
     "points": 3,
     "schema_version": 3,
     "solution": true,
     "task": false
    }
   },
   "outputs": [
    {
     "data": {
      "text/plain": [
       "'B'"
      ]
     },
     "execution_count": 27,
     "metadata": {},
     "output_type": "execute_result"
    }
   ],
   "source": [
    "# YOUR CODE HERE\n",
    "# raise NotImplementedError()\n",
    "answer = 'B'\n",
    "answer"
   ]
  },
  {
   "cell_type": "markdown",
   "metadata": {},
   "source": [
    "__Question 4.2__ Complete the following code to combine the prediction of the four classifiers and then evaluate the accuracy of the combined prediction."
   ]
  },
  {
   "cell_type": "code",
   "execution_count": 28,
   "metadata": {
    "deletable": false,
    "nbgrader": {
     "cell_type": "code",
     "checksum": "a57e18d619f7d3aa70c48e11ef9f1ced",
     "grade": true,
     "grade_id": "cell-0cd530749df98828",
     "locked": false,
     "points": 15,
     "schema_version": 3,
     "solution": true,
     "task": false
    }
   },
   "outputs": [],
   "source": [
    "from sklearn.datasets import load_breast_cancer\n",
    "from sklearn.model_selection import train_test_split\n",
    "from sklearn.metrics import confusion_matrix\n",
    "from sklearn.calibration import calibration_curve\n",
    "import numpy as np \n",
    "\n",
    "cancer = load_breast_cancer(as_frame=True)\n",
    "features = cancer.data\n",
    "target = cancer.target.astype('category')\n",
    "\n",
    "X_train_raw, X_test_raw, y_train, y_test = train_test_split(features, target, stratify=target, test_size=0.25, random_state=8)\n",
    "scaler = StandardScaler()\n",
    "scaler.fit(X_train_raw)\n",
    "X_train = scaler.transform(X_train_raw)\n",
    "X_test = scaler.transform(X_test_raw)\n",
    "\n",
    "models = {\n",
    "    'RandomForest': RandomForestClassifier(),\n",
    "    'SVC': SVC(gamma='auto', probability=True),\n",
    "    'LogisticRegression': LogisticRegression(fit_intercept=True, max_iter=5000)\n",
    "}\n",
    "\n",
    "    \n",
    "class CombinedClassifier:\n",
    "    def __init__(self, models, combine_method='geo_mean'):\n",
    "        self.models = {\n",
    "            label: clf for label, clf in models.items()\n",
    "        }\n",
    "        self.method=combine_method\n",
    "    \n",
    "    def fit(self, X, y):\n",
    "        for label, clf in self.models.items():\n",
    "            clf.fit(X, y)\n",
    "        self.n_classes = np.unique(y).shape[0]\n",
    "            \n",
    "    def predict(self, X):\n",
    "        # YOUR CODE HERE\n",
    "        # raise NotImplementedError()\n",
    "        labels_ls = []\n",
    "        # add prediction of each model to list\n",
    "        for label, clf in self.models.items():\n",
    "            y_pred = clf.predict(X)\n",
    "            labels_ls.append(y_pred.tolist())\n",
    "        labels_ls = np.array(labels_ls)\n",
    "        labels = []\n",
    "        # find the label with most counts as overall prediction\n",
    "        for i in range(len(labels_ls[0,:])):\n",
    "            (values,counts) = np.unique(labels_ls[:, i ],return_counts=True)\n",
    "            ind=np.argmax(counts)\n",
    "            labels.append(values[ind])\n",
    "\n",
    "        return labels\n",
    "\n",
    "    def predict_proba(self, X):\n",
    "        prob = []\n",
    "        # add prediction of each model to list\n",
    "        for label, clf in self.models.items():\n",
    "            y_pred = clf.predict_proba(X)\n",
    "            prob.append(y_pred.tolist())\n",
    "        # find average prediction possibility\n",
    "        prob = np.array(prob)\n",
    "        prob = np.mean(prob, axis= 0)\n",
    "            \n",
    "# YOUR CODE HERE\n",
    "# raise NotImplementedError()\n",
    "        return prob\n",
    "\n",
    "combined_clf = CombinedClassifier(models)\n",
    "combined_clf.fit(X_train, y_train)"
   ]
  },
  {
   "cell_type": "code",
   "execution_count": 29,
   "metadata": {},
   "outputs": [
    {
     "data": {
      "image/png": "[encoded data removed]",
      "text/plain": [
       "<Figure size 432x288 with 2 Axes>"
      ]
     },
     "metadata": {},
     "output_type": "display_data"
    }
   ],
   "source": [
    "y_test_pred = combined_clf.predict(X_test[:, :])\n",
    "cm = confusion_matrix(y_test, y_test_pred)\n",
    "sns.heatmap(cm, annot=True)\n",
    "plt.show()"
   ]
  },
  {
   "cell_type": "markdown",
   "metadata": {},
   "source": [
    "__Question 4.3__ Complete the following code to find the prediction probability of the test samples with incorrect predictions."
   ]
  },
  {
   "cell_type": "code",
   "execution_count": 30,
   "metadata": {
    "deletable": false,
    "nbgrader": {
     "cell_type": "code",
     "checksum": "983fc413ad9801f7551002f2e279eb37",
     "grade": true,
     "grade_id": "cell-ea09cf7da99596ff",
     "locked": false,
     "points": 3,
     "schema_version": 3,
     "solution": true,
     "task": false
    }
   },
   "outputs": [
    {
     "data": {
      "text/html": [
       "<div>\n",
       "<style scoped>\n",
       "    .dataframe tbody tr th:only-of-type {\n",
       "        vertical-align: middle;\n",
       "    }\n",
       "\n",
       "    .dataframe tbody tr th {\n",
       "        vertical-align: top;\n",
       "    }\n",
       "\n",
       "    .dataframe thead th {\n",
       "        text-align: right;\n",
       "    }\n",
       "</style>\n",
       "<table border=\"1\" class=\"dataframe\">\n",
       "  <thead>\n",
       "    <tr style=\"text-align: right;\">\n",
       "      <th></th>\n",
       "      <th>prob_malignant</th>\n",
       "      <th>prob_benign</th>\n",
       "    </tr>\n",
       "  </thead>\n",
       "  <tbody>\n",
       "    <tr>\n",
       "      <th>66</th>\n",
       "      <td>0.445284</td>\n",
       "      <td>0.554716</td>\n",
       "    </tr>\n",
       "    <tr>\n",
       "      <th>68</th>\n",
       "      <td>0.474687</td>\n",
       "      <td>0.525313</td>\n",
       "    </tr>\n",
       "    <tr>\n",
       "      <th>83</th>\n",
       "      <td>0.575148</td>\n",
       "      <td>0.424852</td>\n",
       "    </tr>\n",
       "  </tbody>\n",
       "</table>\n",
       "</div>"
      ],
      "text/plain": [
       "    prob_malignant  prob_benign\n",
       "66        0.445284     0.554716\n",
       "68        0.474687     0.525313\n",
       "83        0.575148     0.424852"
      ]
     },
     "execution_count": 30,
     "metadata": {},
     "output_type": "execute_result"
    }
   ],
   "source": [
    "df = pd.DataFrame(combined_clf.predict_proba(X_test), columns=[f'prob_{label}' for label in cancer.target_names])\n",
    "df['pred_label'] = y_test_pred\n",
    "df['true_label'] = np.array(y_test)\n",
    "# YOUR CODE HERE\n",
    "# raise NotImplementedError()\n",
    "df[[\"prob_malignant\",\"prob_benign\"]].loc[df['pred_label'] != df['true_label']]"
   ]
  },
  {
   "cell_type": "markdown",
   "metadata": {},
   "source": [
    "__End of Part B__"
   ]
  }
 ],
 "metadata": {
  "kernelspec": {
   "display_name": "Python 3",
   "language": "python",
   "name": "python3"
  },
  "language_info": {
   "codemirror_mode": {
    "name": "ipython",
    "version": 3
   },
   "file_extension": ".py",
   "mimetype": "text/x-python",
   "name": "python",
   "nbconvert_exporter": "python",
   "pygments_lexer": "ipython3",
   "version": "3.8.3"
  }
 },
 "nbformat": 4,
 "nbformat_minor": 4
}
