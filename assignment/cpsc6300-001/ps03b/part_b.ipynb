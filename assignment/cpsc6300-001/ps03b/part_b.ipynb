{
 "cells": [
  {
   "cell_type": "markdown",
   "metadata": {},
   "source": [
    "# CPSC 4300/6300-001 Applied Data Science (Fall 2020)\n",
    "\n",
    "Before you turn this problem in, make sure everything runs as expected. First, **restart the kernel** (in the menubar, select Kernel$\\rightarrow$Restart) and then **run all cells** (in the menubar, select Cell$\\rightarrow$Run All).\n",
    "\n",
    "Make sure you fill in any place that says `YOUR CODE HERE` or \"YOUR ANSWER HERE\", as well as your name and collaborators below:"
   ]
  },
  {
   "cell_type": "code",
   "execution_count": null,
   "metadata": {},
   "outputs": [],
   "source": [
    "NAME = \"\"\n",
    "COLLABORATORS = \"\""
   ]
  },
  {
   "cell_type": "markdown",
   "metadata": {},
   "source": [
    "# CPSC4300/6300-001 Problem Set #3\n"
   ]
  },
  {
   "cell_type": "markdown",
   "metadata": {},
   "source": [
    "# Part B. Exploratory Data Analysis"
   ]
  },
  {
   "cell_type": "code",
   "execution_count": null,
   "metadata": {},
   "outputs": [],
   "source": [
    "from IPython.core.interactiveshell import InteractiveShell\n",
    "InteractiveShell.ast_node_interactivity = \"all\"\n",
    "%matplotlib inline"
   ]
  },
  {
   "cell_type": "markdown",
   "metadata": {},
   "source": [
    "## 1. Histograms of Attributes\n",
    "\n",
    "Finish the following code to plot a histograms of the numerical attributes of the housing data using 50 bins. Set the figure size to  $20×15$  and the layout to  $3×3$. You can use the method `pandas.DataFrame.hist` to plot the histograms of each series in a DataFrame. A sample figure is available at https://www.palmetto.clemson.edu/dsci/figures/ps03b_hist.jpg."
   ]
  },
  {
   "cell_type": "code",
   "execution_count": null,
   "metadata": {
    "deletable": false,
    "editable": false,
    "nbgrader": {
     "cell_type": "code",
     "checksum": "378e44da3c3d44c72423d3bd0af2be4b",
     "grade": false,
     "grade_id": "cell-bfc2695463fcf60e",
     "locked": true,
     "schema_version": 3,
     "solution": false,
     "task": false
    }
   },
   "outputs": [],
   "source": [
    "%matplotlib inline\n",
    "\n",
    "import numpy as np\n",
    "import pandas as pd\n",
    "import matplotlib.pyplot as plt\n",
    "import matplotlib as mpt\n",
    "import seaborn as sns\n",
    "\n",
    "housing = pd.read_csv(\"input/housing.csv\")"
   ]
  },
  {
   "cell_type": "code",
   "execution_count": null,
   "metadata": {
    "deletable": false,
    "nbgrader": {
     "cell_type": "code",
     "checksum": "2b20cc81b0d81f7f21a5d865a0fd7ba3",
     "grade": true,
     "grade_id": "cell-00364cfdef4cd7c6",
     "locked": false,
     "points": 2,
     "schema_version": 3,
     "solution": true,
     "task": false
    }
   },
   "outputs": [],
   "source": [
    "sns.set(color_codes=True)\n",
    "sns.set(style=\"white\", palette=\"muted\")\n",
    "\n",
    "# YOUR CODE HERE\n",
    "raise NotImplementedError()"
   ]
  },
  {
   "cell_type": "markdown",
   "metadata": {},
   "source": [
    "## 2. Capped Attributes\n",
    "\n",
    "Based on the above histogram plots, list the set of features whose values are capped along with either lower or upper caps. Present your answer as a dict type, e.g.: \n",
    "```\n",
    "{\n",
    "    \"attribut_a\": [10, 1000],\n",
    "    \"attribute_b\": [5, 600]\n",
    "}\n",
    "```"
   ]
  },
  {
   "cell_type": "code",
   "execution_count": null,
   "metadata": {
    "deletable": false,
    "nbgrader": {
     "cell_type": "code",
     "checksum": "184b6b53dd18f2d1b10ac4d6b3ec9928",
     "grade": false,
     "grade_id": "cell-f73054582da5bff8",
     "locked": false,
     "schema_version": 3,
     "solution": true,
     "task": false
    }
   },
   "outputs": [],
   "source": [
    "# YOUR CODE HERE\n",
    "raise NotImplementedError()\n",
    "capped_attributes"
   ]
  },
  {
   "cell_type": "code",
   "execution_count": null,
   "metadata": {
    "deletable": false,
    "editable": false,
    "nbgrader": {
     "cell_type": "code",
     "checksum": "8b19bcf2552684dd0e0c64e34f4f9ba7",
     "grade": true,
     "grade_id": "cell-df130ccbea9cc1c3",
     "locked": true,
     "points": 3,
     "schema_version": 3,
     "solution": false,
     "task": false
    }
   },
   "outputs": [],
   "source": [
    "import hashlib\n",
    "assert isinstance(capped_attributes, dict)\n",
    "assert hashlib.md5(''.join(sorted(capped_attributes.keys())).encode()).hexdigest() == 'acf847493013597728fb3e833ab92c6c'"
   ]
  },
  {
   "cell_type": "markdown",
   "metadata": {},
   "source": [
    "## 3. Transformed Attribute Values\n",
    "\n",
    "The values of `median_income` do not seem to match the actual income distribution in the United States. In 1990, the median household income of California is \\$59,790 (see https://nces.ed.gov/programs/digest/d10/tables/dt10_025.asp). Which all the following explanations which are likely to be true?\n",
    "\n",
    "````\n",
    "1. The median_income has been scaled.\n",
    "2. The median_income has been cappep at 15 for the maximum value of median_income.\n",
    "3. The median_income has been capped at 0.4999 for the minimum valeu of the media_income.\n",
    "4. The number represents the actual median_income divided by 10,000, i.e., 5 means an actual income of $50,000.\n",
    "5. The median_income data are corrupted.\n",
    "```\n",
    "\n",
    "__Present your answer as a list, for example, answer = [1, 5].__\n"
   ]
  },
  {
   "cell_type": "code",
   "execution_count": null,
   "metadata": {
    "deletable": false,
    "nbgrader": {
     "cell_type": "code",
     "checksum": "3abf1002f01a880a7e9e8a600e6f6198",
     "grade": false,
     "grade_id": "cell-d6fc396c4a640a3c",
     "locked": false,
     "schema_version": 3,
     "solution": true,
     "task": false
    }
   },
   "outputs": [],
   "source": [
    "# YOUR CODE HERE\n",
    "raise NotImplementedError()\n",
    "answer"
   ]
  },
  {
   "cell_type": "code",
   "execution_count": null,
   "metadata": {
    "deletable": false,
    "editable": false,
    "nbgrader": {
     "cell_type": "code",
     "checksum": "5d7d2562f4112b59ffcc2649d9ee0960",
     "grade": true,
     "grade_id": "cell-429c06dc41a0a69f",
     "locked": true,
     "points": 3,
     "schema_version": 3,
     "solution": false,
     "task": false
    }
   },
   "outputs": [],
   "source": [
    "import hashlib\n",
    "isinstance(answer, list)\n",
    "assert hashlib.md5(''.join([str(a) for a in sorted(answer)]).encode()).hexdigest() == '81dc9bdb52d04dc20036dbd8313ed055'"
   ]
  },
  {
   "cell_type": "markdown",
   "metadata": {},
   "source": [
    "## 4. Long Tail Distribution\n",
    "\n",
    "List at least two attributes whose histograms are tail heavy: they extend much farther to the right than to the left. Save your list into a variable __long_tail_attributes__."
   ]
  },
  {
   "cell_type": "code",
   "execution_count": null,
   "metadata": {
    "deletable": false,
    "nbgrader": {
     "cell_type": "code",
     "checksum": "6ed03489f4205344b9e1539d596caab6",
     "grade": false,
     "grade_id": "cell-7cbeae3efe2b8135",
     "locked": false,
     "schema_version": 3,
     "solution": true,
     "task": false
    }
   },
   "outputs": [],
   "source": [
    "# YOUR CODE HERE\n",
    "raise NotImplementedError()\n",
    "for i, a in enumerate(sorted(long_tail_attributes)):\n",
    "    print(i+1, a)"
   ]
  },
  {
   "cell_type": "code",
   "execution_count": null,
   "metadata": {
    "deletable": false,
    "editable": false,
    "nbgrader": {
     "cell_type": "code",
     "checksum": "fb669775c1c2f9b708a34c2e2a65fa03",
     "grade": true,
     "grade_id": "cell-fc5e441e99ae9cbc",
     "locked": true,
     "points": 3,
     "schema_version": 3,
     "solution": false,
     "task": false
    }
   },
   "outputs": [],
   "source": [
    "import hashlib\n",
    "assert hashlib.md5(''.join(sorted(long_tail_attributes)).encode()).hexdigest().endswith('7cad5572')"
   ]
  },
  {
   "cell_type": "markdown",
   "metadata": {},
   "source": [
    "## 5. Scatter Plots\n",
    "\n",
    "Scatter matrix is a good visualization for  correlations between attributes. __Use the seaborn's pairplot() method to plot the scatter matrix of housing data__. A sample figure is shown at https://www.palmetto.clemson.edu/dsci/figures/ps03b_housing_pairplot.jpg.\n",
    "\n",
    "Before you start, consider the following three hints:\n",
    "\n",
    "1. pairplot only applies to numerical attributes. \n",
    "2. pairplot cannot directly handle the NaN value.\n",
    "3. When the dataset is large, the plotting may be slow. \n",
    "\n",
    "You may preprocess the data going into the `pairplot()` method by dropping certain columns and rows. Also, since you only want to see an overall trend, it may be efficient to plot a fraction of the datasets. The methods you may need include:\n",
    "\n",
    "+ pandas.DataFrame.sample\n",
    "+ pandas.DataFrame.drop\n",
    "+ pandas.DataFrame.dropna\n",
    "+ seaborn.pairplot"
   ]
  },
  {
   "cell_type": "code",
   "execution_count": null,
   "metadata": {
    "deletable": false,
    "nbgrader": {
     "cell_type": "code",
     "checksum": "cd896c01fc5f1077619cc1c27a5526a1",
     "grade": true,
     "grade_id": "cell-81d3ada0308d06ed",
     "locked": false,
     "points": 7,
     "schema_version": 3,
     "solution": true,
     "task": false
    }
   },
   "outputs": [],
   "source": [
    "# YOUR CODE HERE\n",
    "raise NotImplementedError()"
   ]
  },
  {
   "cell_type": "markdown",
   "metadata": {},
   "source": [
    "## 6. Correlation Matrix vs Scatter Matrix\n",
    "\n",
    "__Question 6(a)__. Compute the correlation coefficients between each pair of the numerical attributes and save the results to a variable __corr_matrix__."
   ]
  },
  {
   "cell_type": "code",
   "execution_count": null,
   "metadata": {
    "deletable": false,
    "nbgrader": {
     "cell_type": "code",
     "checksum": "bd56b3880aadf95454ecfea110efccc4",
     "grade": true,
     "grade_id": "cell-b4278bb4b58aa704",
     "locked": false,
     "points": 3,
     "schema_version": 3,
     "solution": true,
     "task": false
    }
   },
   "outputs": [],
   "source": [
    "# YOUR CODE HERE\n",
    "raise NotImplementedError()\n",
    "corr_matrix"
   ]
  },
  {
   "cell_type": "markdown",
   "metadata": {},
   "source": [
    "__Question 6(b)__. Print the top three attributes that have the strongest correlation with `median_house_value` and the corresponding correlation coefficients."
   ]
  },
  {
   "cell_type": "code",
   "execution_count": null,
   "metadata": {
    "deletable": false,
    "nbgrader": {
     "cell_type": "code",
     "checksum": "019aeec71b646e880d816dc478236c1d",
     "grade": true,
     "grade_id": "cell-df4aaec578a20c4a",
     "locked": false,
     "points": 3,
     "schema_version": 3,
     "solution": true,
     "task": false
    }
   },
   "outputs": [],
   "source": [
    "# YOUR CODE HERE\n",
    "raise NotImplementedError()"
   ]
  },
  {
   "cell_type": "markdown",
   "metadata": {},
   "source": [
    "__Question 6(c)__. Use `seaborn.scatterplot` Plot the scatter plot between __median_income__ and __median_house_value__ into a figure of size $10 \\times 8$. Use __median_income__ as x-axis, __median_house_value__ as y_axis, and __ocean_proximity__ as __hue__. A sample figure is provided at https://www.palmetto.clemson.edu/dsci/figures/ps03b_income_vs_house_value.jpg."
   ]
  },
  {
   "cell_type": "code",
   "execution_count": null,
   "metadata": {
    "deletable": false,
    "nbgrader": {
     "cell_type": "code",
     "checksum": "ada402984818e18cebd3b248357d89c2",
     "grade": true,
     "grade_id": "cell-09b0ae7a3c8f9022",
     "locked": false,
     "points": 4,
     "schema_version": 3,
     "solution": true,
     "task": false
    }
   },
   "outputs": [],
   "source": [
    "# YOUR CODE HERE\n",
    "raise NotImplementedError()"
   ]
  },
  {
   "cell_type": "markdown",
   "metadata": {},
   "source": [
    "## 7. Visualize Geographical Data\n",
    "\n",
    "When a dataset contains geolocation information (latitude and longitude), creating a geographical scatterplot of the data can reveal useful information. "
   ]
  },
  {
   "cell_type": "markdown",
   "metadata": {},
   "source": [
    "__Question 7(a)__. Create a scatterplot using the __(latitude, longitude)__ as the coordinates, 1/50 of the population as the size of the marker, and the median house value as the color. You can use the \"jet\" colormap. A sample figure is available at: https://www.palmetto.clemson.edu/dsci/figures/ps03b_housing_locations.jpg."
   ]
  },
  {
   "cell_type": "code",
   "execution_count": null,
   "metadata": {
    "deletable": false,
    "nbgrader": {
     "cell_type": "code",
     "checksum": "34be86d176de520841cbe4ef0b75e7c3",
     "grade": true,
     "grade_id": "cell-840950b3b324e825",
     "locked": false,
     "points": 6,
     "schema_version": 3,
     "solution": true,
     "task": false
    }
   },
   "outputs": [],
   "source": [
    "# YOUR CODE HERE\n",
    "raise NotImplementedError()"
   ]
  },
  {
   "cell_type": "markdown",
   "metadata": {},
   "source": [
    "__Question 7(b)__. You can play a scatter plot on top of a basemap of the region. There are numerous ways to achieve such a task:\n",
    "\n",
    "+ Load a map image and show the image on the same plot which contains the scatter plot.\n",
    "+ Use certain map plot packages to plot the scatter plot on a map. For example, you can use the `gmplot` module (https://pypi.org/project/gmplot/) to plot data directly on a google map.\n",
    "\n",
    "Read the following example that creates a scatter plot using `plotly` package. Then __create a scatter plot of the California housing data on a map using the plotly package__. A sample image of the plot is available at https://www.palmetto.clemson.edu/dsci/figures/ps03b_housing_map.png.\n",
    "\n",
    "Hints:\n",
    "+ You can extract the relevant columns of the `housing` DataFrame into a new DataFrame `df` and then change the corresponding arguments in the `px.scatter_mapbox` method.\n",
    "+ You can set `zoom=5` to display all the entire map of the State of California.\n",
    "+ To use cloud services such as Google Cloud and Mapbox, you need to create an account and use the API token to access the service. For this exercise, you can use the one I have provided along with the assignment. "
   ]
  },
  {
   "cell_type": "code",
   "execution_count": null,
   "metadata": {
    "deletable": false,
    "editable": false,
    "nbgrader": {
     "cell_type": "code",
     "checksum": "75fb53e375ad88cebb71c0974d55f5b1",
     "grade": false,
     "grade_id": "cell-2aa3a9625cbd241d",
     "locked": true,
     "schema_version": 3,
     "solution": false,
     "task": false
    }
   },
   "outputs": [],
   "source": [
    "import plotly.express as px\n",
    "px.set_mapbox_access_token(open(\".mapbox_token\").read())\n",
    "df = px.data.carshare()\n",
    "fig = px.scatter_mapbox(df, lat=\"centroid_lat\", lon=\"centroid_lon\",     color=\"peak_hour\", size=\"car_hours\",\n",
    "                  color_continuous_scale=px.colors.sequential.Jet, size_max=15, zoom=10)\n",
    "fig.show()"
   ]
  },
  {
   "cell_type": "code",
   "execution_count": null,
   "metadata": {
    "deletable": false,
    "nbgrader": {
     "cell_type": "code",
     "checksum": "7a000f13f2220dc1e42dd75684bfb017",
     "grade": true,
     "grade_id": "cell-900e02603a50628c",
     "locked": false,
     "points": 6,
     "schema_version": 3,
     "solution": true,
     "task": false
    }
   },
   "outputs": [],
   "source": [
    "# YOUR CODE HERE\n",
    "raise NotImplementedError()"
   ]
  },
  {
   "cell_type": "markdown",
   "metadata": {},
   "source": [
    "__End of Part B__."
   ]
  }
 ],
 "metadata": {
  "kernelspec": {
   "display_name": "Python 3",
   "language": "python",
   "name": "python3"
  },
  "language_info": {
   "codemirror_mode": {
    "name": "ipython",
    "version": 3
   },
   "file_extension": ".py",
   "mimetype": "text/x-python",
   "name": "python",
   "nbconvert_exporter": "python",
   "pygments_lexer": "ipython3",
   "version": "3.8.3"
  }
 },
 "nbformat": 4,
 "nbformat_minor": 2
}
