{
 "cells": [
  {
   "cell_type": "markdown",
   "metadata": {},
   "source": [
    "# CPSC 4300/6300-001 Applied Data Science (Fall 2020)\n",
    "\n",
    "Before you turn this problem in, make sure everything runs as expected. First, **restart the kernel** (in the menubar, select Kernel$\\rightarrow$Restart) and then **run all cells** (in the menubar, select Cell$\\rightarrow$Run All).\n",
    "\n",
    "Make sure you fill in any place that says `YOUR CODE HERE` or \"YOUR ANSWER HERE\", as well as your name and collaborators below:"
   ]
  },
  {
   "cell_type": "code",
   "execution_count": null,
   "metadata": {},
   "outputs": [],
   "source": [
    "NAME = \"\"\n",
    "COLLABORATORS = \"\""
   ]
  },
  {
   "cell_type": "markdown",
   "metadata": {},
   "source": [
    "# CPSC4300/6300-001 Problem Set #3¶\n",
    "\n"
   ]
  },
  {
   "cell_type": "markdown",
   "metadata": {},
   "source": [
    "# Part D. Develop Machine Learning Models (85 points)"
   ]
  },
  {
   "cell_type": "code",
   "execution_count": null,
   "metadata": {
    "deletable": false,
    "editable": false,
    "nbgrader": {
     "cell_type": "code",
     "checksum": "f980e02074b5c5a5b6d9308affa93687",
     "grade": false,
     "grade_id": "cell-3a30ebb6aac475cc",
     "locked": true,
     "schema_version": 3,
     "solution": false,
     "task": false
    }
   },
   "outputs": [],
   "source": [
    "%matplotlib inline\n",
    "\n",
    "import numpy as np\n",
    "import pandas as pd\n",
    "import matplotlib.pyplot as plt\n",
    "import matplotlib as mpt\n",
    "import seaborn as sns\n",
    "\n",
    "from IPython.core.interactiveshell import InteractiveShell\n",
    "InteractiveShell.ast_node_interactivity = \"all\"\n",
    "%matplotlib inline"
   ]
  },
  {
   "cell_type": "markdown",
   "metadata": {
    "deletable": false,
    "editable": false,
    "nbgrader": {
     "cell_type": "markdown",
     "checksum": "413f3c6dc7daaa2828e72d664680bad7",
     "grade": false,
     "grade_id": "cell-48a594b491810ebf",
     "locked": true,
     "schema_version": 3,
     "solution": false,
     "task": false
    }
   },
   "source": [
    "## 1. Load the train and test dataset\n",
    "\n",
    "In Part C, you have prepared a cleaned train data and test data. In this part, you develop machine learning models using the prepared data sets."
   ]
  },
  {
   "cell_type": "code",
   "execution_count": null,
   "metadata": {
    "deletable": false,
    "editable": false,
    "nbgrader": {
     "cell_type": "code",
     "checksum": "884ce1e70147058f9f116ca3e0b13c9f",
     "grade": false,
     "grade_id": "cell-498c4cd549079b0a",
     "locked": true,
     "schema_version": 3,
     "solution": false,
     "task": false
    }
   },
   "outputs": [],
   "source": [
    "df_train = pd.read_csv(\"input/housing_train_scaled.csv\")\n",
    "df_test = pd.read_csv(\"input/housing_test_scaled.csv\")"
   ]
  },
  {
   "cell_type": "markdown",
   "metadata": {
    "deletable": false,
    "editable": false,
    "nbgrader": {
     "cell_type": "markdown",
     "checksum": "379812034d64c7edb97bfbc9986d6f2c",
     "grade": false,
     "grade_id": "cell-e41af1e1dabf6041",
     "locked": true,
     "schema_version": 3,
     "solution": false,
     "task": false
    }
   },
   "source": [
    "## 2. Create a Data Structure to Keep Model Performance\n",
    "\n",
    "In the model development phase, you may test numerous models. To compare these models, it is beneficial to create some utilities to keep the model performance data. Below is one example. "
   ]
  },
  {
   "cell_type": "code",
   "execution_count": null,
   "metadata": {
    "deletable": false,
    "editable": false,
    "nbgrader": {
     "cell_type": "code",
     "checksum": "202bc60edda0eb09600caf784b1bb06e",
     "grade": false,
     "grade_id": "cell-707a14491abb29f4",
     "locked": true,
     "schema_version": 3,
     "solution": false,
     "task": false
    }
   },
   "outputs": [],
   "source": [
    "from collections  import defaultdict\n",
    "from sklearn.metrics import mean_squared_error\n",
    "from sklearn.metrics import explained_variance_score\n",
    "from sklearn.metrics import mean_absolute_error\n",
    "from sklearn.metrics import r2_score\n",
    "\n",
    "model_perf = defaultdict(dict)\n",
    "\n",
    "def compute_model_perf(model_name, tag, y_true, y_pred):\n",
    "    model_perf[model_name]['{}.explained_variance'.format(tag)] = explained_variance_score(y_true, y_pred)\n",
    "    model_perf[model_name]['{}.RSME'.format(tag)] = mean_squared_error(y_true, y_pred, squared=False)\n",
    "    model_perf[model_name]['{}.R2'.format(tag)] = r2_score(y_true, y_pred)\n",
    "    model_perf[model_name]['{}.RelativeError'.format(tag)] = mean_absolute_error(y_true/y_true, y_pred/y_true)"
   ]
  },
  {
   "cell_type": "markdown",
   "metadata": {
    "deletable": false,
    "editable": false,
    "nbgrader": {
     "cell_type": "markdown",
     "checksum": "b4c44ad6b5c14511f4f43b1764b122de",
     "grade": false,
     "grade_id": "cell-5b39fb01b30062e4",
     "locked": true,
     "schema_version": 3,
     "solution": false,
     "task": false
    }
   },
   "source": [
    "## 3. Build a base model"
   ]
  },
  {
   "cell_type": "code",
   "execution_count": null,
   "metadata": {
    "deletable": false,
    "editable": false,
    "nbgrader": {
     "cell_type": "code",
     "checksum": "d30e5054c228439215a0d1136a8fc286",
     "grade": false,
     "grade_id": "cell-51b82b5bd33ce264",
     "locked": true,
     "schema_version": 3,
     "solution": false,
     "task": false
    }
   },
   "outputs": [],
   "source": [
    "from sklearn.linear_model import LinearRegression\n",
    "X_train, y_train = df_train[df_train.columns[:-1]], df_train[df_train.columns[-1]]\n",
    "X_test, y_test = df_test[df_test.columns[:-1]], df_test[df_test.columns[-1]]"
   ]
  },
  {
   "cell_type": "markdown",
   "metadata": {},
   "source": [
    "__Question 3(a).__ Write code to train a linear regression model that uses all the features, save your model to a variable named `base_model`."
   ]
  },
  {
   "cell_type": "code",
   "execution_count": null,
   "metadata": {
    "deletable": false,
    "nbgrader": {
     "cell_type": "code",
     "checksum": "0bdbfb215fe126c235e47cf025d10c5d",
     "grade": false,
     "grade_id": "cell-392cbf512e706546",
     "locked": false,
     "schema_version": 3,
     "solution": true,
     "task": false
    }
   },
   "outputs": [],
   "source": [
    "# YOUR CODE HERE\n",
    "raise NotImplementedError()"
   ]
  },
  {
   "cell_type": "code",
   "execution_count": null,
   "metadata": {},
   "outputs": [],
   "source": [
    "base_model.coef_, base_model.intercept_, len(X_train.columns)"
   ]
  },
  {
   "cell_type": "code",
   "execution_count": null,
   "metadata": {
    "deletable": false,
    "editable": false,
    "nbgrader": {
     "cell_type": "code",
     "checksum": "b6ba0c07da901bd96f062950fa4ea845",
     "grade": true,
     "grade_id": "cell-bd9c9f368d79e6cd",
     "locked": true,
     "points": 1,
     "schema_version": 3,
     "solution": false,
     "task": false
    }
   },
   "outputs": [],
   "source": [
    "isinstance(base_model, LinearRegression)"
   ]
  },
  {
   "cell_type": "code",
   "execution_count": null,
   "metadata": {
    "deletable": false,
    "editable": false,
    "nbgrader": {
     "cell_type": "code",
     "checksum": "56bfbaa1f1c0a7efcbf4c467b4998734",
     "grade": true,
     "grade_id": "cell-0620c0eedf9c5dff",
     "locked": true,
     "points": 2,
     "schema_version": 3,
     "solution": false,
     "task": false
    }
   },
   "outputs": [],
   "source": [
    "assert isinstance(base_model.coef_, np.ndarray)\n",
    "assert base_model.coef_.shape[0] == X_train.shape[1]"
   ]
  },
  {
   "cell_type": "markdown",
   "metadata": {
    "deletable": false,
    "editable": false,
    "nbgrader": {
     "cell_type": "markdown",
     "checksum": "595a6ae0a1ea9a84f96b8efa313807bc",
     "grade": false,
     "grade_id": "cell-08fe921be9264251",
     "locked": true,
     "schema_version": 3,
     "solution": false,
     "task": false
    }
   },
   "source": [
    "__Question 3(b).__ Write code to compute the compute the following metrics for both the train and test data.\n",
    "\n",
    "+ explained_variance\n",
    "+ root_mean_squared_error\n",
    "+ r2\n",
    "+ mean_relative_error\n",
    "\n",
    "Add the results to the dictionary `model_perf` with `LinearRegressionBase` as the model_name and `Train` and `Test` for the tags of train fit performance and test fit performance respectively.\n",
    "\n",
    "Hint: you can use the `compute_model_perf` utility."
   ]
  },
  {
   "cell_type": "code",
   "execution_count": null,
   "metadata": {
    "deletable": false,
    "nbgrader": {
     "cell_type": "code",
     "checksum": "5726b8cfb1347c64d8d555caff4430b6",
     "grade": false,
     "grade_id": "cell-cda7ae1cbff6b325",
     "locked": false,
     "schema_version": 3,
     "solution": true,
     "task": false
    }
   },
   "outputs": [],
   "source": [
    "# YOUR CODE HERE\n",
    "raise NotImplementedError()"
   ]
  },
  {
   "cell_type": "code",
   "execution_count": null,
   "metadata": {},
   "outputs": [],
   "source": [
    "df_perf = pd.DataFrame(model_perf).T\n",
    "df_perf"
   ]
  },
  {
   "cell_type": "code",
   "execution_count": null,
   "metadata": {
    "deletable": false,
    "editable": false,
    "nbgrader": {
     "cell_type": "code",
     "checksum": "da380c079c03161eb73906b064a79fa0",
     "grade": true,
     "grade_id": "cell-1afbb00b13da4079",
     "locked": true,
     "points": 4,
     "schema_version": 3,
     "solution": false,
     "task": false
    }
   },
   "outputs": [],
   "source": [
    "tags = np.unique([col.split('.')[0] for col in df_perf.columns])\n",
    "assert 'Train' in tags and 'Test' in tags"
   ]
  },
  {
   "cell_type": "markdown",
   "metadata": {},
   "source": [
    "### Analyze modeling errors\n",
    "\n",
    "Besides the performance metrics we collected above, we can also plot the errors to detect some patterns in the model prediction errors. "
   ]
  },
  {
   "cell_type": "code",
   "execution_count": null,
   "metadata": {
    "deletable": false,
    "editable": false,
    "nbgrader": {
     "cell_type": "code",
     "checksum": "b113f1cd2e6c9ec132be3ad6a9ba8646",
     "grade": false,
     "grade_id": "cell-563bae9449769d26",
     "locked": true,
     "schema_version": 3,
     "solution": false,
     "task": false
    }
   },
   "outputs": [],
   "source": [
    "fig, ax = plt.subplots(1, 2, figsize=(14, 6))\n",
    "_ = sns.scatterplot(x=y_train, y=(y_train-y_train_pred), ax = ax[0], label='Train')\n",
    "_ = sns.scatterplot(x=y_test, y=(y_test-y_test_pred), ax = ax[0], label='Test')\n",
    "ax[0].set_ylabel('Absolute Error')\n",
    "_ = sns.scatterplot(x=y_train, y=(1.0-y_train_pred/y_train), ax = ax[1], label='Train')\n",
    "_ = sns.scatterplot(x=y_test, y=(1.0-y_test_pred/y_test), ax = ax[1], label='Test')\n",
    "_ = ax[0].set_ylabel('Relative Error')"
   ]
  },
  {
   "cell_type": "markdown",
   "metadata": {},
   "source": [
    "__Question 3(c).__ Based on the above and model performance results and plots, do you think linear regression is a biased model or not? Justify your conclusion. (6 points: 2 point for answer; 4 points for justification)"
   ]
  },
  {
   "cell_type": "markdown",
   "metadata": {
    "deletable": false,
    "editable": false,
    "nbgrader": {
     "cell_type": "markdown",
     "checksum": "17f85e2716af81f1cef4e3af680e7a67",
     "grade": false,
     "grade_id": "cell-7c56d6986adb9db1",
     "locked": true,
     "points": 6,
     "schema_version": 3,
     "solution": false,
     "task": true
    }
   },
   "source": [
    "### Type your answer here\n",
    "1. Is the base linear regression model  biased?\n",
    "2. Justify your conclusion"
   ]
  },
  {
   "cell_type": "markdown",
   "metadata": {},
   "source": [
    "__Question 3(d)__. List one pattern that you have observed in the model prediction errors and describe in which way you may be able to reduce the prediction errors of the base linear regression model. (6 points: 2 points for pattern; 4 points for ways of improvement) "
   ]
  },
  {
   "cell_type": "markdown",
   "metadata": {
    "deletable": false,
    "editable": false,
    "nbgrader": {
     "cell_type": "markdown",
     "checksum": "bee3b481edb889368cb763ad6c014f74",
     "grade": false,
     "grade_id": "cell-74f686027553e1fd",
     "locked": true,
     "points": 6,
     "schema_version": 3,
     "solution": false,
     "task": true
    }
   },
   "source": [
    "### Type your answer here\n",
    "1. Patterns observed\n",
    "2. Ways of improvements"
   ]
  },
  {
   "cell_type": "markdown",
   "metadata": {},
   "source": [
    "## 4. Hypothesis Tests on the Coefficients"
   ]
  },
  {
   "cell_type": "markdown",
   "metadata": {},
   "source": [
    "__Question 4(a).__ Estimate an ordinary least squares (OLS) linear regression model using the `statsmodels` package and output the model parameters. (4 points)"
   ]
  },
  {
   "cell_type": "code",
   "execution_count": null,
   "metadata": {
    "deletable": false,
    "nbgrader": {
     "cell_type": "code",
     "checksum": "41b5c5cba0b00de41861c9e1b27a54d9",
     "grade": true,
     "grade_id": "cell-dcefe9ded470a484",
     "locked": false,
     "points": 4,
     "schema_version": 3,
     "solution": true,
     "task": false
    }
   },
   "outputs": [],
   "source": [
    "import statsmodels.api as sm\n",
    "import statsmodels.formula.api as smf\n",
    "\n",
    "# YOUR CODE HERE\n",
    "raise NotImplementedError()\n",
    "base_ols_model.summary().tables[1]"
   ]
  },
  {
   "cell_type": "markdown",
   "metadata": {},
   "source": [
    "__Question 4(b).__ Based on the t-statistic and p-value in the output of 4(a), which feature would be most irrelevant in the base regression model? Explain why? (6 points: 2 points for identify the feature; 4 points for explanation)"
   ]
  },
  {
   "cell_type": "markdown",
   "metadata": {
    "deletable": false,
    "editable": false,
    "nbgrader": {
     "cell_type": "markdown",
     "checksum": "f48635e2a90cb2a2597fcf7526b580d1",
     "grade": false,
     "grade_id": "cell-8e7580589baeb784",
     "locked": true,
     "points": 6,
     "schema_version": 3,
     "solution": false,
     "task": true
    }
   },
   "source": [
    "### Type your answer here\n",
    "1. Irrelevant feature identified\n",
    "2. Explain"
   ]
  },
  {
   "cell_type": "markdown",
   "metadata": {},
   "source": [
    "## 5. Feature Selection\n",
    "\n",
    "Feature selection is an important component in model development. In this question, we apply univariate F-test statistics and mutual information to the housing data."
   ]
  },
  {
   "cell_type": "code",
   "execution_count": null,
   "metadata": {
    "deletable": false,
    "editable": false,
    "nbgrader": {
     "cell_type": "code",
     "checksum": "62785391206d2096a2db12ed896fa094",
     "grade": false,
     "grade_id": "cell-96520bf666c74739",
     "locked": true,
     "schema_version": 3,
     "solution": false,
     "task": false
    }
   },
   "outputs": [],
   "source": [
    "from sklearn.feature_selection import f_regression\n",
    "from sklearn.feature_selection import mutual_info_regression\n",
    "\n",
    "f_test, pval = f_regression(X_train, y_train)\n",
    "\n",
    "mi = mutual_info_regression(X_train, y_train)\n",
    "\n",
    "df_features = pd.DataFrame({'f_test': pd.Series(f_test, index=X_train.columns), \n",
    "                   #'pval': pd.Series(pval, index=X_train.columns),\n",
    "                   'mi': pd.Series(mi, index=X_train.columns)\n",
    "                  })\n",
    "df_features['f_test'] = df_features['f_test']/df_features['f_test'].max()\n",
    "df_features['mi'] = df_features['mi']/df_features['mi'].max()"
   ]
  },
  {
   "cell_type": "code",
   "execution_count": null,
   "metadata": {
    "deletable": false,
    "editable": false,
    "nbgrader": {
     "cell_type": "code",
     "checksum": "9ba165ddeeb118c34836cf1b70067958",
     "grade": false,
     "grade_id": "cell-e2e827dca388aaf4",
     "locked": true,
     "schema_version": 3,
     "solution": false,
     "task": false
    }
   },
   "outputs": [],
   "source": [
    "df_features.sort_values(by='mi', ascending=False)"
   ]
  },
  {
   "cell_type": "code",
   "execution_count": null,
   "metadata": {
    "deletable": false,
    "editable": false,
    "nbgrader": {
     "cell_type": "code",
     "checksum": "8580d2683f82206e30f84a636ed2e8ad",
     "grade": false,
     "grade_id": "cell-8c20cb635b79cfe6",
     "locked": true,
     "schema_version": 3,
     "solution": false,
     "task": false
    }
   },
   "outputs": [],
   "source": [
    "df_features.sort_values(by='mi', ascending=True)[['f_test', 'mi']].plot.barh()"
   ]
  },
  {
   "cell_type": "markdown",
   "metadata": {},
   "source": [
    "#### __Question 5(a).__ Brief describe what F-Test in regression is? (4 points)"
   ]
  },
  {
   "cell_type": "markdown",
   "metadata": {
    "deletable": false,
    "editable": false,
    "nbgrader": {
     "cell_type": "markdown",
     "checksum": "7df3349d2a6af86beb339562d9c83da9",
     "grade": false,
     "grade_id": "cell-7a16616148d6f749",
     "locked": true,
     "points": 4,
     "schema_version": 3,
     "solution": false,
     "task": true
    }
   },
   "source": [
    "### Type your answer here\n",
    "what is F_Test?"
   ]
  },
  {
   "cell_type": "markdown",
   "metadata": {},
   "source": [
    "__Question 5(b).__ Write some code to find the top 5 most discriminative features according to their F-Test scores? (3 points)"
   ]
  },
  {
   "cell_type": "code",
   "execution_count": null,
   "metadata": {
    "deletable": false,
    "nbgrader": {
     "cell_type": "code",
     "checksum": "dd6bb0e3c3c7264e9413788c4af6e790",
     "grade": true,
     "grade_id": "cell-f0200ab1937a3b64",
     "locked": false,
     "points": 3,
     "schema_version": 3,
     "solution": true,
     "task": false
    }
   },
   "outputs": [],
   "source": [
    "# YOUR CODE HERE\n",
    "raise NotImplementedError()"
   ]
  },
  {
   "cell_type": "markdown",
   "metadata": {},
   "source": [
    "__Question 5(c)__ Modify the following code to assess the linear regression models that use the set of discriminative features sorted by the feature's __F-Test__ scores and __mutual information (MI)__ scores. (5 points)\n",
    "\n",
    "```\n",
    "y =  df_train[df_train.columns[-1]]\n",
    "y_test = df_test[df_test.columns[-1]]\n",
    "model_perf = defaultdict(dict)\n",
    "\n",
    "metric = 'f_test'\n",
    "for n_features in range(2, len(df_train.columns)):\n",
    "    features = list(df_features.sort_values(by=metric, ascending=False).iloc[:n_features].index)\n",
    "   \n",
    "    model_name = metric + \"-{}\".format(n_features)\n",
    "    model = LinearRegression()\n",
    "    \n",
    "    X = df_train[features]\n",
    "    _ = model.fit(X, y)    \n",
    "    y_train_pred = model.predict(X)    \n",
    "    \n",
    "    X_test = df_test[features]\n",
    "    y_test_pred = model.predict(X_test)\n",
    "    \n",
    "    compute_model_perf(model_name, 'Train', y, y_train_pred)\n",
    "    compute_model_perf(model_name, 'Test', y_test, y_test_pred)\n",
    "```"
   ]
  },
  {
   "cell_type": "code",
   "execution_count": null,
   "metadata": {
    "deletable": false,
    "nbgrader": {
     "cell_type": "code",
     "checksum": "ba6b4baa3d10ed40e43af9860c4cab01",
     "grade": true,
     "grade_id": "cell-756e1cd7e24e3813",
     "locked": false,
     "points": 5,
     "schema_version": 3,
     "solution": true,
     "task": false
    }
   },
   "outputs": [],
   "source": [
    "# YOUR CODE HERE\n",
    "raise NotImplementedError()"
   ]
  },
  {
   "cell_type": "code",
   "execution_count": null,
   "metadata": {
    "deletable": false,
    "editable": false,
    "nbgrader": {
     "cell_type": "code",
     "checksum": "5c516c4813278ad6ebfcd931b1615c44",
     "grade": false,
     "grade_id": "cell-7606a0403bb35189",
     "locked": true,
     "schema_version": 3,
     "solution": false,
     "task": false
    }
   },
   "outputs": [],
   "source": [
    "df_perf = pd.DataFrame(model_perf).T\n",
    "\n",
    "index = pd.MultiIndex.from_tuples([(a[0], int(a[1])) for a in df_perf.index.str.split('-')])\n",
    "df2 = df_perf.set_index(index)\n",
    "df_r2 = pd.DataFrame({'f_test': df2.loc['f_test', 'Test.R2'], 'mi': df2.loc['mi', 'Test.R2']})\n",
    "fig, ax = plt.subplots(1, 1, figsize=(8, 6))\n",
    "_ = df_r2.plot.bar(ax=ax)\n",
    "_ = ax.set_xlabel('n_features')\n",
    "_ = ax.set_ylabel('Test.R2')\n",
    "_ = ax.set_ylim(0.4, 0.7)\n",
    "_ = ax.set_title('Test.R2 Under Different Set of Features')"
   ]
  },
  {
   "cell_type": "markdown",
   "metadata": {},
   "source": [
    "## 6. Nonlinear Regression Models\n",
    "\n",
    "__Question 6(a).__ The error plots in question 3 indicate a non-linear relationship between the features and the target variable. Complete the following code to perform a polynomial regression. (5 points)"
   ]
  },
  {
   "cell_type": "code",
   "execution_count": null,
   "metadata": {
    "deletable": false,
    "nbgrader": {
     "cell_type": "code",
     "checksum": "86722dbca91a6c1f6b56abb87c5b5305",
     "grade": true,
     "grade_id": "cell-ff284c9999260a56",
     "locked": false,
     "points": 5,
     "schema_version": 3,
     "solution": true,
     "task": false
    }
   },
   "outputs": [],
   "source": [
    "from sklearn.preprocessing import PolynomialFeatures\n",
    "from sklearn.pipeline import make_pipeline\n",
    "\n",
    "y =  df_train[df_train.columns[-1]]\n",
    "y_test = df_test[df_test.columns[-1]]\n",
    "model_perf = defaultdict(dict)\n",
    "\n",
    "for deg in range(1, 4):\n",
    "# YOUR CODE HERE\n",
    "raise NotImplementedError()\n",
    "df_perf = pd.DataFrame(model_perf).T"
   ]
  },
  {
   "cell_type": "code",
   "execution_count": null,
   "metadata": {},
   "outputs": [],
   "source": [
    "df_perf = pd.DataFrame(model_perf).T\n",
    "df_perf"
   ]
  },
  {
   "cell_type": "markdown",
   "metadata": {},
   "source": [
    "__Question 6(b)__. In the above results, `Train.R2` descreases as the order of the polynomial increases. Does that mean it is beneficial to use a higher order polynomial in the regression? Justify your answer. (6 points: 2 points for correct answer; 4 points for justification)"
   ]
  },
  {
   "cell_type": "markdown",
   "metadata": {
    "deletable": false,
    "editable": false,
    "nbgrader": {
     "cell_type": "markdown",
     "checksum": "b22550212707f535517110d7afe554de",
     "grade": false,
     "grade_id": "cell-53950e14ad8efa63",
     "locked": true,
     "points": 6,
     "schema_version": 3,
     "solution": false,
     "task": true
    }
   },
   "source": [
    "### Type your answer here\n",
    "1. Is a higher order polynomial preferable?\n",
    "2. Justification"
   ]
  },
  {
   "cell_type": "markdown",
   "metadata": {},
   "source": [
    "## 7. K-Nearest Neighbors Regression\n",
    "\n",
    "The k-nearest neighbors (___k_-NN__) algorithm is a type of instance-based learning where the function is only approximated locally and all computation is deferred until function evaluation."
   ]
  },
  {
   "cell_type": "markdown",
   "metadata": {},
   "source": [
    "__Question 7(a)__. Complete the following code to assess the performance of ___k_-NN__ regression on the housing data. (5 points)"
   ]
  },
  {
   "cell_type": "code",
   "execution_count": null,
   "metadata": {
    "deletable": false,
    "nbgrader": {
     "cell_type": "code",
     "checksum": "464e61ea4727b0c2614ff723182adaf3",
     "grade": true,
     "grade_id": "cell-ed6617a45bf6264d",
     "locked": false,
     "points": 5,
     "schema_version": 3,
     "solution": true,
     "task": false
    }
   },
   "outputs": [],
   "source": [
    "from sklearn.neighbors import KNeighborsRegressor\n",
    "\n",
    "model_perf = defaultdict(dict)\n",
    "\n",
    "y = df_train[df_train.columns[-1]]\n",
    "y_test = df_test[df_test.columns[-1]]\n",
    "\n",
    "features = df_train.columns[:-1]\n",
    "X = df_train[features]\n",
    "X_test = df_test[features]\n",
    "\n",
    "for n_neighbors in range(1, 16):\n",
    "# YOUR CODE HERE\n",
    "raise NotImplementedError()"
   ]
  },
  {
   "cell_type": "code",
   "execution_count": null,
   "metadata": {},
   "outputs": [],
   "source": [
    "df_perf = pd.DataFrame(model_perf).T\n",
    "df_perf"
   ]
  },
  {
   "cell_type": "code",
   "execution_count": null,
   "metadata": {},
   "outputs": [],
   "source": [
    "fig, ax = plt.subplots(1, 1, figsize=(8, 6))\n",
    "_ = df_perf[['Train.R2', 'Test.R2']].plot.bar(ax=ax)\n",
    "_ = ax.set_xlabel('n_neighbors')\n",
    "_ = ax.set_ylabel('Test.R2')\n",
    "_ = ax.set_title('Test.R2 Under Different Set of Features')"
   ]
  },
  {
   "cell_type": "markdown",
   "metadata": {},
   "source": [
    "__Question 7(b)__. What pattern(s) have you observed from the above results? Explain why such pattern or patterns occur. (6 points: 2 points for pattern; 4 points for explanation)"
   ]
  },
  {
   "cell_type": "markdown",
   "metadata": {
    "deletable": false,
    "editable": false,
    "nbgrader": {
     "cell_type": "markdown",
     "checksum": "3aea5dd6a855b3a4dbc136c557c2bacf",
     "grade": false,
     "grade_id": "cell-f8c004f8aaf45730",
     "locked": true,
     "points": 6,
     "schema_version": 3,
     "solution": false,
     "task": true
    }
   },
   "source": [
    "### Type your answer here\n",
    "1. Pattern\n",
    "2. Explain"
   ]
  },
  {
   "cell_type": "markdown",
   "metadata": {},
   "source": [
    "__Question 7(c)__. In the above study, we use the scaled data set. Assume we use a non-scaled data set in ___k_-NN__ regression. How do you expect the model performance change? Explain why.  (6 point: 2 points for possible change; 4 points for explanation)"
   ]
  },
  {
   "cell_type": "markdown",
   "metadata": {
    "deletable": false,
    "editable": false,
    "nbgrader": {
     "cell_type": "markdown",
     "checksum": "083b7662477190cad38fd039bdc4d88b",
     "grade": false,
     "grade_id": "cell-b9e692a9ac45c402",
     "locked": true,
     "points": 6,
     "schema_version": 3,
     "solution": false,
     "task": true
    }
   },
   "source": [
    "### Type your answer here\n",
    "1. Change\n",
    "2. Explain"
   ]
  },
  {
   "cell_type": "markdown",
   "metadata": {},
   "source": [
    "## 8. Random Forest Regression\n",
    "\n",
    "Random forests regression is an ensemble learning method that operates by constructing multiple decision trees and outputs the  mean/average prediction of the individual trees."
   ]
  },
  {
   "cell_type": "markdown",
   "metadata": {},
   "source": [
    "__Question 8(a)__. Complete the following code to assess the performance of Random Forest Regression on the housing data. (5 poinst)"
   ]
  },
  {
   "cell_type": "code",
   "execution_count": null,
   "metadata": {
    "deletable": false,
    "nbgrader": {
     "cell_type": "code",
     "checksum": "917557a42dbdb4f2ddeeb932875fb30b",
     "grade": true,
     "grade_id": "cell-25e49cfb4f0eac2b",
     "locked": false,
     "points": 5,
     "schema_version": 3,
     "solution": true,
     "task": false
    }
   },
   "outputs": [],
   "source": [
    "from sklearn.ensemble import RandomForestRegressor\n",
    "\n",
    "model_perf = defaultdict(dict)\n",
    "\n",
    "y = df_train[df_train.columns[-1]]\n",
    "y_test = df_test[df_test.columns[-1]]\n",
    "\n",
    "features = df_train.columns[:-1]\n",
    "X = df_train[features]\n",
    "X_test = df_test[features]\n",
    "\n",
    "for n_estimators in [10, 50, 100, 200]:\n",
    "# YOUR CODE HERE\n",
    "raise NotImplementedError()"
   ]
  },
  {
   "cell_type": "code",
   "execution_count": null,
   "metadata": {},
   "outputs": [],
   "source": [
    "df_perf = pd.DataFrame(model_perf).T\n",
    "df_perf"
   ]
  },
  {
   "cell_type": "markdown",
   "metadata": {},
   "source": [
    "__Question 8(b)__. Brief describe any observation(s) you have regarding the model performance of the Random Forest Regression. (6 Points)"
   ]
  },
  {
   "cell_type": "markdown",
   "metadata": {
    "deletable": false,
    "editable": false,
    "nbgrader": {
     "cell_type": "markdown",
     "checksum": "cac9314c9f207b05e582f316f96b4d21",
     "grade": false,
     "grade_id": "cell-8765841bb347d744",
     "locked": true,
     "points": 6,
     "schema_version": 3,
     "solution": false,
     "task": true
    }
   },
   "source": [
    "### Type your answer here"
   ]
  },
  {
   "cell_type": "markdown",
   "metadata": {},
   "source": [
    "### Model Persistence\n",
    "\n",
    "Model development is a time consuming process. When you have developed a good model, you should save the model and load it for prediction."
   ]
  },
  {
   "cell_type": "code",
   "execution_count": null,
   "metadata": {},
   "outputs": [],
   "source": [
    "# Create a model \n",
    "from sklearn.ensemble import RandomForestRegressor\n",
    "\n",
    "features = df_train.columns[:-1]\n",
    "X = df_train[features]\n",
    "y = df_train[df_train.columns[-1]]\n",
    "\n",
    "model_rf200 = RandomForestRegressor(n_estimators=200)\n",
    "model_rf200.fit(X, y)"
   ]
  },
  {
   "cell_type": "code",
   "execution_count": null,
   "metadata": {},
   "outputs": [],
   "source": [
    "# Save the model using joblib.dump(); to load the saved model, use joblib.load()\n",
    "import joblib\n",
    "joblib.dump(model_rf200, \"models/model_rs200.joblib\")"
   ]
  },
  {
   "cell_type": "code",
   "execution_count": null,
   "metadata": {},
   "outputs": [],
   "source": [
    "# Load the predict data\n",
    "df_to_predict = pd.read_csv(\"input/housing_prediction_scaled.csv\")\n",
    "df_to_predict"
   ]
  },
  {
   "cell_type": "markdown",
   "metadata": {},
   "source": [
    "__Question 8(c)__. Load the saved model `models/model_rs200.joblib` and apply the model to predict the median housing price of some unknown blocks stored in `../input/housing_prediction_scaled.csv`. Save your results to y_predict. (5 points)"
   ]
  },
  {
   "cell_type": "code",
   "execution_count": null,
   "metadata": {
    "deletable": false,
    "nbgrader": {
     "cell_type": "code",
     "checksum": "7589f10d27ad2f931a9c5df8350efead",
     "grade": true,
     "grade_id": "cell-1d11f074f89ff1cc",
     "locked": false,
     "points": 5,
     "schema_version": 3,
     "solution": true,
     "task": false
    }
   },
   "outputs": [],
   "source": [
    "# YOUR CODE HERE\n",
    "raise NotImplementedError()"
   ]
  },
  {
   "cell_type": "markdown",
   "metadata": {},
   "source": [
    "If you are interest in seeing the performance of your model, you can peek the actual value as follows."
   ]
  },
  {
   "cell_type": "code",
   "execution_count": null,
   "metadata": {},
   "outputs": [],
   "source": [
    "y_actual = pd.read_csv(\"input/housing_prediction_scaled_y.csv\")['median_house_value']\n",
    "df_predict = pd.DataFrame({'Actual': y_actual, 'Predict': y_predict})\n",
    "df_predict['Absolute_Error'] = df_predict['Predict'] - df_predict['Actual']\n",
    "df_predict['Relative_Error'] = df_predict['Absolute_Error'] / df_predict['Actual']\n",
    "\n",
    "df_predict"
   ]
  },
  {
   "cell_type": "code",
   "execution_count": null,
   "metadata": {},
   "outputs": [],
   "source": [
    "# Remove the model files since it is too big\n",
    "import os\n",
    "os.remove(\"models/model_rs200.joblib\")\n",
    "assert not os.path.exists(\"models/model_rs200.joblib\")"
   ]
  },
  {
   "cell_type": "markdown",
   "metadata": {},
   "source": [
    "__Congratulations! You have done such a wonderful job that your model actually beats the experts. That should make your boss happy and consider offering you a raise.__"
   ]
  }
 ],
 "metadata": {
  "kernelspec": {
   "display_name": "Python 3",
   "language": "python",
   "name": "python3"
  },
  "language_info": {
   "codemirror_mode": {
    "name": "ipython",
    "version": 3
   },
   "file_extension": ".py",
   "mimetype": "text/x-python",
   "name": "python",
   "nbconvert_exporter": "python",
   "pygments_lexer": "ipython3",
   "version": "3.8.3"
  }
 },
 "nbformat": 4,
 "nbformat_minor": 2
}
