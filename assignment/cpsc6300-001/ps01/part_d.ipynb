{
 "cells": [
  {
   "cell_type": "markdown",
   "metadata": {},
   "source": [
    "# CPSC 4300/6300-001 Applied Data Science (Fall 2020)\n",
    "\n",
    "Before you turn this problem in, make sure everything runs as expected. First, **restart the kernel** (in the menubar, select Kernel$\\rightarrow$Restart) and then **run all cells** (in the menubar, select Cell$\\rightarrow$Run All).\n",
    "\n",
    "Make sure you fill in any place that says `YOUR CODE HERE` or \"YOUR ANSWER HERE\", as well as your name and collaborators below:"
   ]
  },
  {
   "cell_type": "code",
   "execution_count": 1,
   "metadata": {},
   "outputs": [],
   "source": [
    "NAME = \"Wenkang Wei\"\n",
    "COLLABORATORS = \"Wenkang Wei\""
   ]
  },
  {
   "cell_type": "markdown",
   "metadata": {},
   "source": [
    "# CPSC4300/6300-001 Problem Set #1"
   ]
  },
  {
   "cell_type": "markdown",
   "metadata": {},
   "source": [
    "In this assignment, you will create a NCAA College Football team dataset by scraping data from the Internet and perform some basic data manipulations. The assignment has four parts: the first three are auto-graded. The last part is manually graded by the TA. \n",
    "\n",
    "Before submission, make sure you run all the cells. Because the TA could not run your notebook, your grade will be only based on the output and the writing part of your submitted notebook. "
   ]
  },
  {
   "cell_type": "markdown",
   "metadata": {},
   "source": [
    "## Part D. Think About Real-World Applications of Data Science (20 points)"
   ]
  },
  {
   "cell_type": "markdown",
   "metadata": {},
   "source": [
    "### Question 1: Think two data science applications that using the data you just collected (10 points).\n",
    "\n"
   ]
  },
  {
   "cell_type": "markdown",
   "metadata": {},
   "source": [
    "**Write Down Your First Application**"
   ]
  },
  {
   "cell_type": "markdown",
   "metadata": {
    "deletable": false,
    "nbgrader": {
     "cell_type": "markdown",
     "checksum": "8c8f033fc32afbb88cf8499ecd96d411",
     "grade": true,
     "grade_id": "cell-a7e8946d19e0e038",
     "locked": false,
     "points": 5,
     "schema_version": 3,
     "solution": true,
     "task": false
    }
   },
   "source": [
    "By using the rosters data collected, we can use it to analyze the composition of the team to improve the performace of the football team by changing players or swapping their positions based on weights,heights of players. We can also analyze the forming of the opponent team and find the strategy to reform our football team to defeat the opponent."
   ]
  },
  {
   "cell_type": "markdown",
   "metadata": {},
   "source": [
    "**Write Down Your Second Application**"
   ]
  },
  {
   "cell_type": "markdown",
   "metadata": {
    "deletable": false,
    "nbgrader": {
     "cell_type": "markdown",
     "checksum": "d0d8480c6f6c9c6ea787c333a3273c12",
     "grade": true,
     "grade_id": "cell-d08f504f2b4a36ef",
     "locked": false,
     "points": 5,
     "schema_version": 3,
     "solution": true,
     "task": false
    }
   },
   "source": [
    "We can also analyze the data to explore more potential good players for the teams by finding the connection among good players in the team, such as birthplace, since people from different location may have different sport culture and experience, which may help them be good football player. Then we can figure out where those good players come from. This can help football companies/ Coaches explore more excellent players and improve their teams' performance, even earn more profit from football games"
   ]
  },
  {
   "cell_type": "markdown",
   "metadata": {},
   "source": [
    "### Question 2: Expand the dataset (10 points)"
   ]
  },
  {
   "cell_type": "markdown",
   "metadata": {
    "deletable": false,
    "editable": false,
    "nbgrader": {
     "cell_type": "markdown",
     "checksum": "b1184aacab96b3b14d7f807957c76a50",
     "grade": false,
     "grade_id": "cell-96bfa5ef17be5d9e",
     "locked": true,
     "schema_version": 3,
     "solution": false,
     "task": false
    }
   },
   "source": [
    "Coach Dabo is considering hiring you as a data scientist in his staff team. Propose one data science project which he might be interested in. (10 points)"
   ]
  },
  {
   "cell_type": "markdown",
   "metadata": {},
   "source": [
    "**Describe your proposal below**"
   ]
  },
  {
   "cell_type": "markdown",
   "metadata": {
    "deletable": false,
    "nbgrader": {
     "cell_type": "markdown",
     "checksum": "701442bac6b6f3070a6d6025b8e072ae",
     "grade": true,
     "grade_id": "cell-b0a61728b7663568",
     "locked": false,
     "points": 5,
     "schema_version": 3,
     "solution": true,
     "task": false
    }
   },
   "source": [
    "The goal of the project is to analyze the correlation between  height, weight and players' attack performance in football game to improve the performance of attacking and let the team able to score faster by switching players or swapping their position.\n",
    "\n",
    "Hence, the evaluation metric for this goal is the speed and collaboration of players. The roster data collected in this project can provide the information of height, weight, which can help us know which player can move very fast, assuming that the player with less weight can move faster than the player with more weight.\n",
    "In this case, we can use the data to find the players with least weight and put them to attack position. Moreover, based on the birthplace information of players, we can know their experience in playing football. For example, if there are two players in the same team that come from Clemson, they may be famailar with each other and can collaborate more efficiently. This could lead to better performance in attacking during competition. \n",
    "\n",
    "Therefore, by analyzing this data, we can find a way to improve the team's performance of attacking "
   ]
  },
  {
   "cell_type": "markdown",
   "metadata": {},
   "source": [
    "For you proposal, what additional data would you like to collect in order to achieve the desired outcome for the proposed project? (5 points)"
   ]
  },
  {
   "cell_type": "markdown",
   "metadata": {
    "deletable": false,
    "nbgrader": {
     "cell_type": "markdown",
     "checksum": "f4e2547ef5f382dbc6d97cdb2093cdc0",
     "grade": true,
     "grade_id": "cell-506255531eb99e07",
     "locked": false,
     "points": 5,
     "schema_version": 3,
     "solution": true,
     "task": false
    }
   },
   "source": [
    "The addition data I would collect is the personal performance of each team member, \n",
    "\n",
    "1. their speed in the sprint test, since this data can give me a direct view about how fast each player can move and help me select the fastest one to be the attacker.\n",
    "\n",
    "2. how long they can keep playing game without taking rest. This data can let me know how persistent player can be and when the coach should switch players in the game to reduce the possibility of losing score due to fatigue\n",
    "\n",
    "3. how comfortable they are when collaborating with each other and how long they work together. This data can show how efficient the teamwork could be. Successful teamwork in competition can contribute to scoring as well.\n",
    "\n",
    "Such additional data could give me a more concrete and reasonable view about their personal performance and teamwork. By analyzing such data and performance of each player, we can increase the possibility of winning games"
   ]
  },
  {
   "cell_type": "code",
   "execution_count": null,
   "metadata": {},
   "outputs": [],
   "source": []
  }
 ],
 "metadata": {
  "kernelspec": {
   "display_name": "Python 3",
   "language": "python",
   "name": "python3"
  },
  "language_info": {
   "codemirror_mode": {
    "name": "ipython",
    "version": 3
   },
   "file_extension": ".py",
   "mimetype": "text/x-python",
   "name": "python",
   "nbconvert_exporter": "python",
   "pygments_lexer": "ipython3",
   "version": "3.8.3"
  }
 },
 "nbformat": 4,
 "nbformat_minor": 2
}
