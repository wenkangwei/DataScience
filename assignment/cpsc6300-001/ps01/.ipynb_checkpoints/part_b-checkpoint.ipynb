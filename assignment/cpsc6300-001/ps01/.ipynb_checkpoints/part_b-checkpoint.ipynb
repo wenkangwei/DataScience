{
 "cells": [
  {
   "cell_type": "markdown",
   "metadata": {},
   "source": [
    "# CPSC 4300/6300-001 Applied Data Science (Fall 2020)\n",
    "\n",
    "Before you turn this problem in, make sure everything runs as expected. First, **restart the kernel** (in the menubar, select Kernel$\\rightarrow$Restart) and then **run all cells** (in the menubar, select Cell$\\rightarrow$Run All).\n",
    "\n",
    "Make sure you fill in any place that says `YOUR CODE HERE` or \"YOUR ANSWER HERE\", as well as your name and collaborators below:"
   ]
  },
  {
   "cell_type": "code",
   "execution_count": 1,
   "metadata": {},
   "outputs": [],
   "source": [
    "NAME = \"Wenkang Wei\"\n",
    "COLLABORATORS = \"Wenkang Wei\""
   ]
  },
  {
   "cell_type": "markdown",
   "metadata": {},
   "source": [
    "# CPSC4300/6300-001 Problem Set #1"
   ]
  },
  {
   "cell_type": "markdown",
   "metadata": {},
   "source": [
    "In this assignment, you will create a NCAA College Football team dataset by scraping data from the Internet and perform some basic data manipulations. The assignment has four parts: the first three are auto-graded. Th elast part is manually graded by the TA. \n",
    "\n",
    "Before submission, make sure you run all the cells. Because the TA could not run your notebook, your grade will be only based on the output and the writing part of your submitted notebook. "
   ]
  },
  {
   "cell_type": "code",
   "execution_count": null,
   "metadata": {},
   "outputs": [],
   "source": []
  },
  {
   "cell_type": "markdown",
   "metadata": {},
   "source": [
    "## Part B: Scape the Rosters of Any NCAA Collge Football Team (50 points)\n",
    "\n",
    "During the class, we have shown how to extract the roster of the Clemson Tiger's defense team, now we want to extend the work to apply to the entire team roster of any NCAA coolege football teams."
   ]
  },
  {
   "cell_type": "markdown",
   "metadata": {},
   "source": [
    "### Question 1. Wriet a function to computer the Team URL\n",
    "\n",
    "Look at the URLs of server college football team at the ESPN site, generalize the pattern, and write a python function  `get_team_url(team_id, team_name)` to compute a url from team_id and team_name. (4 points)"
   ]
  },
  {
   "cell_type": "code",
   "execution_count": 2,
   "metadata": {
    "deletable": false,
    "nbgrader": {
     "cell_type": "code",
     "checksum": "667b7d9d231a5f880ac92c15668e4673",
     "grade": false,
     "grade_id": "cell-e972833e6447cb14",
     "locked": false,
     "schema_version": 3,
     "solution": true,
     "task": false
    }
   },
   "outputs": [],
   "source": [
    "def get_team_url(team_id, team_name):\n",
    "    \"\"\"\n",
    "    Get the team URL for a NCAA college football team\n",
    "    \n",
    "    Args:\n",
    "        team_id: the id of a NACC football team assigned by ESPN\n",
    "        team_name: the name of the football team\n",
    "        \n",
    "    Returns:\n",
    "        team_url: a string representing the URL of the team\n",
    "    \"\"\"\n",
    "    # YOUR CODE HERE\n",
    "    url = \"https://www.espn.com/college-football/team/roster/_/id/\"\n",
    "    team_name = team_name.lower().replace(\" \",\"-\")\n",
    "    url += str(team_id) + '/' + team_name\n",
    "    return url"
   ]
  },
  {
   "cell_type": "code",
   "execution_count": 3,
   "metadata": {
    "deletable": false,
    "editable": false,
    "nbgrader": {
     "cell_type": "code",
     "checksum": "6341fe6ae9a64142524c6fd6a6677291",
     "grade": true,
     "grade_id": "cell-ce7ed3ddbacff2e2",
     "locked": true,
     "points": 2,
     "schema_version": 3,
     "solution": false,
     "task": false
    }
   },
   "outputs": [],
   "source": [
    "team_id = 228\n",
    "team_name = \"Clemson Tigers\"\n",
    "team_url = get_team_url(team_id, team_name)\n",
    "assert team_url == 'https://www.espn.com/college-football/team/roster/_/id/228/clemson-tigers'"
   ]
  },
  {
   "cell_type": "code",
   "execution_count": 4,
   "metadata": {
    "deletable": false,
    "editable": false,
    "nbgrader": {
     "cell_type": "code",
     "checksum": "ae16301da6901e8892a99e0803d47503",
     "grade": true,
     "grade_id": "cell-a5c7f35497643616",
     "locked": true,
     "points": 2,
     "schema_version": 3,
     "solution": false,
     "task": false
    }
   },
   "outputs": [],
   "source": [
    "# This cell contains some hidden test cases."
   ]
  },
  {
   "cell_type": "markdown",
   "metadata": {},
   "source": [
    "### Question 2. Create a BeautifulSoup Object\n",
    "\n",
    "Complete the following code to create a BeautifulSoup Object froma team url and name the object `soup`. (4 points)"
   ]
  },
  {
   "cell_type": "code",
   "execution_count": 5,
   "metadata": {
    "deletable": false,
    "nbgrader": {
     "cell_type": "code",
     "checksum": "c7a0cabf2319e8ec5e0a7a9559ed1b67",
     "grade": false,
     "grade_id": "cell-affd9982ef36210b",
     "locked": false,
     "schema_version": 3,
     "solution": true,
     "task": false
    }
   },
   "outputs": [
    {
     "data": {
      "text/plain": [
       "bs4.BeautifulSoup"
      ]
     },
     "execution_count": 5,
     "metadata": {},
     "output_type": "execute_result"
    }
   ],
   "source": [
    "url = get_team_url(228, \"Clemson Tigers\")\n",
    "\n",
    "# YOUR CODE HERE\n",
    "import requests\n",
    "from bs4 import BeautifulSoup \n",
    "response = requests.get(url)\n",
    "html = response.content\n",
    "soup = BeautifulSoup(html, \"html.parser\")\n",
    "# raise NotImplementedError()\n",
    "type(soup)"
   ]
  },
  {
   "cell_type": "code",
   "execution_count": 6,
   "metadata": {
    "deletable": false,
    "editable": false,
    "nbgrader": {
     "cell_type": "code",
     "checksum": "c2ff274ecdf70960fefda4fdaf0db573",
     "grade": true,
     "grade_id": "cell-001d464a2c8f9785",
     "locked": true,
     "points": 2,
     "schema_version": 3,
     "solution": false,
     "task": false
    }
   },
   "outputs": [],
   "source": [
    "assert (type(soup) == BeautifulSoup)"
   ]
  },
  {
   "cell_type": "code",
   "execution_count": 7,
   "metadata": {
    "deletable": false,
    "editable": false,
    "nbgrader": {
     "cell_type": "code",
     "checksum": "69a3843ef726ff8a47c4e839c699c072",
     "grade": true,
     "grade_id": "cell-003e55323653f7bb",
     "locked": true,
     "points": 2,
     "schema_version": 3,
     "solution": false,
     "task": false
    }
   },
   "outputs": [],
   "source": [
    "assert soup.find('title').text.startswith('Clemson')"
   ]
  },
  {
   "cell_type": "markdown",
   "metadata": {},
   "source": [
    "### Question 3. Find the Team Name\n",
    "\n",
    "Write a statement to find a tag whose text is formatted as \"{Team Name} Rosters\" on the page. The {Team Name} would be the actual team name like 'Clemson Tigers'. (2 points)"
   ]
  },
  {
   "cell_type": "code",
   "execution_count": 8,
   "metadata": {
    "deletable": false,
    "nbgrader": {
     "cell_type": "code",
     "checksum": "5fbfc424a6ed5faf70ac692d952957e9",
     "grade": false,
     "grade_id": "cell-159f19bec0f548a6",
     "locked": false,
     "schema_version": 3,
     "solution": true,
     "task": false
    }
   },
   "outputs": [
    {
     "data": {
      "text/plain": [
       "<h1 class=\"headline headline__h1 dib\">Clemson Tigers Roster</h1>"
      ]
     },
     "execution_count": 8,
     "metadata": {},
     "output_type": "execute_result"
    }
   ],
   "source": [
    "# YOUR CODE HERE\n",
    "# raise NotImplementedError()\n",
    "import re\n",
    "team_tag = soup.find_all('h1', string = re.compile(\"Roster\"))[0]\n",
    "team_tag"
   ]
  },
  {
   "cell_type": "code",
   "execution_count": 9,
   "metadata": {
    "deletable": false,
    "editable": false,
    "nbgrader": {
     "cell_type": "code",
     "checksum": "2922883ff9d60cfd351bce6712430798",
     "grade": true,
     "grade_id": "cell-0313f4fbe0319355",
     "locked": true,
     "points": 2,
     "schema_version": 3,
     "solution": false,
     "task": false
    }
   },
   "outputs": [],
   "source": [
    "assert str(type(team_tag)) == \"<class 'bs4.element.Tag'>\" and team_tag.text.endswith(\"Roster\")"
   ]
  },
  {
   "cell_type": "markdown",
   "metadata": {},
   "source": [
    "### Question 5. Search for Team Groups\n",
    "\n",
    "A football team roster is usually divied into three groups: *Offense*, *Defense*, and *Special Teams*. Write some statements to find the tags for all these three groups and save the tags into a variable called groups. (2 points)"
   ]
  },
  {
   "cell_type": "code",
   "execution_count": 10,
   "metadata": {
    "deletable": false,
    "nbgrader": {
     "cell_type": "code",
     "checksum": "54fd5300bd2bf4d3b257517b6436942d",
     "grade": false,
     "grade_id": "cell-7f4a507853f8b142",
     "locked": false,
     "schema_version": 3,
     "solution": true,
     "task": false
    }
   },
   "outputs": [
    {
     "name": "stdout",
     "output_type": "stream",
     "text": [
      "3 groups\n",
      "<div class=\"Table__Title\">Offense</div>\n",
      "<div class=\"Table__Title\">Defense</div>\n",
      "<div class=\"Table__Title\">Special Teams</div>\n"
     ]
    }
   ],
   "source": [
    "# YOUR CODE HERE\n",
    "# raise NotImplementedError()\n",
    "group_names = [\"Offense\",\"Defense\",\"Special Teams\"]\n",
    "groups  = soup.find_all(True,string = group_names)\n",
    "print(len(groups), \"groups\")\n",
    "for g in groups:\n",
    "    print(g)"
   ]
  },
  {
   "cell_type": "code",
   "execution_count": 11,
   "metadata": {
    "deletable": false,
    "editable": false,
    "nbgrader": {
     "cell_type": "code",
     "checksum": "801aeeb66299c4f958a6266f549608df",
     "grade": true,
     "grade_id": "cell-42d807cdb2edf390",
     "locked": true,
     "points": 1,
     "schema_version": 3,
     "solution": false,
     "task": false
    }
   },
   "outputs": [],
   "source": [
    "assert ','.join(sorted([g.text for g in groups])) == 'Defense,Offense,Special Teams'"
   ]
  },
  {
   "cell_type": "code",
   "execution_count": 12,
   "metadata": {
    "deletable": false,
    "editable": false,
    "nbgrader": {
     "cell_type": "code",
     "checksum": "27727a5b4d2c4c87f77de35e00f02304",
     "grade": true,
     "grade_id": "cell-71dc4780c401038e",
     "locked": true,
     "points": 1,
     "schema_version": 3,
     "solution": false,
     "task": false
    }
   },
   "outputs": [],
   "source": [
    "assert len(groups) == 3"
   ]
  },
  {
   "cell_type": "markdown",
   "metadata": {},
   "source": [
    "### Question 6. Find the Column Names\n",
    "\n",
    "Complete the code segment to extract the names of the columns in a table rows and save those names into a list named col_names. (4 points)"
   ]
  },
  {
   "cell_type": "code",
   "execution_count": 13,
   "metadata": {
    "deletable": false,
    "nbgrader": {
     "cell_type": "code",
     "checksum": "454011f249d6af82e46d12ae5a3fb98c",
     "grade": false,
     "grade_id": "cell-2cbb21a90c5b9f64",
     "locked": false,
     "schema_version": 3,
     "solution": true,
     "task": false
    }
   },
   "outputs": [
    {
     "name": "stdout",
     "output_type": "stream",
     "text": [
      "3\n"
     ]
    },
    {
     "data": {
      "text/plain": [
       "['', 'Name', 'POS', 'HT', 'WT', 'Class', 'Birthplace']"
      ]
     },
     "execution_count": 13,
     "metadata": {},
     "output_type": "execute_result"
    }
   ],
   "source": [
    "col_names = []\n",
    "# YOUR CODE HERE\n",
    "# raise NotImplementedError()\n",
    "table = soup.find_all('table')\n",
    "print(len(table))\n",
    "t= table[0]\n",
    "for c in t.thead.tr.children:\n",
    "    col_names.append(c.text)\n",
    "col_names"
   ]
  },
  {
   "cell_type": "code",
   "execution_count": 14,
   "metadata": {
    "deletable": false,
    "editable": false,
    "nbgrader": {
     "cell_type": "code",
     "checksum": "136b35dbee8b7fbc1cf559f0dcb2dd90",
     "grade": true,
     "grade_id": "cell-ba933afaef916cfd",
     "locked": true,
     "points": 2,
     "schema_version": 3,
     "solution": false,
     "task": false
    }
   },
   "outputs": [],
   "source": [
    "assert \"Name\" in col_names and \"Class\" in col_names"
   ]
  },
  {
   "cell_type": "code",
   "execution_count": 15,
   "metadata": {
    "deletable": false,
    "editable": false,
    "nbgrader": {
     "cell_type": "code",
     "checksum": "71257ceadf574cf0a51c7dbb23869b0d",
     "grade": true,
     "grade_id": "cell-cf92003b92fab9c5",
     "locked": true,
     "points": 2,
     "schema_version": 3,
     "solution": false,
     "task": false
    }
   },
   "outputs": [],
   "source": [
    "assert type(col_names) is list and len(col_names) >= 6"
   ]
  },
  {
   "cell_type": "markdown",
   "metadata": {},
   "source": [
    "### Question 7. Find the Attributes of a Player\n",
    "\n",
    "Write code segment to extract the attributes of the first defense player and save them into a dict. The player should have the attributes as shown in the following example.\n",
    "```\n",
    "player_name: Lannden Zanders\n",
    "player_id: 4428971\n",
    "player_no: 36\n",
    "POS: S\n",
    "HT: 6' 1\"\n",
    "WT: 195 lbs\n",
    "Class: SO\n",
    "Birthplace: Shelby, NC\n",
    "```\n",
    "(10 points)"
   ]
  },
  {
   "cell_type": "code",
   "execution_count": 16,
   "metadata": {
    "deletable": false,
    "nbgrader": {
     "cell_type": "code",
     "checksum": "2428d9f1bd442bc2c41d8c7eab6bf731",
     "grade": false,
     "grade_id": "cell-667e97ed5447158a",
     "locked": false,
     "schema_version": 3,
     "solution": true,
     "task": false
    }
   },
   "outputs": [
    {
     "name": "stdout",
     "output_type": "stream",
     "text": [
      "0\t['', 'Bryan Bresee', 'DL', '6\\' 5\"', '300 lbs', 'FR', 'Damascus, MD']\n"
     ]
    }
   ],
   "source": [
    "player = {}\n",
    "\n",
    "# YOUR CODE HERE\n",
    "# raise NotImplementedError()\n",
    "\n",
    "# obtain column name\n",
    "col_names = []\n",
    "table = soup.find_all('table')\n",
    "t= table[0]\n",
    "for c in t.thead.tr.children:\n",
    "    col_names.append(c.text)\n",
    "\n",
    "\n",
    "# Find the table of Defense players\n",
    "t = soup.find(class_=\"Table__Title\",string=\"Defense\").find_next(\"table\")\n",
    "\n",
    "# Convert Href link to player_id\n",
    "player_id_set = {}\n",
    "for tag in t.find_all('a',attrs={\"href\":re.compile(\"/player/_/id/[0-9]+/*\")} ):\n",
    "    txt = re.search(\"/player/_/id/[0-9]*/[a-zA-Z|-]*\" ,tag.attrs['href'])\n",
    "    if txt:\n",
    "        player_info = txt.group(0).replace(\"/player/_/id/\",'')\n",
    "        player_info = player_info.split('/')\n",
    "        player_id, player_name = int(player_info[0]), player_info[1]\n",
    "        player_name = player_name.replace('-', ' ')\n",
    "        player_id_set[player_name] = player_id    \n",
    "    \n",
    "    \n",
    "    \n",
    "def is_player_row(tag):\n",
    "    if tag.name == 'tr' and tag.has_attr('data-idx'):\n",
    "        return True\n",
    "    return False\n",
    "    \n",
    "\n",
    "# Find info of the first player\n",
    "for i, c in enumerate(t.tbody.find_all(is_player_row)):\n",
    "    tds = c.find_all('td')\n",
    "    cols = []\n",
    "    for td in tds:\n",
    "        cols.append(td.get_text())\n",
    "    name_index = col_names.index('Name')\n",
    "    \n",
    "    # extract player_number from Name\n",
    "    player_no_re = re.search(\"\\d+\", cols[name_index])\n",
    "    if player_no_re:\n",
    "        player_no = player_no_re.group(0)\n",
    "    else:\n",
    "        player_no = \"NA\"\n",
    "        \n",
    "    # extract alphabetic name from Name\n",
    "    cols[name_index] = cols[name_index].replace('-',' ')\n",
    "    cols[name_index] = ''.join(re.findall(\"[a-zA-Z ]*\", cols[name_index]))\n",
    "    if cols[name_index].lower() in player_id_set.keys():\n",
    "        player_id = player_id_set[cols[name_index].lower()]\n",
    "    else:\n",
    "        player_id = \"NA\"\n",
    "    \n",
    "    print(\"{}\\t{}\".format(i, cols))\n",
    "    \n",
    "    # store the first Defense player info\n",
    "    if i == 0 :\n",
    "        player['player_name'] = cols[col_names.index('Name')]\n",
    "        player['player_id'] = player_id\n",
    "        player['player_no'] = player_no\n",
    "        player[\"POS\"] = cols[col_names.index('POS')]\n",
    "        player['HT'] = cols[col_names.index('HT')]\n",
    "        player['WT'] = cols[col_names.index('WT')]\n",
    "        player['Class'] = cols[col_names.index('Class')]\n",
    "        player['Birthplace'] = cols[col_names.index('Birthplace')]\n",
    "        break"
   ]
  },
  {
   "cell_type": "code",
   "execution_count": 17,
   "metadata": {},
   "outputs": [
    {
     "name": "stdout",
     "output_type": "stream",
     "text": [
      "player_name: Bryan Bresee\n",
      "player_id: 4428988\n",
      "player_no: 11\n",
      "POS: DL\n",
      "HT: 6' 5\"\n",
      "WT: 300 lbs\n",
      "Class: FR\n",
      "Birthplace: Damascus, MD\n"
     ]
    }
   ],
   "source": [
    "for k, v in player.items():\n",
    "    print(\"{}: {}\".format(k, v))\n"
   ]
  },
  {
   "cell_type": "code",
   "execution_count": 18,
   "metadata": {
    "deletable": false,
    "editable": false,
    "nbgrader": {
     "cell_type": "code",
     "checksum": "573232c9e1927671fe05b462ae176776",
     "grade": true,
     "grade_id": "cell-7c574fd6f9413477",
     "locked": true,
     "points": 1,
     "schema_version": 3,
     "solution": false,
     "task": false
    }
   },
   "outputs": [],
   "source": [
    "assert type(player) is dict"
   ]
  },
  {
   "cell_type": "code",
   "execution_count": 19,
   "metadata": {
    "deletable": false,
    "editable": false,
    "nbgrader": {
     "cell_type": "code",
     "checksum": "2dd53848b359b7abd83f693cbe1e8dc5",
     "grade": true,
     "grade_id": "cell-75b251071e223227",
     "locked": true,
     "points": 2,
     "schema_version": 3,
     "solution": false,
     "task": false
    }
   },
   "outputs": [],
   "source": [
    "assert len(player) == 8"
   ]
  },
  {
   "cell_type": "code",
   "execution_count": 20,
   "metadata": {
    "deletable": false,
    "editable": false,
    "nbgrader": {
     "cell_type": "code",
     "checksum": "fcc055db22cb1a5e0bc21d701b7c500f",
     "grade": true,
     "grade_id": "cell-9c5f3fdbcd88b09b",
     "locked": true,
     "points": 5,
     "schema_version": 3,
     "solution": false,
     "task": false
    }
   },
   "outputs": [],
   "source": [
    "assert ','.join(sorted(player.keys())) == 'Birthplace,Class,HT,POS,WT,player_id,player_name,player_no'"
   ]
  },
  {
   "cell_type": "code",
   "execution_count": 21,
   "metadata": {
    "deletable": false,
    "editable": false,
    "nbgrader": {
     "cell_type": "code",
     "checksum": "4c4ee594d40f2517ffd33f5f792466e0",
     "grade": true,
     "grade_id": "cell-7071bacb49ae8bef",
     "locked": true,
     "points": 1,
     "schema_version": 3,
     "solution": false,
     "task": false
    }
   },
   "outputs": [],
   "source": [
    "assert int(player['player_no']) > 0 and int(player['player_no']) < 200"
   ]
  },
  {
   "cell_type": "code",
   "execution_count": 22,
   "metadata": {
    "deletable": false,
    "editable": false,
    "nbgrader": {
     "cell_type": "code",
     "checksum": "55ca83e14b7230296f0cdb484db83f8b",
     "grade": true,
     "grade_id": "cell-232a559e5c4360cc",
     "locked": true,
     "points": 1,
     "schema_version": 3,
     "solution": false,
     "task": false
    }
   },
   "outputs": [],
   "source": [
    "assert int(player['WT'].split()[0]) > 150 and player['WT'].split()[1] == 'lbs'"
   ]
  },
  {
   "cell_type": "markdown",
   "metadata": {},
   "source": [
    "### Question 8. Abstract the tasks into a function\n",
    "\n",
    "Since you don't want to repeat the above steps for every player and every team, it is necessary to abstract the above scraping task into a function which you can reuse over and over. (10 points)"
   ]
  },
  {
   "cell_type": "code",
   "execution_count": 23,
   "metadata": {},
   "outputs": [
    {
     "name": "stdout",
     "output_type": "stream",
     "text": [
      "<td class=\"Table__TD--headshot Table__TD\"><div class=\"inline Table__TD--headshot\" style=\"min-width:40px\"><a class=\"AnchorLink\" href=\"http://www.espn.com/college-football/player/_/id/4686096/hunter-helms\" tabindex=\"0\"><div class=\"headshot inline-block relative TableHeadshot roster-headshot headshot--sm athlete silo\"><figure class=\"Image aspect-ratio--parent\"><div class=\"RatioFrame aspect-ratio--1x1\"></div><div class=\"Image__Wrapper aspect-ratio--child\"><img alt=\"https://a.espncdn.com/i/headshots/college-football/players/full/4686096.png\" class=\"\" data-mptype=\"image\" src=\"data:image/gif;base64,R0lGODlhAQABAIAAAAAAAP///yH5BAEAAAAALAAAAAABAAEAAAIBRAA7\" title=\"Hunter Helms\"/></div></figure></div></a></div></td>\n"
     ]
    }
   ],
   "source": [
    "t = soup.find(class_=\"Table__Title\").find_next(\"table\")\n",
    "\n",
    "for tbs in t.tbody.find_all('td'):\n",
    "    ls = []\n",
    "    for tb in tbs:\n",
    "        ls.append(tb.get_text())\n",
    "    print(tbs)\n",
    "    break\n"
   ]
  },
  {
   "cell_type": "code",
   "execution_count": 24,
   "metadata": {
    "deletable": false,
    "nbgrader": {
     "cell_type": "code",
     "checksum": "4043c7008d0450aadf0a62092f5c36a2",
     "grade": false,
     "grade_id": "cell-3de336d8b0a64126",
     "locked": false,
     "schema_version": 3,
     "solution": true,
     "task": false
    }
   },
   "outputs": [],
   "source": [
    "import requests\n",
    "from bs4 import BeautifulSoup\n",
    "\n",
    "def is_player_row(tag):\n",
    "    if tag.name == 'tr' and tag.has_attr('data-idx'):\n",
    "        return True\n",
    "    return False\n",
    "    \n",
    "\n",
    "def extract_team_roster(team_id, team_name):\n",
    "    \"\"\"\n",
    "    Extract the team roster for a NCAA college football team\n",
    "    \n",
    "    Args:\n",
    "        team_id: the id of a NACC football team assigned by ESPN\n",
    "        team_name: the name of the football team\n",
    "        \n",
    "    Returns:\n",
    "        a list of dict representing the roster of the entire team.\n",
    "    \"\"\"\n",
    "    roster = []\n",
    "    # YOUR CODE HERE\n",
    "    #     raise NotImplementedError()\n",
    "    \n",
    "    # obtain URL\n",
    "    \n",
    "    url = get_team_url(team_id, team_name)\n",
    "    \n",
    "    # Request HTML\n",
    "    response = requests.get(url)\n",
    "    html = response.content\n",
    "    soup = BeautifulSoup(html, \"html.parser\")\n",
    "    \n",
    "    #obtain column name of table\n",
    "    col_names = []\n",
    "    tables = soup.find_all('table')\n",
    "    print(len(tables))\n",
    "    for c in tables[0].thead.tr.children:\n",
    "        col_names.append(c.text)\n",
    "    # Find the list of player ids of each group\n",
    "    groups = [\"Offense\",\"Defense\",\"Special Teams\"]\n",
    "    for group in groups:\n",
    "        t = soup.find(class_=\"Table__Title\",string=group).find_next(\"table\")\n",
    "        player_id_set = {}\n",
    "        for tag in t.find_all('a',attrs={\"href\":re.compile(\"/player/_/id/[0-9]+/*\")} ):\n",
    "            txt = re.search(\"/player/_/id/[0-9]*/[a-zA-Z|-]*\" ,tag.attrs['href'])\n",
    "            if txt:\n",
    "                player_info = txt.group(0).replace(\"/player/_/id/\",'')\n",
    "                player_info = player_info.split('/')\n",
    "                player_id, player_name = int(player_info[0]), player_info[1]\n",
    "                player_name = player_name.replace('-', ' ')\n",
    "                player_id_set[player_name] = player_id\n",
    "#         print(player_id_set)\n",
    "\n",
    "        # Collect info of each player\n",
    "        for i, c in enumerate(t.tbody.find_all(is_player_row)):\n",
    "            tds = c.find_all('td')\n",
    "            cols = []\n",
    "            player = {}\n",
    "            for td in tds:\n",
    "                cols.append(td.get_text())\n",
    "#             print(\"{}\\t{}\".format(i, cols))\n",
    "            name_index = col_names.index('Name')\n",
    "\n",
    "            # extract player_number from Name\n",
    "            player_no_re = re.search(\"\\d+\", cols[name_index])\n",
    "            if player_no_re:\n",
    "                player_no = player_no_re.group(0)\n",
    "            else:\n",
    "                \n",
    "                player_no = \"NA\"\n",
    "                print(\"Name:  \",cols[name_index], \"NA\")\n",
    "\n",
    "            # extract alphabetic name from Name\n",
    "            cols[name_index] = cols[name_index].replace('-',' ')\n",
    "            cols[name_index] = ''.join(re.findall(\"[a-zA-Z ]*\", cols[name_index]))\n",
    "            if cols[name_index].lower() in player_id_set.keys():\n",
    "                player_id = player_id_set[cols[name_index].lower()]\n",
    "            else:\n",
    "                player_id = \"NA\"\n",
    "                print(\"Not Found:\",  cols[name_index].lower())\n",
    "\n",
    "\n",
    "            \n",
    "\n",
    "            # store the first Defense player info\n",
    "            player['player_name'] = cols[col_names.index('Name')]\n",
    "            player['player_id'] = player_id\n",
    "            player['player_no'] = player_no\n",
    "            player[\"POS\"] = cols[col_names.index('POS')]\n",
    "            player['HT'] = cols[col_names.index('HT')]\n",
    "            player['WT'] = cols[col_names.index('WT')]\n",
    "            player['Class'] = cols[col_names.index('Class')]\n",
    "            player['Birthplace'] = cols[col_names.index('Birthplace')]\n",
    "            roster.append(player)\n",
    "\n",
    "    return roster"
   ]
  },
  {
   "cell_type": "code",
   "execution_count": 25,
   "metadata": {
    "deletable": false,
    "editable": false,
    "nbgrader": {
     "cell_type": "code",
     "checksum": "a1187005563085f4f33b5f2e70fc7932",
     "grade": false,
     "grade_id": "cell-95f94121563f7139",
     "locked": true,
     "schema_version": 3,
     "solution": false,
     "task": false
    }
   },
   "outputs": [
    {
     "name": "stdout",
     "output_type": "stream",
     "text": [
      "3\n",
      "[   {   'Birthplace': 'Grayson, GA',\n",
      "        'Class': 'JR',\n",
      "        'HT': '6\\' 3\"',\n",
      "        'POS': 'QB',\n",
      "        'WT': '235 lbs',\n",
      "        'player_id': 4239994,\n",
      "        'player_name': 'Chase Brice',\n",
      "        'player_no': '8'},\n",
      "    {   'Birthplace': 'Langhorne, PA',\n",
      "        'Class': 'SO',\n",
      "        'HT': '6\\' 3\"',\n",
      "        'POS': 'QB',\n",
      "        'WT': '190 lbs',\n",
      "        'player_id': 4568231,\n",
      "        'player_name': 'Jack Colyar',\n",
      "        'player_no': '13'},\n",
      "    {   'Birthplace': 'Venice, CA',\n",
      "        'Class': 'FR',\n",
      "        'HT': '6\\' 3\"',\n",
      "        'POS': 'QB',\n",
      "        'WT': '180 lbs',\n",
      "        'player_id': 4429578,\n",
      "        'player_name': 'Luca Diamont',\n",
      "        'player_no': '2'}]\n"
     ]
    }
   ],
   "source": [
    "# test the function\n",
    "import pprint\n",
    "\n",
    "team_id = 150\n",
    "team_name = \"Duke Blue Devils\"\n",
    "team_roster = extract_team_roster(team_id, team_name)\n",
    "\n",
    "pp = pprint.PrettyPrinter(indent=4)\n",
    "pp.pprint(team_roster[:3])"
   ]
  },
  {
   "cell_type": "code",
   "execution_count": 26,
   "metadata": {
    "deletable": false,
    "editable": false,
    "nbgrader": {
     "cell_type": "code",
     "checksum": "356d5aaef2b3588544bc4dcaf070e044",
     "grade": true,
     "grade_id": "cell-895004dba91372be",
     "locked": true,
     "points": 1,
     "schema_version": 3,
     "solution": false,
     "task": false
    }
   },
   "outputs": [
    {
     "data": {
      "text/plain": [
       "True"
      ]
     },
     "execution_count": 26,
     "metadata": {},
     "output_type": "execute_result"
    }
   ],
   "source": [
    "type(team_roster) is list"
   ]
  },
  {
   "cell_type": "code",
   "execution_count": 27,
   "metadata": {
    "deletable": false,
    "editable": false,
    "nbgrader": {
     "cell_type": "code",
     "checksum": "ca5f9901c77a47bb20469f7b8b1e5b31",
     "grade": true,
     "grade_id": "cell-018fc6188aad6ea2",
     "locked": true,
     "points": 1,
     "schema_version": 3,
     "solution": false,
     "task": false
    }
   },
   "outputs": [],
   "source": [
    "assert len(team_roster) >= 80"
   ]
  },
  {
   "cell_type": "code",
   "execution_count": 28,
   "metadata": {
    "deletable": false,
    "editable": false,
    "nbgrader": {
     "cell_type": "code",
     "checksum": "543a0f4e2a78066953062a5a900331e3",
     "grade": true,
     "grade_id": "cell-a5e0daeb322a2166",
     "locked": true,
     "points": 4,
     "schema_version": 3,
     "solution": false,
     "task": false
    }
   },
   "outputs": [],
   "source": [
    "assert ','.join(sorted(team_roster[50].keys())) == 'Birthplace,Class,HT,POS,WT,player_id,player_name,player_no'"
   ]
  },
  {
   "cell_type": "code",
   "execution_count": 29,
   "metadata": {
    "deletable": false,
    "editable": false,
    "nbgrader": {
     "cell_type": "code",
     "checksum": "0eec10e2fda42f61f739b458b645496e",
     "grade": true,
     "grade_id": "cell-fdf01ad39dd2e479",
     "locked": true,
     "points": 2,
     "schema_version": 3,
     "solution": false,
     "task": false
    }
   },
   "outputs": [],
   "source": [
    "import numpy as np\n",
    "classes = np.array([p['Class'] for p in team_roster])\n",
    "class_labels, class_counts = np.unique(classes, return_counts=True)\n",
    "assert ''.join(class_labels.tolist()) == 'FRJRSOSR'"
   ]
  },
  {
   "cell_type": "code",
   "execution_count": 30,
   "metadata": {
    "deletable": false,
    "editable": false,
    "nbgrader": {
     "cell_type": "code",
     "checksum": "ed3972722e9f5742ba2acf536eaca6f4",
     "grade": true,
     "grade_id": "cell-d6f3d4de23bc3c91",
     "locked": true,
     "points": 2,
     "schema_version": 3,
     "solution": false,
     "task": false
    }
   },
   "outputs": [],
   "source": [
    "import numpy as np\n",
    "player_ids = np.array([p['player_id'] for p in team_roster])\n",
    "unqiue_ids = np.unique(player_ids)\n",
    "assert len(unqiue_ids) == len(team_roster)"
   ]
  },
  {
   "cell_type": "markdown",
   "metadata": {},
   "source": [
    "### Question 9. Debug and Testing Functions\n",
    "\n",
    "When you write a program, you have to make sure that it always works correctly even if some exteral data (e.g., the ESPN website) may be corrupted. For example, Some players in a certain team may not have their player no. Your code should be able tp catch such exceptions and replace the missing player no with the value \"NA\". (10 points)"
   ]
  },
  {
   "cell_type": "code",
   "execution_count": 31,
   "metadata": {
    "deletable": false,
    "nbgrader": {
     "cell_type": "code",
     "checksum": "d0606e67d3d5a9a3e96289c7c6f3f993",
     "grade": false,
     "grade_id": "cell-87356ddb0aaeca8e",
     "locked": false,
     "schema_version": 3,
     "solution": true,
     "task": false
    }
   },
   "outputs": [
    {
     "data": {
      "text/plain": [
       "'CCBDBDEDLDTFBGLBLSNTOLOTPPKQBRBSTEWR'"
      ]
     },
     "execution_count": 31,
     "metadata": {},
     "output_type": "execute_result"
    }
   ],
   "source": [
    "# YOUR CODE HERE\n",
    "# raise NotImplementedError()\n",
    "\n",
    "def extract_team_roster(team_id, team_name):\n",
    "    \"\"\"\n",
    "    Extract the team roster for a NCAA college football team\n",
    "    \n",
    "    Args:\n",
    "        team_id: the id of a NACC football team assigned by ESPN\n",
    "        team_name: the name of the football team\n",
    "        \n",
    "    Returns:\n",
    "        a list of dict representing the roster of the entire team.\n",
    "    \"\"\"\n",
    "    roster = []\n",
    "    # YOUR CODE HERE\n",
    "    #     raise NotImplementedError()\n",
    "    def is_player_row(tag):\n",
    "        if tag.name == 'tr' and tag.has_attr('data-idx'):\n",
    "            return True\n",
    "        return False\n",
    "    \n",
    "    # obtain URL\n",
    "    url = get_team_url(team_id, team_name)\n",
    "    # Request HTML\n",
    "    response = requests.get(url)\n",
    "    html = response.content\n",
    "    soup = BeautifulSoup(html, \"html.parser\")\n",
    "    \n",
    "    #obtain column name of table\n",
    "    col_names = []\n",
    "    table = soup.find_all('table')\n",
    "    t= table[0]\n",
    "    for c in t.thead.tr.children:\n",
    "        col_names.append(c.text)\n",
    "    # Find the list of player ids of each group\n",
    "    tables = soup.find_all('table')\n",
    "    for t in tables:\n",
    "    #     t = soup.find(class_=\"Table__Title\").find_next(\"table\")\n",
    "        player_id_set = {}\n",
    "        for tag in t.find_all('a',attrs={\"href\":re.compile(\"/player/_/id/[0-9]+/*\")} ):\n",
    "            txt = re.search(\"/player/_/id/[0-9]*/[a-zA-Z|-]*\" ,tag.attrs['href'])\n",
    "            if txt:\n",
    "                player_info = txt.group(0).replace(\"/player/_/id/\",'')\n",
    "                player_info = player_info.split('/')\n",
    "                player_id, player_name = int(player_info[0]), player_info[1]\n",
    "                player_name = player_name.replace('-', ' ')\n",
    "                player_id_set[player_name] = player_id\n",
    "    #         print(player_id_set)\n",
    "\n",
    "        # Collect info of each player\n",
    "        for i, c in enumerate(t.tbody.find_all(is_player_row)):\n",
    "            tds = c.find_all('td')\n",
    "            cols = []\n",
    "            player = {}\n",
    "            for td in tds:\n",
    "                cols.append(td.get_text())\n",
    "    #             print(\"{}\\t{}\".format(i, cols))\n",
    "            name_index = col_names.index('Name')\n",
    "\n",
    "            # extract player_number from Name\n",
    "            player_no_re = re.search(\"\\d+\", cols[name_index])\n",
    "            if player_no_re:\n",
    "                player_no = player_no_re.group(0)\n",
    "            else:\n",
    "\n",
    "                player_no = \"NA\"\n",
    "#                 print(\"Name:  \",cols[name_index], \"NA\")\n",
    "            # extract alphabetic name from Name\n",
    "            cols[name_index] = cols[name_index].replace('-',' ')\n",
    "            cols[name_index] = ''.join(re.findall(\"[a-zA-Z ]*\", cols[name_index]))\n",
    "            if cols[name_index].lower() in player_id_set.keys():\n",
    "                player_id = player_id_set[cols[name_index].lower()]\n",
    "            else:\n",
    "                player_id = \"NA\"\n",
    "                print(\"Not Found:\",  cols[name_index].lower())\n",
    "\n",
    "\n",
    "\n",
    "\n",
    "            # store the first Defense player info\n",
    "            player['player_name'] = cols[col_names.index('Name')]\n",
    "            player['player_id'] = player_id\n",
    "            player['player_no'] = player_no\n",
    "            player[\"POS\"] = cols[col_names.index('POS')]\n",
    "            player['HT'] = cols[col_names.index('HT')]\n",
    "            player['WT'] = cols[col_names.index('WT')]\n",
    "            player['Class'] = cols[col_names.index('Class')]\n",
    "            player['Birthplace'] = cols[col_names.index('Birthplace')]\n",
    "            roster.append(player)\n",
    "\n",
    "    return roster\n",
    "\n",
    "team_id = 258\n",
    "team_name = \"Virginia Cavaliers.\"\n",
    "team_roster = extract_team_roster(team_id, team_name)\n",
    "import numpy as np\n",
    "positions = np.array([p['POS'] for p in team_roster])\n",
    "position_label, position_counts = np.unique(positions, return_counts=True)\n",
    "s = ''.join(position_label.tolist())\n",
    "s"
   ]
  },
  {
   "cell_type": "code",
   "execution_count": 32,
   "metadata": {
    "deletable": false,
    "editable": false,
    "nbgrader": {
     "cell_type": "code",
     "checksum": "a684128afceb8fb456ddbf3fa45938d7",
     "grade": true,
     "grade_id": "cell-0ed1c994a0f7210c",
     "locked": true,
     "points": 5,
     "schema_version": 3,
     "solution": false,
     "task": false
    }
   },
   "outputs": [],
   "source": [
    "import numpy as np\n",
    "positions = np.array([p['POS'] for p in team_roster])\n",
    "position_label, position_counts = np.unique(positions, return_counts=True)\n",
    "assert ''.join(position_label.tolist()) == 'CCBDBDEDLDTFBGLBLSNTOLOTPPKQBRBSTEWR'"
   ]
  },
  {
   "cell_type": "code",
   "execution_count": 33,
   "metadata": {
    "deletable": false,
    "editable": false,
    "nbgrader": {
     "cell_type": "code",
     "checksum": "0fc2e4013288aa413ec4a6dae33990da",
     "grade": true,
     "grade_id": "cell-cf43e6715aff64de",
     "locked": true,
     "points": 5,
     "schema_version": 3,
     "solution": false,
     "task": false
    }
   },
   "outputs": [],
   "source": [
    "player_nos = np.array([p['player_no'] for p in team_roster])\n",
    "na_count = len([no for no in player_nos if no == 'NA'])\n",
    "assert na_count > 10"
   ]
  },
  {
   "cell_type": "markdown",
   "metadata": {},
   "source": [
    "### Question 10. Add functions into a Python Modules\n",
    "\n",
    "Now you have developed two solid functions: `get_team_url` and `extract_team_roster` and you would like to reuse them in other projects or share them with other people. Use the Notebook magic command to write the two functions with other neccessary  statements into a python file named `roster.py`. (4 points)"
   ]
  },
  {
   "cell_type": "code",
   "execution_count": 34,
   "metadata": {
    "deletable": false,
    "nbgrader": {
     "cell_type": "code",
     "checksum": "526af8fc9777c831c0122f81a8c76362",
     "grade": false,
     "grade_id": "cell-9121f8f48dd11851",
     "locked": false,
     "schema_version": 3,
     "solution": true,
     "task": false
    }
   },
   "outputs": [
    {
     "name": "stdout",
     "output_type": "stream",
     "text": [
      "Overwriting roster.py\n"
     ]
    }
   ],
   "source": [
    "%%writefile roster.py\n",
    "\n",
    "from bs4 import BeautifulSoup\n",
    "import requests\n",
    "\n",
    "def get_team_url(team_id, team_name):\n",
    "    \"\"\"\n",
    "    Get the team URL for a NCAA college football team\n",
    "    \n",
    "    Args:\n",
    "        team_id: the id of a NACC football team assigned by ESPN\n",
    "        team_name: the name of the football team\n",
    "        \n",
    "    Returns:\n",
    "        team_url: a string representing the URL of the team\n",
    "    \"\"\"\n",
    "    # YOUR CODE HERE\n",
    "    url = \"https://www.espn.com/college-football/team/roster/_/id/\"\n",
    "    team_name = team_name.lower().replace(\" \",\"-\")\n",
    "    url += str(team_id) + '/' + team_name\n",
    "    return url\n",
    "\n",
    "\n",
    "\n",
    "def extract_team_roster(team_id, team_name):\n",
    "    \"\"\"\n",
    "    Extract the team roster for a NCAA college football team\n",
    "    \n",
    "    Args:\n",
    "        team_id: the id of a NACC football team assigned by ESPN\n",
    "        team_name: the name of the football team\n",
    "        \n",
    "    Returns:\n",
    "        a list of dict representing the roster of the entire team.\n",
    "    \"\"\"\n",
    "    roster = []\n",
    "    import re\n",
    "    \n",
    "    def is_player_row(tag):\n",
    "        if tag.name == 'tr' and tag.has_attr('data-idx'):\n",
    "            return True\n",
    "        return False\n",
    "    \n",
    "    \n",
    "    \n",
    "    # obtain URL\n",
    "    url = get_team_url(team_id, team_name)\n",
    "    # Request HTML\n",
    "    import requests\n",
    "    response = requests.get(url)\n",
    "    html = response.content\n",
    "    soup = BeautifulSoup(html, \"html.parser\")\n",
    "    \n",
    "    #obtain column name of table\n",
    "    col_names = []\n",
    "    table = soup.find_all('table')\n",
    "    t= table[0]\n",
    "    for c in t.thead.tr.children:\n",
    "        col_names.append(c.text)\n",
    "    # Find the list of player ids of each group\n",
    "    tables = soup.find_all('table')\n",
    "    for t in tables:\n",
    "    #     t = soup.find(class_=\"Table__Title\").find_next(\"table\")\n",
    "        player_id_set = {}\n",
    "        for tag in t.find_all('a',attrs={\"href\":re.compile(\"/player/_/id/[0-9]+/*\")} ):\n",
    "            txt = re.search(\"/player/_/id/[0-9]*/[a-zA-Z|-]*\" ,tag.attrs['href'])\n",
    "            if txt:\n",
    "                player_info = txt.group(0).replace(\"/player/_/id/\",'')\n",
    "                player_info = player_info.split('/')\n",
    "                player_id, player_name = int(player_info[0]), player_info[1]\n",
    "                player_name = player_name.replace('-', ' ')\n",
    "                player_id_set[player_name] = player_id\n",
    "    #         print(player_id_set)\n",
    "\n",
    "        # Collect info of each player\n",
    "        for i, c in enumerate(t.tbody.find_all(is_player_row)):\n",
    "            tds = c.find_all('td')\n",
    "            cols = []\n",
    "            player = {}\n",
    "            for td in tds:\n",
    "                cols.append(td.get_text())\n",
    "    #             print(\"{}\\t{}\".format(i, cols))\n",
    "            name_index = col_names.index('Name')\n",
    "\n",
    "            # extract player_number from Name\n",
    "            player_no_re = re.search(\"\\d+\", cols[name_index])\n",
    "            if player_no_re:\n",
    "                player_no = player_no_re.group(0)\n",
    "            else:\n",
    "\n",
    "                player_no = \"NA\"\n",
    "#                 print(\"Name:  \",cols[name_index], \"NA\")\n",
    "            # extract alphabetic name from Name\n",
    "            cols[name_index] = cols[name_index].replace('-',' ')\n",
    "            cols[name_index] = ''.join(re.findall(\"[a-zA-Z ]*\", cols[name_index]))\n",
    "            if cols[name_index].lower() in player_id_set.keys():\n",
    "                player_id = player_id_set[cols[name_index].lower()]\n",
    "            else:\n",
    "                player_id = \"NA\"\n",
    "                print(\"Not Found:\",  cols[name_index].lower())\n",
    "\n",
    "\n",
    "\n",
    "\n",
    "            # store the first Defense player info\n",
    "            player['player_name'] = cols[col_names.index('Name')]\n",
    "            player['player_id'] = player_id\n",
    "            player['player_no'] = player_no\n",
    "            player[\"POS\"] = cols[col_names.index('POS')]\n",
    "            player['HT'] = cols[col_names.index('HT')]\n",
    "            player['WT'] = cols[col_names.index('WT')]\n",
    "            player['Class'] = cols[col_names.index('Class')]\n",
    "            player['Birthplace'] = cols[col_names.index('Birthplace')]\n",
    "            roster.append(player)\n",
    "\n",
    "    return roster\n"
   ]
  },
  {
   "cell_type": "code",
   "execution_count": 35,
   "metadata": {
    "scrolled": true
   },
   "outputs": [
    {
     "name": "stdout",
     "output_type": "stream",
     "text": [
      "\r\n",
      "from bs4 import BeautifulSoup\r\n",
      "import requests\r\n",
      "\r\n",
      "def get_team_url(team_id, team_name):\r\n",
      "    \"\"\"\r\n",
      "    Get the team URL for a NCAA college football team\r\n",
      "    \r\n",
      "    Args:\r\n",
      "        team_id: the id of a NACC football team assigned by ESPN\r\n",
      "        team_name: the name of the football team\r\n",
      "        \r\n",
      "    Returns:\r\n",
      "        team_url: a string representing the URL of the team\r\n",
      "    \"\"\"\r\n",
      "    # YOUR CODE HERE\r\n",
      "    url = \"https://www.espn.com/college-football/team/roster/_/id/\"\r\n",
      "    team_name = team_name.lower().replace(\" \",\"-\")\r\n",
      "    url += str(team_id) + '/' + team_name\r\n",
      "    return url\r\n",
      "\r\n",
      "\r\n",
      "\r\n",
      "def extract_team_roster(team_id, team_name):\r\n",
      "    \"\"\"\r\n",
      "    Extract the team roster for a NCAA college football team\r\n",
      "    \r\n",
      "    Args:\r\n",
      "        team_id: the id of a NACC football team assigned by ESPN\r\n",
      "        team_name: the name of the football team\r\n",
      "        \r\n",
      "    Returns:\r\n",
      "        a list of dict representing the roster of the entire team.\r\n",
      "    \"\"\"\r\n",
      "    roster = []\r\n",
      "    import re\r\n",
      "    \r\n",
      "    def is_player_row(tag):\r\n",
      "        if tag.name == 'tr' and tag.has_attr('data-idx'):\r\n",
      "            return True\r\n",
      "        return False\r\n",
      "    \r\n",
      "    \r\n",
      "    \r\n",
      "    # obtain URL\r\n",
      "    url = get_team_url(team_id, team_name)\r\n",
      "    # Request HTML\r\n",
      "    import requests\r\n",
      "    response = requests.get(url)\r\n",
      "    html = response.content\r\n",
      "    soup = BeautifulSoup(html, \"html.parser\")\r\n",
      "    \r\n",
      "    #obtain column name of table\r\n",
      "    col_names = []\r\n",
      "    table = soup.find_all('table')\r\n",
      "    t= table[0]\r\n",
      "    for c in t.thead.tr.children:\r\n",
      "        col_names.append(c.text)\r\n",
      "    # Find the list of player ids of each group\r\n",
      "    tables = soup.find_all('table')\r\n",
      "    for t in tables:\r\n",
      "    #     t = soup.find(class_=\"Table__Title\").find_next(\"table\")\r\n",
      "        player_id_set = {}\r\n",
      "        for tag in t.find_all('a',attrs={\"href\":re.compile(\"/player/_/id/[0-9]+/*\")} ):\r\n",
      "            txt = re.search(\"/player/_/id/[0-9]*/[a-zA-Z|-]*\" ,tag.attrs['href'])\r\n",
      "            if txt:\r\n",
      "                player_info = txt.group(0).replace(\"/player/_/id/\",'')\r\n",
      "                player_info = player_info.split('/')\r\n",
      "                player_id, player_name = int(player_info[0]), player_info[1]\r\n",
      "                player_name = player_name.replace('-', ' ')\r\n",
      "                player_id_set[player_name] = player_id\r\n",
      "    #         print(player_id_set)\r\n",
      "\r\n",
      "        # Collect info of each player\r\n",
      "        for i, c in enumerate(t.tbody.find_all(is_player_row)):\r\n",
      "            tds = c.find_all('td')\r\n",
      "            cols = []\r\n",
      "            player = {}\r\n",
      "            for td in tds:\r\n",
      "                cols.append(td.get_text())\r\n",
      "    #             print(\"{}\\t{}\".format(i, cols))\r\n",
      "            name_index = col_names.index('Name')\r\n",
      "\r\n",
      "            # extract player_number from Name\r\n",
      "            player_no_re = re.search(\"\\d+\", cols[name_index])\r\n",
      "            if player_no_re:\r\n",
      "                player_no = player_no_re.group(0)\r\n",
      "            else:\r\n",
      "\r\n",
      "                player_no = \"NA\"\r\n",
      "#                 print(\"Name:  \",cols[name_index], \"NA\")\r\n",
      "            # extract alphabetic name from Name\r\n",
      "            cols[name_index] = cols[name_index].replace('-',' ')\r\n",
      "            cols[name_index] = ''.join(re.findall(\"[a-zA-Z ]*\", cols[name_index]))\r\n",
      "            if cols[name_index].lower() in player_id_set.keys():\r\n",
      "                player_id = player_id_set[cols[name_index].lower()]\r\n",
      "            else:\r\n",
      "                player_id = \"NA\"\r\n",
      "                print(\"Not Found:\",  cols[name_index].lower())\r\n",
      "\r\n",
      "\r\n",
      "\r\n",
      "\r\n",
      "            # store the first Defense player info\r\n",
      "            player['player_name'] = cols[col_names.index('Name')]\r\n",
      "            player['player_id'] = player_id\r\n",
      "            player['player_no'] = player_no\r\n",
      "            player[\"POS\"] = cols[col_names.index('POS')]\r\n",
      "            player['HT'] = cols[col_names.index('HT')]\r\n",
      "            player['WT'] = cols[col_names.index('WT')]\r\n",
      "            player['Class'] = cols[col_names.index('Class')]\r\n",
      "            player['Birthplace'] = cols[col_names.index('Birthplace')]\r\n",
      "            roster.append(player)\r\n",
      "\r\n",
      "    return roster\r\n"
     ]
    }
   ],
   "source": [
    "!cat roster.py"
   ]
  },
  {
   "cell_type": "code",
   "execution_count": 36,
   "metadata": {
    "deletable": false,
    "editable": false,
    "nbgrader": {
     "cell_type": "code",
     "checksum": "2210053c7c2e0327341bc985b6295f11",
     "grade": true,
     "grade_id": "cell-460dca90f00e20e6",
     "locked": true,
     "points": 1,
     "schema_version": 3,
     "solution": false,
     "task": false
    }
   },
   "outputs": [],
   "source": [
    "import os\n",
    "assert os.path.exists(\"roster.py\")"
   ]
  },
  {
   "cell_type": "code",
   "execution_count": 37,
   "metadata": {
    "deletable": false,
    "editable": false,
    "nbgrader": {
     "cell_type": "code",
     "checksum": "d08db99ab6c2747f8fdf637a5e95e4b1",
     "grade": true,
     "grade_id": "cell-d2d114880fe61a22",
     "locked": true,
     "points": 3,
     "schema_version": 3,
     "solution": false,
     "task": false
    }
   },
   "outputs": [],
   "source": [
    "try:\n",
    "    from bs4 import BeautifulSoup\n",
    "    import requests\n",
    "    from roster import get_team_url, extract_team_roster\n",
    "    \n",
    "    clemson_tiger_roster = extract_team_roster(258, \"Virginia Cavaliers\")\n",
    "except:\n",
    "    raise AssertionError(\"could not import\")\n"
   ]
  },
  {
   "cell_type": "markdown",
   "metadata": {
    "deletable": false,
    "editable": false,
    "nbgrader": {
     "cell_type": "markdown",
     "checksum": "bf8ff74312498ee8b41a46104e70626c",
     "grade": false,
     "grade_id": "cell-8fc6c1dcac381c73",
     "locked": true,
     "schema_version": 3,
     "solution": false,
     "task": false
    }
   },
   "source": [
    "### Congratulations! Yo have finished Part B of the problem."
   ]
  },
  {
   "cell_type": "code",
   "execution_count": null,
   "metadata": {},
   "outputs": [],
   "source": []
  }
 ],
 "metadata": {
  "kernelspec": {
   "display_name": "Python 3",
   "language": "python",
   "name": "python3"
  },
  "language_info": {
   "codemirror_mode": {
    "name": "ipython",
    "version": 3
   },
   "file_extension": ".py",
   "mimetype": "text/x-python",
   "name": "python",
   "nbconvert_exporter": "python",
   "pygments_lexer": "ipython3",
   "version": "3.8.3"
  }
 },
 "nbformat": 4,
 "nbformat_minor": 2
}
