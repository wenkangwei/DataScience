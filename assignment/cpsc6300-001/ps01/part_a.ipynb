{
 "cells": [
  {
   "cell_type": "markdown",
   "metadata": {},
   "source": [
    "# CPSC 4300/6300-001 Applied Data Science (Fall 2020)\n",
    "\n",
    "Before you turn this problem in, make sure everything runs as expected. First, **restart the kernel** (in the menubar, select Kernel$\\rightarrow$Restart) and then **run all cells** (in the menubar, select Cell$\\rightarrow$Run All).\n",
    "\n",
    "Make sure you fill in any place that says `YOUR CODE HERE` or \"YOUR ANSWER HERE\", as well as your name and collaborators below:"
   ]
  },
  {
   "cell_type": "code",
   "execution_count": 1,
   "metadata": {},
   "outputs": [],
   "source": [
    "NAME = \"Wenkang Wei\"\n",
    "COLLABORATORS = \"Wenkang Wei\""
   ]
  },
  {
   "cell_type": "markdown",
   "metadata": {},
   "source": [
    "# CPSC4300/6300-001 Problem Set #1"
   ]
  },
  {
   "cell_type": "markdown",
   "metadata": {},
   "source": [
    "In this problem set, you will create a NCAA College Football team dataset by scraping data from the Internet and perform some basic data manipulations. The purpose of this problem set is to get familiar with data collection with Python and gain some hand-on skills of using Python to some routine tasks.\n",
    "\n",
    "The assignment has four parts: part A and B are auto-graded. Part C and D are manually graded by the TA. \n",
    "\n",
    "Before submission, make sure you run all the cells. Because the TA could not run your notebook, your grade will be only based on the output and the writing part of your submitted notebook. "
   ]
  },
  {
   "cell_type": "markdown",
   "metadata": {},
   "source": [
    "## Part A: Find the List of NCAA College Football Teams (30 points)\n",
    "\n",
    "To start, we first create a list of NCAA football teams from ESPN's website. To save your time, we provide a Python module which scrapes the list of teams from url."
   ]
  },
  {
   "cell_type": "code",
   "execution_count": 2,
   "metadata": {},
   "outputs": [
    {
     "name": "stdout",
     "output_type": "stream",
     "text": [
      "Writing espn.py\n"
     ]
    }
   ],
   "source": [
    "%%writefile espn.py\n",
    "import requests\n",
    "from bs4 import BeautifulSoup\n",
    "from requests.exceptions import HTTPError\n",
    "\n",
    "NCAAF_URL=\"https://www.espn.com/college-football/teams\"\n",
    "\n",
    "def fetch_ncaaf_teams(url=NCAAF_URL):\n",
    "    \"\"\"Fetch the list of ncaa football teams\n",
    "    \n",
    "    Args:\n",
    "        url (string): the url of the web page for ncaa football teams \n",
    "    \n",
    "    Returns:\n",
    "            \n",
    "    \"\"\"\n",
    "    teams = []\n",
    "    \n",
    "    response = requests.get(url)\n",
    "    html = response.content\n",
    "    soup = BeautifulSoup(html, 'html.parser')\n",
    "    \n",
    "    conferences = soup.find_all(\"div\", class_=\"headline\")\n",
    "    for conference in conferences:\n",
    "        conference_name = conference.get_text()\n",
    "        team_links = conference.parent.find_all(\"a\", class_=\"AnchorLink\")\n",
    "        for team_link in team_links:\n",
    "            if team_link.find(\"h2\"):\n",
    "                team_url = team_link['href']\n",
    "                team_name = team_link.get_text()\n",
    "                team_id = int(team_url.split(\"/\")[-2])\n",
    "                teams.append({\"id\": team_id, \"name\": team_name, \"conference\": conference_name, \"url\": team_url})\n",
    "    return teams"
   ]
  },
  {
   "cell_type": "code",
   "execution_count": 3,
   "metadata": {},
   "outputs": [
    {
     "name": "stdout",
     "output_type": "stream",
     "text": [
      "espn.py  part_a.ipynb  part_b.ipynb  part_c.ipynb  part_d.ipynb  __pycache__\n"
     ]
    }
   ],
   "source": [
    "!ls"
   ]
  },
  {
   "cell_type": "markdown",
   "metadata": {},
   "source": [
    "### Question 1.  Import and use python functions\n",
    "\n",
    "Write a Python statement to import the `fetch_ncaaf_teams()` function and use it to fetch the list of college football teams and save the list into a variable named `team_list`. (2 points)"
   ]
  },
  {
   "cell_type": "code",
   "execution_count": 4,
   "metadata": {
    "deletable": false,
    "nbgrader": {
     "cell_type": "code",
     "checksum": "d2498636af93f43d728be35c73426036",
     "grade": false,
     "grade_id": "cell-51ce4adefe13d303",
     "locked": false,
     "schema_version": 3,
     "solution": true,
     "task": false
    }
   },
   "outputs": [
    {
     "data": {
      "text/plain": [
       "{'id': 2132,\n",
       " 'name': 'Cincinnati Bearcats',\n",
       " 'conference': 'American',\n",
       " 'url': '/college-football/team/_/id/2132/cincinnati-bearcats'}"
      ]
     },
     "execution_count": 4,
     "metadata": {},
     "output_type": "execute_result"
    }
   ],
   "source": [
    "# YOUR CODE HERE\n",
    "from espn import fetch_ncaaf_teams\n",
    "team_list = fetch_ncaaf_teams()\n",
    "# show the first element in team_list\n",
    "team_list[0]\n",
    "#raise NotImplementedError()"
   ]
  },
  {
   "cell_type": "code",
   "execution_count": 5,
   "metadata": {},
   "outputs": [
    {
     "name": "stdout",
     "output_type": "stream",
     "text": [
      "There are 129 ncaa football teams\n"
     ]
    }
   ],
   "source": [
    "# test\n",
    "assert type(team_list) is list\n",
    "print(\"There are {} ncaa football teams\".format(len(team_list)))"
   ]
  },
  {
   "cell_type": "code",
   "execution_count": 6,
   "metadata": {
    "deletable": false,
    "editable": false,
    "nbgrader": {
     "cell_type": "code",
     "checksum": "0910afb29d0196997a7f7429d5d80b03",
     "grade": true,
     "grade_id": "cell-7c8d7dff501a8d70",
     "locked": true,
     "points": 1,
     "schema_version": 3,
     "solution": false,
     "task": false
    }
   },
   "outputs": [],
   "source": [
    "assert 'fetch_ncaaf_teams' in dir()\n",
    "assert type(team_list) is list"
   ]
  },
  {
   "cell_type": "code",
   "execution_count": 7,
   "metadata": {
    "deletable": false,
    "editable": false,
    "nbgrader": {
     "cell_type": "code",
     "checksum": "fb1f67d7a34d05caf0b8d5bd11e46d8c",
     "grade": true,
     "grade_id": "cell-efccda900d66ae1a",
     "locked": true,
     "points": 1,
     "schema_version": 3,
     "solution": false,
     "task": false
    }
   },
   "outputs": [],
   "source": [
    "assert \"Clemson Tigers\" in [team[\"name\"] for team in team_list]"
   ]
  },
  {
   "cell_type": "markdown",
   "metadata": {},
   "source": [
    "### Question 2. Write files in JSON format\n",
    "\n",
    "JSON (JavaScript Object Notation) is a common data file format that uses human-readable text to store and transmit data objects consisting of attribute–value pairs and array data types. For more, see https://en.wikipedia.org/wiki/JSON. Complete a code segment that write the team list into a JSON file named `\"ncaaf_teams.json\"`. (2 points) "
   ]
  },
  {
   "cell_type": "code",
   "execution_count": 8,
   "metadata": {
    "deletable": false,
    "nbgrader": {
     "cell_type": "code",
     "checksum": "1c0e31f4d05e0d3e9be366f2f074cef0",
     "grade": false,
     "grade_id": "cell-9bbddca1d06be714",
     "locked": false,
     "schema_version": 3,
     "solution": true,
     "task": false
    }
   },
   "outputs": [],
   "source": [
    "import json\n",
    "# YOUR CODE HERE\n",
    "def save_teams(team_list, file_name = \"ncaaf_teams.json\"):\n",
    "    team_list_json = json.dumps(team_list)\n",
    "    fp = open(\"ncaaf_teams.json\",\"w+\")\n",
    "    fp.write(team_list_json)\n",
    "    fp.close()\n",
    "\n",
    "save_teams(team_list)\n",
    "#raise NotImplementedError()"
   ]
  },
  {
   "cell_type": "code",
   "execution_count": 9,
   "metadata": {
    "deletable": false,
    "editable": false,
    "nbgrader": {
     "cell_type": "code",
     "checksum": "e9c0ba657c66dace49424383c66d71b3",
     "grade": true,
     "grade_id": "cell-ba507ed73c6aa940",
     "locked": true,
     "points": 2,
     "schema_version": 3,
     "solution": false,
     "task": false
    }
   },
   "outputs": [],
   "source": [
    "import os\n",
    "assert os.path.exists(\"ncaaf_teams.json\")"
   ]
  },
  {
   "cell_type": "markdown",
   "metadata": {},
   "source": [
    "## Question 3. Read JSON file into a Data Frame\n",
    "\n",
    "Write a code segment that reads the teams from a JSON file into a DataFrame object named `teams`. (2 poinst)"
   ]
  },
  {
   "cell_type": "code",
   "execution_count": 10,
   "metadata": {
    "deletable": false,
    "nbgrader": {
     "cell_type": "code",
     "checksum": "de27e4b9ff93281956f6ce3d0214440a",
     "grade": false,
     "grade_id": "cell-c382e29c9e8a9601",
     "locked": false,
     "schema_version": 3,
     "solution": true,
     "task": false
    }
   },
   "outputs": [
    {
     "data": {
      "text/html": [
       "<div>\n",
       "<style scoped>\n",
       "    .dataframe tbody tr th:only-of-type {\n",
       "        vertical-align: middle;\n",
       "    }\n",
       "\n",
       "    .dataframe tbody tr th {\n",
       "        vertical-align: top;\n",
       "    }\n",
       "\n",
       "    .dataframe thead th {\n",
       "        text-align: right;\n",
       "    }\n",
       "</style>\n",
       "<table border=\"1\" class=\"dataframe\">\n",
       "  <thead>\n",
       "    <tr style=\"text-align: right;\">\n",
       "      <th></th>\n",
       "      <th>id</th>\n",
       "      <th>name</th>\n",
       "      <th>conference</th>\n",
       "      <th>url</th>\n",
       "    </tr>\n",
       "  </thead>\n",
       "  <tbody>\n",
       "    <tr>\n",
       "      <th>0</th>\n",
       "      <td>2132</td>\n",
       "      <td>Cincinnati Bearcats</td>\n",
       "      <td>American</td>\n",
       "      <td>/college-football/team/_/id/2132/cincinnati-be...</td>\n",
       "    </tr>\n",
       "    <tr>\n",
       "      <th>1</th>\n",
       "      <td>151</td>\n",
       "      <td>East Carolina Pirates</td>\n",
       "      <td>American</td>\n",
       "      <td>/college-football/team/_/id/151/east-carolina-...</td>\n",
       "    </tr>\n",
       "    <tr>\n",
       "      <th>2</th>\n",
       "      <td>248</td>\n",
       "      <td>Houston Cougars</td>\n",
       "      <td>American</td>\n",
       "      <td>/college-football/team/_/id/248/houston-cougars</td>\n",
       "    </tr>\n",
       "    <tr>\n",
       "      <th>3</th>\n",
       "      <td>235</td>\n",
       "      <td>Memphis Tigers</td>\n",
       "      <td>American</td>\n",
       "      <td>/college-football/team/_/id/235/memphis-tigers</td>\n",
       "    </tr>\n",
       "    <tr>\n",
       "      <th>4</th>\n",
       "      <td>2426</td>\n",
       "      <td>Navy Midshipmen</td>\n",
       "      <td>American</td>\n",
       "      <td>/college-football/team/_/id/2426/navy-midshipmen</td>\n",
       "    </tr>\n",
       "    <tr>\n",
       "      <th>...</th>\n",
       "      <td>...</td>\n",
       "      <td>...</td>\n",
       "      <td>...</td>\n",
       "      <td>...</td>\n",
       "    </tr>\n",
       "    <tr>\n",
       "      <th>124</th>\n",
       "      <td>309</td>\n",
       "      <td>Louisiana Ragin' Cajuns</td>\n",
       "      <td>Sun Belt</td>\n",
       "      <td>/college-football/team/_/id/309/louisiana-ragi...</td>\n",
       "    </tr>\n",
       "    <tr>\n",
       "      <th>125</th>\n",
       "      <td>6</td>\n",
       "      <td>South Alabama Jaguars</td>\n",
       "      <td>Sun Belt</td>\n",
       "      <td>/college-football/team/_/id/6/south-alabama-ja...</td>\n",
       "    </tr>\n",
       "    <tr>\n",
       "      <th>126</th>\n",
       "      <td>326</td>\n",
       "      <td>Texas State Bobcats</td>\n",
       "      <td>Sun Belt</td>\n",
       "      <td>/college-football/team/_/id/326/texas-state-bo...</td>\n",
       "    </tr>\n",
       "    <tr>\n",
       "      <th>127</th>\n",
       "      <td>2653</td>\n",
       "      <td>Troy Trojans</td>\n",
       "      <td>Sun Belt</td>\n",
       "      <td>/college-football/team/_/id/2653/troy-trojans</td>\n",
       "    </tr>\n",
       "    <tr>\n",
       "      <th>128</th>\n",
       "      <td>2433</td>\n",
       "      <td>UL Monroe Warhawks</td>\n",
       "      <td>Sun Belt</td>\n",
       "      <td>/college-football/team/_/id/2433/ul-monroe-war...</td>\n",
       "    </tr>\n",
       "  </tbody>\n",
       "</table>\n",
       "<p>129 rows × 4 columns</p>\n",
       "</div>"
      ],
      "text/plain": [
       "       id                     name conference  \\\n",
       "0    2132      Cincinnati Bearcats   American   \n",
       "1     151    East Carolina Pirates   American   \n",
       "2     248          Houston Cougars   American   \n",
       "3     235           Memphis Tigers   American   \n",
       "4    2426          Navy Midshipmen   American   \n",
       "..    ...                      ...        ...   \n",
       "124   309  Louisiana Ragin' Cajuns   Sun Belt   \n",
       "125     6    South Alabama Jaguars   Sun Belt   \n",
       "126   326      Texas State Bobcats   Sun Belt   \n",
       "127  2653             Troy Trojans   Sun Belt   \n",
       "128  2433       UL Monroe Warhawks   Sun Belt   \n",
       "\n",
       "                                                   url  \n",
       "0    /college-football/team/_/id/2132/cincinnati-be...  \n",
       "1    /college-football/team/_/id/151/east-carolina-...  \n",
       "2      /college-football/team/_/id/248/houston-cougars  \n",
       "3       /college-football/team/_/id/235/memphis-tigers  \n",
       "4     /college-football/team/_/id/2426/navy-midshipmen  \n",
       "..                                                 ...  \n",
       "124  /college-football/team/_/id/309/louisiana-ragi...  \n",
       "125  /college-football/team/_/id/6/south-alabama-ja...  \n",
       "126  /college-football/team/_/id/326/texas-state-bo...  \n",
       "127      /college-football/team/_/id/2653/troy-trojans  \n",
       "128  /college-football/team/_/id/2433/ul-monroe-war...  \n",
       "\n",
       "[129 rows x 4 columns]"
      ]
     },
     "execution_count": 10,
     "metadata": {},
     "output_type": "execute_result"
    }
   ],
   "source": [
    "import numpy as np\n",
    "import pandas as pd\n",
    "# YOUR CODE HERE\n",
    "\n",
    "def read_teams(file_name = \"ncaaf_teams.json\"):\n",
    "    fp = open(\"ncaaf_teams.json\",'r')\n",
    "    team_list = json.load(fp)\n",
    "    fp.close()\n",
    "    team_list_df = pd.DataFrame(team_list)\n",
    "    return team_list_df\n",
    "teams = read_teams()\n",
    "teams\n",
    "# raise NotImplementedError()"
   ]
  },
  {
   "cell_type": "code",
   "execution_count": 11,
   "metadata": {
    "deletable": false,
    "editable": false,
    "nbgrader": {
     "cell_type": "code",
     "checksum": "cdc01b388c5a14debe7a0dd59e5220b6",
     "grade": true,
     "grade_id": "cell-2d7bc3c3a53a7cc4",
     "locked": true,
     "points": 1,
     "schema_version": 3,
     "solution": false,
     "task": false
    }
   },
   "outputs": [],
   "source": [
    "assert type(teams) is pd.core.frame.DataFrame"
   ]
  },
  {
   "cell_type": "code",
   "execution_count": 12,
   "metadata": {
    "deletable": false,
    "editable": false,
    "nbgrader": {
     "cell_type": "code",
     "checksum": "fbd6e3db1dd3d603668c63f3b122116f",
     "grade": true,
     "grade_id": "cell-2e40372204f3b359",
     "locked": true,
     "points": 1,
     "schema_version": 3,
     "solution": false,
     "task": false
    }
   },
   "outputs": [],
   "source": [
    "assert pd.unique(teams[\"conference\"]).size == 11"
   ]
  },
  {
   "cell_type": "markdown",
   "metadata": {},
   "source": [
    "### Question 4. Examine a DataFrame Object\n",
    "\n",
    "Write a code segment that outputs the first 20 rows of the Dataframe `teams` to a variable `row1_20`. (2 points)"
   ]
  },
  {
   "cell_type": "code",
   "execution_count": 13,
   "metadata": {
    "deletable": false,
    "nbgrader": {
     "cell_type": "code",
     "checksum": "422a9979b48d4e8aeabcc9402ec8afd7",
     "grade": false,
     "grade_id": "cell-5c80e40d49f47ef5",
     "locked": false,
     "schema_version": 3,
     "solution": true,
     "task": false
    }
   },
   "outputs": [
    {
     "name": "stdout",
     "output_type": "stream",
     "text": [
      "(20, 4)\n"
     ]
    }
   ],
   "source": [
    "# YOUR CODE HERE\n",
    "row1_20 = teams[:20].copy()\n",
    "# raise NotImplementedError()\n",
    "print(row1_20.shape)"
   ]
  },
  {
   "cell_type": "code",
   "execution_count": 14,
   "metadata": {
    "deletable": false,
    "editable": false,
    "nbgrader": {
     "cell_type": "code",
     "checksum": "54e268106f2b9cd69d3dae9cc6dd1ca1",
     "grade": true,
     "grade_id": "cell-52b5502600ae9cf7",
     "locked": true,
     "points": 2,
     "schema_version": 3,
     "solution": false,
     "task": false
    }
   },
   "outputs": [],
   "source": [
    "assert row1_20.shape == (20, 4)"
   ]
  },
  {
   "cell_type": "markdown",
   "metadata": {},
   "source": [
    "### Question 5. Find the columns of the DataFrame Object\n",
    "\n",
    "Write a code segment that saves the names of the columns of the `teams` object. (2 points)"
   ]
  },
  {
   "cell_type": "code",
   "execution_count": 15,
   "metadata": {
    "deletable": false,
    "nbgrader": {
     "cell_type": "code",
     "checksum": "d0737b953b18538fa2bada7cef665784",
     "grade": false,
     "grade_id": "cell-d9e0ccafd9bbe394",
     "locked": false,
     "schema_version": 3,
     "solution": true,
     "task": false
    }
   },
   "outputs": [
    {
     "data": {
      "text/plain": [
       "Index(['id', 'name', 'conference', 'url'], dtype='object')"
      ]
     },
     "execution_count": 15,
     "metadata": {},
     "output_type": "execute_result"
    }
   ],
   "source": [
    "# YOUR CODE HERE\n",
    "columns = teams.columns\n",
    "columns\n",
    "# raise NotImplementedError()"
   ]
  },
  {
   "cell_type": "code",
   "execution_count": 16,
   "metadata": {
    "deletable": false,
    "editable": false,
    "nbgrader": {
     "cell_type": "code",
     "checksum": "e2b161e783d8bc66dd52184856816435",
     "grade": true,
     "grade_id": "cell-8864b9f76b1645a4",
     "locked": true,
     "points": 2,
     "schema_version": 3,
     "solution": false,
     "task": false
    }
   },
   "outputs": [],
   "source": [
    "assert type(columns) == pd.core.indexes.base.Index and columns.shape == (4,)"
   ]
  },
  {
   "cell_type": "markdown",
   "metadata": {},
   "source": [
    "### Question 6. Find the size of the DataFrame Object\n",
    "\n",
    "Write a single statement that outputs the number of rows and columns of the `teams` DataFrame Object and save the number rows to variable `nrow` and the number of columns to variable `ncols`. (2 points)"
   ]
  },
  {
   "cell_type": "code",
   "execution_count": 17,
   "metadata": {
    "deletable": false,
    "nbgrader": {
     "cell_type": "code",
     "checksum": "2456d81abeb8315a54c50ac90f86f436",
     "grade": false,
     "grade_id": "cell-a2009e11d794ea2e",
     "locked": false,
     "schema_version": 3,
     "solution": true,
     "task": false
    }
   },
   "outputs": [
    {
     "data": {
      "text/plain": [
       "(129, 4)"
      ]
     },
     "execution_count": 17,
     "metadata": {},
     "output_type": "execute_result"
    }
   ],
   "source": [
    "# YOUR CODE HERE\n",
    "nrows = teams.shape[0]\n",
    "ncols = teams.shape[1]\n",
    "# raise NotImplementedError()\n",
    "nrows, ncols"
   ]
  },
  {
   "cell_type": "code",
   "execution_count": null,
   "metadata": {
    "deletable": false,
    "editable": false,
    "nbgrader": {
     "cell_type": "code",
     "checksum": "3fb3aedb3654c372a75b542e631a9c2f",
     "grade": true,
     "grade_id": "cell-ba044b2c24a4ed96",
     "locked": true,
     "points": 2,
     "schema_version": 3,
     "solution": false,
     "task": false
    }
   },
   "outputs": [],
   "source": []
  },
  {
   "cell_type": "markdown",
   "metadata": {},
   "source": [
    "### Question 7. Drop a Column in DataFrame\n",
    "\n",
    "Write a statement to drop the url column in the teams DataFrame object without creating a new copy of the object. (2 points)"
   ]
  },
  {
   "cell_type": "code",
   "execution_count": 18,
   "metadata": {
    "deletable": false,
    "nbgrader": {
     "cell_type": "code",
     "checksum": "7533f54fae5842c2767761ea0be37c8b",
     "grade": false,
     "grade_id": "cell-f9e65fc74aac24e7",
     "locked": false,
     "schema_version": 3,
     "solution": true,
     "task": false
    }
   },
   "outputs": [],
   "source": [
    "# YOUR CODE HERE\n",
    "teams.drop(columns = ['url'], inplace= True)\n",
    "# raise NotImplementedError()"
   ]
  },
  {
   "cell_type": "code",
   "execution_count": 19,
   "metadata": {
    "deletable": false,
    "editable": false,
    "nbgrader": {
     "cell_type": "code",
     "checksum": "8831605c467970830e2f173e0b5a7192",
     "grade": true,
     "grade_id": "cell-9b0eac14466a2b27",
     "locked": true,
     "points": 2,
     "schema_version": 3,
     "solution": false,
     "task": false
    }
   },
   "outputs": [],
   "source": [
    "assert teams.columns.size == 3 and \"url\" not in teams.columns"
   ]
  },
  {
   "cell_type": "markdown",
   "metadata": {},
   "source": [
    "### Question 8. Set the team id as the Index of the teams object"
   ]
  },
  {
   "cell_type": "code",
   "execution_count": 20,
   "metadata": {
    "deletable": false,
    "nbgrader": {
     "cell_type": "code",
     "checksum": "d428ba2885224f631fa1cfb5f20845a3",
     "grade": false,
     "grade_id": "cell-b3d7345772bcbc66",
     "locked": false,
     "schema_version": 3,
     "solution": true,
     "task": false
    }
   },
   "outputs": [],
   "source": [
    "# YOUR CODE HERE\n",
    "teams.set_index(\"id\", inplace=True)\n",
    "# raise NotImplementedError()"
   ]
  },
  {
   "cell_type": "code",
   "execution_count": 21,
   "metadata": {},
   "outputs": [
    {
     "data": {
      "text/html": [
       "<div>\n",
       "<style scoped>\n",
       "    .dataframe tbody tr th:only-of-type {\n",
       "        vertical-align: middle;\n",
       "    }\n",
       "\n",
       "    .dataframe tbody tr th {\n",
       "        vertical-align: top;\n",
       "    }\n",
       "\n",
       "    .dataframe thead th {\n",
       "        text-align: right;\n",
       "    }\n",
       "</style>\n",
       "<table border=\"1\" class=\"dataframe\">\n",
       "  <thead>\n",
       "    <tr style=\"text-align: right;\">\n",
       "      <th></th>\n",
       "      <th>name</th>\n",
       "      <th>conference</th>\n",
       "    </tr>\n",
       "    <tr>\n",
       "      <th>id</th>\n",
       "      <th></th>\n",
       "      <th></th>\n",
       "    </tr>\n",
       "  </thead>\n",
       "  <tbody>\n",
       "    <tr>\n",
       "      <th>2132</th>\n",
       "      <td>Cincinnati Bearcats</td>\n",
       "      <td>American</td>\n",
       "    </tr>\n",
       "    <tr>\n",
       "      <th>151</th>\n",
       "      <td>East Carolina Pirates</td>\n",
       "      <td>American</td>\n",
       "    </tr>\n",
       "    <tr>\n",
       "      <th>248</th>\n",
       "      <td>Houston Cougars</td>\n",
       "      <td>American</td>\n",
       "    </tr>\n",
       "    <tr>\n",
       "      <th>235</th>\n",
       "      <td>Memphis Tigers</td>\n",
       "      <td>American</td>\n",
       "    </tr>\n",
       "    <tr>\n",
       "      <th>2426</th>\n",
       "      <td>Navy Midshipmen</td>\n",
       "      <td>American</td>\n",
       "    </tr>\n",
       "  </tbody>\n",
       "</table>\n",
       "</div>"
      ],
      "text/plain": [
       "                       name conference\n",
       "id                                    \n",
       "2132    Cincinnati Bearcats   American\n",
       "151   East Carolina Pirates   American\n",
       "248         Houston Cougars   American\n",
       "235          Memphis Tigers   American\n",
       "2426        Navy Midshipmen   American"
      ]
     },
     "execution_count": 21,
     "metadata": {},
     "output_type": "execute_result"
    }
   ],
   "source": [
    "teams.head()"
   ]
  },
  {
   "cell_type": "code",
   "execution_count": 22,
   "metadata": {
    "deletable": false,
    "editable": false,
    "nbgrader": {
     "cell_type": "code",
     "checksum": "0321d1435ca4c9aa1b0006e11677837e",
     "grade": true,
     "grade_id": "cell-175e8e5b8e4b1537",
     "locked": true,
     "points": 2,
     "schema_version": 3,
     "solution": false,
     "task": false
    }
   },
   "outputs": [],
   "source": [
    "assert(teams.index.name == 'id')"
   ]
  },
  {
   "cell_type": "markdown",
   "metadata": {},
   "source": [
    "### Question 9. Select Rows by Column Value or Index\n",
    "\n",
    "Select the team whose team id is 259 and save it team_259."
   ]
  },
  {
   "cell_type": "code",
   "execution_count": 23,
   "metadata": {
    "deletable": false,
    "nbgrader": {
     "cell_type": "code",
     "checksum": "397b73f5f79755c5c2add39a06dce92c",
     "grade": false,
     "grade_id": "cell-c6d40e192835a0c3",
     "locked": false,
     "schema_version": 3,
     "solution": true,
     "task": false
    }
   },
   "outputs": [
    {
     "data": {
      "text/html": [
       "<div>\n",
       "<style scoped>\n",
       "    .dataframe tbody tr th:only-of-type {\n",
       "        vertical-align: middle;\n",
       "    }\n",
       "\n",
       "    .dataframe tbody tr th {\n",
       "        vertical-align: top;\n",
       "    }\n",
       "\n",
       "    .dataframe thead th {\n",
       "        text-align: right;\n",
       "    }\n",
       "</style>\n",
       "<table border=\"1\" class=\"dataframe\">\n",
       "  <thead>\n",
       "    <tr style=\"text-align: right;\">\n",
       "      <th></th>\n",
       "      <th>name</th>\n",
       "      <th>conference</th>\n",
       "    </tr>\n",
       "    <tr>\n",
       "      <th>id</th>\n",
       "      <th></th>\n",
       "      <th></th>\n",
       "    </tr>\n",
       "  </thead>\n",
       "  <tbody>\n",
       "    <tr>\n",
       "      <th>259</th>\n",
       "      <td>Virginia Tech Hokies</td>\n",
       "      <td>ACC</td>\n",
       "    </tr>\n",
       "  </tbody>\n",
       "</table>\n",
       "</div>"
      ],
      "text/plain": [
       "                     name conference\n",
       "id                                  \n",
       "259  Virginia Tech Hokies        ACC"
      ]
     },
     "execution_count": 23,
     "metadata": {},
     "output_type": "execute_result"
    }
   ],
   "source": [
    "# YOUR CODE HERE\n",
    "team_259 = teams[teams.index==259]\n",
    "# raise NotImplementedError()\n",
    "team_259"
   ]
  },
  {
   "cell_type": "code",
   "execution_count": 24,
   "metadata": {
    "deletable": false,
    "editable": false,
    "nbgrader": {
     "cell_type": "code",
     "checksum": "1b52a28fc50d13bec56ba33f87e9c17b",
     "grade": true,
     "grade_id": "cell-3b1fa2d6c5b0fd6b",
     "locked": true,
     "points": 2,
     "schema_version": 3,
     "solution": false,
     "task": false
    }
   },
   "outputs": [],
   "source": [
    "assert team_259.iloc[0]['name'] == 'Virginia Tech Hokies'\n"
   ]
  },
  {
   "cell_type": "markdown",
   "metadata": {},
   "source": [
    "### Question 10. Select Rows Based on Specific Conditions\n",
    "\n",
    "Find rows in the teams DataFrame object in which the team in the ACC conference and save the results into a variable `acc_teams`. (2 points)"
   ]
  },
  {
   "cell_type": "code",
   "execution_count": 25,
   "metadata": {
    "deletable": false,
    "nbgrader": {
     "cell_type": "code",
     "checksum": "8b4facfca150e15da2dd391e10664194",
     "grade": false,
     "grade_id": "cell-65ac6be1c0dd5249",
     "locked": false,
     "schema_version": 3,
     "solution": true,
     "task": false
    }
   },
   "outputs": [
    {
     "data": {
      "text/html": [
       "<div>\n",
       "<style scoped>\n",
       "    .dataframe tbody tr th:only-of-type {\n",
       "        vertical-align: middle;\n",
       "    }\n",
       "\n",
       "    .dataframe tbody tr th {\n",
       "        vertical-align: top;\n",
       "    }\n",
       "\n",
       "    .dataframe thead th {\n",
       "        text-align: right;\n",
       "    }\n",
       "</style>\n",
       "<table border=\"1\" class=\"dataframe\">\n",
       "  <thead>\n",
       "    <tr style=\"text-align: right;\">\n",
       "      <th></th>\n",
       "      <th>name</th>\n",
       "      <th>conference</th>\n",
       "    </tr>\n",
       "    <tr>\n",
       "      <th>id</th>\n",
       "      <th></th>\n",
       "      <th></th>\n",
       "    </tr>\n",
       "  </thead>\n",
       "  <tbody>\n",
       "    <tr>\n",
       "      <th>103</th>\n",
       "      <td>Boston College Eagles</td>\n",
       "      <td>ACC</td>\n",
       "    </tr>\n",
       "    <tr>\n",
       "      <th>228</th>\n",
       "      <td>Clemson Tigers</td>\n",
       "      <td>ACC</td>\n",
       "    </tr>\n",
       "    <tr>\n",
       "      <th>150</th>\n",
       "      <td>Duke Blue Devils</td>\n",
       "      <td>ACC</td>\n",
       "    </tr>\n",
       "    <tr>\n",
       "      <th>52</th>\n",
       "      <td>Florida State Seminoles</td>\n",
       "      <td>ACC</td>\n",
       "    </tr>\n",
       "    <tr>\n",
       "      <th>59</th>\n",
       "      <td>Georgia Tech Yellow Jackets</td>\n",
       "      <td>ACC</td>\n",
       "    </tr>\n",
       "    <tr>\n",
       "      <th>97</th>\n",
       "      <td>Louisville Cardinals</td>\n",
       "      <td>ACC</td>\n",
       "    </tr>\n",
       "    <tr>\n",
       "      <th>2390</th>\n",
       "      <td>Miami Hurricanes</td>\n",
       "      <td>ACC</td>\n",
       "    </tr>\n",
       "    <tr>\n",
       "      <th>152</th>\n",
       "      <td>NC State Wolfpack</td>\n",
       "      <td>ACC</td>\n",
       "    </tr>\n",
       "    <tr>\n",
       "      <th>153</th>\n",
       "      <td>North Carolina Tar Heels</td>\n",
       "      <td>ACC</td>\n",
       "    </tr>\n",
       "    <tr>\n",
       "      <th>87</th>\n",
       "      <td>Notre Dame Fighting Irish</td>\n",
       "      <td>ACC</td>\n",
       "    </tr>\n",
       "    <tr>\n",
       "      <th>221</th>\n",
       "      <td>Pittsburgh Panthers</td>\n",
       "      <td>ACC</td>\n",
       "    </tr>\n",
       "    <tr>\n",
       "      <th>183</th>\n",
       "      <td>Syracuse Orange</td>\n",
       "      <td>ACC</td>\n",
       "    </tr>\n",
       "    <tr>\n",
       "      <th>258</th>\n",
       "      <td>Virginia Cavaliers</td>\n",
       "      <td>ACC</td>\n",
       "    </tr>\n",
       "    <tr>\n",
       "      <th>259</th>\n",
       "      <td>Virginia Tech Hokies</td>\n",
       "      <td>ACC</td>\n",
       "    </tr>\n",
       "    <tr>\n",
       "      <th>154</th>\n",
       "      <td>Wake Forest Demon Deacons</td>\n",
       "      <td>ACC</td>\n",
       "    </tr>\n",
       "  </tbody>\n",
       "</table>\n",
       "</div>"
      ],
      "text/plain": [
       "                             name conference\n",
       "id                                          \n",
       "103         Boston College Eagles        ACC\n",
       "228                Clemson Tigers        ACC\n",
       "150              Duke Blue Devils        ACC\n",
       "52        Florida State Seminoles        ACC\n",
       "59    Georgia Tech Yellow Jackets        ACC\n",
       "97           Louisville Cardinals        ACC\n",
       "2390             Miami Hurricanes        ACC\n",
       "152             NC State Wolfpack        ACC\n",
       "153      North Carolina Tar Heels        ACC\n",
       "87      Notre Dame Fighting Irish        ACC\n",
       "221           Pittsburgh Panthers        ACC\n",
       "183               Syracuse Orange        ACC\n",
       "258            Virginia Cavaliers        ACC\n",
       "259          Virginia Tech Hokies        ACC\n",
       "154     Wake Forest Demon Deacons        ACC"
      ]
     },
     "execution_count": 25,
     "metadata": {},
     "output_type": "execute_result"
    }
   ],
   "source": [
    "# YOUR CODE HERE\n",
    "acc_teams = teams[teams['conference']=='ACC']\n",
    "# raise NotImplementedError()\n",
    "acc_teams"
   ]
  },
  {
   "cell_type": "code",
   "execution_count": 26,
   "metadata": {},
   "outputs": [],
   "source": [
    "# test\n",
    "assert pd.unique(acc_teams['conference'])[0] == 'ACC'"
   ]
  },
  {
   "cell_type": "code",
   "execution_count": 27,
   "metadata": {
    "deletable": false,
    "editable": false,
    "nbgrader": {
     "cell_type": "code",
     "checksum": "d41bba2f0e9c112b5006c84ddfc5db48",
     "grade": true,
     "grade_id": "cell-e3c5b1cd7cad993c",
     "locked": true,
     "points": 1,
     "schema_version": 3,
     "solution": false,
     "task": false
    }
   },
   "outputs": [],
   "source": [
    "assert pd.unique(acc_teams['conference'])[0] == 'ACC'"
   ]
  },
  {
   "cell_type": "code",
   "execution_count": 28,
   "metadata": {
    "deletable": false,
    "editable": false,
    "nbgrader": {
     "cell_type": "code",
     "checksum": "0269471f4a3a1b06a4123a7d932d6e01",
     "grade": true,
     "grade_id": "cell-f594e00c53b3bfeb",
     "locked": true,
     "points": 1,
     "schema_version": 3,
     "solution": false,
     "task": false
    }
   },
   "outputs": [],
   "source": [
    "assert acc_teams['conference'].shape[0] == 15"
   ]
  },
  {
   "cell_type": "markdown",
   "metadata": {},
   "source": [
    "### Question 11. Write a DataFrame Object to a JSON File\n",
    "\n",
    "Write to the acc_teams object to a JSON file named `acc_teams.json`. (2 points)"
   ]
  },
  {
   "cell_type": "code",
   "execution_count": 29,
   "metadata": {
    "deletable": false,
    "nbgrader": {
     "cell_type": "code",
     "checksum": "15bc053d4db5d2c475313ff69fcdf5b2",
     "grade": false,
     "grade_id": "cell-8f47e341f2cdfe80",
     "locked": false,
     "schema_version": 3,
     "solution": true,
     "task": false
    }
   },
   "outputs": [],
   "source": [
    "# YOUR CODE HERE\n",
    "def save_acc_teams(acc_teams, file_name = 'acc_teams.json'):\n",
    "    fp = open(file_name, \"w+\")\n",
    "    acc_teams_json = json.dumps(acc_teams.to_dict())\n",
    "    fp.write(acc_teams_json)\n",
    "    fp.close()\n",
    "    \n",
    "save_acc_teams(acc_teams)    \n",
    "# pd.DataFrame(acc_teams.to_dict())\n",
    "# raise NotImplementedError()\n"
   ]
  },
  {
   "cell_type": "code",
   "execution_count": 30,
   "metadata": {},
   "outputs": [
    {
     "name": "stdout",
     "output_type": "stream",
     "text": [
      "{\"name\": {\"103\": \"Boston College Eagles\", \"228\": \"Clemson Tigers\", \"150\": \"Duke Blue Devils\", \"52\": \"Florida State Seminoles\", \"59\": \"Georgia Tech Yellow Jackets\", \"97\": \"Louisville Cardinals\", \"2390\": \"Miami Hurricanes\", \"152\": \"NC State Wolfpack\", \"153\": \"North Carolina Tar Heels\", \"87\": \"Notre Dame Fighting Irish\", \"221\": \"Pittsburgh Panthers\", \"183\": \"Syracuse Orange\", \"258\": \"Virginia Cavaliers\", \"259\": \"Virginia Tech Hokies\", \"154\": \"Wake Forest Demon Deacons\"}, \"conference\": {\"103\": \"ACC\", \"228\": \"ACC\", \"150\": \"ACC\", \"52\": \"ACC\", \"59\": \"ACC\", \"97\": \"ACC\", \"2390\": \"ACC\", \"152\": \"ACC\", \"153\": \"ACC\", \"87\": \"ACC\", \"221\": \"ACC\", \"183\": \"ACC\", \"258\": \"ACC\", \"259\": \"ACC\", \"154\": \"ACC\"}}"
     ]
    }
   ],
   "source": [
    "!cat 'acc_teams.json'"
   ]
  },
  {
   "cell_type": "code",
   "execution_count": 31,
   "metadata": {
    "deletable": false,
    "editable": false,
    "nbgrader": {
     "cell_type": "code",
     "checksum": "77e88ded790ecf85bd47b895066151d6",
     "grade": true,
     "grade_id": "cell-133c4949e798c9c8",
     "locked": true,
     "points": 2,
     "schema_version": 3,
     "solution": false,
     "task": false
    }
   },
   "outputs": [],
   "source": [
    "assert os.path.exists('acc_teams.json')"
   ]
  },
  {
   "cell_type": "markdown",
   "metadata": {},
   "source": [
    "### Question 12. The Data Oragnization of JSON Format\n",
    "\n",
    "Compare the file `ncaaf_teams.json` and the file `acc_teams.json`, you may notice that even though both files store similar type of information, the data organizations in the two files are different. \n",
    "\n",
    "Which file organizes the data as a list of dict?"
   ]
  },
  {
   "cell_type": "code",
   "execution_count": 32,
   "metadata": {
    "deletable": false,
    "nbgrader": {
     "cell_type": "code",
     "checksum": "df156a15d9649ff7c6d96aa56338d614",
     "grade": false,
     "grade_id": "cell-e076986e1ce3e639",
     "locked": false,
     "schema_version": 3,
     "solution": true,
     "task": false
    }
   },
   "outputs": [
    {
     "data": {
      "text/plain": [
       "'ncaaf_teams.json'"
      ]
     },
     "execution_count": 32,
     "metadata": {},
     "output_type": "execute_result"
    }
   ],
   "source": [
    "# YOUR CODE HERE\n",
    "filename = \"ncaaf_teams.json\"\n",
    "# raise NotImplementedError()\n",
    "filename"
   ]
  },
  {
   "cell_type": "code",
   "execution_count": null,
   "metadata": {
    "deletable": false,
    "editable": false,
    "nbgrader": {
     "cell_type": "code",
     "checksum": "7c2b12f5329f82883532cf4b5c623655",
     "grade": true,
     "grade_id": "cell-83130931cdee051b",
     "locked": true,
     "points": 2,
     "schema_version": 3,
     "solution": false,
     "task": false
    }
   },
   "outputs": [],
   "source": []
  },
  {
   "cell_type": "markdown",
   "metadata": {},
   "source": [
    "Suppose both files are read into memory and the number of teams is large, which data organization is more efficient to search a team by their team id?"
   ]
  },
  {
   "cell_type": "code",
   "execution_count": 33,
   "metadata": {
    "deletable": false,
    "nbgrader": {
     "cell_type": "code",
     "checksum": "9173bd309786e113ff44a37dbb0a3b10",
     "grade": false,
     "grade_id": "cell-b27d9f8ca645d79d",
     "locked": false,
     "schema_version": 3,
     "solution": true,
     "task": false
    }
   },
   "outputs": [
    {
     "data": {
      "text/plain": [
       "'acc_teams.json'"
      ]
     },
     "execution_count": 33,
     "metadata": {},
     "output_type": "execute_result"
    }
   ],
   "source": [
    "# YOUR CODE HERE\n",
    "filename = \"acc_teams.json\"\n",
    "# raise NotImplementedError()\n",
    "filename"
   ]
  },
  {
   "cell_type": "code",
   "execution_count": null,
   "metadata": {
    "deletable": false,
    "editable": false,
    "nbgrader": {
     "cell_type": "code",
     "checksum": "3c2a451133ef777418a1d13c8c82975c",
     "grade": true,
     "grade_id": "cell-bdb6f459cb3e79a9",
     "locked": true,
     "points": 2,
     "schema_version": 3,
     "solution": false,
     "task": false
    }
   },
   "outputs": [],
   "source": []
  },
  {
   "cell_type": "markdown",
   "metadata": {},
   "source": [
    "### Question 13. CSV file format.\n",
    "\n",
    "Write the `acc_teams` data frame into a csv file `acc_teams.csv`. (2 points)"
   ]
  },
  {
   "cell_type": "code",
   "execution_count": 34,
   "metadata": {
    "deletable": false,
    "nbgrader": {
     "cell_type": "code",
     "checksum": "f1ee2d259821ec2898afd1a4a3c8f02b",
     "grade": false,
     "grade_id": "cell-7ec8fd00fd8d47fe",
     "locked": false,
     "schema_version": 3,
     "solution": true,
     "task": false
    }
   },
   "outputs": [],
   "source": [
    "# YOUR CODE HERE\n",
    "def save_cvs(acc_team, file_name=\"acc_teams.csv\"):\n",
    "    import csv\n",
    "    csv_file = acc_team.to_csv()\n",
    "    fp = open('acc_teams.csv','w+')\n",
    "    fp.write(csv_file)\n",
    "    fp.close()\n",
    "save_cvs(acc_teams)\n",
    "\n",
    "# raise NotImplementedError()"
   ]
  },
  {
   "cell_type": "code",
   "execution_count": 35,
   "metadata": {
    "deletable": false,
    "editable": false,
    "nbgrader": {
     "cell_type": "code",
     "checksum": "2cfc9623780ceea81468d0a1b579fa48",
     "grade": true,
     "grade_id": "cell-73b2723445b5d2a7",
     "locked": true,
     "points": 2,
     "schema_version": 3,
     "solution": false,
     "task": false
    }
   },
   "outputs": [],
   "source": [
    "import os\n",
    "assert os.path.exists('acc_teams.csv')"
   ]
  },
  {
   "cell_type": "code",
   "execution_count": 36,
   "metadata": {},
   "outputs": [
    {
     "name": "stdout",
     "output_type": "stream",
     "text": [
      "id,name,conference\n",
      "103,Boston College Eagles,ACC\n",
      "228,Clemson Tigers,ACC\n",
      "150,Duke Blue Devils,ACC\n",
      "52,Florida State Seminoles,ACC\n",
      "59,Georgia Tech Yellow Jackets,ACC\n",
      "97,Louisville Cardinals,ACC\n",
      "2390,Miami Hurricanes,ACC\n",
      "152,NC State Wolfpack,ACC\n",
      "153,North Carolina Tar Heels,ACC\n",
      "87,Notre Dame Fighting Irish,ACC\n",
      "221,Pittsburgh Panthers,ACC\n",
      "183,Syracuse Orange,ACC\n",
      "258,Virginia Cavaliers,ACC\n",
      "259,Virginia Tech Hokies,ACC\n",
      "154,Wake Forest Demon Deacons,ACC\n"
     ]
    }
   ],
   "source": [
    "!cat 'acc_teams.csv'"
   ]
  },
  {
   "cell_type": "markdown",
   "metadata": {},
   "source": [
    "### Question 14. Sort Arrays\n",
    "\n",
    "Sort the ACC teams by team names in alphabeta order and save the results in a list `sorted acc_team_names`. (2 points)"
   ]
  },
  {
   "cell_type": "code",
   "execution_count": 37,
   "metadata": {
    "deletable": false,
    "nbgrader": {
     "cell_type": "code",
     "checksum": "5cad7d6ab0c1a6fd67e75904874d0b79",
     "grade": false,
     "grade_id": "cell-a9876762fdf2564b",
     "locked": false,
     "schema_version": 3,
     "solution": true,
     "task": false
    }
   },
   "outputs": [
    {
     "data": {
      "text/plain": [
       "array(['Boston College Eagles', 'Clemson Tigers', 'Duke Blue Devils',\n",
       "       'Florida State Seminoles', 'Georgia Tech Yellow Jackets',\n",
       "       'Louisville Cardinals', 'Miami Hurricanes', 'NC State Wolfpack',\n",
       "       'North Carolina Tar Heels', 'Notre Dame Fighting Irish',\n",
       "       'Pittsburgh Panthers', 'Syracuse Orange', 'Virginia Cavaliers',\n",
       "       'Virginia Tech Hokies', 'Wake Forest Demon Deacons'], dtype=object)"
      ]
     },
     "execution_count": 37,
     "metadata": {},
     "output_type": "execute_result"
    }
   ],
   "source": [
    "# YOUR CODE HERE\n",
    "import numpy as np\n",
    "sorted_acc_team_names = np.sort(acc_teams['name'])\n",
    "sorted_acc_team_names\n",
    "# raise NotImplementedError()"
   ]
  },
  {
   "cell_type": "code",
   "execution_count": 38,
   "metadata": {
    "deletable": false,
    "editable": false,
    "nbgrader": {
     "cell_type": "code",
     "checksum": "ce067a8c1282744466ec22f8c19133de",
     "grade": true,
     "grade_id": "cell-da3dc40952d44f64",
     "locked": true,
     "points": 2,
     "schema_version": 3,
     "solution": false,
     "task": false
    }
   },
   "outputs": [],
   "source": [
    "### BEGIN TESTS\n",
    "assert ''.join([team[0] for team in sorted_acc_team_names]) == 'BCDFGLMNNNPSVVW'\n",
    "### END TESTS"
   ]
  },
  {
   "cell_type": "markdown",
   "metadata": {},
   "source": [
    "### Congratulations! You have finished Part A of the problem."
   ]
  }
 ],
 "metadata": {
  "kernelspec": {
   "display_name": "Python 3",
   "language": "python",
   "name": "python3"
  },
  "language_info": {
   "codemirror_mode": {
    "name": "ipython",
    "version": 3
   },
   "file_extension": ".py",
   "mimetype": "text/x-python",
   "name": "python",
   "nbconvert_exporter": "python",
   "pygments_lexer": "ipython3",
   "version": "3.8.3"
  }
 },
 "nbformat": 4,
 "nbformat_minor": 4
}
